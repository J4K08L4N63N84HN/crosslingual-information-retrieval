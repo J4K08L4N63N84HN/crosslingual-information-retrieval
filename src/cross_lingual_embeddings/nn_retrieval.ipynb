{
 "cells": [
  {
   "cell_type": "code",
   "execution_count": 4,
   "metadata": {},
   "outputs": [],
   "source": [
    "import pickle\n",
    "\n",
    "\n",
    "with open('proc_b_trg_emb.p', 'rb') as fp:\n",
    "    trg_emb = pickle.load(fp)\n",
    "with open('proc_b_trg_word.p', 'rb') as fp:\n",
    "    trg_word = pickle.load(fp)\n",
    "    \n",
    "    \n",
    "with open('proc_b_src_emb.p', 'rb') as fp:\n",
    "    src_emb = pickle.load(fp)\n",
    "with open('proc_b_src_word.p', 'rb') as fp:\n",
    "    src_word = pickle.load(fp)\n",
    "\n"
   ]
  },
  {
   "cell_type": "code",
   "execution_count": 5,
   "metadata": {},
   "outputs": [],
   "source": [
    "import numpy as np\n",
    "\n",
    "#CUPY is for GPU usage\n",
    "#import cupy\n",
    "\n",
    "def get_array_module(x):\n",
    "    #if cupy is not None:\n",
    "    #    return cupy.get_array_module(x)\n",
    "    #else:\n",
    "        return np\n",
    "    \n",
    "def normalize_matrix(matrix):\n",
    "    xp = get_array_module(matrix)\n",
    "    norms = xp.sqrt(xp.sum(xp.square(matrix), axis=1))\n",
    "    norms[norms == 0] = 1\n",
    "    norms = norms.reshape(-1, 1)\n",
    "    matrix /= norms[:]\n",
    "    return matrix\n",
    "\n",
    "\n",
    "def calculate_nn(given_source_word, src_word, norm_src_emb, trg_word, norm_trg_emb, n_neighbors=5):\n",
    "    \"\"\"\n",
    "    Need normed embeddings!\n",
    "    \"\"\"\n",
    "    given_source_index = src_word[given_source_word]\n",
    "\n",
    "    # Calculate Cos Similarity\n",
    "    norm_src_word_emb = norm_src_emb[[given_source_index]]\n",
    "    similarity_cos = np.dot(norm_src_word_emb, np.transpose(norm_trg_emb))\n",
    "    \n",
    "    # Find Closest Neighbors\n",
    "    most_similar_trg_index = np.argsort(-similarity_cos[[0]])[:n_neighbors].tolist()[0][:n_neighbors]\n",
    "    \n",
    "    return most_similar_trg_index"
   ]
  },
  {
   "cell_type": "code",
   "execution_count": 6,
   "metadata": {},
   "outputs": [
    {
     "name": "stdout",
     "output_type": "stream",
     "text": [
      "katze\n",
      "hund\n",
      "katzen\n",
      "hauskatze\n",
      "kater\n"
     ]
    }
   ],
   "source": [
    "#inverse_src_word = {index: word for word, index in src_word.items()}\n",
    "inverse_trg_word = {index: word for word, index in trg_word.items()}\n",
    "\n",
    "norm_trg_emb = normalize_matrix(trg_emb)\n",
    "norm_src_emb = normalize_matrix(src_emb)\n",
    "\n",
    "nn = calculate_nn(\"cat\", src_word, norm_src_emb, trg_word, norm_trg_emb, n_neighbors=5)\n",
    "\n",
    "for single_neighbor in nn:\n",
    "    print(inverse_trg_word[single_neighbor])"
   ]
  },
  {
   "cell_type": "code",
   "execution_count": null,
   "metadata": {},
   "outputs": [],
   "source": []
  }
 ],
 "metadata": {
  "kernelspec": {
   "display_name": "Python 3",
   "language": "python",
   "name": "python3"
  },
  "language_info": {
   "codemirror_mode": {
    "name": "ipython",
    "version": 3
   },
   "file_extension": ".py",
   "mimetype": "text/x-python",
   "name": "python",
   "nbconvert_exporter": "python",
   "pygments_lexer": "ipython3",
   "version": "3.6.12"
  }
 },
 "nbformat": 4,
 "nbformat_minor": 4
}
