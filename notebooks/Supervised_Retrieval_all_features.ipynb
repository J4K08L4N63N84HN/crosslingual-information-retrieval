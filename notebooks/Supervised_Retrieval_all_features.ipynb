{
 "cells": [
  {
   "cell_type": "markdown",
   "metadata": {
    "pycharm": {
     "name": "#%% md\n"
    }
   },
   "source": [
    "Supervised_Retrieval_all_features.ipynb# Supervised Retrieval"
   ]
  },
  {
   "cell_type": "markdown",
   "metadata": {
    "pycharm": {
     "name": "#%% md\n"
    }
   },
   "source": [
    "In this notebook we use the supervised classification model for a supervised crosslingual information retrieval task."
   ]
  },
  {
   "cell_type": "code",
   "execution_count": 1,
   "metadata": {},
   "outputs": [],
   "source": [
    "import sys\n",
    "import os\n",
    "sys.path.append(os.path.dirname((os.path.abspath(''))))\n",
    "\n",
    "import pandas as pd\n",
    "import numpy as np\n",
    "import seaborn as sn\n",
    "import matplotlib.pyplot as plt\n",
    "from sklearn.metrics import accuracy_score, f1_score, precision_score, recall_score, log_loss\n",
    "from sklearn.model_selection import train_test_split\n",
    "from sklearn import preprocessing\n",
    "from sklearn.neural_network import MLPClassifier\n",
    "from sklearn.naive_bayes import GaussianNB\n",
    "from sklearn.linear_model import LogisticRegression\n",
    "from sklearn.feature_selection import RFECV\n",
    "from src.models.predict_model import MAP_score, threshold_counts"
   ]
  },
  {
   "cell_type": "markdown",
   "metadata": {
    "pycharm": {
     "name": "#%% md\n"
    }
   },
   "source": [
    "## I. Import Data"
   ]
  },
  {
   "cell_type": "markdown",
   "metadata": {},
   "source": [
    "In this section we import the feature dataframe for the retrieval task."
   ]
  },
  {
   "cell_type": "code",
   "execution_count": 2,
   "metadata": {},
   "outputs": [],
   "source": [
    "feature_dataframe=pd.read_feather(\"../data/processed/feature_model.feather\")\n",
    "feature_retrieval=pd.read_feather(\"../data/processed/feature_retrieval.feather\")\n",
    "feature_dataframe = feature_dataframe.rename(columns={\"id_source\": \"source_id\", \"id_target\": \"target_id\"})\n",
    "feature_retrieval = feature_retrieval.rename(columns={\"id_source\": \"source_id\", \"id_target\": \"target_id\"})"
   ]
  },
  {
   "cell_type": "markdown",
   "metadata": {},
   "source": [
    "#### Delete all columns with only one value"
   ]
  },
  {
   "cell_type": "code",
   "execution_count": 3,
   "metadata": {},
   "outputs": [],
   "source": [
    "column_mask = feature_dataframe.apply(threshold_counts, threshold=1)\n",
    "feature_dataframe = feature_dataframe.loc[:, column_mask]\n",
    "feature_retrieval = feature_retrieval.loc[:, column_mask]"
   ]
  },
  {
   "cell_type": "markdown",
   "metadata": {},
   "source": [
    "## II. Supervised Retrieval"
   ]
  },
  {
   "cell_type": "markdown",
   "metadata": {},
   "source": [
    "#### Drop the target label and the indexes for training and testing"
   ]
  },
  {
   "cell_type": "code",
   "execution_count": 4,
   "metadata": {},
   "outputs": [],
   "source": [
    "target_train=feature_dataframe['Translation'].astype(float)\n",
    "data_train=feature_dataframe.drop(columns=['Translation','source_id','target_id'])\n",
    "target_test=feature_retrieval['Translation'].astype(float)\n",
    "data_test=feature_retrieval.drop(columns=['Translation','source_id','target_id'])"
   ]
  },
  {
   "cell_type": "markdown",
   "metadata": {},
   "source": [
    "#### Z-Normalization"
   ]
  },
  {
   "cell_type": "code",
   "execution_count": 5,
   "metadata": {},
   "outputs": [],
   "source": [
    "#scale data into [0,1]\n",
    "scaler = preprocessing.StandardScaler()\n",
    "data_train.loc[:, data_train.columns] = scaler.fit_transform(data_train.loc[:, data_train.columns])\n",
    "data_test.loc[:, data_test.columns] = scaler.transform(data_test.loc[:, data_test.columns])"
   ]
  },
  {
   "cell_type": "markdown",
   "metadata": {},
   "source": [
    "# Naive Bayes"
   ]
  },
  {
   "cell_type": "code",
   "execution_count": 6,
   "metadata": {},
   "outputs": [
    {
     "name": "stdout",
     "output_type": "stream",
     "text": [
      "The MAP score on test set: 0.1398\n"
     ]
    }
   ],
   "source": [
    "nb = GaussianNB().fit(data_train, target_train)\n",
    "prediction = nb.predict_proba(data_test)\n",
    "print(\"The MAP score on test set: {:.4f}\".format(MAP_score(feature_retrieval['source_id'],target_test,prediction)))"
   ]
  },
  {
   "cell_type": "markdown",
   "metadata": {},
   "source": [
    "# MLP Classifier"
   ]
  },
  {
   "cell_type": "code",
   "execution_count": 7,
   "metadata": {},
   "outputs": [
    {
     "name": "stdout",
     "output_type": "stream",
     "text": [
      "Iteration 1, loss = 0.13300406\n",
      "Validation score: 0.982318\n",
      "Iteration 2, loss = 0.04756596\n",
      "Validation score: 0.984955\n",
      "Iteration 3, loss = 0.04022458\n",
      "Validation score: 0.985909\n",
      "Iteration 4, loss = 0.03652014\n",
      "Validation score: 0.986727\n",
      "Iteration 5, loss = 0.03466978\n",
      "Validation score: 0.986636\n",
      "Iteration 6, loss = 0.03362318\n",
      "Validation score: 0.987000\n",
      "Iteration 7, loss = 0.03313723\n",
      "Validation score: 0.987182\n",
      "Iteration 8, loss = 0.03263894\n",
      "Validation score: 0.987136\n",
      "Iteration 9, loss = 0.03239824\n",
      "Validation score: 0.987727\n",
      "Iteration 10, loss = 0.03200489\n",
      "Validation score: 0.987818\n",
      "Iteration 11, loss = 0.03207962\n",
      "Validation score: 0.987091\n",
      "Iteration 12, loss = 0.03177240\n",
      "Validation score: 0.987636\n",
      "Iteration 13, loss = 0.03176647\n",
      "Validation score: 0.987136\n",
      "Iteration 14, loss = 0.03154807\n",
      "Validation score: 0.987045\n",
      "Iteration 15, loss = 0.03157636\n",
      "Validation score: 0.986773\n",
      "Iteration 16, loss = 0.03155097\n",
      "Validation score: 0.987591\n",
      "Iteration 17, loss = 0.03140397\n",
      "Validation score: 0.987773\n",
      "Iteration 18, loss = 0.03133057\n",
      "Validation score: 0.987409\n",
      "Iteration 19, loss = 0.03118984\n",
      "Validation score: 0.987091\n",
      "Iteration 20, loss = 0.03129492\n",
      "Validation score: 0.987227\n",
      "Validation score did not improve more than tol=0.000100 for 10 consecutive epochs. Stopping.\n",
      "The MAP score on test set: 0.7502\n"
     ]
    }
   ],
   "source": [
    "mlp = MLPClassifier(hidden_layer_sizes=5, verbose=True, early_stopping=True).fit(data_train, target_train)\n",
    "prediction = mlp.predict_proba(data_test)\n",
    "print(\"The MAP score on test set: {:.4f}\".format(MAP_score(feature_retrieval['source_id'],target_test,prediction)))"
   ]
  },
  {
   "cell_type": "markdown",
   "metadata": {},
   "source": [
    "# Logistic Regression"
   ]
  },
  {
   "cell_type": "code",
   "execution_count": 8,
   "metadata": {},
   "outputs": [
    {
     "name": "stderr",
     "output_type": "stream",
     "text": [
      "[Parallel(n_jobs=1)]: Using backend SequentialBackend with 1 concurrent workers.\n",
      "[Parallel(n_jobs=1)]: Done   1 out of   1 | elapsed:    1.1s remaining:    0.0s\n",
      "[Parallel(n_jobs=1)]: Done   1 out of   1 | elapsed:    1.1s finished\n"
     ]
    },
    {
     "name": "stdout",
     "output_type": "stream",
     "text": [
      "The MAP score on test set: 0.8059\n"
     ]
    }
   ],
   "source": [
    "lr = LogisticRegression(max_iter=100000, verbose=10, penalty=\"l2\", C=0.0001).fit(data_train.to_numpy(), target_train.to_numpy())\n",
    "prediction = lr.predict_proba(data_test.to_numpy())\n",
    "print(\"The MAP score on test set: {:.4f}\".format(MAP_score(feature_retrieval['source_id'],target_test,prediction)))"
   ]
  },
  {
   "cell_type": "markdown",
   "metadata": {},
   "source": [
    "# XGBoost"
   ]
  },
  {
   "cell_type": "code",
   "execution_count": null,
   "metadata": {},
   "outputs": [
    {
     "name": "stderr",
     "output_type": "stream",
     "text": [
      "/Users/I534344/opt/anaconda3/envs/ml/lib/python3.6/site-packages/xgboost/sklearn.py:1146: UserWarning: The use of label encoder in XGBClassifier is deprecated and will be removed in a future release. To remove this warning, do the following: 1) Pass option use_label_encoder=False when constructing XGBClassifier object; and 2) Encode your labels (y) as integers starting with 0, i.e. 0, 1, 2, ..., [num_class - 1].\n",
      "  warnings.warn(label_encoder_deprecation_msg, UserWarning)\n"
     ]
    },
    {
     "name": "stdout",
     "output_type": "stream",
     "text": [
      "[16:22:36] WARNING: /Users/travis/build/dmlc/xgboost/src/learner.cc:1095: Starting in XGBoost 1.3.0, the default evaluation metric used with the objective 'binary:logistic' was changed from 'error' to 'logloss'. Explicitly set eval_metric if you'd like to restore the old behavior.\n"
     ]
    }
   ],
   "source": [
    "from xgboost import XGBClassifier\n",
    "\n",
    "model = XGBClassifier()\n",
    "model.fit(data_train.to_numpy(), target_train.to_numpy())\n",
    "\n",
    "prediction = model.predict_proba(data_test).tolist()\n",
    "print(\"The MAP score on test set: {:.4f}\".format(MAP_score(feature_retrieval['source_id'],target_test,prediction)))"
   ]
  }
 ],
 "metadata": {
  "kernelspec": {
   "display_name": "Python 3",
   "language": "python",
   "name": "python3"
  },
  "language_info": {
   "codemirror_mode": {
    "name": "ipython",
    "version": 3
   },
   "file_extension": ".py",
   "mimetype": "text/x-python",
   "name": "python",
   "nbconvert_exporter": "python",
   "pygments_lexer": "ipython3",
   "version": "3.8.6"
  }
 },
 "nbformat": 4,
 "nbformat_minor": 4
}