{
 "cells": [
  {
   "cell_type": "code",
   "execution_count": null,
   "metadata": {},
   "outputs": [],
   "source": [
    "import pandas as pd\n",
    "import numpy as np\n",
    "import matplotlib.pyplot as plt\n",
    "import nltk\n",
    "from nltk.tokenize import word_tokenize\n",
    "from nltk.corpus import stopwords\n",
    "from nltk import StanfordTagger\n",
    "from src.data.import_data import import_data\n",
    "from src.data.clean_data import data_cleansing\n",
    "from nltk.stem import WordNetLemmatizer\n",
    "from HanTa import HanoverTagger as ht"
   ]
  },
  {
   "cell_type": "markdown",
   "metadata": {},
   "source": [
    "#### Load data into Dataframe"
   ]
  },
  {
   "cell_type": "code",
   "execution_count": null,
   "metadata": {},
   "outputs": [],
   "source": [
    "# import data\n",
    "df=import_data()"
   ]
  },
  {
   "cell_type": "markdown",
   "metadata": {},
   "source": [
    "#### Data Cleansing: Tokenize by white spaces, lowercase, stopword removal"
   ]
  },
  {
   "cell_type": "code",
   "execution_count": null,
   "metadata": {},
   "outputs": [],
   "source": [
    "### get first 10.000 entries to test and get features\n",
    "df_selected = df.sort_index().loc[0:10000]"
   ]
  },
  {
   "cell_type": "code",
   "execution_count": null,
   "metadata": {},
   "outputs": [],
   "source": [
    "pd.set_option('display.max_colwidth', 50)\n",
    "df_selected"
   ]
  },
  {
   "cell_type": "code",
   "execution_count": null,
   "metadata": {},
   "outputs": [],
   "source": [
    "df_sel=data_cleansing(df_selected)"
   ]
  },
  {
   "cell_type": "code",
   "execution_count": null,
   "metadata": {},
   "outputs": [],
   "source": [
    "df_sel"
   ]
  },
  {
   "cell_type": "markdown",
   "metadata": {},
   "source": [
    "#### Feature Generation"
   ]
  },
  {
   "cell_type": "code",
   "execution_count": null,
   "metadata": {},
   "outputs": [],
   "source": [
    "# import string library function \n",
    "import string \n",
    "#get number of punctuation marks as feature\n",
    "df_selected['PM_eng']=df_selected['English'].apply(lambda x: len([word for word in x if word in string.punctuation]))\n",
    "df_selected['PM_ger']=df_selected['German'].apply(lambda x: len([word for word in x if word in string.punctuation]))\n",
    "#get differences of punctuation marks absolute and relative with respect to smaller number as base\n",
    "df_selected['PM_dif_abs']=np.abs(df_selected['PM_eng']-df_selected['PM_ger'])\n",
    "df_selected['PM_dif_rel']=df_selected['PM_dif_abs']/np.minimum(df_selected['PM_eng'],df_selected['PM_ger'])\n",
    "#set NaNs to zero\n",
    "df_selected['PM_dif_rel'] = df_selected['PM_dif_rel'].replace(np.nan, 0)\n",
    "#get number of words as feature\n",
    "df_selected['Words_eng']=df_selected['English'].apply(lambda x: len([word for word in x if word not in string.punctuation]))\n",
    "df_selected['Words_ger']=df_selected['German'].apply(lambda x: len([word for word in x if word not in string.punctuation]))\n",
    "#get differences of words absolute and relative with respect to smaller number as base\n",
    "df_selected['Words_dif_abs']=np.abs(df_selected['Words_eng']-df_selected['Words_ger'])\n",
    "df_selected['Words_dif_rel']=df_selected['Words_dif_abs']/np.minimum(df_selected['Words_eng'],df_selected['Words_ger'])\n",
    "#set NaNs to zero\n",
    "df_selected['Words_dif_rel'] = df_selected['Words_dif_rel'].replace(np.nan, 0)"
   ]
  },
  {
   "cell_type": "code",
   "execution_count": null,
   "metadata": {},
   "outputs": [],
   "source": [
    "#number of question marks\n",
    "marks='?'\n",
    "df_selected['ger_ques']=df_selected['German'].apply(lambda x: len([word for word in x if word in marks]))\n",
    "df_selected['eng_ques']=df_selected['English'].apply(lambda x: len([word for word in x if word in marks]))\n",
    "#number of exclamation marks\n",
    "marks='!'\n",
    "df_selected['ger_exc']=df_selected['German'].apply(lambda x: len([word for word in x if word in marks]))\n",
    "df_selected['eng_exc']=df_selected['English'].apply(lambda x: len([word for word in x if word in marks]))\n"
   ]
  },
  {
   "cell_type": "code",
   "execution_count": null,
   "metadata": {},
   "outputs": [],
   "source": [
    "#get number of characters in words and the average char per word\n",
    "df_selected['char_eng']=df_selected['English'].apply(lambda x: len(str([word for word in x if word not in string.punctuation])))\n",
    "df_selected['char_eng_avg']=df_selected['char_eng']/df_selected['Words_eng']\n",
    "df_selected['char_ger']=df_selected['German'].apply(lambda x: len(str([word for word in x if word not in string.punctuation])))\n",
    "df_selected['char_ger_avg']=df_selected['char_ger']/df_selected['Words_ger']\n",
    "#absolute difference between avg\n",
    "df_selected['char_avg_abs']=df_selected['char_ger_avg']-df_selected['char_eng_avg']"
   ]
  },
  {
   "cell_type": "code",
   "execution_count": null,
   "metadata": {},
   "outputs": [],
   "source": [
    "#use pos-tagger and get number of nouns, verbs, adjectives, tagset universal to only get the highest categories and \n",
    "df_selected['English_pos']=df_selected.apply(lambda x: nltk.pos_tag(x['English'],tagset='universal'), axis=1)\n",
    "\n",
    "#pos-tagging with nltk not suppored in german yet -> use pretrained model for german as tagger\n",
    "##pretrained model for german as tagger\n",
    "#Christian Wartena (2019). A Probabilistic Morphology Model for German Lemmatization. In: Proceedings of the 15th Conference on Natural Language Processing (KONVENS 2019): Long Papers. Pp. 40-49, Erlangen.\n",
    "\n",
    "tagger = ht.HanoverTagger('morphmodel_ger.pgz')\n",
    "ger_pos=[]\n",
    "for i in df_selected.itertuples():\n",
    "    ger_pos.append(list(map(lambda x: tagger.analyze(x),i.German)))\n",
    "df_selected['German_pos']=ger_pos"
   ]
  },
  {
   "cell_type": "code",
   "execution_count": null,
   "metadata": {},
   "outputs": [],
   "source": [
    "# df_selected.to_csv('Feature_Generation.csv',index=False)"
   ]
  },
  {
   "cell_type": "code",
   "execution_count": null,
   "metadata": {},
   "outputs": [],
   "source": [
    "df_selected=pd.read_csv('Feature_Generation.csv')"
   ]
  },
  {
   "cell_type": "code",
   "execution_count": null,
   "metadata": {},
   "outputs": [],
   "source": [
    "df_selected"
   ]
  },
  {
   "cell_type": "code",
   "execution_count": null,
   "metadata": {},
   "outputs": [],
   "source": [
    "universal_pos=['ADJ','ADP','ADV','CONJ','DET','NOUN','NUM','PRT','PRON','VERB','X']\n",
    "for u_tag in universal_pos:\n",
    "    df_selected[f'en_{u_tag}'] = df_selected['English_pos'].apply(lambda row: nltk.FreqDist(tag for (word, tag) in row if tag==u_tag)[u_tag])"
   ]
  }
 ],
 "metadata": {
  "kernelspec": {
   "display_name": "Python 3",
   "language": "python",
   "name": "python3"
  },
  "language_info": {
   "codemirror_mode": {
    "name": "ipython",
    "version": 3
   },
   "file_extension": ".py",
   "mimetype": "text/x-python",
   "name": "python",
   "nbconvert_exporter": "python",
   "pygments_lexer": "ipython3",
   "version": "3.8.8"
  }
 },
 "nbformat": 4,
 "nbformat_minor": 4
}
