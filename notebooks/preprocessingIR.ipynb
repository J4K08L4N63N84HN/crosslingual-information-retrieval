{
 "cells": [
  {
   "cell_type": "code",
   "execution_count": 3,
   "metadata": {},
   "outputs": [],
   "source": [
    "import pandas as pd\n",
    "import numpy as np\n",
    "import nltk\n",
    "from nltk.tokenize import word_tokenize\n",
    "from nltk.corpus import stopwords\n",
    "from nltk import StanfordTagger\n",
    "from src.data.import_data import import_data\n",
    "from src.data.clean_data import data_cleansing\n",
    "from nltk.stem import WordNetLemmatizer\n",
    "from HanTa import HanoverTagger as ht\n"
   ]
  },
  {
   "cell_type": "markdown",
   "metadata": {},
   "source": [
    "#### Load data into Dataframe"
   ]
  },
  {
   "cell_type": "code",
   "execution_count": null,
   "metadata": {},
   "outputs": [],
   "source": [
    "# import data\n",
    "df=import_data()"
   ]
  },
  {
   "cell_type": "markdown",
   "metadata": {},
   "source": [
    "#### Data Cleansing: Tokenize by white spaces, lowercase, stopword removal"
   ]
  },
  {
   "cell_type": "code",
   "execution_count": null,
   "metadata": {},
   "outputs": [],
   "source": [
    "### get first 10.000 entries to test and get features\n",
    "df_selected = df.sort_index().loc[0:10000]"
   ]
  },
  {
   "cell_type": "code",
   "execution_count": null,
   "metadata": {},
   "outputs": [],
   "source": [
    "pd.set_option('display.max_colwidth', 200)\n",
    "df_selected.head(100)"
   ]
  },
  {
   "cell_type": "code",
   "execution_count": null,
   "metadata": {},
   "outputs": [],
   "source": []
  },
  {
   "cell_type": "code",
   "execution_count": null,
   "metadata": {},
   "outputs": [],
   "source": [
    "df_sel=data_cleansing(df_selected)"
   ]
  },
  {
   "cell_type": "code",
   "execution_count": null,
   "metadata": {},
   "outputs": [],
   "source": [
    "df_sel"
   ]
  },
  {
   "cell_type": "markdown",
   "metadata": {},
   "source": [
    "#### Feature Generation"
   ]
  },
  {
   "cell_type": "code",
   "execution_count": null,
   "metadata": {},
   "outputs": [],
   "source": [
    "# import string library function \n",
    "import string \n",
    "#get number of punctuation marks as feature\n",
    "df_selected['PM_eng']=df_selected['English'].apply(lambda x: len([word for word in x if word in string.punctuation]))\n",
    "df_selected['PM_ger']=df_selected['German'].apply(lambda x: len([word for word in x if word in string.punctuation]))\n",
    "#get differences of punctuation marks absolute and relative with respect to smaller number as base\n",
    "df_selected['PM_dif_abs']=np.abs(df_selected['PM_eng']-df_selected['PM_ger'])\n",
    "df_selected['PM_dif_rel']=df_selected['PM_dif_abs']/np.minimum(df_selected['PM_eng'],df_selected['PM_ger'])\n",
    "#set NaNs to zero\n",
    "df_selected['PM_dif_rel'] = df_selected['PM_dif_rel'].replace(np.nan, 0)\n",
    "#get number of words as feature\n",
    "df_selected['Words_eng']=df_selected['English'].apply(lambda x: len([word for word in x if word not in string.punctuation]))\n",
    "df_selected['Words_ger']=df_selected['German'].apply(lambda x: len([word for word in x if word not in string.punctuation]))\n",
    "#get differences of words absolute and relative with respect to smaller number as base\n",
    "df_selected['Words_dif_abs']=np.abs(df_selected['Words_eng']-df_selected['Words_ger'])\n",
    "df_selected['Words_dif_rel']=df_selected['Words_dif_abs']/np.minimum(df_selected['Words_eng'],df_selected['Words_ger'])\n",
    "#set NaNs to zero\n",
    "df_selected['Words_dif_rel'] = df_selected['Words_dif_rel'].replace(np.nan, 0)"
   ]
  },
  {
   "cell_type": "code",
   "execution_count": null,
   "metadata": {},
   "outputs": [],
   "source": [
    "punctuation_marks=['?,!,']\n",
    "#number of question marks\n",
    "marks='?'\n",
    "df_selected['ger_ques']=df_selected['German'].apply(lambda x: len([word for word in x if word in marks]))\n",
    "df_selected['eng_ques']=df_selected['English'].apply(lambda x: len([word for word in x if word in marks]))\n",
    "#number of exclamation marks\n",
    "marks='!'\n",
    "df_selected['ger_exc']=df_selected['German'].apply(lambda x: len([word for word in x if word in marks]))\n",
    "df_selected['eng_exc']=df_selected['English'].apply(lambda x: len([word for word in x if word in marks]))\n"
   ]
  },
  {
   "cell_type": "code",
   "execution_count": null,
   "metadata": {},
   "outputs": [],
   "source": [
    "#get number of characters in words and the average char per word\n",
    "df_selected['char_eng']=df_selected['English'].apply(lambda x: len(str([word for word in x if word not in string.punctuation])))\n",
    "df_selected['char_eng_avg']=df_selected['char_eng']/df_selected['Words_eng']\n",
    "df_selected['char_ger']=df_selected['German'].apply(lambda x: len(str([word for word in x if word not in string.punctuation])))\n",
    "df_selected['char_ger_avg']=df_selected['char_ger']/df_selected['Words_ger']\n",
    "#absolute difference between avg\n",
    "df_selected['char_avg_abs']=df_selected['char_ger_avg']-df_selected['char_eng_avg']"
   ]
  },
  {
   "cell_type": "code",
   "execution_count": null,
   "metadata": {},
   "outputs": [],
   "source": [
    "#use pos-tagger and get number of nouns, verbs, adjectives, tagset universal to only get the highest categories and \n",
    "df_selected['English_pos']=df_selected.apply(lambda x: nltk.pos_tag(x['English'],tagset='universal'), axis=1)\n",
    "\n",
    "#pos-tagging with nltk not suppored in german yet -> use pretrained model for german as tagger\n",
    "##pretrained model for german as tagger\n",
    "#Christian Wartena (2019). A Probabilistic Morphology Model for German Lemmatization. In: Proceedings of the 15th Conference on Natural Language Processing (KONVENS 2019): Long Papers. Pp. 40-49, Erlangen.\n",
    "\n",
    "tagger = ht.HanoverTagger('morphmodel_ger.pgz')\n",
    "ger_pos=[]\n",
    "for i in df_selected.itertuples():\n",
    "    ger_pos.append(list(map(lambda x: tagger.analyze(x),i.German)))\n",
    "df_selected['German_pos']=ger_pos"
   ]
  },
  {
   "cell_type": "code",
   "execution_count": null,
   "metadata": {},
   "outputs": [],
   "source": [
    "# df_selected.to_csv('Feature_Generation.csv',index=False)"
   ]
  },
  {
   "cell_type": "code",
   "execution_count": null,
   "metadata": {},
   "outputs": [],
   "source": [
    "# count=[]\n",
    "# universal_pos=['ADJ','ADP','ADV','CONJ','DET','NOUN','NUM','PRT','PRON','VERB','X']\n",
    "# for i in df_selected.itertuples():\n",
    "#     count.append(nltk.FreqDist(tag for (word, tag) in i.German_pos).most_common())\n",
    "# print(universal_pos)"
   ]
  },
  {
   "cell_type": "code",
   "execution_count": null,
   "metadata": {},
   "outputs": [],
   "source": [
    "df_selected=pd.read_csv('Feature_Generation.csv')"
   ]
  },
  {
   "cell_type": "code",
   "execution_count": null,
   "metadata": {},
   "outputs": [],
   "source": [
    "df_selected"
   ]
  },
  {
   "cell_type": "code",
   "execution_count": null,
   "metadata": {},
   "outputs": [],
   "source": [
    "universal_pos=['ADJ','ADP','ADV','CONJ','DET','NOUN','NUM','PRT','PRON','VERB','X']\n",
    "for u_tag in universal_pos:\n",
    "    df_selected[f'en_{u_tag}'] = df_selected['English_pos'].apply(lambda row: nltk.FreqDist(tag for (word, tag) in row if tag==u_tag)[u_tag])"
   ]
  },
  {
   "cell_type": "code",
   "execution_count": null,
   "metadata": {},
   "outputs": [],
   "source": [
    "#Stuttgart, Tübingen Tagset\n",
    "#https://citeseerx.ist.psu.edu/viewdoc/download?doi=10.1.1.635.8431&rep=rep1&type=pdf\n",
    "#get German Tags\n",
    "tags_german=['ADJA','ADJD','ADV','APPR','APPRART','APPO','APZR','ART','CARD','FM','ITJ','KOUI','KOUS','KON','KOKOM','NN','NE','PDS','PDAT','PIS','PIAT','PIDAT','PPER','PPOSS','PPOSAT','PRELS','PRELAT','PRF','PWS','PWAT','PWAV','PAV','PTKZU','PTKNEG','PTKVZ','PTKANT','PTKA','TRUNC','VVFIN','VVIMP','VVINF','VVIZU','VVPP','VAFIN','VAIMP','VAINF','VAPP','VMFIN','VMINF','VMPP','XY']\n",
    "\n",
    "#one hot encoding of german tags\n",
    "for u_tag in tags_german:\n",
    "    df_selected[f'ger_{u_tag}'] = df_selected['German_pos'].apply(lambda row: nltk.FreqDist(tag for (word, tag) in row if tag==u_tag)[u_tag])\n",
    "\n"
   ]
  },
  {
   "cell_type": "code",
   "execution_count": null,
   "metadata": {},
   "outputs": [],
   "source": [
    "#combine the different german tag categories into the universal tags\n",
    "df_selected['ger_ADJ']=df_selected['ger_ADJA']+df_selected['ger_ADJD']\n",
    "df_selected['ger_ADP']=df_selected['ger_APPR']+df_selected['ger_APPRART']+df_selected['ger_APPO']+df_selected['ger_APZR']\n",
    "df_selected['ger_CONJ']=df_selected['ger_KOUI']+df_selected['ger_KOUS']+df_selected['ger_KON']+df_selected['ger_KOKOM']\n",
    "df_selected['ger_DET']=df_selected['ger_ART']\n",
    "df_selected['ger_NOUN']=df_selected['ger_NN']+df_selected['ger_NE']\n",
    "df_selected['ger_NUM']=df_selected['ger_CARD']\n",
    "df_selected['ger_PRT']=df_selected['ger_PTKZU']+df_selected['ger_PTKNEG']+df_selected['ger_PTKVZ']+df_selected['ger_PTKANT']+df_selected['ger_PTKA']\n",
    "df_selected['ger_PRON']=df_selected['ger_PDS']+df_selected['ger_PDAT']+df_selected['ger_PIS']+df_selected['ger_PIAT']+df_selected['ger_PIDAT']+df_selected['ger_PPER']+df_selected['ger_PPOSS']+df_selected['ger_PPOSAT']+df_selected['ger_PRELS']+df_selected['ger_PRELAT']+df_selected['ger_PRF']+df_selected['ger_PWS']+df_selected['ger_PWAT']+df_selected['ger_PWAV']+df_selected['ger_PAV']\n",
    "df_selected['ger_VERB']=df_selected['ger_VVFIN']+df_selected['ger_VVIMP']+df_selected['ger_VVINF']+df_selected['ger_VVIZU']+df_selected['ger_VVPP']+df_selected['ger_VAFIN']+df_selected['ger_VAIMP']+df_selected['ger_VAINF']+df_selected['ger_VAPP']+df_selected['ger_VMFIN']+df_selected['ger_VMINF']+df_selected['ger_VMPP']\n",
    "df_selected['ger_X']=df_selected['ger_FM']+df_selected['ger_ITJ']+df_selected['ger_TRUNC']+df_selected['ger_XY']\n",
    "\n",
    "#delete german tag columns without the Adverb cause the column name and the column itself do not get changed\n",
    "#tags_german_1=['ADJA','ADJD','APPR','APPRART','APPO','APZR','ART','CARD','FM','ITJ','KOUI','KOUS','KON','KOKOM','NN','NE','PDS','PDAT','PIS','PIAT','PIDAT','PPER','PPOSS','PPOSAT','PRELS','PRELAT','PRF','PWS','PWAT','PWAV','PAV','PTKZU','PTKNEG','PTKVZ','PTKANT','PTKA','TRUNC','VVFIN','VVIMP','VVINF','VVIZU','VVPP','VAFIN','VAIMP','VAINF','VAPP','VMFIN','VMINF','VMPP','XY']\n",
    "#for u_tag in tags_german_1:\n",
    "#    del df_selected[f'ger_{u_tag}']\n"
   ]
  },
  {
   "cell_type": "code",
   "execution_count": null,
   "metadata": {},
   "outputs": [],
   "source": [
    "# ##show problems of question and exclamations marks\n",
    "# pd.set_option('display.max_colwidth', 500)\n",
    "# df[2476:2477]\n",
    "# df[2839:2840]\n",
    "# df[3091:3092]"
   ]
  },
  {
   "cell_type": "code",
   "execution_count": null,
   "metadata": {},
   "outputs": [],
   "source": []
  },
  {
   "cell_type": "code",
   "execution_count": null,
   "metadata": {},
   "outputs": [],
   "source": []
  },
  {
   "cell_type": "code",
   "execution_count": null,
   "metadata": {},
   "outputs": [],
   "source": []
  }
 ],
 "metadata": {
  "kernelspec": {
   "display_name": "Python 3",
   "language": "python",
   "name": "python3"
  },
  "language_info": {
   "codemirror_mode": {
    "name": "ipython",
    "version": 3
   },
   "file_extension": ".py",
   "mimetype": "text/x-python",
   "name": "python",
   "nbconvert_exporter": "python",
   "pygments_lexer": "ipython3",
   "version": "3.8.6"
  }
 },
 "nbformat": 4,
 "nbformat_minor": 4
}