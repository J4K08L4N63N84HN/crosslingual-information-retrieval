{
 "cells": [
  {
   "cell_type": "markdown",
   "metadata": {},
   "source": [
    "# Train XLM-R Downsampling Stategy on sentence translation pairs\n",
    "\n",
    "In this notebook, you can train the XLM-R model with Downsampling Stategy on sentence translation pairs"
   ]
  },
  {
   "cell_type": "code",
   "execution_count": 1,
   "metadata": {
    "colab": {
     "base_uri": "https://localhost:8080/"
    },
    "executionInfo": {
     "elapsed": 160212,
     "status": "ok",
     "timestamp": 1622851497022,
     "user": {
      "displayName": "Tongxuan Zhu",
      "photoUrl": "",
      "userId": "02909689904538338026"
     },
     "user_tz": -120
    },
    "id": "yne-REqY_E1Q",
    "outputId": "a9d5dbcc-23c8-4089-8806-39ebcaf13bc7"
   },
   "outputs": [],
   "source": [
    "#! pip3 install torch==1.5.0 transformers==3.4.0\n",
    "#! pip install pickle5\n",
    "#! pip install datasets\n",
    "#! pip install faiss-gpu cudatoolkit=10.0 -c pytorch"
   ]
  },
  {
   "cell_type": "code",
   "execution_count": 1,
   "metadata": {
    "colab": {
     "base_uri": "https://localhost:8080/"
    },
    "executionInfo": {
     "elapsed": 19496,
     "status": "ok",
     "timestamp": 1622851336818,
     "user": {
      "displayName": "Tongxuan Zhu",
      "photoUrl": "",
      "userId": "02909689904538338026"
     },
     "user_tz": -120
    },
    "id": "PX_USRna_KBr",
    "outputId": "7df4ef60-9bc6-4f1a-c755-a523e52c020a"
   },
   "outputs": [
    {
     "name": "stdout",
     "output_type": "stream",
     "text": [
      "Mounted at /content/drive\n"
     ]
    }
   ],
   "source": [
    "from transformers import Trainer, TrainingArguments\n",
    "from transformers import AutoModelForSequenceClassification\n",
    "import json\n",
    "import pickle5 as pickle\n",
    "import pandas as pd\n",
    "import numpy as np\n",
    "from sklearn.model_selection import train_test_split\n",
    "import torch.utils.data as data_utils\n",
    "import torch\n",
    "import sys\n",
    "import os\n",
    "sys.path.append(os.path.dirname((os.path.abspath(''))))\n",
    "\n",
    "np.random.seed(42)\n",
    "from src.models.train_text_encoder import Torch_dataset_mono, compute_metrics\n",
    "#from google.colab import drive\n",
    "#drive.mount('/content/drive')"
   ]
  },
  {
   "cell_type": "markdown",
   "metadata": {
    "id": "Bu2ukk2u_M7q"
   },
   "source": [
    "## Load Data\n",
    "\n",
    "\n",
    "\n"
   ]
  },
  {
   "cell_type": "code",
   "execution_count": 3,
   "metadata": {
    "executionInfo": {
     "elapsed": 29293,
     "status": "ok",
     "timestamp": 1622851526294,
     "user": {
      "displayName": "Tongxuan Zhu",
      "photoUrl": "",
      "userId": "02909689904538338026"
     },
     "user_tz": -120
    },
    "id": "TlCjjNviusgE"
   },
   "outputs": [],
   "source": [
    "binary_dataset_path = \"..data/processed/feature_dataframe.json\"\n",
    "path = \"..data/processed/europarl_english_german.pkl\"\n",
    "model_used = \"xlm-roberta-base\"\n",
    "\n",
    "\n",
    "# read file\n",
    "with open(binary_dataset_path, 'r') as myfile:\n",
    "    data=myfile.read()\n",
    "binary_dataset = json.loads(data)\n",
    "\n",
    "# Load Data\n",
    "with open(path, 'rb') as f:\n",
    "    data = pickle.load(f)\n",
    "\n",
    "new_training_set = pd.DataFrame(columns=['source_id', 'target_id', 'text_source', 'text_target', 'Translation'])\n",
    "current_source_id = list(binary_dataset[\"source_id\"].values())\n",
    "current_target_id = list(binary_dataset[\"target_id\"].values())\n",
    "new_training_set[\"text_source\"] = data.iloc[current_source_id,:][\"text_source\"].reset_index(drop=True)\n",
    "new_training_set[\"text_target\"] = data.iloc[current_target_id,:][\"text_target\"].reset_index(drop=True)\n",
    "new_training_set[\"source_id\"] = current_source_id\n",
    "new_training_set[\"target_id\"] = current_target_id\n",
    "new_training_set['Translation'] = new_training_set.apply(lambda row : int(row['source_id'] == row['target_id']), axis = 1)\n",
    "\n",
    "del binary_dataset\n",
    "del data"
   ]
  },
  {
   "cell_type": "markdown",
   "metadata": {
    "id": "HUrDFZgKV1I0"
   },
   "source": [
    "# Train XLM-R with Downsampling strategy"
   ]
  },
  {
   "cell_type": "code",
   "execution_count": 7,
   "metadata": {
    "colab": {
     "base_uri": "https://localhost:8080/",
     "height": 472,
     "referenced_widgets": [
      "17d429d4b60b468b879b49c6d51db7f2",
      "c0385854516a45efa6fa3c0c4aac3e78",
      "289589c887dc4f30a82a4be828a418f2",
      "d92ce1e91a74485fb859e05da89661f5",
      "9a20d4d503b64a75a36851a9caba9ee1",
      "6d0482fa61f0498a977c031356355d77",
      "a16dca8713eb40c4a48f93dd2ed46c55",
      "104d02ca24bf4e998c9ad7cce5e77c60",
      "427a29b59c314029b26b8f1662796219",
      "150a025c33c84e268698e67b960a8247",
      "b9bcafdf2b9244388625cc8ebb9b207f",
      "cb0d68edf3f54fb99021549e6291123f",
      "9111b744ff5941e6a2756e56bbcd403d",
      "765069bea76647ed82050e1221b94099",
      "7aa54617cac349589ca06940436deb0e",
      "068aa655c5244807bfc5754a01131e47"
     ]
    },
    "executionInfo": {
     "elapsed": 21678,
     "status": "ok",
     "timestamp": 1622851611901,
     "user": {
      "displayName": "Tongxuan Zhu",
      "photoUrl": "",
      "userId": "02909689904538338026"
     },
     "user_tz": -120
    },
    "id": "kixKojhcZeep",
    "outputId": "62225fd6-ea9b-43e2-f455-7720fb13e4ac"
   },
   "outputs": [
    {
     "name": "stdout",
     "output_type": "stream",
     "text": [
      "Class 0 size: 189889\n",
      "Class 1 size: 19111\n",
      "After Downsampling:\n",
      "Class 0 size: 19111\n",
      "Class 1 size: 19111\n",
      "        source_id  ...  Translation\n",
      "173441      15344  ...            0\n",
      "117955       9795  ...            0\n",
      "153422      13342  ...            0\n",
      "8182         8182  ...            1\n",
      "18397       18397  ...            1\n",
      "...           ...  ...          ...\n",
      "85143        6514  ...            0\n",
      "150201      13020  ...            0\n",
      "17955       17955  ...            1\n",
      "79156        5915  ...            0\n",
      "28860         886  ...            0\n",
      "\n",
      "[38222 rows x 5 columns]\n",
      "Size of training set: 38222\n",
      "Size of test set: 11000\n"
     ]
    },
    {
     "data": {
      "application/vnd.jupyter.widget-view+json": {
       "model_id": "17d429d4b60b468b879b49c6d51db7f2",
       "version_major": 2,
       "version_minor": 0
      },
      "text/plain": [
       "HBox(children=(FloatProgress(value=0.0, description='Downloading', max=512.0, style=ProgressStyle(description_…"
      ]
     },
     "metadata": {
      "tags": []
     },
     "output_type": "display_data"
    },
    {
     "name": "stdout",
     "output_type": "stream",
     "text": [
      "\n"
     ]
    },
    {
     "data": {
      "application/vnd.jupyter.widget-view+json": {
       "model_id": "427a29b59c314029b26b8f1662796219",
       "version_major": 2,
       "version_minor": 0
      },
      "text/plain": [
       "HBox(children=(FloatProgress(value=0.0, description='Downloading', max=5069051.0, style=ProgressStyle(descript…"
      ]
     },
     "metadata": {
      "tags": []
     },
     "output_type": "display_data"
    },
    {
     "name": "stdout",
     "output_type": "stream",
     "text": [
      "\n"
     ]
    }
   ],
   "source": [
    "train_dataset, test_dataset = train_test_split(new_training_set, test_size=.05, random_state=42)\n",
    "\n",
    "train_dataset = downsample(train_dataset)\n",
    "print(train_dataset)\n",
    "print(\"Size of training set: {}\".format(len(train_dataset)))\n",
    "print(\"Size of test set: {}\".format(len(test_dataset)))\n",
    "train_dataset = Torch_dataset_mono(train_dataset)\n",
    "test_dataset = Torch_dataset_mono(test_dataset)"
   ]
  },
  {
   "cell_type": "code",
   "execution_count": null,
   "metadata": {
    "colab": {
     "base_uri": "https://localhost:8080/",
     "height": 729
    },
    "id": "JIDXhMkIYxEQ",
    "outputId": "ead5ea98-7558-4f50-c65d-c243e4242583"
   },
   "outputs": [
    {
     "name": "stderr",
     "output_type": "stream",
     "text": [
      "/usr/local/lib/python3.7/dist-packages/ipykernel_launcher.py:18: UserWarning: To copy construct from a tensor, it is recommended to use sourceTensor.clone().detach() or sourceTensor.clone().detach().requires_grad_(True), rather than torch.tensor(sourceTensor).\n"
     ]
    },
    {
     "data": {
      "text/html": [
       "\n",
       "    <div>\n",
       "        <style>\n",
       "            /* Turns off some styling */\n",
       "            progress {\n",
       "                /* gets rid of default border in Firefox and Opera. */\n",
       "                border: none;\n",
       "                /* Needs to be in here for Safari polyfill so background images work as expected. */\n",
       "                background-size: auto;\n",
       "            }\n",
       "        </style>\n",
       "      \n",
       "      <progress value='19626' max='23890' style='width:300px; height:20px; vertical-align: middle;'></progress>\n",
       "      [19626/23890 1:55:48 < 1:27:48, 0.81 it/s, Epoch 4.11/5]\n",
       "    </div>\n",
       "    <table border=\"1\" class=\"dataframe\">\n",
       "  <thead>\n",
       "    <tr style=\"text-align: left;\">\n",
       "      <th>Step</th>\n",
       "      <th>Training Loss</th>\n",
       "      <th>Validation Loss</th>\n",
       "      <th>Accuracy</th>\n",
       "      <th>Recall</th>\n",
       "      <th>Precision</th>\n",
       "      <th>F1</th>\n",
       "      <th>Log Loss</th>\n",
       "    </tr>\n",
       "  </thead>\n",
       "  <tbody>\n",
       "    <tr>\n",
       "      <td>15000</td>\n",
       "      <td>0.017484</td>\n",
       "      <td>0.044747</td>\n",
       "      <td>0.993636</td>\n",
       "      <td>0.992886</td>\n",
       "      <td>0.939423</td>\n",
       "      <td>0.965415</td>\n",
       "      <td>0.044747</td>\n",
       "    </tr>\n",
       "    <tr>\n",
       "      <td>16000</td>\n",
       "      <td>0.017647</td>\n",
       "      <td>0.033347</td>\n",
       "      <td>0.994636</td>\n",
       "      <td>0.987805</td>\n",
       "      <td>0.953876</td>\n",
       "      <td>0.970544</td>\n",
       "      <td>0.033348</td>\n",
       "    </tr>\n",
       "    <tr>\n",
       "      <td>17000</td>\n",
       "      <td>0.018798</td>\n",
       "      <td>0.054991</td>\n",
       "      <td>0.992909</td>\n",
       "      <td>0.992886</td>\n",
       "      <td>0.932252</td>\n",
       "      <td>0.961614</td>\n",
       "      <td>0.054992</td>\n",
       "    </tr>\n",
       "    <tr>\n",
       "      <td>18000</td>\n",
       "      <td>0.023601</td>\n",
       "      <td>0.027531</td>\n",
       "      <td>0.995364</td>\n",
       "      <td>0.979675</td>\n",
       "      <td>0.968844</td>\n",
       "      <td>0.974229</td>\n",
       "      <td>0.027531</td>\n",
       "    </tr>\n",
       "    <tr>\n",
       "      <td>19000</td>\n",
       "      <td>0.026354</td>\n",
       "      <td>0.028442</td>\n",
       "      <td>0.996182</td>\n",
       "      <td>0.991870</td>\n",
       "      <td>0.966337</td>\n",
       "      <td>0.978937</td>\n",
       "      <td>0.028443</td>\n",
       "    </tr>\n",
       "  </tbody>\n",
       "</table><p>"
      ],
      "text/plain": [
       "<IPython.core.display.HTML object>"
      ]
     },
     "metadata": {
      "tags": []
     },
     "output_type": "display_data"
    },
    {
     "name": "stderr",
     "output_type": "stream",
     "text": [
      "/usr/local/lib/python3.7/dist-packages/ipykernel_launcher.py:18: UserWarning: To copy construct from a tensor, it is recommended to use sourceTensor.clone().detach() or sourceTensor.clone().detach().requires_grad_(True), rather than torch.tensor(sourceTensor).\n",
      "/usr/local/lib/python3.7/dist-packages/ipykernel_launcher.py:18: UserWarning: To copy construct from a tensor, it is recommended to use sourceTensor.clone().detach() or sourceTensor.clone().detach().requires_grad_(True), rather than torch.tensor(sourceTensor).\n",
      "/usr/local/lib/python3.7/dist-packages/ipykernel_launcher.py:18: UserWarning: To copy construct from a tensor, it is recommended to use sourceTensor.clone().detach() or sourceTensor.clone().detach().requires_grad_(True), rather than torch.tensor(sourceTensor).\n",
      "/usr/local/lib/python3.7/dist-packages/ipykernel_launcher.py:18: UserWarning: To copy construct from a tensor, it is recommended to use sourceTensor.clone().detach() or sourceTensor.clone().detach().requires_grad_(True), rather than torch.tensor(sourceTensor).\n",
      "/usr/local/lib/python3.7/dist-packages/ipykernel_launcher.py:18: UserWarning: To copy construct from a tensor, it is recommended to use sourceTensor.clone().detach() or sourceTensor.clone().detach().requires_grad_(True), rather than torch.tensor(sourceTensor).\n"
     ]
    },
    {
     "data": {
      "text/html": [
       "\n",
       "    <div>\n",
       "        <style>\n",
       "            /* Turns off some styling */\n",
       "            progress {\n",
       "                /* gets rid of default border in Firefox and Opera. */\n",
       "                border: none;\n",
       "                /* Needs to be in here for Safari polyfill so background images work as expected. */\n",
       "                background-size: auto;\n",
       "            }\n",
       "        </style>\n",
       "      \n",
       "      <progress value='23001' max='23890' style='width:300px; height:20px; vertical-align: middle;'></progress>\n",
       "      [23001/23890 3:05:13 < 18:17, 0.81 it/s, Epoch 4.81/5]\n",
       "    </div>\n",
       "    <table border=\"1\" class=\"dataframe\">\n",
       "  <thead>\n",
       "    <tr style=\"text-align: left;\">\n",
       "      <th>Step</th>\n",
       "      <th>Training Loss</th>\n",
       "      <th>Validation Loss</th>\n",
       "      <th>Accuracy</th>\n",
       "      <th>Recall</th>\n",
       "      <th>Precision</th>\n",
       "      <th>F1</th>\n",
       "      <th>Log Loss</th>\n",
       "    </tr>\n",
       "  </thead>\n",
       "  <tbody>\n",
       "    <tr>\n",
       "      <td>15000</td>\n",
       "      <td>0.017484</td>\n",
       "      <td>0.044747</td>\n",
       "      <td>0.993636</td>\n",
       "      <td>0.992886</td>\n",
       "      <td>0.939423</td>\n",
       "      <td>0.965415</td>\n",
       "      <td>0.044747</td>\n",
       "    </tr>\n",
       "    <tr>\n",
       "      <td>16000</td>\n",
       "      <td>0.017647</td>\n",
       "      <td>0.033347</td>\n",
       "      <td>0.994636</td>\n",
       "      <td>0.987805</td>\n",
       "      <td>0.953876</td>\n",
       "      <td>0.970544</td>\n",
       "      <td>0.033348</td>\n",
       "    </tr>\n",
       "    <tr>\n",
       "      <td>17000</td>\n",
       "      <td>0.018798</td>\n",
       "      <td>0.054991</td>\n",
       "      <td>0.992909</td>\n",
       "      <td>0.992886</td>\n",
       "      <td>0.932252</td>\n",
       "      <td>0.961614</td>\n",
       "      <td>0.054992</td>\n",
       "    </tr>\n",
       "    <tr>\n",
       "      <td>18000</td>\n",
       "      <td>0.023601</td>\n",
       "      <td>0.027531</td>\n",
       "      <td>0.995364</td>\n",
       "      <td>0.979675</td>\n",
       "      <td>0.968844</td>\n",
       "      <td>0.974229</td>\n",
       "      <td>0.027531</td>\n",
       "    </tr>\n",
       "    <tr>\n",
       "      <td>19000</td>\n",
       "      <td>0.026354</td>\n",
       "      <td>0.028442</td>\n",
       "      <td>0.996182</td>\n",
       "      <td>0.991870</td>\n",
       "      <td>0.966337</td>\n",
       "      <td>0.978937</td>\n",
       "      <td>0.028443</td>\n",
       "    </tr>\n",
       "    <tr>\n",
       "      <td>20000</td>\n",
       "      <td>0.009744</td>\n",
       "      <td>0.035508</td>\n",
       "      <td>0.995273</td>\n",
       "      <td>0.994919</td>\n",
       "      <td>0.954191</td>\n",
       "      <td>0.974129</td>\n",
       "      <td>0.035509</td>\n",
       "    </tr>\n",
       "    <tr>\n",
       "      <td>21000</td>\n",
       "      <td>0.000202</td>\n",
       "      <td>0.046436</td>\n",
       "      <td>0.994000</td>\n",
       "      <td>0.995935</td>\n",
       "      <td>0.940499</td>\n",
       "      <td>0.967423</td>\n",
       "      <td>0.046437</td>\n",
       "    </tr>\n",
       "    <tr>\n",
       "      <td>22000</td>\n",
       "      <td>0.009824</td>\n",
       "      <td>0.035435</td>\n",
       "      <td>0.995545</td>\n",
       "      <td>0.995935</td>\n",
       "      <td>0.956098</td>\n",
       "      <td>0.975610</td>\n",
       "      <td>0.035437</td>\n",
       "    </tr>\n",
       "  </tbody>\n",
       "</table><p>\n",
       "    <div>\n",
       "        <style>\n",
       "            /* Turns off some styling */\n",
       "            progress {\n",
       "                /* gets rid of default border in Firefox and Opera. */\n",
       "                border: none;\n",
       "                /* Needs to be in here for Safari polyfill so background images work as expected. */\n",
       "                background-size: auto;\n",
       "            }\n",
       "        </style>\n",
       "      \n",
       "      <progress value='724' max='1375' style='width:300px; height:20px; vertical-align: middle;'></progress>\n",
       "      [ 724/1375 03:06 < 02:47, 3.89 it/s]\n",
       "    </div>\n",
       "    "
      ],
      "text/plain": [
       "<IPython.core.display.HTML object>"
      ]
     },
     "metadata": {
      "tags": []
     },
     "output_type": "display_data"
    },
    {
     "name": "stderr",
     "output_type": "stream",
     "text": [
      "/usr/local/lib/python3.7/dist-packages/ipykernel_launcher.py:18: UserWarning: To copy construct from a tensor, it is recommended to use sourceTensor.clone().detach() or sourceTensor.clone().detach().requires_grad_(True), rather than torch.tensor(sourceTensor).\n",
      "/usr/local/lib/python3.7/dist-packages/ipykernel_launcher.py:18: UserWarning: To copy construct from a tensor, it is recommended to use sourceTensor.clone().detach() or sourceTensor.clone().detach().requires_grad_(True), rather than torch.tensor(sourceTensor).\n",
      "/usr/local/lib/python3.7/dist-packages/ipykernel_launcher.py:18: UserWarning: To copy construct from a tensor, it is recommended to use sourceTensor.clone().detach() or sourceTensor.clone().detach().requires_grad_(True), rather than torch.tensor(sourceTensor).\n"
     ]
    }
   ],
   "source": [
    "save_model_path = \"/content/drive/MyDrive/model_correct_downsampling\"\n",
    "save_log_path = \"/content/drive/MyDrive/log_correct_downsampling\"\n",
    "\n",
    "model = AutoModelForSequenceClassification.from_pretrained(\"../model/model_correct_downsampling/checkpoint-14000\", num_labels=2)\n",
    "\n",
    "#transformers.logging.set_verbosity_info()\n",
    "training_args = TrainingArguments(\n",
    "    output_dir=save_model_path,          # output directory\n",
    "    #overwrite_output_dir=True,\n",
    "    num_train_epochs=5,              # total number of training epochs\n",
    "    per_device_train_batch_size=8,  # batch size per device during training\n",
    "    per_device_eval_batch_size=8,   # batch size for evaluation\n",
    "    weight_decay=0.01,               # strength of weight decay\n",
    "    warmup_steps=400,                # number of warmup steps for learning rate scheduler\n",
    "    logging_dir=save_log_path,            # directory for storing logs\n",
    "    logging_steps=100,\n",
    "    evaluation_strategy=\"steps\",\n",
    "    eval_steps=1000,\n",
    "    save_steps=1000\n",
    ")\n",
    "\n",
    "trainer = Trainer(\n",
    "    model=model,                         # the instantiated 🤗 Transformers model to be trained\n",
    "    args=training_args,                  # training arguments, defined above\n",
    "    train_dataset=train_dataset,         # training dataset\n",
    "    eval_dataset=test_dataset,             # evaluation dataset\n",
    "\n",
    "    compute_metrics=compute_metrics\n",
    ")\n",
    "\n",
    "trainer.train(\"../model/model_correct_downsampling/checkpoint-14000\")"
   ]
  }
 ],
 "metadata": {
  "accelerator": "GPU",
  "colab": {
   "collapsed_sections": [],
   "name": "text_encoder_bin.ipynb",
   "provenance": []
  },
  "kernelspec": {
   "display_name": "Python 3",
   "language": "python",
   "name": "python3"
  },
  "language_info": {
   "codemirror_mode": {
    "name": "ipython",
    "version": 3
   },
   "file_extension": ".py",
   "mimetype": "text/x-python",
   "name": "python",
   "nbconvert_exporter": "python",
   "pygments_lexer": "ipython3",
   "version": "3.6.12"
  },
  "widgets": {
   "application/vnd.jupyter.widget-state+json": {
    "068aa655c5244807bfc5754a01131e47": {
     "model_module": "@jupyter-widgets/base",
     "model_name": "LayoutModel",
     "state": {
      "_model_module": "@jupyter-widgets/base",
      "_model_module_version": "1.2.0",
      "_model_name": "LayoutModel",
      "_view_count": null,
      "_view_module": "@jupyter-widgets/base",
      "_view_module_version": "1.2.0",
      "_view_name": "LayoutView",
      "align_content": null,
      "align_items": null,
      "align_self": null,
      "border": null,
      "bottom": null,
      "display": null,
      "flex": null,
      "flex_flow": null,
      "grid_area": null,
      "grid_auto_columns": null,
      "grid_auto_flow": null,
      "grid_auto_rows": null,
      "grid_column": null,
      "grid_gap": null,
      "grid_row": null,
      "grid_template_areas": null,
      "grid_template_columns": null,
      "grid_template_rows": null,
      "height": null,
      "justify_content": null,
      "justify_items": null,
      "left": null,
      "margin": null,
      "max_height": null,
      "max_width": null,
      "min_height": null,
      "min_width": null,
      "object_fit": null,
      "object_position": null,
      "order": null,
      "overflow": null,
      "overflow_x": null,
      "overflow_y": null,
      "padding": null,
      "right": null,
      "top": null,
      "visibility": null,
      "width": null
     }
    },
    "104d02ca24bf4e998c9ad7cce5e77c60": {
     "model_module": "@jupyter-widgets/base",
     "model_name": "LayoutModel",
     "state": {
      "_model_module": "@jupyter-widgets/base",
      "_model_module_version": "1.2.0",
      "_model_name": "LayoutModel",
      "_view_count": null,
      "_view_module": "@jupyter-widgets/base",
      "_view_module_version": "1.2.0",
      "_view_name": "LayoutView",
      "align_content": null,
      "align_items": null,
      "align_self": null,
      "border": null,
      "bottom": null,
      "display": null,
      "flex": null,
      "flex_flow": null,
      "grid_area": null,
      "grid_auto_columns": null,
      "grid_auto_flow": null,
      "grid_auto_rows": null,
      "grid_column": null,
      "grid_gap": null,
      "grid_row": null,
      "grid_template_areas": null,
      "grid_template_columns": null,
      "grid_template_rows": null,
      "height": null,
      "justify_content": null,
      "justify_items": null,
      "left": null,
      "margin": null,
      "max_height": null,
      "max_width": null,
      "min_height": null,
      "min_width": null,
      "object_fit": null,
      "object_position": null,
      "order": null,
      "overflow": null,
      "overflow_x": null,
      "overflow_y": null,
      "padding": null,
      "right": null,
      "top": null,
      "visibility": null,
      "width": null
     }
    },
    "150a025c33c84e268698e67b960a8247": {
     "model_module": "@jupyter-widgets/base",
     "model_name": "LayoutModel",
     "state": {
      "_model_module": "@jupyter-widgets/base",
      "_model_module_version": "1.2.0",
      "_model_name": "LayoutModel",
      "_view_count": null,
      "_view_module": "@jupyter-widgets/base",
      "_view_module_version": "1.2.0",
      "_view_name": "LayoutView",
      "align_content": null,
      "align_items": null,
      "align_self": null,
      "border": null,
      "bottom": null,
      "display": null,
      "flex": null,
      "flex_flow": null,
      "grid_area": null,
      "grid_auto_columns": null,
      "grid_auto_flow": null,
      "grid_auto_rows": null,
      "grid_column": null,
      "grid_gap": null,
      "grid_row": null,
      "grid_template_areas": null,
      "grid_template_columns": null,
      "grid_template_rows": null,
      "height": null,
      "justify_content": null,
      "justify_items": null,
      "left": null,
      "margin": null,
      "max_height": null,
      "max_width": null,
      "min_height": null,
      "min_width": null,
      "object_fit": null,
      "object_position": null,
      "order": null,
      "overflow": null,
      "overflow_x": null,
      "overflow_y": null,
      "padding": null,
      "right": null,
      "top": null,
      "visibility": null,
      "width": null
     }
    },
    "17d429d4b60b468b879b49c6d51db7f2": {
     "model_module": "@jupyter-widgets/controls",
     "model_name": "HBoxModel",
     "state": {
      "_dom_classes": [],
      "_model_module": "@jupyter-widgets/controls",
      "_model_module_version": "1.5.0",
      "_model_name": "HBoxModel",
      "_view_count": null,
      "_view_module": "@jupyter-widgets/controls",
      "_view_module_version": "1.5.0",
      "_view_name": "HBoxView",
      "box_style": "",
      "children": [
       "IPY_MODEL_289589c887dc4f30a82a4be828a418f2",
       "IPY_MODEL_d92ce1e91a74485fb859e05da89661f5"
      ],
      "layout": "IPY_MODEL_c0385854516a45efa6fa3c0c4aac3e78"
     }
    },
    "289589c887dc4f30a82a4be828a418f2": {
     "model_module": "@jupyter-widgets/controls",
     "model_name": "FloatProgressModel",
     "state": {
      "_dom_classes": [],
      "_model_module": "@jupyter-widgets/controls",
      "_model_module_version": "1.5.0",
      "_model_name": "FloatProgressModel",
      "_view_count": null,
      "_view_module": "@jupyter-widgets/controls",
      "_view_module_version": "1.5.0",
      "_view_name": "ProgressView",
      "bar_style": "success",
      "description": "Downloading: 100%",
      "description_tooltip": null,
      "layout": "IPY_MODEL_6d0482fa61f0498a977c031356355d77",
      "max": 512,
      "min": 0,
      "orientation": "horizontal",
      "style": "IPY_MODEL_9a20d4d503b64a75a36851a9caba9ee1",
      "value": 512
     }
    },
    "427a29b59c314029b26b8f1662796219": {
     "model_module": "@jupyter-widgets/controls",
     "model_name": "HBoxModel",
     "state": {
      "_dom_classes": [],
      "_model_module": "@jupyter-widgets/controls",
      "_model_module_version": "1.5.0",
      "_model_name": "HBoxModel",
      "_view_count": null,
      "_view_module": "@jupyter-widgets/controls",
      "_view_module_version": "1.5.0",
      "_view_name": "HBoxView",
      "box_style": "",
      "children": [
       "IPY_MODEL_b9bcafdf2b9244388625cc8ebb9b207f",
       "IPY_MODEL_cb0d68edf3f54fb99021549e6291123f"
      ],
      "layout": "IPY_MODEL_150a025c33c84e268698e67b960a8247"
     }
    },
    "6d0482fa61f0498a977c031356355d77": {
     "model_module": "@jupyter-widgets/base",
     "model_name": "LayoutModel",
     "state": {
      "_model_module": "@jupyter-widgets/base",
      "_model_module_version": "1.2.0",
      "_model_name": "LayoutModel",
      "_view_count": null,
      "_view_module": "@jupyter-widgets/base",
      "_view_module_version": "1.2.0",
      "_view_name": "LayoutView",
      "align_content": null,
      "align_items": null,
      "align_self": null,
      "border": null,
      "bottom": null,
      "display": null,
      "flex": null,
      "flex_flow": null,
      "grid_area": null,
      "grid_auto_columns": null,
      "grid_auto_flow": null,
      "grid_auto_rows": null,
      "grid_column": null,
      "grid_gap": null,
      "grid_row": null,
      "grid_template_areas": null,
      "grid_template_columns": null,
      "grid_template_rows": null,
      "height": null,
      "justify_content": null,
      "justify_items": null,
      "left": null,
      "margin": null,
      "max_height": null,
      "max_width": null,
      "min_height": null,
      "min_width": null,
      "object_fit": null,
      "object_position": null,
      "order": null,
      "overflow": null,
      "overflow_x": null,
      "overflow_y": null,
      "padding": null,
      "right": null,
      "top": null,
      "visibility": null,
      "width": null
     }
    },
    "765069bea76647ed82050e1221b94099": {
     "model_module": "@jupyter-widgets/base",
     "model_name": "LayoutModel",
     "state": {
      "_model_module": "@jupyter-widgets/base",
      "_model_module_version": "1.2.0",
      "_model_name": "LayoutModel",
      "_view_count": null,
      "_view_module": "@jupyter-widgets/base",
      "_view_module_version": "1.2.0",
      "_view_name": "LayoutView",
      "align_content": null,
      "align_items": null,
      "align_self": null,
      "border": null,
      "bottom": null,
      "display": null,
      "flex": null,
      "flex_flow": null,
      "grid_area": null,
      "grid_auto_columns": null,
      "grid_auto_flow": null,
      "grid_auto_rows": null,
      "grid_column": null,
      "grid_gap": null,
      "grid_row": null,
      "grid_template_areas": null,
      "grid_template_columns": null,
      "grid_template_rows": null,
      "height": null,
      "justify_content": null,
      "justify_items": null,
      "left": null,
      "margin": null,
      "max_height": null,
      "max_width": null,
      "min_height": null,
      "min_width": null,
      "object_fit": null,
      "object_position": null,
      "order": null,
      "overflow": null,
      "overflow_x": null,
      "overflow_y": null,
      "padding": null,
      "right": null,
      "top": null,
      "visibility": null,
      "width": null
     }
    },
    "7aa54617cac349589ca06940436deb0e": {
     "model_module": "@jupyter-widgets/controls",
     "model_name": "DescriptionStyleModel",
     "state": {
      "_model_module": "@jupyter-widgets/controls",
      "_model_module_version": "1.5.0",
      "_model_name": "DescriptionStyleModel",
      "_view_count": null,
      "_view_module": "@jupyter-widgets/base",
      "_view_module_version": "1.2.0",
      "_view_name": "StyleView",
      "description_width": ""
     }
    },
    "9111b744ff5941e6a2756e56bbcd403d": {
     "model_module": "@jupyter-widgets/controls",
     "model_name": "ProgressStyleModel",
     "state": {
      "_model_module": "@jupyter-widgets/controls",
      "_model_module_version": "1.5.0",
      "_model_name": "ProgressStyleModel",
      "_view_count": null,
      "_view_module": "@jupyter-widgets/base",
      "_view_module_version": "1.2.0",
      "_view_name": "StyleView",
      "bar_color": null,
      "description_width": "initial"
     }
    },
    "9a20d4d503b64a75a36851a9caba9ee1": {
     "model_module": "@jupyter-widgets/controls",
     "model_name": "ProgressStyleModel",
     "state": {
      "_model_module": "@jupyter-widgets/controls",
      "_model_module_version": "1.5.0",
      "_model_name": "ProgressStyleModel",
      "_view_count": null,
      "_view_module": "@jupyter-widgets/base",
      "_view_module_version": "1.2.0",
      "_view_name": "StyleView",
      "bar_color": null,
      "description_width": "initial"
     }
    },
    "a16dca8713eb40c4a48f93dd2ed46c55": {
     "model_module": "@jupyter-widgets/controls",
     "model_name": "DescriptionStyleModel",
     "state": {
      "_model_module": "@jupyter-widgets/controls",
      "_model_module_version": "1.5.0",
      "_model_name": "DescriptionStyleModel",
      "_view_count": null,
      "_view_module": "@jupyter-widgets/base",
      "_view_module_version": "1.2.0",
      "_view_name": "StyleView",
      "description_width": ""
     }
    },
    "b9bcafdf2b9244388625cc8ebb9b207f": {
     "model_module": "@jupyter-widgets/controls",
     "model_name": "FloatProgressModel",
     "state": {
      "_dom_classes": [],
      "_model_module": "@jupyter-widgets/controls",
      "_model_module_version": "1.5.0",
      "_model_name": "FloatProgressModel",
      "_view_count": null,
      "_view_module": "@jupyter-widgets/controls",
      "_view_module_version": "1.5.0",
      "_view_name": "ProgressView",
      "bar_style": "success",
      "description": "Downloading: 100%",
      "description_tooltip": null,
      "layout": "IPY_MODEL_765069bea76647ed82050e1221b94099",
      "max": 5069051,
      "min": 0,
      "orientation": "horizontal",
      "style": "IPY_MODEL_9111b744ff5941e6a2756e56bbcd403d",
      "value": 5069051
     }
    },
    "c0385854516a45efa6fa3c0c4aac3e78": {
     "model_module": "@jupyter-widgets/base",
     "model_name": "LayoutModel",
     "state": {
      "_model_module": "@jupyter-widgets/base",
      "_model_module_version": "1.2.0",
      "_model_name": "LayoutModel",
      "_view_count": null,
      "_view_module": "@jupyter-widgets/base",
      "_view_module_version": "1.2.0",
      "_view_name": "LayoutView",
      "align_content": null,
      "align_items": null,
      "align_self": null,
      "border": null,
      "bottom": null,
      "display": null,
      "flex": null,
      "flex_flow": null,
      "grid_area": null,
      "grid_auto_columns": null,
      "grid_auto_flow": null,
      "grid_auto_rows": null,
      "grid_column": null,
      "grid_gap": null,
      "grid_row": null,
      "grid_template_areas": null,
      "grid_template_columns": null,
      "grid_template_rows": null,
      "height": null,
      "justify_content": null,
      "justify_items": null,
      "left": null,
      "margin": null,
      "max_height": null,
      "max_width": null,
      "min_height": null,
      "min_width": null,
      "object_fit": null,
      "object_position": null,
      "order": null,
      "overflow": null,
      "overflow_x": null,
      "overflow_y": null,
      "padding": null,
      "right": null,
      "top": null,
      "visibility": null,
      "width": null
     }
    },
    "cb0d68edf3f54fb99021549e6291123f": {
     "model_module": "@jupyter-widgets/controls",
     "model_name": "HTMLModel",
     "state": {
      "_dom_classes": [],
      "_model_module": "@jupyter-widgets/controls",
      "_model_module_version": "1.5.0",
      "_model_name": "HTMLModel",
      "_view_count": null,
      "_view_module": "@jupyter-widgets/controls",
      "_view_module_version": "1.5.0",
      "_view_name": "HTMLView",
      "description": "",
      "description_tooltip": null,
      "layout": "IPY_MODEL_068aa655c5244807bfc5754a01131e47",
      "placeholder": "​",
      "style": "IPY_MODEL_7aa54617cac349589ca06940436deb0e",
      "value": " 5.07M/5.07M [00:01&lt;00:00, 4.97MB/s]"
     }
    },
    "d92ce1e91a74485fb859e05da89661f5": {
     "model_module": "@jupyter-widgets/controls",
     "model_name": "HTMLModel",
     "state": {
      "_dom_classes": [],
      "_model_module": "@jupyter-widgets/controls",
      "_model_module_version": "1.5.0",
      "_model_name": "HTMLModel",
      "_view_count": null,
      "_view_module": "@jupyter-widgets/controls",
      "_view_module_version": "1.5.0",
      "_view_name": "HTMLView",
      "description": "",
      "description_tooltip": null,
      "layout": "IPY_MODEL_104d02ca24bf4e998c9ad7cce5e77c60",
      "placeholder": "​",
      "style": "IPY_MODEL_a16dca8713eb40c4a48f93dd2ed46c55",
      "value": " 512/512 [00:01&lt;00:00, 306B/s]"
     }
    }
   }
  }
 },
 "nbformat": 4,
 "nbformat_minor": 1
}
