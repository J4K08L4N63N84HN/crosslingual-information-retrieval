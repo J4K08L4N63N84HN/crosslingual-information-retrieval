{
 "cells": [
  {
   "cell_type": "markdown",
   "metadata": {
    "pycharm": {
     "name": "#%% md\n"
    }
   },
   "source": [
    "# Supervised Retrieval"
   ]
  },
  {
   "cell_type": "markdown",
   "metadata": {
    "pycharm": {
     "name": "#%% md\n"
    }
   },
   "source": [
    "In this notebook we use the supervised classification model for a supervised crosslingual information retrieval task."
   ]
  },
  {
   "cell_type": "code",
   "execution_count": 8,
   "metadata": {},
   "outputs": [],
   "source": [
    "import pandas as pd\n",
    "import numpy as np\n",
    "import seaborn as sn\n",
    "import matplotlib.pyplot as plt\n",
    "from sklearn import preprocessing\n",
    "from sklearn.neural_network import MLPClassifier\n",
    "from sklearn.linear_model import LogisticRegression\n",
    "from sklearn.feature_selection import RFECV\n",
    "from src.models.predict_model import MAP_score, threshold_counts,feature_selection"
   ]
  },
  {
   "cell_type": "markdown",
   "metadata": {
    "pycharm": {
     "name": "#%% md\n"
    }
   },
   "source": [
    "## I. Import Data"
   ]
  },
  {
   "cell_type": "markdown",
   "metadata": {},
   "source": [
    "In this section we import the feature dataframe for the retrieval task."
   ]
  },
  {
   "cell_type": "code",
   "execution_count": 2,
   "metadata": {},
   "outputs": [],
   "source": [
    "feature_dataframe=pd.read_feather(\"../data/processed/feature_model.feather\")\n",
    "feature_retrieval=pd.read_feather(\"../data/processed/feature_retrieval.feather\")\n",
    "feature_dataframe = feature_dataframe.rename(columns={\"id_source\": \"source_id\", \"id_target\": \"target_id\"})\n",
    "feature_retrieval = feature_retrieval.rename(columns={\"id_source\": \"source_id\", \"id_target\": \"target_id\"})"
   ]
  },
  {
   "cell_type": "markdown",
   "metadata": {},
   "source": [
    "#### Delete all columns with only one value"
   ]
  },
  {
   "cell_type": "code",
   "execution_count": 3,
   "metadata": {},
   "outputs": [],
   "source": [
    "column_mask = feature_dataframe.apply(threshold_counts, threshold=1)\n",
    "feature_dataframe = feature_dataframe.loc[:, column_mask]\n",
    "feature_retrieval = feature_retrieval.loc[:, column_mask]"
   ]
  },
  {
   "cell_type": "markdown",
   "metadata": {},
   "source": [
    "## II. Supervised Retrieval"
   ]
  },
  {
   "cell_type": "markdown",
   "metadata": {},
   "source": [
    "#### Drop the target label and the indexes for training and testing"
   ]
  },
  {
   "cell_type": "code",
   "execution_count": 4,
   "metadata": {},
   "outputs": [],
   "source": [
    "target_train=feature_dataframe['Translation'].astype(float)\n",
    "data_train=feature_dataframe.drop(columns=['Translation','source_id','target_id'])\n",
    "target_test=feature_retrieval['Translation'].astype(float)\n",
    "data_test=feature_retrieval.drop(columns=['Translation','source_id','target_id'])"
   ]
  },
  {
   "cell_type": "markdown",
   "metadata": {},
   "source": [
    "#### Z-Normalization"
   ]
  },
  {
   "cell_type": "code",
   "execution_count": 5,
   "metadata": {},
   "outputs": [],
   "source": [
    "#scale data into [0,1]\n",
    "scaler = preprocessing.StandardScaler()\n",
    "data_train.loc[:, data_train.columns] = scaler.fit_transform(data_train.loc[:, data_train.columns])\n",
    "data_test.loc[:, data_test.columns] = scaler.transform(data_test.loc[:, data_test.columns])"
   ]
  },
  {
   "cell_type": "markdown",
   "metadata": {},
   "source": [
    "#### Get features for forward selection based on MAP score -> start with most important feature"
   ]
  },
  {
   "cell_type": "code",
   "execution_count": 53,
   "metadata": {},
   "outputs": [],
   "source": [
    "keep_columns=['jaccard_translation_proc_5k']\n",
    "features=['jaccard_numbers_source',\n",
    " 'cosine_similarity_average_proc_5k',\n",
    " 'cosine_similarity_tf_idf_proc_5k',\n",
    " 'euclidean_distance_average_proc_5k',\n",
    " 'euclidean_distance_tf_idf_proc_5k',\n",
    " 'cosine_similarity_average_proc_b_1k',\n",
    " 'cosine_similarity_tf_idf_proc_b_1k',\n",
    " 'euclidean_distance_average_proc_b_1k',\n",
    " 'euclidean_distance_tf_idf_proc_b_1k',\n",
    " 'jaccard_translation_proc_b_1k',\n",
    " 'cosine_similarity_average_vecmap',\n",
    " 'cosine_similarity_tf_idf_vecmap',\n",
    " 'euclidean_distance_average_vecmap',\n",
    " 'euclidean_distance_tf_idf_vecmap',\n",
    " 'jaccard_translation_vecmap', 'number_punctuations_total_difference',\n",
    " 'number_punctuations_total_difference_relative',\n",
    " 'number_punctuations_total_difference_normalized',\n",
    " 'number_words_difference',\n",
    " 'number_words_difference_relative',\n",
    " 'number_words_difference_normalized',\n",
    " 'number_unique_words_difference',\n",
    " 'number_unique_words_difference_relative',\n",
    " 'number_unique_words_difference_normalized',\n",
    " 'number_!_difference',\n",
    " 'number_!_difference_relative',\n",
    " 'number_!_difference_normalized',\n",
    " 'number_#_difference',\n",
    " 'number_#_difference_relative',\n",
    " 'number_#_difference_normalized',\n",
    " 'number_$_difference',\n",
    " 'number_$_difference_relative',\n",
    " 'number_$_difference_normalized',\n",
    " 'number_%_difference',\n",
    " 'number_%_difference_relative',\n",
    " 'number_%_difference_normalized',\n",
    " 'number_&_difference',\n",
    " 'number_&_difference_relative',\n",
    " 'number_&_difference_normalized',\n",
    " \"number_'_difference\",\n",
    " \"number_'_difference_relative\",\n",
    " \"number_'_difference_normalized\",\n",
    " 'number_(_difference',\n",
    " 'number_(_difference_relative',\n",
    " 'number_(_difference_normalized',\n",
    " 'number_)_difference',\n",
    " 'number_)_difference_relative',\n",
    " 'number_)_difference_normalized',\n",
    " 'number_+_difference',\n",
    " 'number_+_difference_relative',\n",
    " 'number_+_difference_normalized',\n",
    " 'number_,_difference',\n",
    " 'number_,_difference_relative',\n",
    " 'number_,_difference_normalized',\n",
    " 'number_-_difference',\n",
    " 'number_-_difference_relative',\n",
    " 'number_-_difference_normalized',\n",
    " 'number_._difference',\n",
    " 'number_._difference_relative',\n",
    " 'number_._difference_normalized',\n",
    " 'number_/_difference',\n",
    " 'number_/_difference_relative',\n",
    " 'number_/_difference_normalized',\n",
    " 'number_:_difference',\n",
    " 'number_:_difference_relative',\n",
    " 'number_:_difference_normalized',\n",
    " 'number_;_difference',\n",
    " 'number_;_difference_relative',\n",
    " 'number_;_difference_normalized',\n",
    " 'number_?_difference',\n",
    " 'number_?_difference_relative',\n",
    " 'number_?_difference_normalized',\n",
    " 'number_[_difference',\n",
    " 'number_[_difference_relative',\n",
    " 'number_[_difference_normalized',\n",
    " 'number_]_difference',\n",
    " 'number_]_difference_relative',\n",
    " 'number_]_difference_normalized',\n",
    " 'number_characters_difference',\n",
    " 'number_characters_difference_relative',\n",
    " 'number_characters_difference_normalized',\n",
    " 'characters_avg_difference',\n",
    " 'characters_avg_difference_relative',\n",
    " 'characters_avg_difference_normalized',\n",
    " 'number_ADJ_difference',\n",
    " 'number_ADJ_difference_relative',\n",
    " 'number_ADJ_difference_normalized',\n",
    " 'number_NOUN_difference',\n",
    " 'number_NOUN_difference_relative',\n",
    " 'number_NOUN_difference_normalized',\n",
    " 'number_VERB_difference',\n",
    " 'number_VERB_difference_relative',\n",
    " 'number_VERB_difference_normalized',\n",
    " 'score_polarity_difference',\n",
    " 'score_polarity_difference_relative',\n",
    " 'score_polarity_difference_normalized',\n",
    " 'score_subjectivity_difference',\n",
    " 'score_subjectivity_difference_relative',\n",
    " 'score_subjectivity_difference_normalized']"
   ]
  },
  {
   "cell_type": "markdown",
   "metadata": {},
   "source": [
    "# MLP Classifier"
   ]
  },
  {
   "cell_type": "code",
   "execution_count": 42,
   "metadata": {},
   "outputs": [
    {
     "name": "stdout",
     "output_type": "stream",
     "text": [
      "The initial MAP score on test set: 0.8244\n",
      "With number_punctuations_total_difference added, the MAP score on test set: 0.8244\n",
      "With number_punctuations_total_difference_relative added, the MAP score on test set: 0.8244\n",
      "With number_punctuations_total_difference_normalized added, the MAP score on test set: 0.8244\n",
      "With number_words_difference added, the MAP score on test set: 0.8244\n",
      "With number_words_difference_relative added, the MAP score on test set: 0.7804\n",
      "With number_words_difference_normalized added, the MAP score on test set: 0.7965\n",
      "With number_unique_words_difference added, the MAP score on test set: 0.8177\n",
      "With number_unique_words_difference_relative added, the MAP score on test set: 0.7962\n",
      "With number_unique_words_difference_normalized added, the MAP score on test set: 0.7929\n",
      "With number_!_difference added, the MAP score on test set: 0.7920\n",
      "With number_!_difference_relative added, the MAP score on test set: 0.7919\n",
      "With number_!_difference_normalized added, the MAP score on test set: 0.7904\n",
      "With number_#_difference added, the MAP score on test set: 0.7978\n",
      "With number_#_difference_relative added, the MAP score on test set: 0.7978\n",
      "With number_#_difference_normalized added, the MAP score on test set: 0.7978\n",
      "With number_$_difference added, the MAP score on test set: 0.7966\n",
      "With number_$_difference_relative added, the MAP score on test set: 0.7966\n",
      "With number_$_difference_normalized added, the MAP score on test set: 0.7966\n",
      "With number_%_difference added, the MAP score on test set: 0.7969\n",
      "With number_%_difference_relative added, the MAP score on test set: 0.8025\n",
      "With number_%_difference_normalized added, the MAP score on test set: 0.7986\n",
      "With number_&_difference added, the MAP score on test set: 0.7830\n",
      "With number_&_difference_relative added, the MAP score on test set: 0.8025\n",
      "With number_&_difference_normalized added, the MAP score on test set: 0.8031\n",
      "With number_'_difference added, the MAP score on test set: 0.8003\n",
      "With number_'_difference_relative added, the MAP score on test set: 0.7959\n",
      "With number_'_difference_normalized added, the MAP score on test set: 0.7940\n",
      "With number_(_difference added, the MAP score on test set: 0.8001\n",
      "With number_(_difference_relative added, the MAP score on test set: 0.7942\n",
      "With number_(_difference_normalized added, the MAP score on test set: 0.7890\n",
      "With number_)_difference added, the MAP score on test set: 0.7957\n",
      "With number_)_difference_relative added, the MAP score on test set: 0.8020\n",
      "With number_)_difference_normalized added, the MAP score on test set: 0.7961\n",
      "With number_+_difference added, the MAP score on test set: 0.8244\n",
      "With number_+_difference_relative added, the MAP score on test set: 0.8075\n",
      "With number_+_difference_normalized added, the MAP score on test set: 0.8067\n",
      "With number_,_difference added, the MAP score on test set: 0.7933\n",
      "With number_,_difference_relative added, the MAP score on test set: 0.7964\n",
      "With number_,_difference_normalized added, the MAP score on test set: 0.8035\n",
      "With number_-_difference added, the MAP score on test set: 0.8244\n",
      "With number_-_difference_relative added, the MAP score on test set: 0.7858\n",
      "With number_-_difference_normalized added, the MAP score on test set: 0.7964\n",
      "With number_._difference added, the MAP score on test set: 0.7775\n",
      "With number_._difference_relative added, the MAP score on test set: 0.7945\n",
      "With number_._difference_normalized added, the MAP score on test set: 0.7785\n",
      "With number_/_difference added, the MAP score on test set: 0.7957\n",
      "With number_/_difference_relative added, the MAP score on test set: 0.7957\n",
      "With number_/_difference_normalized added, the MAP score on test set: 0.7957\n",
      "With number_:_difference added, the MAP score on test set: 0.7982\n",
      "With number_:_difference_relative added, the MAP score on test set: 0.8106\n",
      "With number_:_difference_normalized added, the MAP score on test set: 0.7934\n",
      "With number_;_difference added, the MAP score on test set: 0.7987\n",
      "With number_;_difference_relative added, the MAP score on test set: 0.7981\n",
      "With number_;_difference_normalized added, the MAP score on test set: 0.8008\n",
      "With number_?_difference added, the MAP score on test set: 0.8043\n",
      "With number_?_difference_relative added, the MAP score on test set: 0.8116\n",
      "With number_?_difference_normalized added, the MAP score on test set: 0.8034\n",
      "With number_[_difference added, the MAP score on test set: 0.8062\n",
      "With number_[_difference_relative added, the MAP score on test set: 0.7977\n",
      "With number_[_difference_normalized added, the MAP score on test set: 0.7934\n",
      "With number_]_difference added, the MAP score on test set: 0.7980\n",
      "With number_]_difference_relative added, the MAP score on test set: 0.7978\n",
      "With number_]_difference_normalized added, the MAP score on test set: 0.8079\n",
      "With number_characters_difference added, the MAP score on test set: 0.7752\n",
      "With number_characters_difference_relative added, the MAP score on test set: 0.7719\n",
      "With number_characters_difference_normalized added, the MAP score on test set: 0.8128\n",
      "With characters_avg_difference added, the MAP score on test set: 0.7935\n",
      "With characters_avg_difference_relative added, the MAP score on test set: 0.7989\n",
      "With characters_avg_difference_normalized added, the MAP score on test set: 0.3346\n",
      "With number_ADJ_difference added, the MAP score on test set: 0.7938\n",
      "With number_ADJ_difference_relative added, the MAP score on test set: 0.7849\n",
      "With number_ADJ_difference_normalized added, the MAP score on test set: 0.7761\n",
      "With number_NOUN_difference added, the MAP score on test set: 0.8190\n",
      "With number_NOUN_difference_relative added, the MAP score on test set: 0.8158\n",
      "With number_NOUN_difference_normalized added, the MAP score on test set: 0.8048\n",
      "With number_VERB_difference added, the MAP score on test set: 0.8088\n",
      "With number_VERB_difference_relative added, the MAP score on test set: 0.7860\n",
      "With number_VERB_difference_normalized added, the MAP score on test set: 0.7854\n",
      "With score_polarity_difference added, the MAP score on test set: 0.7859\n",
      "With score_polarity_difference_relative added, the MAP score on test set: 0.7978\n",
      "With score_polarity_difference_normalized added, the MAP score on test set: 0.7955\n",
      "With score_subjectivity_difference added, the MAP score on test set: 0.7977\n",
      "With score_subjectivity_difference_relative added, the MAP score on test set: 0.8017\n",
      "With score_subjectivity_difference_normalized added, the MAP score on test set: 0.7942\n"
     ]
    }
   ],
   "source": [
    "# mlp = MLPClassifier(hidden_layer_sizes=5, verbose=True, early_stopping=True).fit(data_train, target_train)\n",
    "# prediction = mlp.predict_proba(data_test)\n",
    "# print(\"The MAP score on test set: {:.4f}\".format(MAP_score(feature_retrieval['source_id'],target_test,prediction)))\n",
    "scaler = preprocessing.StandardScaler()\n",
    "model = MLPClassifier(hidden_layer_sizes=5,random_state=42,  early_stopping=True)\n",
    "feature_selection(model,scaler,feature_dataframe,feature_retrieval,keep_columns,features)"
   ]
  },
  {
   "cell_type": "code",
   "execution_count": 40,
   "metadata": {},
   "outputs": [
    {
     "name": "stdout",
     "output_type": "stream",
     "text": [
      "['jaccard_numbers_source', 'cosine_similarity_average_proc_5k', 'cosine_similarity_tf_idf_proc_5k', 'euclidean_distance_average_proc_5k', 'euclidean_distance_tf_idf_proc_5k', 'jaccard_translation_proc_5k', 'cosine_similarity_average_proc_b_1k', 'cosine_similarity_tf_idf_proc_b_1k', 'euclidean_distance_average_proc_b_1k', 'euclidean_distance_tf_idf_proc_b_1k', 'jaccard_translation_proc_b_1k', 'cosine_similarity_average_vecmap', 'cosine_similarity_tf_idf_vecmap', 'euclidean_distance_average_vecmap', 'euclidean_distance_tf_idf_vecmap', 'jaccard_translation_vecmap', 'number_punctuations_total_difference', 'number_punctuations_total_difference_normalized', 'number_punctuations_total_difference_relative', 'number_words_difference', 'number_+_difference', 'number_-_difference']\n",
      "The final MAP score on test set: 0.8244\n"
     ]
    }
   ],
   "source": [
    "print(keep_columns)\n",
    "data_train = feature_dataframe.filter(items=keep_columns)\n",
    "data_test = feature_retrieval.filter(items=keep_columns)\n",
    "# scale the features\n",
    "data_train[data_train.columns] = scaler.fit_transform(data_train[data_train.columns])\n",
    "data_test[data_test.columns] = scaler.transform(data_test[data_test.columns])\n",
    "# fit the model and get the initial MapScore\n",
    "modelfit = model.fit(data_train, target_train)\n",
    "prediction = modelfit.predict_proba(data_test)\n",
    "MapScore = MAP_score(feature_retrieval['source_id'], target_test, prediction)\n",
    "print(\"The final MAP score on test set: {:.4f}\".format(MapScore))"
   ]
  },
  {
   "cell_type": "code",
   "execution_count": 41,
   "metadata": {},
   "outputs": [
    {
     "data": {
      "text/plain": [
       "22"
      ]
     },
     "execution_count": 41,
     "metadata": {},
     "output_type": "execute_result"
    }
   ],
   "source": [
    "len(['jaccard_numbers_source', 'cosine_similarity_average_proc_5k', 'cosine_similarity_tf_idf_proc_5k', 'euclidean_distance_average_proc_5k', 'euclidean_distance_tf_idf_proc_5k', 'jaccard_translation_proc_5k', 'cosine_similarity_average_proc_b_1k', 'cosine_similarity_tf_idf_proc_b_1k', 'euclidean_distance_average_proc_b_1k', 'euclidean_distance_tf_idf_proc_b_1k', 'jaccard_translation_proc_b_1k', 'cosine_similarity_average_vecmap', 'cosine_similarity_tf_idf_vecmap', 'euclidean_distance_average_vecmap', 'euclidean_distance_tf_idf_vecmap', 'jaccard_translation_vecmap', 'number_punctuations_total_difference', 'number_punctuations_total_difference_normalized', 'number_punctuations_total_difference_relative', 'number_words_difference', 'number_+_difference', 'number_-_difference'])"
   ]
  },
  {
   "cell_type": "markdown",
   "metadata": {},
   "source": [
    "# Logistic Regression"
   ]
  },
  {
   "cell_type": "code",
   "execution_count": 45,
   "metadata": {},
   "outputs": [],
   "source": [
    "keep_columns=['jaccard_translation_proc_5k']\n",
    "features=['jaccard_numbers_source',\n",
    " 'cosine_similarity_average_proc_5k',\n",
    " 'cosine_similarity_tf_idf_proc_5k',\n",
    " 'euclidean_distance_average_proc_5k',\n",
    " 'euclidean_distance_tf_idf_proc_5k',\n",
    " 'cosine_similarity_average_proc_b_1k',\n",
    " 'cosine_similarity_tf_idf_proc_b_1k',\n",
    " 'euclidean_distance_average_proc_b_1k',\n",
    " 'euclidean_distance_tf_idf_proc_b_1k',\n",
    " 'jaccard_translation_proc_b_1k',\n",
    " 'cosine_similarity_average_vecmap',\n",
    " 'cosine_similarity_tf_idf_vecmap',\n",
    " 'euclidean_distance_average_vecmap',\n",
    " 'euclidean_distance_tf_idf_vecmap',\n",
    " 'jaccard_translation_vecmap', 'number_punctuations_total_difference',\n",
    " 'number_punctuations_total_difference_relative',\n",
    " 'number_punctuations_total_difference_normalized',\n",
    " 'number_words_difference',\n",
    " 'number_words_difference_relative',\n",
    " 'number_words_difference_normalized',\n",
    " 'number_unique_words_difference',\n",
    " 'number_unique_words_difference_relative',\n",
    " 'number_unique_words_difference_normalized',\n",
    " 'number_!_difference',\n",
    " 'number_!_difference_relative',\n",
    " 'number_!_difference_normalized',\n",
    " 'number_#_difference',\n",
    " 'number_#_difference_relative',\n",
    " 'number_#_difference_normalized',\n",
    " 'number_$_difference',\n",
    " 'number_$_difference_relative',\n",
    " 'number_$_difference_normalized',\n",
    " 'number_%_difference',\n",
    " 'number_%_difference_relative',\n",
    " 'number_%_difference_normalized',\n",
    " 'number_&_difference',\n",
    " 'number_&_difference_relative',\n",
    " 'number_&_difference_normalized',\n",
    " \"number_'_difference\",\n",
    " \"number_'_difference_relative\",\n",
    " \"number_'_difference_normalized\",\n",
    " 'number_(_difference',\n",
    " 'number_(_difference_relative',\n",
    " 'number_(_difference_normalized',\n",
    " 'number_)_difference',\n",
    " 'number_)_difference_relative',\n",
    " 'number_)_difference_normalized',\n",
    " 'number_+_difference',\n",
    " 'number_+_difference_relative',\n",
    " 'number_+_difference_normalized',\n",
    " 'number_,_difference',\n",
    " 'number_,_difference_relative',\n",
    " 'number_,_difference_normalized',\n",
    " 'number_-_difference',\n",
    " 'number_-_difference_relative',\n",
    " 'number_-_difference_normalized',\n",
    " 'number_._difference',\n",
    " 'number_._difference_relative',\n",
    " 'number_._difference_normalized',\n",
    " 'number_/_difference',\n",
    " 'number_/_difference_relative',\n",
    " 'number_/_difference_normalized',\n",
    " 'number_:_difference',\n",
    " 'number_:_difference_relative',\n",
    " 'number_:_difference_normalized',\n",
    " 'number_;_difference',\n",
    " 'number_;_difference_relative',\n",
    " 'number_;_difference_normalized',\n",
    " 'number_?_difference',\n",
    " 'number_?_difference_relative',\n",
    " 'number_?_difference_normalized',\n",
    " 'number_[_difference',\n",
    " 'number_[_difference_relative',\n",
    " 'number_[_difference_normalized',\n",
    " 'number_]_difference',\n",
    " 'number_]_difference_relative',\n",
    " 'number_]_difference_normalized',\n",
    " 'number_characters_difference',\n",
    " 'number_characters_difference_relative',\n",
    " 'number_characters_difference_normalized',\n",
    " 'characters_avg_difference',\n",
    " 'characters_avg_difference_relative',\n",
    " 'characters_avg_difference_normalized',\n",
    " 'number_ADJ_difference',\n",
    " 'number_ADJ_difference_relative',\n",
    " 'number_ADJ_difference_normalized',\n",
    " 'number_NOUN_difference',\n",
    " 'number_NOUN_difference_relative',\n",
    " 'number_NOUN_difference_normalized',\n",
    " 'number_VERB_difference',\n",
    " 'number_VERB_difference_relative',\n",
    " 'number_VERB_difference_normalized',\n",
    " 'score_polarity_difference',\n",
    " 'score_polarity_difference_relative',\n",
    " 'score_polarity_difference_normalized',\n",
    " 'score_subjectivity_difference',\n",
    " 'score_subjectivity_difference_relative',\n",
    " 'score_subjectivity_difference_normalized']"
   ]
  },
  {
   "cell_type": "code",
   "execution_count": 48,
   "metadata": {},
   "outputs": [
    {
     "name": "stdout",
     "output_type": "stream",
     "text": [
      "The initial MAP score on test set: 0.8369\n",
      "With jaccard_numbers_source added, the MAP score on test set: 0.8369\n",
      "With cosine_similarity_average_proc_5k added, the MAP score on test set: 0.8369\n",
      "With cosine_similarity_tf_idf_proc_5k added, the MAP score on test set: 0.8369\n",
      "With euclidean_distance_average_proc_5k added, the MAP score on test set: 0.8369\n",
      "With euclidean_distance_tf_idf_proc_5k added, the MAP score on test set: 0.8369\n",
      "Updated MAP score on test set with new feature euclidean_distance_tf_idf_proc_5k: 0.8369\n",
      "With cosine_similarity_average_proc_b_1k added, the MAP score on test set: 0.8369\n",
      "With cosine_similarity_tf_idf_proc_b_1k added, the MAP score on test set: 0.8369\n",
      "With euclidean_distance_average_proc_b_1k added, the MAP score on test set: 0.8370\n",
      "Updated MAP score on test set with new feature euclidean_distance_average_proc_b_1k: 0.8370\n",
      "With euclidean_distance_tf_idf_proc_b_1k added, the MAP score on test set: 0.8370\n",
      "With jaccard_translation_proc_b_1k added, the MAP score on test set: 0.8142\n",
      "With cosine_similarity_average_vecmap added, the MAP score on test set: 0.8379\n",
      "Updated MAP score on test set with new feature cosine_similarity_average_vecmap: 0.8379\n",
      "With cosine_similarity_tf_idf_vecmap added, the MAP score on test set: 0.8387\n",
      "Updated MAP score on test set with new feature cosine_similarity_tf_idf_vecmap: 0.8387\n",
      "With euclidean_distance_average_vecmap added, the MAP score on test set: 0.8387\n",
      "With euclidean_distance_tf_idf_vecmap added, the MAP score on test set: 0.8387\n",
      "With jaccard_translation_vecmap added, the MAP score on test set: 0.8387\n",
      "Updated MAP score on test set with new feature jaccard_translation_vecmap: 0.8387\n",
      "With number_punctuations_total_difference added, the MAP score on test set: 0.8175\n",
      "With number_punctuations_total_difference_relative added, the MAP score on test set: 0.8133\n",
      "With number_punctuations_total_difference_normalized added, the MAP score on test set: 0.8229\n",
      "With number_words_difference added, the MAP score on test set: 0.8387\n",
      "With number_words_difference_relative added, the MAP score on test set: 0.8201\n",
      "With number_words_difference_normalized added, the MAP score on test set: 0.8229\n",
      "With number_unique_words_difference added, the MAP score on test set: 0.8377\n",
      "With number_unique_words_difference_relative added, the MAP score on test set: 0.8296\n",
      "With number_unique_words_difference_normalized added, the MAP score on test set: 0.8165\n",
      "With number_!_difference added, the MAP score on test set: 0.8386\n",
      "With number_!_difference_relative added, the MAP score on test set: 0.8386\n",
      "With number_!_difference_normalized added, the MAP score on test set: 0.8387\n",
      "With number_#_difference added, the MAP score on test set: 0.8387\n",
      "With number_#_difference_relative added, the MAP score on test set: 0.8387\n",
      "With number_#_difference_normalized added, the MAP score on test set: 0.8387\n",
      "With number_$_difference added, the MAP score on test set: 0.8387\n",
      "With number_$_difference_relative added, the MAP score on test set: 0.8387\n",
      "With number_$_difference_normalized added, the MAP score on test set: 0.8387\n",
      "With number_%_difference added, the MAP score on test set: 0.8387\n",
      "Updated MAP score on test set with new feature number_%_difference: 0.8387\n",
      "With number_%_difference_relative added, the MAP score on test set: 0.8387\n",
      "Updated MAP score on test set with new feature number_%_difference_relative: 0.8387\n",
      "With number_%_difference_normalized added, the MAP score on test set: 0.8387\n",
      "With number_&_difference added, the MAP score on test set: 0.8387\n",
      "With number_&_difference_relative added, the MAP score on test set: 0.8387\n",
      "With number_&_difference_normalized added, the MAP score on test set: 0.8387\n",
      "With number_'_difference added, the MAP score on test set: 0.8387\n",
      "Updated MAP score on test set with new feature number_'_difference: 0.8387\n",
      "With number_'_difference_relative added, the MAP score on test set: 0.8387\n",
      "Updated MAP score on test set with new feature number_'_difference_relative: 0.8387\n",
      "With number_'_difference_normalized added, the MAP score on test set: 0.8387\n",
      "With number_(_difference added, the MAP score on test set: 0.8384\n",
      "With number_(_difference_relative added, the MAP score on test set: 0.8332\n",
      "With number_(_difference_normalized added, the MAP score on test set: 0.8334\n",
      "With number_)_difference added, the MAP score on test set: 0.8384\n",
      "With number_)_difference_relative added, the MAP score on test set: 0.8332\n",
      "With number_)_difference_normalized added, the MAP score on test set: 0.8334\n",
      "With number_+_difference added, the MAP score on test set: 0.8387\n",
      "Updated MAP score on test set with new feature number_+_difference: 0.8387\n",
      "With number_+_difference_relative added, the MAP score on test set: 0.8387\n",
      "With number_+_difference_normalized added, the MAP score on test set: 0.8387\n",
      "With number_,_difference added, the MAP score on test set: 0.8192\n",
      "With number_,_difference_relative added, the MAP score on test set: 0.8141\n",
      "With number_,_difference_normalized added, the MAP score on test set: 0.8084\n",
      "With number_-_difference added, the MAP score on test set: 0.8387\n",
      "With number_-_difference_relative added, the MAP score on test set: 0.8387\n",
      "With number_-_difference_normalized added, the MAP score on test set: 0.8387\n",
      "With number_._difference added, the MAP score on test set: 0.8317\n",
      "With number_._difference_relative added, the MAP score on test set: 0.8387\n",
      "With number_._difference_normalized added, the MAP score on test set: 0.8236\n",
      "With number_/_difference added, the MAP score on test set: 0.8387\n",
      "With number_/_difference_relative added, the MAP score on test set: 0.8387\n",
      "With number_/_difference_normalized added, the MAP score on test set: 0.8387\n",
      "With number_:_difference added, the MAP score on test set: 0.8387\n",
      "With number_:_difference_relative added, the MAP score on test set: 0.8387\n",
      "With number_:_difference_normalized added, the MAP score on test set: 0.8387\n",
      "With number_;_difference added, the MAP score on test set: 0.8387\n",
      "With number_;_difference_relative added, the MAP score on test set: 0.8387\n",
      "With number_;_difference_normalized added, the MAP score on test set: 0.8387\n",
      "With number_?_difference added, the MAP score on test set: 0.8387\n",
      "With number_?_difference_relative added, the MAP score on test set: 0.8387\n",
      "With number_?_difference_normalized added, the MAP score on test set: 0.8387\n",
      "With number_[_difference added, the MAP score on test set: 0.8387\n",
      "Updated MAP score on test set with new feature number_[_difference: 0.8387\n",
      "With number_[_difference_relative added, the MAP score on test set: 0.8387\n",
      "Updated MAP score on test set with new feature number_[_difference_relative: 0.8387\n",
      "With number_[_difference_normalized added, the MAP score on test set: 0.8387\n",
      "With number_]_difference added, the MAP score on test set: 0.8387\n",
      "With number_]_difference_relative added, the MAP score on test set: 0.8387\n",
      "With number_]_difference_normalized added, the MAP score on test set: 0.8387\n",
      "With number_characters_difference added, the MAP score on test set: 0.8273\n",
      "With number_characters_difference_relative added, the MAP score on test set: 0.8120\n",
      "With number_characters_difference_normalized added, the MAP score on test set: 0.8342\n",
      "With characters_avg_difference added, the MAP score on test set: 0.8287\n",
      "With characters_avg_difference_relative added, the MAP score on test set: 0.8387\n",
      "With characters_avg_difference_normalized added, the MAP score on test set: 0.8333\n",
      "With number_ADJ_difference added, the MAP score on test set: 0.8183\n",
      "With number_ADJ_difference_relative added, the MAP score on test set: 0.8264\n",
      "With number_ADJ_difference_normalized added, the MAP score on test set: 0.8449\n",
      "Updated MAP score on test set with new feature number_ADJ_difference_normalized: 0.8449\n",
      "With number_NOUN_difference added, the MAP score on test set: 0.8281\n",
      "With number_NOUN_difference_relative added, the MAP score on test set: 0.8301\n",
      "With number_NOUN_difference_normalized added, the MAP score on test set: 0.8359\n",
      "With number_VERB_difference added, the MAP score on test set: 0.8265\n",
      "With number_VERB_difference_relative added, the MAP score on test set: 0.8268\n",
      "With number_VERB_difference_normalized added, the MAP score on test set: 0.8347\n",
      "With score_polarity_difference added, the MAP score on test set: 0.8224\n"
     ]
    },
    {
     "name": "stdout",
     "output_type": "stream",
     "text": [
      "With score_polarity_difference_relative added, the MAP score on test set: 0.8449\n",
      "With score_polarity_difference_normalized added, the MAP score on test set: 0.8063\n",
      "With score_subjectivity_difference added, the MAP score on test set: 0.8449\n",
      "With score_subjectivity_difference_relative added, the MAP score on test set: 0.8449\n",
      "Updated MAP score on test set with new feature score_subjectivity_difference_relative: 0.8449\n",
      "With score_subjectivity_difference_normalized added, the MAP score on test set: 0.8449\n"
     ]
    }
   ],
   "source": [
    "# lr = LogisticRegression(max_iter=100000, verbose=10, penalty=\"l2\", C=0.0001).fit(data_train.to_numpy(), target_train.to_numpy())\n",
    "# prediction = lr.predict_proba(data_test.to_numpy())\n",
    "# print(\"The MAP score on test set: {:.4f}\".format(MAP_score(feature_retrieval['source_id'],target_test,prediction)))\n",
    "scaler = preprocessing.StandardScaler()\n",
    "model = LogisticRegression(max_iter=100000,penalty=\"l2\", C=0.0001)\n",
    "feature_selection(model,scaler,feature_dataframe,feature_retrieval,keep_columns,features)"
   ]
  },
  {
   "cell_type": "code",
   "execution_count": 49,
   "metadata": {},
   "outputs": [
    {
     "name": "stdout",
     "output_type": "stream",
     "text": [
      "['jaccard_translation_proc_5k', 'jaccard_numbers_source', 'cosine_similarity_average_proc_5k', 'cosine_similarity_tf_idf_proc_5k', 'cosine_similarity_average_proc_b_1k', 'cosine_similarity_tf_idf_proc_b_1k', 'euclidean_distance_tf_idf_proc_b_1k', 'euclidean_distance_average_vecmap', 'euclidean_distance_tf_idf_vecmap', 'number_words_difference', 'number_!_difference_normalized', 'number_&_difference', 'number_-_difference', 'number_-_difference_relative', 'number_-_difference_normalized', 'number_._difference_relative', 'number_:_difference', 'number_:_difference_relative', 'number_:_difference_normalized', 'number_;_difference', 'number_;_difference_relative', 'number_?_difference', 'number_?_difference_relative', 'number_?_difference_normalized', 'characters_avg_difference_relative', 'score_subjectivity_difference', 'score_subjectivity_difference_normalized', 'euclidean_distance_tf_idf_proc_5k', 'euclidean_distance_average_proc_b_1k', 'cosine_similarity_average_vecmap', 'cosine_similarity_tf_idf_vecmap', 'jaccard_translation_vecmap', 'number_%_difference', 'number_%_difference_relative', \"number_'_difference\", \"number_'_difference_relative\", 'number_+_difference', 'number_[_difference', 'number_[_difference_relative', 'number_ADJ_difference_normalized', 'score_subjectivity_difference_relative']\n",
      "41\n",
      "The final MAP score on test set: 0.8449\n"
     ]
    }
   ],
   "source": [
    "print(keep_columns)\n",
    "print(len(keep_columns))\n",
    "data_train = feature_dataframe.filter(items=keep_columns)\n",
    "data_test = feature_retrieval.filter(items=keep_columns)\n",
    "# scale the features\n",
    "data_train[data_train.columns] = scaler.fit_transform(data_train[data_train.columns])\n",
    "data_test[data_test.columns] = scaler.transform(data_test[data_test.columns])\n",
    "# fit the model and get the initial MapScore\n",
    "modelfit = model.fit(data_train, target_train)\n",
    "prediction = modelfit.predict_proba(data_test)\n",
    "MapScore = MAP_score(feature_retrieval['source_id'], target_test, prediction)\n",
    "print(\"The final MAP score on test set: {:.4f}\".format(MapScore))"
   ]
  },
  {
   "cell_type": "code",
   "execution_count": 51,
   "metadata": {},
   "outputs": [],
   "source": [
    "final_set_LR=['jaccard_translation_proc_5k', 'jaccard_numbers_source', 'cosine_similarity_average_proc_5k', 'cosine_similarity_tf_idf_proc_5k', 'cosine_similarity_average_proc_b_1k', 'cosine_similarity_tf_idf_proc_b_1k', 'euclidean_distance_tf_idf_proc_b_1k', 'euclidean_distance_average_vecmap', 'euclidean_distance_tf_idf_vecmap', 'number_words_difference', 'number_!_difference_normalized', 'number_&_difference', 'number_-_difference', 'number_-_difference_relative', 'number_-_difference_normalized', 'number_._difference_relative', 'number_:_difference', 'number_:_difference_relative', 'number_:_difference_normalized', 'number_;_difference', 'number_;_difference_relative', 'number_?_difference', 'number_?_difference_relative', 'number_?_difference_normalized', 'characters_avg_difference_relative', 'score_subjectivity_difference', 'score_subjectivity_difference_normalized', 'euclidean_distance_tf_idf_proc_5k', 'euclidean_distance_average_proc_b_1k', 'cosine_similarity_average_vecmap', 'cosine_similarity_tf_idf_vecmap', 'jaccard_translation_vecmap', 'number_%_difference', 'number_%_difference_relative', \"number_'_difference\", \"number_'_difference_relative\", 'number_+_difference', 'number_[_difference', 'number_[_difference_relative', 'number_ADJ_difference_normalized', 'score_subjectivity_difference_relative']"
   ]
  },
  {
   "cell_type": "code",
   "execution_count": 61,
   "metadata": {},
   "outputs": [
    {
     "data": {
      "text/plain": [
       "array([10, 11, 12, 13, 14])"
      ]
     },
     "execution_count": 61,
     "metadata": {},
     "output_type": "execute_result"
    }
   ],
   "source": [
    "np.arange(10, 15)"
   ]
  },
  {
   "cell_type": "code",
   "execution_count": null,
   "metadata": {},
   "outputs": [],
   "source": []
  }
 ],
 "metadata": {
  "kernelspec": {
   "display_name": "Python 3",
   "language": "python",
   "name": "python3"
  },
  "language_info": {
   "codemirror_mode": {
    "name": "ipython",
    "version": 3
   },
   "file_extension": ".py",
   "mimetype": "text/x-python",
   "name": "python",
   "nbconvert_exporter": "python",
   "pygments_lexer": "ipython3",
   "version": "3.8.6"
  }
 },
 "nbformat": 4,
 "nbformat_minor": 4
}
