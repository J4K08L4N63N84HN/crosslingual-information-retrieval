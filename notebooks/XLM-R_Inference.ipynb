{
 "cells": [
  {
   "cell_type": "markdown",
   "metadata": {},
   "source": [
    "# Do Inference on the Retrieval Dataset and save the predictions"
   ]
  },
  {
   "cell_type": "code",
   "execution_count": null,
   "metadata": {
    "id": "mC0-TeoaqGKU"
   },
   "outputs": [],
   "source": [
    "#! pip3 install torch==1.5.0 transformers==3.4.0\n",
    "#! pip install pickle5\n",
    "#! pip install datasets\n",
    "#! pip install faiss-gpu cudatoolkit=10.0 -c pytorch"
   ]
  },
  {
   "cell_type": "code",
   "execution_count": null,
   "metadata": {
    "id": "alaUuScJp_DC"
   },
   "outputs": [],
   "source": [
    "import sys\n",
    "import os\n",
    "sys.path.append(os.path.dirname((os.path.abspath(''))))\n",
    " \n",
    "import pandas as pd\n",
    "import numpy as np\n",
    "import matplotlib.pyplot as plt\n",
    "from sklearn.metrics import accuracy_score, f1_score, precision_score, recall_score, log_loss\n",
    "from sklearn.model_selection import train_test_split\n",
    "import pickle5 as pickle\n",
    "from transformers import Trainer, TrainingArguments\n",
    "from transformers import AutoModelForSequenceClassificatio\n",
    "from src.models.predict_model import MAP_score\n",
    "from src.data.utils import get_sentence_pairs\n",
    "from src.models.train_text_encoder import Torch_dataset_mono, compute_metrics, predict_loop\n",
    "\n",
    "np.random.seed(42)\n",
    "\n",
    "#from google.colab import drive\n",
    "#drive.mount('/content/drive')"
   ]
  },
  {
   "cell_type": "code",
   "execution_count": null,
   "metadata": {
    "id": "GpeUAI3n6Vlp"
   },
   "outputs": [],
   "source": [
    "with open('../data/interim/europarl_en_it.pkl', \"rb\") as fh:\n",
    "    original_sentence_pairs = pickle.load(fh)\n",
    "\n",
    "feature_retrieval = pd.read_feather(\"../data/processed/feature_retrieval_en_it.feather\")\n",
    "feature_retrieval = feature_retrieval.rename(columns={\"id_source\": \"source_id\", \"id_target\": \"target_id\"})\n",
    "dataset_pairs = get_sentence_pairs(original_sentence_pairs, feature_retrieval)"
   ]
  },
  {
   "cell_type": "code",
   "execution_count": null,
   "metadata": {
    "id": "zVeZux4oM-CD"
   },
   "outputs": [],
   "source": [
    "model = AutoModelForSequenceClassification.from_pretrained(\"../model/model_weighted/checkpoint-19000\", num_labels=2)\n",
    "training_args = TrainingArguments(\"model\", per_device_eval_batch_size=32)\n",
    "trainer = Trainer(\n",
    "    args=training_args,\n",
    "    model=model,                         # the instantiated 🤗 Transformers model to be trained\n",
    "    #compute_metrics=compute_metrics\n",
    ")\n"
   ]
  },
  {
   "cell_type": "code",
   "execution_count": null,
   "metadata": {
    "id": "ERLxubpINxBQ"
   },
   "outputs": [],
   "source": [
    "predict_loop(trainer, dataset_pairs, \"../model/predictions_weighted_en_it\",save_steps=50000)"
   ]
  }
 ],
 "metadata": {
  "accelerator": "GPU",
  "colab": {
   "collapsed_sections": [],
   "name": "evaluation_xlmr.ipynb",
   "private_outputs": true,
   "provenance": []
  },
  "kernelspec": {
   "display_name": "Python 3",
   "language": "python",
   "name": "python3"
  },
  "language_info": {
   "codemirror_mode": {
    "name": "ipython",
    "version": 3
   },
   "file_extension": ".py",
   "mimetype": "text/x-python",
   "name": "python",
   "nbconvert_exporter": "python",
   "pygments_lexer": "ipython3",
   "version": "3.6.12"
  }
 },
 "nbformat": 4,
 "nbformat_minor": 1
}
