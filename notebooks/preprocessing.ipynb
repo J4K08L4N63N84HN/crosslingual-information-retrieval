{
 "cells": [
  {
   "cell_type": "code",
   "execution_count": 1,
   "metadata": {},
   "outputs": [],
   "source": [
    "import pandas as pd\n",
    "import numpy as np\n",
    "from src.data.import_data import import_data\n",
    "from src.data.clean_data import data_cleansing\n",
    "from src.features.build_features import feature_generation\n",
    "from src.data.make_dataset import get_sample"
   ]
  },
  {
   "cell_type": "markdown",
   "metadata": {},
   "source": [
    "#### Load data into Dataframe"
   ]
  },
  {
   "cell_type": "code",
   "execution_count": 2,
   "metadata": {},
   "outputs": [],
   "source": [
    "# import data\n",
    "df=import_data()"
   ]
  },
  {
   "cell_type": "code",
   "execution_count": 3,
   "metadata": {},
   "outputs": [],
   "source": [
    "#df_sample=get_sample(df,300000)"
   ]
  },
  {
   "cell_type": "markdown",
   "metadata": {},
   "source": [
    "#### select 300.000 entries and denote them with 1 for right translation, then take the next 300.000 entries and shift the lines, so that we have negative examples, afterwards denote them by one"
   ]
  },
  {
   "cell_type": "code",
   "execution_count": 4,
   "metadata": {},
   "outputs": [],
   "source": [
    "#df_sample"
   ]
  },
  {
   "cell_type": "markdown",
   "metadata": {},
   "source": [
    "#### Data Cleansing: Tokenize by white spaces, lowercase, stopword removal"
   ]
  },
  {
   "cell_type": "code",
   "execution_count": 5,
   "metadata": {
    "pycharm": {
     "is_executing": true
    }
   },
   "outputs": [],
   "source": [
    "### get first 10.000 entries to test and get features\n",
    "df_selected = df.sort_index().loc[0:10000]"
   ]
  },
  {
   "cell_type": "code",
   "execution_count": 6,
   "metadata": {
    "pycharm": {
     "is_executing": true
    }
   },
   "outputs": [
    {
     "data": {
      "text/html": [
       "<div>\n",
       "<style scoped>\n",
       "    .dataframe tbody tr th:only-of-type {\n",
       "        vertical-align: middle;\n",
       "    }\n",
       "\n",
       "    .dataframe tbody tr th {\n",
       "        vertical-align: top;\n",
       "    }\n",
       "\n",
       "    .dataframe thead th {\n",
       "        text-align: right;\n",
       "    }\n",
       "</style>\n",
       "<table border=\"1\" class=\"dataframe\">\n",
       "  <thead>\n",
       "    <tr style=\"text-align: right;\">\n",
       "      <th></th>\n",
       "      <th>English</th>\n",
       "      <th>German</th>\n",
       "    </tr>\n",
       "  </thead>\n",
       "  <tbody>\n",
       "    <tr>\n",
       "      <th>0</th>\n",
       "      <td>Resumption of the session</td>\n",
       "      <td>Wiederaufnahme der Sitzungsperiode</td>\n",
       "    </tr>\n",
       "    <tr>\n",
       "      <th>1</th>\n",
       "      <td>I declare resumed the session of the European Parliament adjourned on Friday 17 December 1999, and I would like once again to wish you a happy new year in the hope that you enjoyed a pleasant fest...</td>\n",
       "      <td>Ich erkläre die am Freitag, dem 17. Dezember unterbrochene Sitzungsperiode des Europäischen Parlaments für wiederaufgenommen, wünsche Ihnen nochmals alles Gute zum Jahreswechsel und hoffe, daß Sie...</td>\n",
       "    </tr>\n",
       "    <tr>\n",
       "      <th>2</th>\n",
       "      <td>Although, as you will have seen, the dreaded 'millennium bug' failed to materialise, still the people in a number of countries suffered a series of natural disasters that truly were dreadful.</td>\n",
       "      <td>Wie Sie feststellen konnten, ist der gefürchtete \"Millenium-Bug \" nicht eingetreten. Doch sind Bürger einiger unserer Mitgliedstaaten Opfer von schrecklichen Naturkatastrophen geworden.</td>\n",
       "    </tr>\n",
       "    <tr>\n",
       "      <th>3</th>\n",
       "      <td>You have requested a debate on this subject in the course of the next few days, during this part-session.</td>\n",
       "      <td>Im Parlament besteht der Wunsch nach einer Aussprache im Verlauf dieser Sitzungsperiode in den nächsten Tagen.</td>\n",
       "    </tr>\n",
       "    <tr>\n",
       "      <th>4</th>\n",
       "      <td>In the meantime, I should like to observe a minute' s silence, as a number of Members have requested, on behalf of all the victims concerned, particularly those of the terrible storms, in the vari...</td>\n",
       "      <td>Heute möchte ich Sie bitten - das ist auch der Wunsch einiger Kolleginnen und Kollegen -, allen Opfern der Stürme, insbesondere in den verschiedenen Ländern der Europäischen Union, in einer Schwei...</td>\n",
       "    </tr>\n",
       "    <tr>\n",
       "      <th>...</th>\n",
       "      <td>...</td>\n",
       "      <td>...</td>\n",
       "    </tr>\n",
       "    <tr>\n",
       "      <th>95</th>\n",
       "      <td>There was a vote on this matter.</td>\n",
       "      <td>Es gab eine Abstimmung zu diesem Punkt.</td>\n",
       "    </tr>\n",
       "    <tr>\n",
       "      <th>96</th>\n",
       "      <td>As I recall, the outcome of this vote was 422 votes to 180 with a few abstentions.</td>\n",
       "      <td>Diese Abstimmung ist meiner Erinnerung nach so ausgegangen: 422 gegen 180 Stimmen bei einigen wenigen Enthaltungen.</td>\n",
       "    </tr>\n",
       "    <tr>\n",
       "      <th>97</th>\n",
       "      <td>This means that all the Groups with the exception of the non-attached Members - but, of course, they are not a Group - were in agreement; only your Group thought that we should proceed as you have...</td>\n",
       "      <td>Das heißt, alle Fraktionen, mit Ausnahme der Fraktionslosen - aber die sind ja keine Fraktion - waren sich einig, nur Ihre Fraktion war der Meinung, so zu verfahren, wie Sie es hier vorgeschlagen ...</td>\n",
       "    </tr>\n",
       "    <tr>\n",
       "      <th>98</th>\n",
       "      <td>All of the others were of a different opinion.</td>\n",
       "      <td>Alle anderen waren anderer Meinung.</td>\n",
       "    </tr>\n",
       "    <tr>\n",
       "      <th>99</th>\n",
       "      <td>That was the decision.</td>\n",
       "      <td>Das war der Beschluß.</td>\n",
       "    </tr>\n",
       "  </tbody>\n",
       "</table>\n",
       "<p>100 rows × 2 columns</p>\n",
       "</div>"
      ],
      "text/plain": [
       "                                                                                                                                                                                                    English  \\\n",
       "0                                                                                                                                                                                 Resumption of the session   \n",
       "1   I declare resumed the session of the European Parliament adjourned on Friday 17 December 1999, and I would like once again to wish you a happy new year in the hope that you enjoyed a pleasant fest...   \n",
       "2           Although, as you will have seen, the dreaded 'millennium bug' failed to materialise, still the people in a number of countries suffered a series of natural disasters that truly were dreadful.   \n",
       "3                                                                                                 You have requested a debate on this subject in the course of the next few days, during this part-session.   \n",
       "4   In the meantime, I should like to observe a minute' s silence, as a number of Members have requested, on behalf of all the victims concerned, particularly those of the terrible storms, in the vari...   \n",
       "..                                                                                                                                                                                                      ...   \n",
       "95                                                                                                                                                                         There was a vote on this matter.   \n",
       "96                                                                                                                       As I recall, the outcome of this vote was 422 votes to 180 with a few abstentions.   \n",
       "97  This means that all the Groups with the exception of the non-attached Members - but, of course, they are not a Group - were in agreement; only your Group thought that we should proceed as you have...   \n",
       "98                                                                                                                                                           All of the others were of a different opinion.   \n",
       "99                                                                                                                                                                                   That was the decision.   \n",
       "\n",
       "                                                                                                                                                                                                     German  \n",
       "0                                                                                                                                                                        Wiederaufnahme der Sitzungsperiode  \n",
       "1   Ich erkläre die am Freitag, dem 17. Dezember unterbrochene Sitzungsperiode des Europäischen Parlaments für wiederaufgenommen, wünsche Ihnen nochmals alles Gute zum Jahreswechsel und hoffe, daß Sie...  \n",
       "2                 Wie Sie feststellen konnten, ist der gefürchtete \"Millenium-Bug \" nicht eingetreten. Doch sind Bürger einiger unserer Mitgliedstaaten Opfer von schrecklichen Naturkatastrophen geworden.  \n",
       "3                                                                                            Im Parlament besteht der Wunsch nach einer Aussprache im Verlauf dieser Sitzungsperiode in den nächsten Tagen.  \n",
       "4   Heute möchte ich Sie bitten - das ist auch der Wunsch einiger Kolleginnen und Kollegen -, allen Opfern der Stürme, insbesondere in den verschiedenen Ländern der Europäischen Union, in einer Schwei...  \n",
       "..                                                                                                                                                                                                      ...  \n",
       "95                                                                                                                                                                  Es gab eine Abstimmung zu diesem Punkt.  \n",
       "96                                                                                      Diese Abstimmung ist meiner Erinnerung nach so ausgegangen: 422 gegen 180 Stimmen bei einigen wenigen Enthaltungen.  \n",
       "97  Das heißt, alle Fraktionen, mit Ausnahme der Fraktionslosen - aber die sind ja keine Fraktion - waren sich einig, nur Ihre Fraktion war der Meinung, so zu verfahren, wie Sie es hier vorgeschlagen ...  \n",
       "98                                                                                                                                                                      Alle anderen waren anderer Meinung.  \n",
       "99                                                                                                                                                                                    Das war der Beschluß.  \n",
       "\n",
       "[100 rows x 2 columns]"
      ]
     },
     "execution_count": 6,
     "metadata": {},
     "output_type": "execute_result"
    }
   ],
   "source": [
    "pd.set_option('display.max_colwidth', 200)\n",
    "pd.set_option('display.max_columns', None)\n",
    "df_selected.head(100)"
   ]
  },
  {
   "cell_type": "code",
   "execution_count": 7,
   "metadata": {
    "pycharm": {
     "is_executing": true
    }
   },
   "outputs": [],
   "source": [
    "df_sel=data_cleansing(df_selected)"
   ]
  },
  {
   "cell_type": "code",
   "execution_count": 8,
   "metadata": {
    "pycharm": {
     "is_executing": true
    }
   },
   "outputs": [
    {
     "data": {
      "text/html": [
       "<div>\n",
       "<style scoped>\n",
       "    .dataframe tbody tr th:only-of-type {\n",
       "        vertical-align: middle;\n",
       "    }\n",
       "\n",
       "    .dataframe tbody tr th {\n",
       "        vertical-align: top;\n",
       "    }\n",
       "\n",
       "    .dataframe thead th {\n",
       "        text-align: right;\n",
       "    }\n",
       "</style>\n",
       "<table border=\"1\" class=\"dataframe\">\n",
       "  <thead>\n",
       "    <tr style=\"text-align: right;\">\n",
       "      <th></th>\n",
       "      <th>English</th>\n",
       "      <th>German</th>\n",
       "      <th>English_orig</th>\n",
       "      <th>German_orig</th>\n",
       "      <th>SWords_dif</th>\n",
       "      <th>SWords_dif_rel</th>\n",
       "      <th>SWords_dif_normal</th>\n",
       "    </tr>\n",
       "  </thead>\n",
       "  <tbody>\n",
       "    <tr>\n",
       "      <th>0</th>\n",
       "      <td>[resumption, session]</td>\n",
       "      <td>[wiederaufnahme, sitzungsperiode]</td>\n",
       "      <td>Resumption of the session</td>\n",
       "      <td>Wiederaufnahme der Sitzungsperiode</td>\n",
       "      <td>-1</td>\n",
       "      <td>-0.500000</td>\n",
       "      <td>-0.166667</td>\n",
       "    </tr>\n",
       "    <tr>\n",
       "      <th>1</th>\n",
       "      <td>[declare, resumed, session, european, parliament, adjourned, friday, 17, december, 1999, ,, would, like, wish, happy, new, year, hope, enjoyed, pleasant, festive, period, .]</td>\n",
       "      <td>[erkläre, freitag, ,, 17., dezember, unterbrochene, sitzungsperiode, europäischen, parlaments, wiederaufgenommen, ,, wünsche, nochmals, gute, jahreswechsel, hoffe, ,, schöne, ferien, .]</td>\n",
       "      <td>I declare resumed the session of the European Parliament adjourned on Friday 17 December 1999, and I would like once again to wish you a happy new year in the hope that you enjoyed a pleasant fest...</td>\n",
       "      <td>Ich erkläre die am Freitag, dem 17. Dezember unterbrochene Sitzungsperiode des Europäischen Parlaments für wiederaufgenommen, wünsche Ihnen nochmals alles Gute zum Jahreswechsel und hoffe, daß Sie...</td>\n",
       "      <td>-4</td>\n",
       "      <td>-0.235294</td>\n",
       "      <td>-0.031061</td>\n",
       "    </tr>\n",
       "    <tr>\n",
       "      <th>2</th>\n",
       "      <td>[although, ,, seen, ,, dreaded, 'millennium, bug, ', failed, materialise, ,, still, people, number, countries, suffered, series, natural, disasters, truly, dreadful, .]</td>\n",
       "      <td>[feststellen, konnten, ,, gefürchtete, ``, millenium-bug, ``, eingetreten, ., bürger, unserer, mitgliedstaaten, opfer, schrecklichen, naturkatastrophen, geworden, .]</td>\n",
       "      <td>Although, as you will have seen, the dreaded 'millennium bug' failed to materialise, still the people in a number of countries suffered a series of natural disasters that truly were dreadful.</td>\n",
       "      <td>Wie Sie feststellen konnten, ist der gefürchtete \"Millenium-Bug \" nicht eingetreten. Doch sind Bürger einiger unserer Mitgliedstaaten Opfer von schrecklichen Naturkatastrophen geworden.</td>\n",
       "      <td>-5</td>\n",
       "      <td>-0.357143</td>\n",
       "      <td>-0.042735</td>\n",
       "    </tr>\n",
       "    <tr>\n",
       "      <th>3</th>\n",
       "      <td>[requested, debate, subject, course, next, days, ,, part-session, .]</td>\n",
       "      <td>[parlament, besteht, wunsch, aussprache, verlauf, sitzungsperiode, nächsten, tagen, .]</td>\n",
       "      <td>You have requested a debate on this subject in the course of the next few days, during this part-session.</td>\n",
       "      <td>Im Parlament besteht der Wunsch nach einer Aussprache im Verlauf dieser Sitzungsperiode in den nächsten Tagen.</td>\n",
       "      <td>-4</td>\n",
       "      <td>-0.333333</td>\n",
       "      <td>-0.100840</td>\n",
       "    </tr>\n",
       "    <tr>\n",
       "      <th>4</th>\n",
       "      <td>[meantime, ,, like, observe, minute, ', silence, ,, number, members, requested, ,, behalf, victims, concerned, ,, particularly, terrible, storms, ,, various, countries, european, union, .]</td>\n",
       "      <td>[heute, möchte, bitten, -, wunsch, kolleginnen, kollegen, -, ,, opfern, stürme, ,, insbesondere, verschiedenen, ländern, europäischen, union, ,, schweigeminute, gedenken, .]</td>\n",
       "      <td>In the meantime, I should like to observe a minute' s silence, as a number of Members have requested, on behalf of all the victims concerned, particularly those of the terrible storms, in the vari...</td>\n",
       "      <td>Heute möchte ich Sie bitten - das ist auch der Wunsch einiger Kolleginnen und Kollegen -, allen Opfern der Stürme, insbesondere in den verschiedenen Ländern der Europäischen Union, in einer Schwei...</td>\n",
       "      <td>-6</td>\n",
       "      <td>-0.272727</td>\n",
       "      <td>-0.035653</td>\n",
       "    </tr>\n",
       "    <tr>\n",
       "      <th>...</th>\n",
       "      <td>...</td>\n",
       "      <td>...</td>\n",
       "      <td>...</td>\n",
       "      <td>...</td>\n",
       "      <td>...</td>\n",
       "      <td>...</td>\n",
       "      <td>...</td>\n",
       "    </tr>\n",
       "    <tr>\n",
       "      <th>9996</th>\n",
       "      <td>[example, ,, accept, new, roads, accept, new, pollution, within, european, union, ., goes, totally, policies, proposing, fight, greenhouse, gas, emissions, ,, example, .]</td>\n",
       "      <td>[beispiel, neue, straßen, akzeptiert, ,, akzeptiert, neue, immissionen, europäischen, union, ,, widerspricht, völlig, politik, ,, z, ., b., bekämpfung, emission, treibhausgasen, vorschlagen, .]</td>\n",
       "      <td>For example, to accept new roads is to accept new pollution within the European Union. This goes totally against the policies which we are proposing to fight greenhouse gas emissions, for example.</td>\n",
       "      <td>Wenn man zum Beispiel neue Straßen akzeptiert, dann akzeptiert man neue Immissionen in der Europäischen Union, und dies widerspricht völlig der Politik, die wir z. B. zur Bekämpfung der Emission v...</td>\n",
       "      <td>2</td>\n",
       "      <td>0.153846</td>\n",
       "      <td>0.033626</td>\n",
       "    </tr>\n",
       "    <tr>\n",
       "      <th>9997</th>\n",
       "      <td>[would, also, ask, commission, ensure, environmental, pillar, eu, ', policy, integrated, projects, submitted, goal, reducing, co2, example, forms, experimental, added, value, projects, proposed, .]</td>\n",
       "      <td>[fordere, ,, kommission, projektauswahl, darauf, achtet, ,, umweltpolitische, säule, eu-politik, projekte, integriert, ,, z, ., b., ziel, co2-reduktion, spezieller, mehrwert, vorgeschlagenen, proj...</td>\n",
       "      <td>I would also ask the Commission to ensure that the environmental pillar of the EU' s policy is integrated into the projects submitted and that the goal of reducing CO2 for example forms an experim...</td>\n",
       "      <td>Ich fordere auch, daß die Kommission bei der Projektauswahl darauf achtet, daß die umweltpolitische Säule der EU-Politik in diese Projekte integriert wird, damit z. B. das Ziel der CO2-Reduktion a...</td>\n",
       "      <td>0</td>\n",
       "      <td>0.000000</td>\n",
       "      <td>0.000000</td>\n",
       "    </tr>\n",
       "    <tr>\n",
       "      <th>9998</th>\n",
       "      <td>[particularly, thinking, respect, certain, infrastructures, construction, .]</td>\n",
       "      <td>[denke, dabei, besonders, bestimmte, planung, befindliche, infrastrukturen, .]</td>\n",
       "      <td>I am particularly thinking in this respect of certain infrastructures which are under construction.</td>\n",
       "      <td>Ich denke dabei besonders an bestimmte in der Planung befindliche Infrastrukturen.</td>\n",
       "      <td>-4</td>\n",
       "      <td>-0.500000</td>\n",
       "      <td>-0.200000</td>\n",
       "    </tr>\n",
       "    <tr>\n",
       "      <th>9999</th>\n",
       "      <td>[know, member, states, still, wavering, ,, example, ,, rail, road, routes, vulnerable, areas, pyrenees, ,, aspe, valley, .]</td>\n",
       "      <td>[bekanntlich, mitgliedstaaten, bahn, straße, durchquerung, anfälligen, gebieten, pyrenäen, speziell, aspe-tals, entschieden, .]</td>\n",
       "      <td>We know that some Member States are still wavering, for example, between rail and road for routes through vulnerable areas such as the Pyrenees, as in the Aspe valley.</td>\n",
       "      <td>Bekanntlich haben sich einige Mitgliedstaaten noch nicht zwischen Bahn und Straße für die Durchquerung von anfälligen Gebieten wie den Pyrenäen und hier speziell des Aspe-Tals entschieden.</td>\n",
       "      <td>0</td>\n",
       "      <td>0.000000</td>\n",
       "      <td>0.101010</td>\n",
       "    </tr>\n",
       "    <tr>\n",
       "      <th>10000</th>\n",
       "      <td>[however, ,, also, thinking, region, government, still, debating, whether, route, railway, build, second, motorway, ,, a32, .]</td>\n",
       "      <td>[denke, region, ,, mitgliedstaat, eisenbahnstrecke, zweiten, autobahn, ,, a, 32, ,, schwankt, .]</td>\n",
       "      <td>However, I am also thinking of my own region where my government is still debating whether to route the railway or to build a second motorway, the A32.</td>\n",
       "      <td>Ich denke auch an meine Region, wo mein Mitgliedstaat noch zwischen einer Eisenbahnstrecke und einer zweiten Autobahn, der A 32, schwankt.</td>\n",
       "      <td>-2</td>\n",
       "      <td>-0.142857</td>\n",
       "      <td>0.028387</td>\n",
       "    </tr>\n",
       "  </tbody>\n",
       "</table>\n",
       "<p>10001 rows × 7 columns</p>\n",
       "</div>"
      ],
      "text/plain": [
       "                                                                                                                                                                                                     English  \\\n",
       "0                                                                                                                                                                                      [resumption, session]   \n",
       "1                              [declare, resumed, session, european, parliament, adjourned, friday, 17, december, 1999, ,, would, like, wish, happy, new, year, hope, enjoyed, pleasant, festive, period, .]   \n",
       "2                                   [although, ,, seen, ,, dreaded, 'millennium, bug, ', failed, materialise, ,, still, people, number, countries, suffered, series, natural, disasters, truly, dreadful, .]   \n",
       "3                                                                                                                                       [requested, debate, subject, course, next, days, ,, part-session, .]   \n",
       "4               [meantime, ,, like, observe, minute, ', silence, ,, number, members, requested, ,, behalf, victims, concerned, ,, particularly, terrible, storms, ,, various, countries, european, union, .]   \n",
       "...                                                                                                                                                                                                      ...   \n",
       "9996                              [example, ,, accept, new, roads, accept, new, pollution, within, european, union, ., goes, totally, policies, proposing, fight, greenhouse, gas, emissions, ,, example, .]   \n",
       "9997   [would, also, ask, commission, ensure, environmental, pillar, eu, ', policy, integrated, projects, submitted, goal, reducing, co2, example, forms, experimental, added, value, projects, proposed, .]   \n",
       "9998                                                                                                                            [particularly, thinking, respect, certain, infrastructures, construction, .]   \n",
       "9999                                                                             [know, member, states, still, wavering, ,, example, ,, rail, road, routes, vulnerable, areas, pyrenees, ,, aspe, valley, .]   \n",
       "10000                                                                         [however, ,, also, thinking, region, government, still, debating, whether, route, railway, build, second, motorway, ,, a32, .]   \n",
       "\n",
       "                                                                                                                                                                                                        German  \\\n",
       "0                                                                                                                                                                            [wiederaufnahme, sitzungsperiode]   \n",
       "1                    [erkläre, freitag, ,, 17., dezember, unterbrochene, sitzungsperiode, europäischen, parlaments, wiederaufgenommen, ,, wünsche, nochmals, gute, jahreswechsel, hoffe, ,, schöne, ferien, .]   \n",
       "2                                        [feststellen, konnten, ,, gefürchtete, ``, millenium-bug, ``, eingetreten, ., bürger, unserer, mitgliedstaaten, opfer, schrecklichen, naturkatastrophen, geworden, .]   \n",
       "3                                                                                                                       [parlament, besteht, wunsch, aussprache, verlauf, sitzungsperiode, nächsten, tagen, .]   \n",
       "4                                [heute, möchte, bitten, -, wunsch, kolleginnen, kollegen, -, ,, opfern, stürme, ,, insbesondere, verschiedenen, ländern, europäischen, union, ,, schweigeminute, gedenken, .]   \n",
       "...                                                                                                                                                                                                        ...   \n",
       "9996         [beispiel, neue, straßen, akzeptiert, ,, akzeptiert, neue, immissionen, europäischen, union, ,, widerspricht, völlig, politik, ,, z, ., b., bekämpfung, emission, treibhausgasen, vorschlagen, .]   \n",
       "9997   [fordere, ,, kommission, projektauswahl, darauf, achtet, ,, umweltpolitische, säule, eu-politik, projekte, integriert, ,, z, ., b., ziel, co2-reduktion, spezieller, mehrwert, vorgeschlagenen, proj...   \n",
       "9998                                                                                                                            [denke, dabei, besonders, bestimmte, planung, befindliche, infrastrukturen, .]   \n",
       "9999                                                                           [bekanntlich, mitgliedstaaten, bahn, straße, durchquerung, anfälligen, gebieten, pyrenäen, speziell, aspe-tals, entschieden, .]   \n",
       "10000                                                                                                         [denke, region, ,, mitgliedstaat, eisenbahnstrecke, zweiten, autobahn, ,, a, 32, ,, schwankt, .]   \n",
       "\n",
       "                                                                                                                                                                                                  English_orig  \\\n",
       "0                                                                                                                                                                                    Resumption of the session   \n",
       "1      I declare resumed the session of the European Parliament adjourned on Friday 17 December 1999, and I would like once again to wish you a happy new year in the hope that you enjoyed a pleasant fest...   \n",
       "2              Although, as you will have seen, the dreaded 'millennium bug' failed to materialise, still the people in a number of countries suffered a series of natural disasters that truly were dreadful.   \n",
       "3                                                                                                    You have requested a debate on this subject in the course of the next few days, during this part-session.   \n",
       "4      In the meantime, I should like to observe a minute' s silence, as a number of Members have requested, on behalf of all the victims concerned, particularly those of the terrible storms, in the vari...   \n",
       "...                                                                                                                                                                                                        ...   \n",
       "9996      For example, to accept new roads is to accept new pollution within the European Union. This goes totally against the policies which we are proposing to fight greenhouse gas emissions, for example.   \n",
       "9997   I would also ask the Commission to ensure that the environmental pillar of the EU' s policy is integrated into the projects submitted and that the goal of reducing CO2 for example forms an experim...   \n",
       "9998                                                                                                       I am particularly thinking in this respect of certain infrastructures which are under construction.   \n",
       "9999                                   We know that some Member States are still wavering, for example, between rail and road for routes through vulnerable areas such as the Pyrenees, as in the Aspe valley.   \n",
       "10000                                                  However, I am also thinking of my own region where my government is still debating whether to route the railway or to build a second motorway, the A32.   \n",
       "\n",
       "                                                                                                                                                                                                   German_orig  \\\n",
       "0                                                                                                                                                                           Wiederaufnahme der Sitzungsperiode   \n",
       "1      Ich erkläre die am Freitag, dem 17. Dezember unterbrochene Sitzungsperiode des Europäischen Parlaments für wiederaufgenommen, wünsche Ihnen nochmals alles Gute zum Jahreswechsel und hoffe, daß Sie...   \n",
       "2                    Wie Sie feststellen konnten, ist der gefürchtete \"Millenium-Bug \" nicht eingetreten. Doch sind Bürger einiger unserer Mitgliedstaaten Opfer von schrecklichen Naturkatastrophen geworden.   \n",
       "3                                                                                               Im Parlament besteht der Wunsch nach einer Aussprache im Verlauf dieser Sitzungsperiode in den nächsten Tagen.   \n",
       "4      Heute möchte ich Sie bitten - das ist auch der Wunsch einiger Kolleginnen und Kollegen -, allen Opfern der Stürme, insbesondere in den verschiedenen Ländern der Europäischen Union, in einer Schwei...   \n",
       "...                                                                                                                                                                                                        ...   \n",
       "9996   Wenn man zum Beispiel neue Straßen akzeptiert, dann akzeptiert man neue Immissionen in der Europäischen Union, und dies widerspricht völlig der Politik, die wir z. B. zur Bekämpfung der Emission v...   \n",
       "9997   Ich fordere auch, daß die Kommission bei der Projektauswahl darauf achtet, daß die umweltpolitische Säule der EU-Politik in diese Projekte integriert wird, damit z. B. das Ziel der CO2-Reduktion a...   \n",
       "9998                                                                                                                        Ich denke dabei besonders an bestimmte in der Planung befindliche Infrastrukturen.   \n",
       "9999              Bekanntlich haben sich einige Mitgliedstaaten noch nicht zwischen Bahn und Straße für die Durchquerung von anfälligen Gebieten wie den Pyrenäen und hier speziell des Aspe-Tals entschieden.   \n",
       "10000                                                               Ich denke auch an meine Region, wo mein Mitgliedstaat noch zwischen einer Eisenbahnstrecke und einer zweiten Autobahn, der A 32, schwankt.   \n",
       "\n",
       "       SWords_dif  SWords_dif_rel  SWords_dif_normal  \n",
       "0              -1       -0.500000          -0.166667  \n",
       "1              -4       -0.235294          -0.031061  \n",
       "2              -5       -0.357143          -0.042735  \n",
       "3              -4       -0.333333          -0.100840  \n",
       "4              -6       -0.272727          -0.035653  \n",
       "...           ...             ...                ...  \n",
       "9996            2        0.153846           0.033626  \n",
       "9997            0        0.000000           0.000000  \n",
       "9998           -4       -0.500000          -0.200000  \n",
       "9999            0        0.000000           0.101010  \n",
       "10000          -2       -0.142857           0.028387  \n",
       "\n",
       "[10001 rows x 7 columns]"
      ]
     },
     "execution_count": 8,
     "metadata": {},
     "output_type": "execute_result"
    }
   ],
   "source": [
    "df_sel"
   ]
  },
  {
   "cell_type": "markdown",
   "metadata": {},
   "source": [
    "#### Feature Generation"
   ]
  },
  {
   "cell_type": "code",
   "execution_count": null,
   "metadata": {
    "pycharm": {
     "is_executing": true
    }
   },
   "outputs": [],
   "source": [
    "df_selected=feature_generation(df_sel)"
   ]
  },
  {
   "cell_type": "code",
   "execution_count": null,
   "metadata": {
    "pycharm": {
     "is_executing": true
    }
   },
   "outputs": [],
   "source": [
    "df_selected"
   ]
  },
  {
   "cell_type": "markdown",
   "metadata": {},
   "source": [
    "### Add direct translation of German to English and English to German"
   ]
  },
  {
   "cell_type": "markdown",
   "metadata": {},
   "source": [
    "Die Übersetzung ist ein krasser Zeitaufwand und daher vorerst mit diesen Package nicht feasible."
   ]
  },
  {
   "cell_type": "code",
   "execution_count": 23,
   "metadata": {
    "pycharm": {
     "is_executing": true
    }
   },
   "outputs": [],
   "source": [
    "# import data\n",
    "df = import_data()\n",
    "df_selected = df.sort_index().loc[0:10000]"
   ]
  },
  {
   "cell_type": "code",
   "execution_count": null,
   "metadata": {
    "pycharm": {
     "is_executing": true
    }
   },
   "outputs": [],
   "source": [
    "import googletrans\n",
    "from googletrans import Translator\n",
    "translator = Translator()"
   ]
  },
  {
   "cell_type": "code",
   "execution_count": null,
   "metadata": {
    "pycharm": {
     "is_executing": true
    }
   },
   "outputs": [],
   "source": [
    "# df_selected[\"English_to_German\"] = df_selected[\"English\"].apply(lambda text: translator.translate(text, src=\"en\", dest='de').text)"
   ]
  },
  {
   "cell_type": "code",
   "execution_count": null,
   "metadata": {
    "pycharm": {
     "is_executing": true
    }
   },
   "outputs": [],
   "source": [
    "# df_selected[\"German_to_English\"] = df_selected[\"English\"].apply(lambda text: translator.translate(text, src=\"en\", dest='de').text)"
   ]
  },
  {
   "cell_type": "markdown",
   "metadata": {},
   "source": [
    "### Add segment analysis for german and english"
   ]
  },
  {
   "cell_type": "markdown",
   "metadata": {},
   "source": [
    "### Add Named Entity Recognition"
   ]
  },
  {
   "cell_type": "code",
   "execution_count": 17,
   "metadata": {
    "pycharm": {
     "is_executing": true
    }
   },
   "outputs": [],
   "source": [
    "import spacy\n",
    "nlp_en = spacy.load(\"en_core_web_sm\")\n",
    "nlp_de = spacy.load(\"de_core_news_sm\")"
   ]
  },
  {
   "cell_type": "code",
   "execution_count": 18,
   "metadata": {
    "pycharm": {
     "is_executing": true
    }
   },
   "outputs": [],
   "source": [
    "def get_ner_text_en(text):\n",
    "    doc = nlp_en(text)\n",
    "    test = []\n",
    "    for ent in doc.ents:\n",
    "        test.append([ent.text,  ent.label_])\n",
    "    return test"
   ]
  },
  {
   "cell_type": "code",
   "execution_count": 19,
   "metadata": {
    "pycharm": {
     "is_executing": true
    }
   },
   "outputs": [],
   "source": [
    "def get_ner_text_de(text):\n",
    "    doc = nlp_de(text)\n",
    "    test = []\n",
    "    for ent in doc.ents:\n",
    "        test.append([ent.text,  ent.label_])\n",
    "    return test"
   ]
  },
  {
   "cell_type": "code",
   "execution_count": 22,
   "metadata": {
    "pycharm": {
     "is_executing": true
    }
   },
   "outputs": [],
   "source": [
    "df_selected[\"English_NER\"] = df_selected.English_orig.apply(lambda x: get_ner_text_en(x))\n",
    "df_selected[\"German_NER\"] = df_selected.German_orig.apply(lambda x: get_ner_text_de(x))"
   ]
  },
  {
   "cell_type": "markdown",
   "metadata": {},
   "source": [
    "#### Müssen uns überlegen, wie wir die Entities vergleichen wollen, weil in Englisch deutlich, deutlich mehr gelabelt wird(>10) als in Deutsch (4)"
   ]
  },
  {
   "cell_type": "code",
   "execution_count": 23,
   "metadata": {
    "pycharm": {
     "is_executing": true
    }
   },
   "outputs": [
    {
     "data": {
      "text/html": [
       "<div>\n",
       "<style scoped>\n",
       "    .dataframe tbody tr th:only-of-type {\n",
       "        vertical-align: middle;\n",
       "    }\n",
       "\n",
       "    .dataframe tbody tr th {\n",
       "        vertical-align: top;\n",
       "    }\n",
       "\n",
       "    .dataframe thead th {\n",
       "        text-align: right;\n",
       "    }\n",
       "</style>\n",
       "<table border=\"1\" class=\"dataframe\">\n",
       "  <thead>\n",
       "    <tr style=\"text-align: right;\">\n",
       "      <th></th>\n",
       "      <th>English</th>\n",
       "      <th>German</th>\n",
       "      <th>English_orig</th>\n",
       "      <th>German_orig</th>\n",
       "      <th>SWords_eng</th>\n",
       "      <th>SWords_ger</th>\n",
       "      <th>SWords_dif</th>\n",
       "      <th>SWords_dif_rel</th>\n",
       "      <th>SWords_dif_normal</th>\n",
       "      <th>Polarity_difference</th>\n",
       "      <th>Subjectivity_difference</th>\n",
       "      <th>English_NER</th>\n",
       "      <th>German_NER</th>\n",
       "    </tr>\n",
       "  </thead>\n",
       "  <tbody>\n",
       "    <tr>\n",
       "      <th>0</th>\n",
       "      <td>[resumption, of, the, session]</td>\n",
       "      <td>[wiederaufnahme, der, sitzungsperiode]</td>\n",
       "      <td>Resumption of the session</td>\n",
       "      <td>Wiederaufnahme der Sitzungsperiode</td>\n",
       "      <td>2</td>\n",
       "      <td>1</td>\n",
       "      <td>-1</td>\n",
       "      <td>-0.500000</td>\n",
       "      <td>-0.166667</td>\n",
       "      <td>0.000000</td>\n",
       "      <td>0.000000</td>\n",
       "      <td>[]</td>\n",
       "      <td>[]</td>\n",
       "    </tr>\n",
       "    <tr>\n",
       "      <th>1</th>\n",
       "      <td>[i, declare, resumed, the, session, of, the, european, parliament, adjourned, on, friday, 17, december, 1999, ,, and, i, would, like, once, again, to, wish, you, a, happy, new, year, in, the, hope...</td>\n",
       "      <td>[ich, erkläre, die, am, freitag, ,, dem, 17., dezember, unterbrochene, sitzungsperiode, des, europäischen, parlaments, für, wiederaufgenommen, ,, wünsche, ihnen, nochmals, alles, gute, zum, jahres...</td>\n",
       "      <td>I declare resumed the session of the European Parliament adjourned on Friday 17 December 1999, and I would like once again to wish you a happy new year in the hope that you enjoyed a pleasant fest...</td>\n",
       "      <td>Ich erkläre die am Freitag, dem 17. Dezember unterbrochene Sitzungsperiode des Europäischen Parlaments für wiederaufgenommen, wünsche Ihnen nochmals alles Gute zum Jahreswechsel und hoffe, daß Sie...</td>\n",
       "      <td>17</td>\n",
       "      <td>13</td>\n",
       "      <td>-4</td>\n",
       "      <td>-0.235294</td>\n",
       "      <td>-0.031061</td>\n",
       "      <td>0.416061</td>\n",
       "      <td>-0.624242</td>\n",
       "      <td>[[the European Parliament, ORG], [Friday 17 December 1999, DATE]]</td>\n",
       "      <td>[[Europäischen Parlaments, ORG]]</td>\n",
       "    </tr>\n",
       "    <tr>\n",
       "      <th>2</th>\n",
       "      <td>[although, ,, as, you, will, have, seen, ,, the, dreaded, 'millennium, bug, ', failed, to, materialise, ,, still, the, people, in, a, number, of, countries, suffered, a, series, of, natural, disas...</td>\n",
       "      <td>[wie, sie, feststellen, konnten, ,, ist, der, gefürchtete, ``, millenium-bug, ``, nicht, eingetreten, ., doch, sind, bürger, einiger, unserer, mitgliedstaaten, opfer, von, schrecklichen, naturkata...</td>\n",
       "      <td>Although, as you will have seen, the dreaded 'millennium bug' failed to materialise, still the people in a number of countries suffered a series of natural disasters that truly were dreadful.</td>\n",
       "      <td>Wie Sie feststellen konnten, ist der gefürchtete \"Millenium-Bug \" nicht eingetreten. Doch sind Bürger einiger unserer Mitgliedstaaten Opfer von schrecklichen Naturkatastrophen geworden.</td>\n",
       "      <td>14</td>\n",
       "      <td>9</td>\n",
       "      <td>-5</td>\n",
       "      <td>-0.357143</td>\n",
       "      <td>-0.042735</td>\n",
       "      <td>-0.033333</td>\n",
       "      <td>-0.566667</td>\n",
       "      <td>[]</td>\n",
       "      <td>[[Millenium-Bug, PER]]</td>\n",
       "    </tr>\n",
       "    <tr>\n",
       "      <th>3</th>\n",
       "      <td>[you, have, requested, a, debate, on, this, subject, in, the, course, of, the, next, few, days, ,, during, this, part-session, .]</td>\n",
       "      <td>[im, parlament, besteht, der, wunsch, nach, einer, aussprache, im, verlauf, dieser, sitzungsperiode, in, den, nächsten, tagen, .]</td>\n",
       "      <td>You have requested a debate on this subject in the course of the next few days, during this part-session.</td>\n",
       "      <td>Im Parlament besteht der Wunsch nach einer Aussprache im Verlauf dieser Sitzungsperiode in den nächsten Tagen.</td>\n",
       "      <td>12</td>\n",
       "      <td>8</td>\n",
       "      <td>-4</td>\n",
       "      <td>-0.333333</td>\n",
       "      <td>-0.100840</td>\n",
       "      <td>0.122222</td>\n",
       "      <td>-0.144444</td>\n",
       "      <td>[[the next few days, DATE]]</td>\n",
       "      <td>[[Parlament, ORG]]</td>\n",
       "    </tr>\n",
       "    <tr>\n",
       "      <th>4</th>\n",
       "      <td>[in, the, meantime, ,, i, should, like, to, observe, a, minute, ', s, silence, ,, as, a, number, of, members, have, requested, ,, on, behalf, of, all, the, victims, concerned, ,, particularly, tho...</td>\n",
       "      <td>[heute, möchte, ich, sie, bitten, -, das, ist, auch, der, wunsch, einiger, kolleginnen, und, kollegen, -, ,, allen, opfern, der, stürme, ,, insbesondere, in, den, verschiedenen, ländern, der, euro...</td>\n",
       "      <td>In the meantime, I should like to observe a minute' s silence, as a number of Members have requested, on behalf of all the victims concerned, particularly those of the terrible storms, in the vari...</td>\n",
       "      <td>Heute möchte ich Sie bitten - das ist auch der Wunsch einiger Kolleginnen und Kollegen -, allen Opfern der Stürme, insbesondere in den verschiedenen Ländern der Europäischen Union, in einer Schwei...</td>\n",
       "      <td>22</td>\n",
       "      <td>16</td>\n",
       "      <td>-6</td>\n",
       "      <td>-0.272727</td>\n",
       "      <td>-0.035653</td>\n",
       "      <td>0.541667</td>\n",
       "      <td>-0.458333</td>\n",
       "      <td>[[the European Union, ORG]]</td>\n",
       "      <td>[[Europäischen Union, ORG]]</td>\n",
       "    </tr>\n",
       "    <tr>\n",
       "      <th>...</th>\n",
       "      <td>...</td>\n",
       "      <td>...</td>\n",
       "      <td>...</td>\n",
       "      <td>...</td>\n",
       "      <td>...</td>\n",
       "      <td>...</td>\n",
       "      <td>...</td>\n",
       "      <td>...</td>\n",
       "      <td>...</td>\n",
       "      <td>...</td>\n",
       "      <td>...</td>\n",
       "      <td>...</td>\n",
       "      <td>...</td>\n",
       "    </tr>\n",
       "    <tr>\n",
       "      <th>9996</th>\n",
       "      <td>[for, example, ,, to, accept, new, roads, is, to, accept, new, pollution, within, the, european, union, ., this, goes, totally, against, the, policies, which, we, are, proposing, to, fight, greenh...</td>\n",
       "      <td>[wenn, man, zum, beispiel, neue, straßen, akzeptiert, ,, dann, akzeptiert, man, neue, immissionen, in, der, europäischen, union, ,, und, dies, widerspricht, völlig, der, politik, ,, die, wir, z, ....</td>\n",
       "      <td>For example, to accept new roads is to accept new pollution within the European Union. This goes totally against the policies which we are proposing to fight greenhouse gas emissions, for example.</td>\n",
       "      <td>Wenn man zum Beispiel neue Straßen akzeptiert, dann akzeptiert man neue Immissionen in der Europäischen Union, und dies widerspricht völlig der Politik, die wir z. B. zur Bekämpfung der Emission v...</td>\n",
       "      <td>13</td>\n",
       "      <td>15</td>\n",
       "      <td>2</td>\n",
       "      <td>0.153846</td>\n",
       "      <td>0.033626</td>\n",
       "      <td>0.431818</td>\n",
       "      <td>-0.414773</td>\n",
       "      <td>[[the European Union, ORG]]</td>\n",
       "      <td>[[Europäischen Union, ORG], [Treibhausgasen, LOC]]</td>\n",
       "    </tr>\n",
       "    <tr>\n",
       "      <th>9997</th>\n",
       "      <td>[i, would, also, ask, the, commission, to, ensure, that, the, environmental, pillar, of, the, eu, ', s, policy, is, integrated, into, the, projects, submitted, and, that, the, goal, of, reducing, ...</td>\n",
       "      <td>[ich, fordere, auch, ,, daß, die, kommission, bei, der, projektauswahl, darauf, achtet, ,, daß, die, umweltpolitische, säule, der, eu-politik, in, diese, projekte, integriert, wird, ,, damit, z, ....</td>\n",
       "      <td>I would also ask the Commission to ensure that the environmental pillar of the EU' s policy is integrated into the projects submitted and that the goal of reducing CO2 for example forms an experim...</td>\n",
       "      <td>Ich fordere auch, daß die Kommission bei der Projektauswahl darauf achtet, daß die umweltpolitische Säule der EU-Politik in diese Projekte integriert wird, damit z. B. das Ziel der CO2-Reduktion a...</td>\n",
       "      <td>19</td>\n",
       "      <td>19</td>\n",
       "      <td>0</td>\n",
       "      <td>0.000000</td>\n",
       "      <td>0.000000</td>\n",
       "      <td>0.250000</td>\n",
       "      <td>-0.400000</td>\n",
       "      <td>[[EU, ORG]]</td>\n",
       "      <td>[[Kommission, ORG], [EU-Politik, ORG], [CO2-Reduktion, MISC], [Mehrwert, PER]]</td>\n",
       "    </tr>\n",
       "    <tr>\n",
       "      <th>9998</th>\n",
       "      <td>[i, am, particularly, thinking, in, this, respect, of, certain, infrastructures, which, are, under, construction, .]</td>\n",
       "      <td>[ich, denke, dabei, besonders, an, bestimmte, in, der, planung, befindliche, infrastrukturen, .]</td>\n",
       "      <td>I am particularly thinking in this respect of certain infrastructures which are under construction.</td>\n",
       "      <td>Ich denke dabei besonders an bestimmte in der Planung befindliche Infrastrukturen.</td>\n",
       "      <td>8</td>\n",
       "      <td>4</td>\n",
       "      <td>-4</td>\n",
       "      <td>-0.500000</td>\n",
       "      <td>-0.200000</td>\n",
       "      <td>-0.890476</td>\n",
       "      <td>-0.452381</td>\n",
       "      <td>[]</td>\n",
       "      <td>[]</td>\n",
       "    </tr>\n",
       "    <tr>\n",
       "      <th>9999</th>\n",
       "      <td>[we, know, that, some, member, states, are, still, wavering, ,, for, example, ,, between, rail, and, road, for, routes, through, vulnerable, areas, such, as, the, pyrenees, ,, as, in, the, aspe, v...</td>\n",
       "      <td>[bekanntlich, haben, sich, einige, mitgliedstaaten, noch, nicht, zwischen, bahn, und, straße, für, die, durchquerung, von, anfälligen, gebieten, wie, den, pyrenäen, und, hier, speziell, des, aspe-...</td>\n",
       "      <td>We know that some Member States are still wavering, for example, between rail and road for routes through vulnerable areas such as the Pyrenees, as in the Aspe valley.</td>\n",
       "      <td>Bekanntlich haben sich einige Mitgliedstaaten noch nicht zwischen Bahn und Straße für die Durchquerung von anfälligen Gebieten wie den Pyrenäen und hier speziell des Aspe-Tals entschieden.</td>\n",
       "      <td>15</td>\n",
       "      <td>15</td>\n",
       "      <td>0</td>\n",
       "      <td>0.000000</td>\n",
       "      <td>0.101010</td>\n",
       "      <td>0.250000</td>\n",
       "      <td>-0.500000</td>\n",
       "      <td>[]</td>\n",
       "      <td>[[Bekanntlich, MISC], [Pyrenäen, LOC], [Aspe-Tals, MISC]]</td>\n",
       "    </tr>\n",
       "    <tr>\n",
       "      <th>10000</th>\n",
       "      <td>[however, ,, i, am, also, thinking, of, my, own, region, where, my, government, is, still, debating, whether, to, route, the, railway, or, to, build, a, second, motorway, ,, the, a32, .]</td>\n",
       "      <td>[ich, denke, auch, an, meine, region, ,, wo, mein, mitgliedstaat, noch, zwischen, einer, eisenbahnstrecke, und, einer, zweiten, autobahn, ,, der, a, 32, ,, schwankt, .]</td>\n",
       "      <td>However, I am also thinking of my own region where my government is still debating whether to route the railway or to build a second motorway, the A32.</td>\n",
       "      <td>Ich denke auch an meine Region, wo mein Mitgliedstaat noch zwischen einer Eisenbahnstrecke und einer zweiten Autobahn, der A 32, schwankt.</td>\n",
       "      <td>14</td>\n",
       "      <td>12</td>\n",
       "      <td>-2</td>\n",
       "      <td>-0.142857</td>\n",
       "      <td>0.028387</td>\n",
       "      <td>-0.300000</td>\n",
       "      <td>-0.500000</td>\n",
       "      <td>[[second, ORDINAL]]</td>\n",
       "      <td>[[Mitgliedstaat, PER], [A 32, LOC]]</td>\n",
       "    </tr>\n",
       "  </tbody>\n",
       "</table>\n",
       "<p>10001 rows × 13 columns</p>\n",
       "</div>"
      ],
      "text/plain": [
       "                                                                                                                                                                                                       English  \\\n",
       "0                                                                                                                                                                               [resumption, of, the, session]   \n",
       "1      [i, declare, resumed, the, session, of, the, european, parliament, adjourned, on, friday, 17, december, 1999, ,, and, i, would, like, once, again, to, wish, you, a, happy, new, year, in, the, hope...   \n",
       "2      [although, ,, as, you, will, have, seen, ,, the, dreaded, 'millennium, bug, ', failed, to, materialise, ,, still, the, people, in, a, number, of, countries, suffered, a, series, of, natural, disas...   \n",
       "3                                                                            [you, have, requested, a, debate, on, this, subject, in, the, course, of, the, next, few, days, ,, during, this, part-session, .]   \n",
       "4      [in, the, meantime, ,, i, should, like, to, observe, a, minute, ', s, silence, ,, as, a, number, of, members, have, requested, ,, on, behalf, of, all, the, victims, concerned, ,, particularly, tho...   \n",
       "...                                                                                                                                                                                                        ...   \n",
       "9996   [for, example, ,, to, accept, new, roads, is, to, accept, new, pollution, within, the, european, union, ., this, goes, totally, against, the, policies, which, we, are, proposing, to, fight, greenh...   \n",
       "9997   [i, would, also, ask, the, commission, to, ensure, that, the, environmental, pillar, of, the, eu, ', s, policy, is, integrated, into, the, projects, submitted, and, that, the, goal, of, reducing, ...   \n",
       "9998                                                                                      [i, am, particularly, thinking, in, this, respect, of, certain, infrastructures, which, are, under, construction, .]   \n",
       "9999   [we, know, that, some, member, states, are, still, wavering, ,, for, example, ,, between, rail, and, road, for, routes, through, vulnerable, areas, such, as, the, pyrenees, ,, as, in, the, aspe, v...   \n",
       "10000               [however, ,, i, am, also, thinking, of, my, own, region, where, my, government, is, still, debating, whether, to, route, the, railway, or, to, build, a, second, motorway, ,, the, a32, .]   \n",
       "\n",
       "                                                                                                                                                                                                        German  \\\n",
       "0                                                                                                                                                                       [wiederaufnahme, der, sitzungsperiode]   \n",
       "1      [ich, erkläre, die, am, freitag, ,, dem, 17., dezember, unterbrochene, sitzungsperiode, des, europäischen, parlaments, für, wiederaufgenommen, ,, wünsche, ihnen, nochmals, alles, gute, zum, jahres...   \n",
       "2      [wie, sie, feststellen, konnten, ,, ist, der, gefürchtete, ``, millenium-bug, ``, nicht, eingetreten, ., doch, sind, bürger, einiger, unserer, mitgliedstaaten, opfer, von, schrecklichen, naturkata...   \n",
       "3                                                                            [im, parlament, besteht, der, wunsch, nach, einer, aussprache, im, verlauf, dieser, sitzungsperiode, in, den, nächsten, tagen, .]   \n",
       "4      [heute, möchte, ich, sie, bitten, -, das, ist, auch, der, wunsch, einiger, kolleginnen, und, kollegen, -, ,, allen, opfern, der, stürme, ,, insbesondere, in, den, verschiedenen, ländern, der, euro...   \n",
       "...                                                                                                                                                                                                        ...   \n",
       "9996   [wenn, man, zum, beispiel, neue, straßen, akzeptiert, ,, dann, akzeptiert, man, neue, immissionen, in, der, europäischen, union, ,, und, dies, widerspricht, völlig, der, politik, ,, die, wir, z, ....   \n",
       "9997   [ich, fordere, auch, ,, daß, die, kommission, bei, der, projektauswahl, darauf, achtet, ,, daß, die, umweltpolitische, säule, der, eu-politik, in, diese, projekte, integriert, wird, ,, damit, z, ....   \n",
       "9998                                                                                                          [ich, denke, dabei, besonders, an, bestimmte, in, der, planung, befindliche, infrastrukturen, .]   \n",
       "9999   [bekanntlich, haben, sich, einige, mitgliedstaaten, noch, nicht, zwischen, bahn, und, straße, für, die, durchquerung, von, anfälligen, gebieten, wie, den, pyrenäen, und, hier, speziell, des, aspe-...   \n",
       "10000                                 [ich, denke, auch, an, meine, region, ,, wo, mein, mitgliedstaat, noch, zwischen, einer, eisenbahnstrecke, und, einer, zweiten, autobahn, ,, der, a, 32, ,, schwankt, .]   \n",
       "\n",
       "                                                                                                                                                                                                  English_orig  \\\n",
       "0                                                                                                                                                                                    Resumption of the session   \n",
       "1      I declare resumed the session of the European Parliament adjourned on Friday 17 December 1999, and I would like once again to wish you a happy new year in the hope that you enjoyed a pleasant fest...   \n",
       "2              Although, as you will have seen, the dreaded 'millennium bug' failed to materialise, still the people in a number of countries suffered a series of natural disasters that truly were dreadful.   \n",
       "3                                                                                                    You have requested a debate on this subject in the course of the next few days, during this part-session.   \n",
       "4      In the meantime, I should like to observe a minute' s silence, as a number of Members have requested, on behalf of all the victims concerned, particularly those of the terrible storms, in the vari...   \n",
       "...                                                                                                                                                                                                        ...   \n",
       "9996      For example, to accept new roads is to accept new pollution within the European Union. This goes totally against the policies which we are proposing to fight greenhouse gas emissions, for example.   \n",
       "9997   I would also ask the Commission to ensure that the environmental pillar of the EU' s policy is integrated into the projects submitted and that the goal of reducing CO2 for example forms an experim...   \n",
       "9998                                                                                                       I am particularly thinking in this respect of certain infrastructures which are under construction.   \n",
       "9999                                   We know that some Member States are still wavering, for example, between rail and road for routes through vulnerable areas such as the Pyrenees, as in the Aspe valley.   \n",
       "10000                                                  However, I am also thinking of my own region where my government is still debating whether to route the railway or to build a second motorway, the A32.   \n",
       "\n",
       "                                                                                                                                                                                                   German_orig  \\\n",
       "0                                                                                                                                                                           Wiederaufnahme der Sitzungsperiode   \n",
       "1      Ich erkläre die am Freitag, dem 17. Dezember unterbrochene Sitzungsperiode des Europäischen Parlaments für wiederaufgenommen, wünsche Ihnen nochmals alles Gute zum Jahreswechsel und hoffe, daß Sie...   \n",
       "2                    Wie Sie feststellen konnten, ist der gefürchtete \"Millenium-Bug \" nicht eingetreten. Doch sind Bürger einiger unserer Mitgliedstaaten Opfer von schrecklichen Naturkatastrophen geworden.   \n",
       "3                                                                                               Im Parlament besteht der Wunsch nach einer Aussprache im Verlauf dieser Sitzungsperiode in den nächsten Tagen.   \n",
       "4      Heute möchte ich Sie bitten - das ist auch der Wunsch einiger Kolleginnen und Kollegen -, allen Opfern der Stürme, insbesondere in den verschiedenen Ländern der Europäischen Union, in einer Schwei...   \n",
       "...                                                                                                                                                                                                        ...   \n",
       "9996   Wenn man zum Beispiel neue Straßen akzeptiert, dann akzeptiert man neue Immissionen in der Europäischen Union, und dies widerspricht völlig der Politik, die wir z. B. zur Bekämpfung der Emission v...   \n",
       "9997   Ich fordere auch, daß die Kommission bei der Projektauswahl darauf achtet, daß die umweltpolitische Säule der EU-Politik in diese Projekte integriert wird, damit z. B. das Ziel der CO2-Reduktion a...   \n",
       "9998                                                                                                                        Ich denke dabei besonders an bestimmte in der Planung befindliche Infrastrukturen.   \n",
       "9999              Bekanntlich haben sich einige Mitgliedstaaten noch nicht zwischen Bahn und Straße für die Durchquerung von anfälligen Gebieten wie den Pyrenäen und hier speziell des Aspe-Tals entschieden.   \n",
       "10000                                                               Ich denke auch an meine Region, wo mein Mitgliedstaat noch zwischen einer Eisenbahnstrecke und einer zweiten Autobahn, der A 32, schwankt.   \n",
       "\n",
       "       SWords_eng  SWords_ger  SWords_dif  SWords_dif_rel  SWords_dif_normal  \\\n",
       "0               2           1          -1       -0.500000          -0.166667   \n",
       "1              17          13          -4       -0.235294          -0.031061   \n",
       "2              14           9          -5       -0.357143          -0.042735   \n",
       "3              12           8          -4       -0.333333          -0.100840   \n",
       "4              22          16          -6       -0.272727          -0.035653   \n",
       "...           ...         ...         ...             ...                ...   \n",
       "9996           13          15           2        0.153846           0.033626   \n",
       "9997           19          19           0        0.000000           0.000000   \n",
       "9998            8           4          -4       -0.500000          -0.200000   \n",
       "9999           15          15           0        0.000000           0.101010   \n",
       "10000          14          12          -2       -0.142857           0.028387   \n",
       "\n",
       "       Polarity_difference  Subjectivity_difference  \\\n",
       "0                 0.000000                 0.000000   \n",
       "1                 0.416061                -0.624242   \n",
       "2                -0.033333                -0.566667   \n",
       "3                 0.122222                -0.144444   \n",
       "4                 0.541667                -0.458333   \n",
       "...                    ...                      ...   \n",
       "9996              0.431818                -0.414773   \n",
       "9997              0.250000                -0.400000   \n",
       "9998             -0.890476                -0.452381   \n",
       "9999              0.250000                -0.500000   \n",
       "10000            -0.300000                -0.500000   \n",
       "\n",
       "                                                             English_NER  \\\n",
       "0                                                                     []   \n",
       "1      [[the European Parliament, ORG], [Friday 17 December 1999, DATE]]   \n",
       "2                                                                     []   \n",
       "3                                            [[the next few days, DATE]]   \n",
       "4                                            [[the European Union, ORG]]   \n",
       "...                                                                  ...   \n",
       "9996                                         [[the European Union, ORG]]   \n",
       "9997                                                         [[EU, ORG]]   \n",
       "9998                                                                  []   \n",
       "9999                                                                  []   \n",
       "10000                                                [[second, ORDINAL]]   \n",
       "\n",
       "                                                                           German_NER  \n",
       "0                                                                                  []  \n",
       "1                                                    [[Europäischen Parlaments, ORG]]  \n",
       "2                                                              [[Millenium-Bug, PER]]  \n",
       "3                                                                  [[Parlament, ORG]]  \n",
       "4                                                         [[Europäischen Union, ORG]]  \n",
       "...                                                                               ...  \n",
       "9996                               [[Europäischen Union, ORG], [Treibhausgasen, LOC]]  \n",
       "9997   [[Kommission, ORG], [EU-Politik, ORG], [CO2-Reduktion, MISC], [Mehrwert, PER]]  \n",
       "9998                                                                               []  \n",
       "9999                        [[Bekanntlich, MISC], [Pyrenäen, LOC], [Aspe-Tals, MISC]]  \n",
       "10000                                             [[Mitgliedstaat, PER], [A 32, LOC]]  \n",
       "\n",
       "[10001 rows x 13 columns]"
      ]
     },
     "execution_count": 23,
     "metadata": {},
     "output_type": "execute_result"
    }
   ],
   "source": [
    "df_selected"
   ]
  },
  {
   "cell_type": "code",
   "execution_count": null,
   "metadata": {},
   "outputs": [],
   "source": []
  }
 ],
 "metadata": {
  "kernelspec": {
   "display_name": "Python 3",
   "language": "python",
   "name": "python3"
  },
  "language_info": {
   "codemirror_mode": {
    "name": "ipython",
    "version": 3
   },
   "file_extension": ".py",
   "mimetype": "text/x-python",
   "name": "python",
   "nbconvert_exporter": "python",
   "pygments_lexer": "ipython3",
   "version": "3.8.6"
  }
 },
 "nbformat": 4,
 "nbformat_minor": 4
}