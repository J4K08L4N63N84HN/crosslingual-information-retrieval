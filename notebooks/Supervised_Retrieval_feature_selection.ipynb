{
 "cells": [
  {
   "cell_type": "markdown",
   "metadata": {
    "pycharm": {
     "name": "#%% md\n"
    }
   },
   "source": [
    "# Supervised Retrieval"
   ]
  },
  {
   "cell_type": "markdown",
   "metadata": {
    "pycharm": {
     "name": "#%% md\n"
    }
   },
   "source": [
    "In this notebook we use the supervised classification model for a supervised crosslingual information retrieval task."
   ]
  },
  {
   "cell_type": "code",
   "execution_count": 1,
   "metadata": {},
   "outputs": [],
   "source": [
    "import sys\n",
    "import os\n",
    "sys.path.append(os.path.dirname((os.path.abspath(''))))\n",
    "\n",
    "import pandas as pd\n",
    "import numpy as np\n",
    "import seaborn as sn\n",
    "import matplotlib.pyplot as plt\n",
    "from sklearn.metrics import accuracy_score, f1_score, precision_score, recall_score, log_loss\n",
    "from sklearn.model_selection import train_test_split\n",
    "from sklearn import preprocessing\n",
    "from sklearn.neural_network import MLPClassifier\n",
    "from sklearn.naive_bayes import GaussianNB\n",
    "from sklearn.linear_model import LogisticRegression\n",
    "from sklearn.feature_selection import RFECV\n",
    "from src.models.predict_model import MAP_score, threshold_counts, feature_selection, pipeline_model_optimization"
   ]
  },
  {
   "cell_type": "markdown",
   "metadata": {
    "pycharm": {
     "name": "#%% md\n"
    }
   },
   "source": [
    "## I. Import Data"
   ]
  },
  {
   "cell_type": "markdown",
   "metadata": {},
   "source": [
    "In this section we import the feature dataframe for the retrieval task."
   ]
  },
  {
   "cell_type": "code",
   "execution_count": 2,
   "metadata": {},
   "outputs": [],
   "source": [
    "feature_dataframe=pd.read_feather(\"../data/processed/feature_model.feather\")\n",
    "feature_retrieval=pd.read_feather(\"../data/processed/feature_retrieval.feather\")\n",
    "feature_dataframe = feature_dataframe.rename(columns={\"id_source\": \"source_id\", \"id_target\": \"target_id\"})\n",
    "feature_retrieval = feature_retrieval.rename(columns={\"id_source\": \"source_id\", \"id_target\": \"target_id\"})"
   ]
  },
  {
   "cell_type": "markdown",
   "metadata": {},
   "source": [
    "#### Delete all columns with only one value"
   ]
  },
  {
   "cell_type": "code",
   "execution_count": 3,
   "metadata": {},
   "outputs": [],
   "source": [
    "column_mask = feature_dataframe.apply(threshold_counts, threshold=1)\n",
    "feature_dataframe = feature_dataframe.loc[:, column_mask]\n",
    "feature_retrieval = feature_retrieval.loc[:, column_mask]\n"
   ]
  },
  {
   "cell_type": "markdown",
   "metadata": {},
   "source": [
    "## II. Supervised Retrieval"
   ]
  },
  {
   "cell_type": "markdown",
   "metadata": {},
   "source": [
    "#### Start with one feature"
   ]
  },
  {
   "cell_type": "code",
   "execution_count": 4,
   "metadata": {},
   "outputs": [],
   "source": [
    "start_features = [\"jaccard_translation_proc_5k\"]\n",
    "not_add = [\"Translation\", \"source_id\", \"target_id\"]\n",
    "added_features = feature_dataframe.columns[~feature_dataframe.columns.isin(start_features+not_add)]"
   ]
  },
  {
   "cell_type": "markdown",
   "metadata": {},
   "source": [
    "# Naive Bayes"
   ]
  },
  {
   "cell_type": "code",
   "execution_count": null,
   "metadata": {},
   "outputs": [
    {
     "name": "stdout",
     "output_type": "stream",
     "text": [
      "-----------------First do Forward Selection-----------------\n",
      "\n",
      "Current Iteration through feature list: 1\n",
      "The initial MAP score on test set: 0.7193\n",
      "Updated MAP score on test set with new feature number_VERB_difference: 0.7253\n",
      "Updated MAP score on test set with new feature number_NOUN_difference_relative: 0.7359\n",
      "Updated MAP score on test set with new feature number_NOUN_difference: 0.7398\n",
      "Updated MAP score on test set with new feature number_ADJ_difference_relative: 0.7429\n",
      "Updated MAP score on test set with new feature characters_avg_difference_relative: 0.7456\n",
      "Updated MAP score on test set with new feature number_characters_difference_relative: 0.7487\n",
      "Updated MAP score on test set with new feature number_]_difference_relative: 0.7521\n",
      "Updated MAP score on test set with new feature number_:_difference_relative: 0.7545\n",
      "Updated MAP score on test set with new feature number_-_difference_normalized: 0.7638\n",
      "Updated MAP score on test set with new feature number_%_difference_normalized: 0.7668\n",
      "\n",
      "Current Iteration through feature list: 2\n",
      "The initial MAP score on test set: 0.7668\n"
     ]
    }
   ],
   "source": [
    "nb = GaussianNB()\n",
    "scaler = preprocessing.StandardScaler()\n",
    "\n",
    "nb_parameter_grid = {}\n",
    "\n",
    "nb_best_features, nb_best_parameter_combination, nb_best_map_score, nb_all_parameter_combination = \\\n",
    "pipeline_model_optimization(nb, nb_parameter_grid, scaler, feature_dataframe, \n",
    "                            feature_retrieval, start_features, \n",
    "                            added_features, \n",
    "                            threshold_map_feature_selection=0.001)"
   ]
  },
  {
   "cell_type": "markdown",
   "metadata": {},
   "source": [
    "# XGBoost"
   ]
  },
  {
   "cell_type": "code",
   "execution_count": null,
   "metadata": {
    "scrolled": true
   },
   "outputs": [],
   "source": [
    "from xgboost import XGBClassifier\n",
    "xgb = XGBClassifier(verbosity = 0, use_label_encoder=False)\n",
    "scaler = preprocessing.StandardScaler()\n",
    "\n",
    "xgb_parameter_grid = {\"verbosity\": [0],\n",
    "                     \"use_label_encoder\": [False],\n",
    "                     \"learning_rate\"    : [0.20, 0.25] ,\n",
    "                     \"max_depth\"        : [15],\n",
    "                     \"min_child_weight\" : [7 ],\n",
    "                     \"gamma\"            : [ 0.4 ],\n",
    "                     \"colsample_bytree\" : [0.7 ]}\n",
    "\n",
    "xgb_best_features, xgb_best_parameter_combination, xgb_best_map_score, xgb_all_parameter_combination = \\\n",
    "pipeline_model_optimization(xgb, xgb_parameter_grid, scaler, feature_dataframe, \n",
    "                            feature_retrieval, start_features, \n",
    "                            added_features, \n",
    "                            threshold_map_feature_selection=0.001)"
   ]
  },
  {
   "cell_type": "code",
   "execution_count": null,
   "metadata": {},
   "outputs": [],
   "source": [
    "parameter_grid = {\"verbosity\": [0],\n",
    "                 \"use_label_encoder\": [False],\n",
    "                 \"learning_rate\"    : [0.20, 0.25] ,\n",
    "                 \"max_depth\"        : [15],\n",
    "                 \"min_child_weight\" : [7 ],\n",
    "                 \"gamma\"            : [ 0.4 ],\n",
    "                 \"colsample_bytree\" : [0.7 ]}\n",
    "\n",
    "best_features, best_parameter_combination, best_map_score, all_parameter_combination = \\\n",
    "pipeline_model_optimization(xgb, parameter_grid, scaler, feature_dataframe, \n",
    "                            feature_retrieval, start_features, \n",
    "                            added_features, \n",
    "                            threshold_map_feature_selection=0.01)"
   ]
  }
 ],
 "metadata": {
  "kernelspec": {
   "display_name": "Python 3",
   "language": "python",
   "name": "python3"
  },
  "language_info": {
   "codemirror_mode": {
    "name": "ipython",
    "version": 3
   },
   "file_extension": ".py",
   "mimetype": "text/x-python",
   "name": "python",
   "nbconvert_exporter": "python",
   "pygments_lexer": "ipython3",
   "version": "3.6.12"
  }
 },
 "nbformat": 4,
 "nbformat_minor": 4
}
