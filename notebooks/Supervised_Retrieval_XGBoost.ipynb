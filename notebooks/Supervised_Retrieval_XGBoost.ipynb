{
 "cells": [
  {
   "cell_type": "markdown",
   "metadata": {
    "pycharm": {
     "name": "#%% md\n"
    }
   },
   "source": [
    "# Supervised Retrieval"
   ]
  },
  {
   "cell_type": "markdown",
   "metadata": {
    "pycharm": {
     "name": "#%% md\n"
    }
   },
   "source": [
    "In this notebook we use the supervised classification model for a supervised crosslingual information retrieval task."
   ]
  },
  {
   "cell_type": "code",
   "execution_count": 1,
   "metadata": {},
   "outputs": [],
   "source": [
    "import sys\n",
    "import os\n",
    "sys.path.append(os.path.dirname((os.path.abspath(''))))\n",
    "\n",
    "import pandas as pd\n",
    "import numpy as np\n",
    "import seaborn as sn\n",
    "import matplotlib.pyplot as plt\n",
    "from sklearn.metrics import accuracy_score, f1_score, precision_score, recall_score, log_loss\n",
    "from sklearn.model_selection import train_test_split\n",
    "from sklearn import preprocessing\n",
    "from sklearn.neural_network import MLPClassifier\n",
    "from sklearn.naive_bayes import GaussianNB\n",
    "from sklearn.linear_model import LogisticRegression\n",
    "from sklearn.feature_selection import RFECV\n",
    "from src.models.predict_model import MAP_score, threshold_counts, feature_selection, pipeline_model_optimization"
   ]
  },
  {
   "cell_type": "markdown",
   "metadata": {
    "pycharm": {
     "name": "#%% md\n"
    }
   },
   "source": [
    "## I. Import Data"
   ]
  },
  {
   "cell_type": "markdown",
   "metadata": {},
   "source": [
    "In this section we import the feature dataframe for the retrieval task."
   ]
  },
  {
   "cell_type": "code",
   "execution_count": 2,
   "metadata": {},
   "outputs": [],
   "source": [
    "feature_dataframe=pd.read_feather(\"../data/processed/feature_model_en_de.feather\")\n",
    "feature_retrieval=pd.read_feather(\"../data/processed/feature_retrieval_en_de.feather\")\n",
    "feature_dataframe = feature_dataframe.rename(columns={\"id_source\": \"source_id\", \"id_target\": \"target_id\"})\n",
    "feature_retrieval = feature_retrieval.rename(columns={\"id_source\": \"source_id\", \"id_target\": \"target_id\"})\n",
    "\n",
    "feature_retrieval_pl = pd.read_feather(\"../data/processed/feature_retrieval_en_pl.feather\")\n",
    "feature_retrieval_pl = feature_retrieval_pl.rename(columns={\"id_source\": \"source_id\", \"id_target\": \"target_id\"})\n",
    "\n",
    "feature_retrieval_it = pd.read_feather(\"../data/processed/feature_retrieval_en_it.feather\")\n",
    "feature_retrieval_it = feature_retrieval_it.rename(columns={\"id_source\": \"source_id\", \"id_target\": \"target_id\"})\n",
    "\n",
    "feature_retrieval_doc = pd.read_feather(\"../data/processed/feature_retrieval_doc.feather\")\n",
    "feature_retrieval_doc = feature_retrieval_doc.rename(columns={\"id_source\": \"source_id\", \"id_target\": \"target_id\"})"
   ]
  },
  {
   "cell_type": "markdown",
   "metadata": {},
   "source": [
    "#### Delete all columns with only one value"
   ]
  },
  {
   "cell_type": "code",
   "execution_count": 3,
   "metadata": {},
   "outputs": [],
   "source": [
    "column_mask = feature_dataframe.apply(threshold_counts, threshold=1)\n",
    "feature_dataframe = feature_dataframe.loc[:, column_mask]\n",
    "feature_retrieval = feature_retrieval.loc[:, column_mask]\n"
   ]
  },
  {
   "cell_type": "markdown",
   "metadata": {},
   "source": [
    "## II. Supervised Retrieval"
   ]
  },
  {
   "cell_type": "markdown",
   "metadata": {},
   "source": [
    "#### Start with one feature"
   ]
  },
  {
   "cell_type": "code",
   "execution_count": 11,
   "metadata": {},
   "outputs": [],
   "source": [
    "start_features = [\"jaccard_translation_proc_5k\"]\n",
    "not_add = [\"Translation\", \"source_id\", \"target_id\"]\n",
    "added_features = feature_dataframe.columns[~feature_dataframe.columns.isin(start_features+not_add)]"
   ]
  },
  {
   "cell_type": "markdown",
   "metadata": {},
   "source": [
    "# XGBoost"
   ]
  },
  {
   "cell_type": "code",
   "execution_count": 43,
   "metadata": {
    "scrolled": true
   },
   "outputs": [
    {
     "name": "stdout",
     "output_type": "stream",
     "text": [
      "-----------------First do Forward Selection-----------------\n",
      "\n",
      "Current Iteration through feature list: 1\n",
      "The initial MAP score on test set: 0.7388\n",
      "Updated MAP score on test set with new feature jaccard_translation_vecmap: 0.7406\n",
      "Updated MAP score on test set with new feature euclidean_distance_tf_idf_vecmap: 0.7665\n",
      "Updated MAP score on test set with new feature euclidean_distance_tf_idf_proc_b_1k: 0.7948\n",
      "Updated MAP score on test set with new feature number_VERB_difference_relative: 0.8067\n",
      "Updated MAP score on test set with new feature number_VERB_difference: 0.8261\n",
      "Updated MAP score on test set with new feature number_ADJ_difference_relative: 0.8380\n",
      "Updated MAP score on test set with new feature number_-_difference: 0.8463\n",
      "\n",
      "Current Iteration through feature list: 2\n",
      "The initial MAP score on test set: 0.8463\n",
      "\n",
      "-----------------Result of Feature Selection-----------------\n",
      "\n",
      "Best MAP Score after feature selection: 0.8463057084876486\n"
     ]
    },
    {
     "name": "stderr",
     "output_type": "stream",
     "text": [
      "\r",
      "Hyperparameter Tuning:   0%|          | 0/108 [00:00<?, ?it/s]"
     ]
    },
    {
     "name": "stdout",
     "output_type": "stream",
     "text": [
      "\n",
      "\n",
      "-----------------Start Hyperparameter-tuning with Grid Search-----------------\n",
      "Number of Parameter Combinations: 108\n"
     ]
    },
    {
     "name": "stderr",
     "output_type": "stream",
     "text": [
      "\r",
      "Hyperparameter Tuning:   1%|          | 1/108 [00:05<10:33,  5.92s/it]"
     ]
    },
    {
     "name": "stdout",
     "output_type": "stream",
     "text": [
      "\n",
      "Current Best Hyperpamaters: {'verbosity': 0, 'use_label_encoder': False, 'random_state': 42, 'min_child_weight': 1, 'gamma': 0.5, 'subsample': 0.6, 'colsample_bytree': 0.6, 'max_depth': 3, 'MAP_score': 0.8140683054648559}\n",
      "With Map Score 0.8141\n"
     ]
    },
    {
     "name": "stderr",
     "output_type": "stream",
     "text": [
      "\r",
      "Hyperparameter Tuning:   2%|▏         | 2/108 [00:12<10:59,  6.22s/it]"
     ]
    },
    {
     "name": "stdout",
     "output_type": "stream",
     "text": [
      "\n",
      "Current Best Hyperpamaters: {'verbosity': 0, 'use_label_encoder': False, 'random_state': 42, 'min_child_weight': 1, 'gamma': 0.5, 'subsample': 0.6, 'colsample_bytree': 0.6, 'max_depth': 4, 'MAP_score': 0.8195359903714428}\n",
      "With Map Score 0.8195\n"
     ]
    },
    {
     "name": "stderr",
     "output_type": "stream",
     "text": [
      "Hyperparameter Tuning:   6%|▌         | 6/108 [00:56<15:52,  9.34s/it]"
     ]
    },
    {
     "name": "stdout",
     "output_type": "stream",
     "text": [
      "\n",
      "Current Best Hyperpamaters: {'verbosity': 0, 'use_label_encoder': False, 'random_state': 42, 'min_child_weight': 1, 'gamma': 0.5, 'subsample': 0.6, 'colsample_bytree': 0.8, 'max_depth': 5, 'MAP_score': 0.8325409529537386}\n",
      "With Map Score 0.8325\n"
     ]
    },
    {
     "name": "stderr",
     "output_type": "stream",
     "text": [
      "Hyperparameter Tuning:  10%|█         | 11/108 [01:36<13:07,  8.12s/it]"
     ]
    },
    {
     "name": "stdout",
     "output_type": "stream",
     "text": [
      "\n",
      "Current Best Hyperpamaters: {'verbosity': 0, 'use_label_encoder': False, 'random_state': 42, 'min_child_weight': 1, 'gamma': 0.5, 'subsample': 0.8, 'colsample_bytree': 0.6, 'max_depth': 4, 'MAP_score': 0.8364889636529729}\n",
      "With Map Score 0.8365\n"
     ]
    },
    {
     "name": "stderr",
     "output_type": "stream",
     "text": [
      "Hyperparameter Tuning: 100%|██████████| 108/108 [15:44<00:00,  8.75s/it]"
     ]
    },
    {
     "name": "stdout",
     "output_type": "stream",
     "text": [
      "\n",
      "-----------------Result of Hyperparameter Tuning-----------------\n",
      "\n",
      "Best Hyperamater Settting: {'verbosity': 0, 'use_label_encoder': False, 'random_state': 42, 'min_child_weight': 1, 'gamma': 0.5, 'subsample': 0.8, 'colsample_bytree': 0.6, 'max_depth': 4}\n",
      "With MAP Score: 0.8365\n"
     ]
    },
    {
     "name": "stderr",
     "output_type": "stream",
     "text": [
      "\n"
     ]
    }
   ],
   "source": [
    "from xgboost import XGBClassifier\n",
    "\n",
    "start_features = [\"jaccard_translation_proc_5k\"]\n",
    "not_add = [\"Translation\", \"source_id\", \"target_id\"]\n",
    "added_features = feature_dataframe.columns[~feature_dataframe.columns.isin(start_features+not_add)]\n",
    "\n",
    "xgb = XGBClassifier(verbosity = 0, use_label_encoder=False, random_state=42)\n",
    "scaler = preprocessing.StandardScaler()\n",
    "\n",
    "xgb_parameter_grid = {\"verbosity\": [0],\n",
    "                      \"use_label_encoder\": [False],\n",
    "                      \"random_state\": [42],\n",
    "                      'min_child_weight': [1, 5],\n",
    "                      'gamma': [0.5, 1,  5],\n",
    "                      'subsample': [0.6, 0.8],\n",
    "                      'colsample_bytree': [0.6, 0.8, 1.0],\n",
    "                      'max_depth': [3, 4, 5]}\n",
    "\n",
    "xgb_best_features, xgb_best_parameter_combination, xgb_best_map_score, xgb_all_parameter_combination = \\\n",
    "pipeline_model_optimization(xgb, xgb_parameter_grid, scaler, feature_dataframe, \n",
    "                            feature_retrieval, start_features, \n",
    "                            added_features, \n",
    "                            threshold_map_feature_selection=0.001)"
   ]
  },
  {
   "cell_type": "code",
   "execution_count": 50,
   "metadata": {},
   "outputs": [],
   "source": [
    "xgb_best_features_ = [\"jaccard_translation_proc_5k\",\n",
    "                      \"jaccard_translation_vecmap\", \n",
    "                      \"euclidean_distance_tf_idf_vecmap\",\n",
    "                      \"euclidean_distance_tf_idf_proc_b_1k\",\n",
    "                      \"number_VERB_difference_relative\",\n",
    "                      \"number_VERB_difference\",\n",
    "                      \"number_ADJ_difference_relative\",\n",
    "                      \"number_-_difference\"]\n",
    "\n",
    "xgb_best_hyperparameters = {\"verbosity\": 0, \"use_label_encoder\": False, \"random_state\": 42}"
   ]
  },
  {
   "cell_type": "code",
   "execution_count": 51,
   "metadata": {},
   "outputs": [
    {
     "name": "stdout",
     "output_type": "stream",
     "text": [
      "Model was trained on EN-DE Parallel Sentences.\n",
      "\n",
      "EN-DE Map Score: 0.8463057084876486\n",
      "EN-IT Map Score: 0.7718790626112558\n",
      "EN-PL Map Score: 0.8044894862823776\n"
     ]
    }
   ],
   "source": [
    "from xgboost import XGBClassifier\n",
    "\n",
    "target_train=feature_dataframe['Translation'].astype(float)\n",
    "data_train=feature_dataframe.drop(columns=['Translation','source_id','target_id'])\n",
    "data_train = data_train.loc[:, xgb_best_features_]\n",
    "scaler = preprocessing.StandardScaler()\n",
    "data_train.loc[:, data_train.columns] = scaler.fit_transform(data_train.loc[:, data_train.columns])\n",
    "\n",
    "print(\"Model was trained on EN-DE Parallel Sentences.\\n\")\n",
    "xgb_classifier = XGBClassifier(**xgb_best_hyperparameters).fit(data_train.to_numpy(), target_train.to_numpy())\n",
    "\n",
    "# EN-DE\n",
    "target_test = feature_retrieval['Translation'].astype(float)\n",
    "data_test = feature_retrieval.drop(columns=['Translation','source_id','target_id'])\n",
    "data_test = data_test.loc[:, xgb_best_features_]\n",
    "data_test.loc[:, data_test.columns] = scaler.transform(data_test.loc[:, data_test.columns])\n",
    "prediction = xgb_classifier.predict_proba(data_test).tolist()\n",
    "print(\"EN-DE Map Score: {}\".format(MAP_score(feature_retrieval['source_id'],target_test,prediction)))\n",
    "\n",
    "# EN-IT\n",
    "target_test = feature_retrieval_it['Translation'].astype(float)\n",
    "data_test = feature_retrieval_it.drop(columns=['Translation','source_id','target_id'])\n",
    "data_test = data_test.loc[:, xgb_best_features_]\n",
    "data_test.loc[:, data_test.columns] = scaler.transform(data_test.loc[:, data_test.columns])\n",
    "prediction = xgb_classifier.predict_proba(data_test).tolist()\n",
    "print(\"EN-IT Map Score: {}\".format(MAP_score(feature_retrieval_it['source_id'],target_test,prediction)))\n",
    "\n",
    "# EN-PL\n",
    "target_test = feature_retrieval_pl['Translation'].astype(float)\n",
    "data_test = feature_retrieval_pl.drop(columns=['Translation','source_id','target_id'])\n",
    "data_test = data_test.loc[:, xgb_best_features_]\n",
    "data_test.loc[:, data_test.columns] = scaler.transform(data_test.loc[:, data_test.columns])\n",
    "prediction = xgb_classifier.predict_proba(data_test).tolist()\n",
    "print(\"EN-PL Map Score: {}\".format(MAP_score(feature_retrieval_pl['source_id'],target_test,prediction)))"
   ]
  },
  {
   "cell_type": "code",
   "execution_count": null,
   "metadata": {},
   "outputs": [],
   "source": []
  }
 ],
 "metadata": {
  "kernelspec": {
   "display_name": "Python 3",
   "language": "python",
   "name": "python3"
  },
  "language_info": {
   "codemirror_mode": {
    "name": "ipython",
    "version": 3
   },
   "file_extension": ".py",
   "mimetype": "text/x-python",
   "name": "python",
   "nbconvert_exporter": "python",
   "pygments_lexer": "ipython3",
   "version": "3.6.12"
  }
 },
 "nbformat": 4,
 "nbformat_minor": 4
}
