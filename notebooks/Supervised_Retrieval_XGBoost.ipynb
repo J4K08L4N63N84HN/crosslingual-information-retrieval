{
 "cells": [
  {
   "cell_type": "markdown",
   "metadata": {
    "pycharm": {
     "name": "#%% md\n"
    }
   },
   "source": [
    "# Supervised Retrieval"
   ]
  },
  {
   "cell_type": "markdown",
   "metadata": {
    "pycharm": {
     "name": "#%% md\n"
    }
   },
   "source": [
    "In this notebook we use the supervised classification model for a supervised crosslingual information retrieval task."
   ]
  },
  {
   "cell_type": "code",
   "execution_count": 1,
   "metadata": {},
   "outputs": [],
   "source": [
    "import sys\n",
    "import os\n",
    "sys.path.append(os.path.dirname((os.path.abspath(''))))\n",
    "\n",
    "import pandas as pd\n",
    "import numpy as np\n",
    "import seaborn as sn\n",
    "import matplotlib.pyplot as plt\n",
    "from sklearn.metrics import accuracy_score, f1_score, precision_score, recall_score, log_loss\n",
    "from sklearn.model_selection import train_test_split\n",
    "from sklearn import preprocessing\n",
    "from sklearn.neural_network import MLPClassifier\n",
    "from sklearn.naive_bayes import GaussianNB\n",
    "from sklearn.linear_model import LogisticRegression\n",
    "from sklearn.feature_selection import RFECV\n",
    "from src.models.predict_model import MAP_score, threshold_counts, feature_selection, pipeline_model_optimization"
   ]
  },
  {
   "cell_type": "markdown",
   "metadata": {
    "pycharm": {
     "name": "#%% md\n"
    }
   },
   "source": [
    "## I. Import Data"
   ]
  },
  {
   "cell_type": "markdown",
   "metadata": {},
   "source": [
    "In this section we import the feature dataframe for the retrieval task."
   ]
  },
  {
   "cell_type": "code",
   "execution_count": 9,
   "metadata": {},
   "outputs": [],
   "source": [
    "feature_dataframe=pd.read_feather(\"../data/processed/feature_model_en_de.feather\")\n",
    "feature_retrieval=pd.read_feather(\"../data/processed/feature_retrieval_en_de.feather\")\n",
    "feature_dataframe = feature_dataframe.rename(columns={\"id_source\": \"source_id\", \"id_target\": \"target_id\"})\n",
    "feature_retrieval = feature_retrieval.rename(columns={\"id_source\": \"source_id\", \"id_target\": \"target_id\"})\n",
    "\n",
    "\n",
    "# Load Test Data\n",
    "feature_retrieval_de = pd.read_feather(\"../data/processed/feature_retrieval_en_de_testset.feather\")\n",
    "feature_retrieval_de = feature_retrieval_de.rename(columns={\"id_source\": \"source_id\", \"id_target\": \"target_id\"})\n",
    "\n",
    "feature_retrieval_pl = pd.read_feather(\"../data/processed/feature_retrieval_en_pl.feather\")\n",
    "feature_retrieval_pl = feature_retrieval_pl.rename(columns={\"id_source\": \"source_id\", \"id_target\": \"target_id\"})\n",
    "\n",
    "feature_retrieval_it = pd.read_feather(\"../data/processed/feature_retrieval_en_it.feather\")\n",
    "feature_retrieval_it = feature_retrieval_it.rename(columns={\"id_source\": \"source_id\", \"id_target\": \"target_id\"})\n",
    "\n",
    "feature_retrieval_doc = pd.read_feather(\"../data/processed/feature_retrieval_doc.feather\")\n",
    "feature_retrieval_doc = feature_retrieval_doc.rename(columns={\"id_source\": \"source_id\", \"id_target\": \"target_id\"})"
   ]
  },
  {
   "cell_type": "markdown",
   "metadata": {},
   "source": [
    "#### Delete all columns with only one value"
   ]
  },
  {
   "cell_type": "code",
   "execution_count": 3,
   "metadata": {},
   "outputs": [],
   "source": [
    "column_mask = feature_dataframe.apply(threshold_counts, threshold=1)\n",
    "feature_dataframe = feature_dataframe.loc[:, column_mask]\n",
    "feature_retrieval = feature_retrieval.loc[:, column_mask]\n"
   ]
  },
  {
   "cell_type": "markdown",
   "metadata": {},
   "source": [
    "## II. Supervised Retrieval"
   ]
  },
  {
   "cell_type": "markdown",
   "metadata": {},
   "source": [
    "#### Start with one feature"
   ]
  },
  {
   "cell_type": "code",
   "execution_count": 4,
   "metadata": {},
   "outputs": [],
   "source": [
    "start_features = [\"jaccard_translation_proc_5k\"]\n",
    "not_add = [\"Translation\", \"source_id\", \"target_id\"]\n",
    "added_features = feature_dataframe.columns[~feature_dataframe.columns.isin(start_features+not_add)]"
   ]
  },
  {
   "cell_type": "markdown",
   "metadata": {},
   "source": [
    "# XGBoost"
   ]
  },
  {
   "cell_type": "code",
   "execution_count": 5,
   "metadata": {
    "scrolled": true
   },
   "outputs": [
    {
     "name": "stdout",
     "output_type": "stream",
     "text": [
      "-----------------First do Forward Selection-----------------\n",
      "\n",
      "Current Iteration through feature list: 1\n",
      "The initial MAP score on test set: 0.7689\n",
      "Updated MAP score on test set with new feature cosine_similarity_tf_idf_vecmap: 0.7933\n",
      "Updated MAP score on test set with new feature cosine_similarity_average_vecmap: 0.7956\n",
      "Updated MAP score on test set with new feature number_]_difference_normalized: 0.7971\n",
      "Updated MAP score on test set with new feature number_?_difference_normalized: 0.8087\n",
      "Updated MAP score on test set with new feature number_-_difference_relative: 0.8207\n",
      "\n",
      "Current Iteration through feature list: 2\n",
      "The initial MAP score on test set: 0.8207\n",
      "Updated MAP score on test set with new feature number_[_difference_normalized: 0.8252\n",
      "\n",
      "Current Iteration through feature list: 3\n",
      "The initial MAP score on test set: 0.8252\n",
      "Updated MAP score on test set with new feature jaccard_numbers_source: 0.8330\n",
      "\n",
      "Current Iteration through feature list: 4\n",
      "The initial MAP score on test set: 0.8330\n"
     ]
    },
    {
     "name": "stderr",
     "output_type": "stream",
     "text": [
      "\r",
      "Hyperparameter Tuning:   0%|          | 0/108 [00:00<?, ?it/s]"
     ]
    },
    {
     "name": "stdout",
     "output_type": "stream",
     "text": [
      "\n",
      "-----------------Result of Feature Selection-----------------\n",
      "\n",
      "Best MAP Score after feature selection: 0.8330139822214722\n",
      "\n",
      "\n",
      "-----------------Start Hyperparameter-tuning with Grid Search-----------------\n",
      "Number of Parameter Combinations: 108\n"
     ]
    },
    {
     "name": "stderr",
     "output_type": "stream",
     "text": [
      "\r",
      "Hyperparameter Tuning:   1%|          | 1/108 [00:04<07:59,  4.49s/it]"
     ]
    },
    {
     "name": "stdout",
     "output_type": "stream",
     "text": [
      "\n",
      "Current Best Hyperpamaters: {'verbosity': 0, 'use_label_encoder': False, 'random_state': 42, 'min_child_weight': 1, 'gamma': 0.5, 'subsample': 0.6, 'colsample_bytree': 0.6, 'max_depth': 3, 'MAP_score': 0.8102546653754751}\n",
      "With Map Score 0.8103\n"
     ]
    },
    {
     "name": "stderr",
     "output_type": "stream",
     "text": [
      "\r",
      "Hyperparameter Tuning:   2%|▏         | 2/108 [00:10<08:38,  4.89s/it]"
     ]
    },
    {
     "name": "stdout",
     "output_type": "stream",
     "text": [
      "\n",
      "Current Best Hyperpamaters: {'verbosity': 0, 'use_label_encoder': False, 'random_state': 42, 'min_child_weight': 1, 'gamma': 0.5, 'subsample': 0.6, 'colsample_bytree': 0.6, 'max_depth': 4, 'MAP_score': 0.8174467051651921}\n",
      "With Map Score 0.8174\n"
     ]
    },
    {
     "name": "stderr",
     "output_type": "stream",
     "text": [
      "Hyperparameter Tuning:   4%|▎         | 4/108 [00:21<08:50,  5.10s/it]"
     ]
    },
    {
     "name": "stdout",
     "output_type": "stream",
     "text": [
      "\n",
      "Current Best Hyperpamaters: {'verbosity': 0, 'use_label_encoder': False, 'random_state': 42, 'min_child_weight': 1, 'gamma': 0.5, 'subsample': 0.6, 'colsample_bytree': 0.8, 'max_depth': 3, 'MAP_score': 0.8283726610502967}\n",
      "With Map Score 0.8284\n"
     ]
    },
    {
     "name": "stderr",
     "output_type": "stream",
     "text": [
      "\r",
      "Hyperparameter Tuning:   5%|▍         | 5/108 [00:27<09:11,  5.35s/it]"
     ]
    },
    {
     "name": "stdout",
     "output_type": "stream",
     "text": [
      "\n",
      "Current Best Hyperpamaters: {'verbosity': 0, 'use_label_encoder': False, 'random_state': 42, 'min_child_weight': 1, 'gamma': 0.5, 'subsample': 0.6, 'colsample_bytree': 0.8, 'max_depth': 4, 'MAP_score': 0.8324104205462614}\n",
      "With Map Score 0.8324\n"
     ]
    },
    {
     "name": "stderr",
     "output_type": "stream",
     "text": [
      "Hyperparameter Tuning:   9%|▉         | 10/108 [00:59<10:34,  6.48s/it]"
     ]
    },
    {
     "name": "stdout",
     "output_type": "stream",
     "text": [
      "\n",
      "Current Best Hyperpamaters: {'verbosity': 0, 'use_label_encoder': False, 'random_state': 42, 'min_child_weight': 1, 'gamma': 0.5, 'subsample': 0.8, 'colsample_bytree': 0.6, 'max_depth': 3, 'MAP_score': 0.832892520075553}\n",
      "With Map Score 0.8329\n"
     ]
    },
    {
     "name": "stderr",
     "output_type": "stream",
     "text": [
      "Hyperparameter Tuning:  16%|█▌        | 17/108 [01:47<10:46,  7.10s/it]"
     ]
    },
    {
     "name": "stdout",
     "output_type": "stream",
     "text": [
      "\n",
      "Current Best Hyperpamaters: {'verbosity': 0, 'use_label_encoder': False, 'random_state': 42, 'min_child_weight': 1, 'gamma': 0.5, 'subsample': 0.8, 'colsample_bytree': 1.0, 'max_depth': 4, 'MAP_score': 0.833349721145063}\n",
      "With Map Score 0.8333\n"
     ]
    },
    {
     "name": "stderr",
     "output_type": "stream",
     "text": [
      "Hyperparameter Tuning:  18%|█▊        | 19/108 [02:00<09:36,  6.48s/it]"
     ]
    },
    {
     "name": "stdout",
     "output_type": "stream",
     "text": [
      "\n",
      "Current Best Hyperpamaters: {'verbosity': 0, 'use_label_encoder': False, 'random_state': 42, 'min_child_weight': 1, 'gamma': 1, 'subsample': 0.6, 'colsample_bytree': 0.6, 'max_depth': 3, 'MAP_score': 0.8357483985293337}\n",
      "With Map Score 0.8357\n"
     ]
    },
    {
     "name": "stderr",
     "output_type": "stream",
     "text": [
      "Hyperparameter Tuning: 100%|██████████| 108/108 [11:13<00:00,  6.24s/it]"
     ]
    },
    {
     "name": "stdout",
     "output_type": "stream",
     "text": [
      "\n",
      "-----------------Result of Hyperparameter Tuning-----------------\n",
      "\n",
      "Best Hyperamater Settting: {'verbosity': 0, 'use_label_encoder': False, 'random_state': 42, 'min_child_weight': 1, 'gamma': 1, 'subsample': 0.6, 'colsample_bytree': 0.6, 'max_depth': 3}\n",
      "With MAP Score: 0.8357\n"
     ]
    },
    {
     "name": "stderr",
     "output_type": "stream",
     "text": [
      "\n"
     ]
    }
   ],
   "source": [
    "from xgboost import XGBClassifier\n",
    "\n",
    "start_features = [\"jaccard_translation_proc_5k\"]\n",
    "not_add = [\"Translation\", \"source_id\", \"target_id\"]\n",
    "added_features = feature_dataframe.columns[~feature_dataframe.columns.isin(start_features+not_add)]\n",
    "\n",
    "xgb = XGBClassifier(verbosity = 0, use_label_encoder=False, random_state=42)\n",
    "scaler = preprocessing.StandardScaler()\n",
    "\n",
    "xgb_parameter_grid = {\"verbosity\": [0],\n",
    "                      \"use_label_encoder\": [False],\n",
    "                      \"random_state\": [42],\n",
    "                      'min_child_weight': [1, 5],\n",
    "                      'gamma': [0.5, 1,  5],\n",
    "                      'subsample': [0.6, 0.8],\n",
    "                      'colsample_bytree': [0.6, 0.8, 1.0],\n",
    "                      'max_depth': [3, 4, 5]}\n",
    "\n",
    "xgb_best_features, xgb_best_parameter_combination, xgb_best_map_score, xgb_all_parameter_combination = \\\n",
    "pipeline_model_optimization(xgb, xgb_parameter_grid, scaler, feature_dataframe, \n",
    "                            feature_retrieval, start_features, \n",
    "                            added_features, \n",
    "                            threshold_map_feature_selection=0.001)"
   ]
  },
  {
   "cell_type": "code",
   "execution_count": 6,
   "metadata": {},
   "outputs": [
    {
     "data": {
      "text/plain": [
       "['jaccard_translation_proc_5k',\n",
       " 'cosine_similarity_tf_idf_vecmap',\n",
       " 'cosine_similarity_average_vecmap',\n",
       " 'number_]_difference_normalized',\n",
       " 'number_?_difference_normalized',\n",
       " 'number_-_difference_relative',\n",
       " 'number_[_difference_normalized',\n",
       " 'jaccard_numbers_source']"
      ]
     },
     "execution_count": 6,
     "metadata": {},
     "output_type": "execute_result"
    }
   ],
   "source": [
    "xgb_best_features"
   ]
  },
  {
   "cell_type": "code",
   "execution_count": 7,
   "metadata": {},
   "outputs": [],
   "source": [
    "xgb_best_features_ = ['jaccard_translation_proc_5k',\n",
    " 'cosine_similarity_tf_idf_vecmap',\n",
    " 'cosine_similarity_average_vecmap',\n",
    " 'number_]_difference_normalized',\n",
    " 'number_?_difference_normalized',\n",
    " 'number_-_difference_relative',\n",
    " 'number_[_difference_normalized',\n",
    " 'jaccard_numbers_source']\n",
    "\n",
    "xgb_best_hyperparameters = {'verbosity': 0, 'use_label_encoder': False, 'random_state': 42, 'min_child_weight': 1, 'gamma': 1, 'subsample': 0.6, 'colsample_bytree': 0.6, 'max_depth': 3}"
   ]
  },
  {
   "cell_type": "markdown",
   "metadata": {},
   "source": [
    "# Evaluate on Test Set"
   ]
  },
  {
   "cell_type": "code",
   "execution_count": 10,
   "metadata": {},
   "outputs": [
    {
     "name": "stdout",
     "output_type": "stream",
     "text": [
      "Model was trained on EN-DE Parallel Sentences.\n",
      "\n",
      "EN-DE Map Score: 0.8431334195285983\n",
      "EN-IT Map Score: 0.8686442751667981\n",
      "EN-PL Map Score: 0.8664685384247898\n",
      "EN-PL Map Score: 0.0021624042275190146\n"
     ]
    }
   ],
   "source": [
    "from xgboost import XGBClassifier\n",
    "\n",
    "target_train=feature_dataframe['Translation'].astype(float)\n",
    "data_train=feature_dataframe.drop(columns=['Translation','source_id','target_id'])\n",
    "data_train = data_train.loc[:, xgb_best_features_]\n",
    "scaler = preprocessing.StandardScaler()\n",
    "data_train.loc[:, data_train.columns] = scaler.fit_transform(data_train.loc[:, data_train.columns])\n",
    "\n",
    "print(\"Model was trained on EN-DE Parallel Sentences.\\n\")\n",
    "xgb_classifier = XGBClassifier(**xgb_best_hyperparameters).fit(data_train.to_numpy(), target_train.to_numpy())\n",
    "\n",
    "# EN-DE\n",
    "target_test = feature_retrieval_de['Translation'].astype(float)\n",
    "data_test = feature_retrieval_de.drop(columns=['Translation','source_id','target_id'])\n",
    "data_test = data_test.loc[:, xgb_best_features_]\n",
    "data_test.loc[:, data_test.columns] = scaler.transform(data_test.loc[:, data_test.columns])\n",
    "prediction = xgb_classifier.predict_proba(data_test).tolist()\n",
    "print(\"EN-DE Map Score: {}\".format(MAP_score(feature_retrieval_de['source_id'],target_test,prediction)))\n",
    "\n",
    "# EN-IT\n",
    "target_test = feature_retrieval_it['Translation'].astype(float)\n",
    "data_test = feature_retrieval_it.drop(columns=['Translation','source_id','target_id'])\n",
    "data_test = data_test.loc[:, xgb_best_features_]\n",
    "data_test.loc[:, data_test.columns] = scaler.transform(data_test.loc[:, data_test.columns])\n",
    "prediction = xgb_classifier.predict_proba(data_test).tolist()\n",
    "print(\"EN-IT Map Score: {}\".format(MAP_score(feature_retrieval_it['source_id'],target_test,prediction)))\n",
    "\n",
    "# EN-PL\n",
    "target_test = feature_retrieval_pl['Translation'].astype(float)\n",
    "data_test = feature_retrieval_pl.drop(columns=['Translation','source_id','target_id'])\n",
    "data_test = data_test.loc[:, xgb_best_features_]\n",
    "data_test.loc[:, data_test.columns] = scaler.transform(data_test.loc[:, data_test.columns])\n",
    "prediction = xgb_classifier.predict_proba(data_test).tolist()\n",
    "print(\"EN-PL Map Score: {}\".format(MAP_score(feature_retrieval_pl['source_id'],target_test,prediction)))\n",
    "\n",
    "# Document Corpus\n",
    "target_test = feature_retrieval_doc['Translation'].astype(float)\n",
    "data_test = feature_retrieval_doc.drop(columns=['Translation','source_id','target_id'])\n",
    "data_test = data_test.loc[:, xgb_best_features_]\n",
    "data_test.loc[:, data_test.columns] = scaler.transform(data_test.loc[:, data_test.columns])\n",
    "prediction = xgb_classifier.predict_proba(data_test).tolist()\n",
    "print(\"EN-PL Map Score: {}\".format(MAP_score(feature_retrieval_doc['source_id'],target_test,prediction)))"
   ]
  },
  {
   "cell_type": "code",
   "execution_count": null,
   "metadata": {},
   "outputs": [],
   "source": []
  }
 ],
 "metadata": {
  "kernelspec": {
   "display_name": "Python 3",
   "language": "python",
   "name": "python3"
  },
  "language_info": {
   "codemirror_mode": {
    "name": "ipython",
    "version": 3
   },
   "file_extension": ".py",
   "mimetype": "text/x-python",
   "name": "python",
   "nbconvert_exporter": "python",
   "pygments_lexer": "ipython3",
   "version": "3.6.12"
  }
 },
 "nbformat": 4,
 "nbformat_minor": 4
}
