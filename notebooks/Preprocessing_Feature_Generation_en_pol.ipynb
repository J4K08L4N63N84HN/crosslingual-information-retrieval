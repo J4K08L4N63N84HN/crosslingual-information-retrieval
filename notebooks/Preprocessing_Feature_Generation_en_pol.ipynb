{
 "cells": [
  {
   "cell_type": "markdown",
   "metadata": {
    "pycharm": {
     "name": "#%% md\n"
    }
   },
   "source": [
    "# Preprocessing and Feature Creation"
   ]
  },
  {
   "cell_type": "markdown",
   "metadata": {
    "pycharm": {
     "name": "#%% md\n"
    }
   },
   "source": [
    "In this notebook we import the data, preprocess the data and create features for supervised and unsupervised cross-lingual-information retrieval models."
   ]
  },
  {
   "cell_type": "markdown",
   "metadata": {
    "pycharm": {
     "name": "#%% md\n"
    }
   },
   "source": [
    "## I. Import Data"
   ]
  },
  {
   "cell_type": "markdown",
   "metadata": {},
   "source": [
    "In this section we import the English and German europarl datasets and combine them into a parallel sentence translation dataframe."
   ]
  },
  {
   "cell_type": "code",
   "execution_count": null,
   "metadata": {},
   "outputs": [],
   "source": [
    "%load_ext autoreload\n",
    "%autoreload 2"
   ]
  },
  {
   "cell_type": "code",
   "execution_count": 1,
   "metadata": {},
   "outputs": [],
   "source": [
    "import os\n",
    "import sys\n",
    "sys.path.append(os.path.dirname((os.path.abspath(''))))\n",
    "\n",
    "from src.data import create_data_subset"
   ]
  },
  {
   "cell_type": "code",
   "execution_count": 2,
   "metadata": {},
   "outputs": [
    {
     "name": "stdout",
     "output_type": "stream",
     "text": [
      "Finished function: 'load_doc' in 0.86 seconds.\n",
      "Finished function: 'to_sentences' in 0.41 seconds.\n",
      "Finished function: 'load_doc' in 0.78 seconds.\n",
      "Finished function: 'to_sentences' in 0.48 seconds.\n",
      "Sampled dataframe saved in: ../data/interim/europarl_en_pl.pkl\n",
      "Finished function: 'create_data_subset' in 3.32 seconds.\n"
     ]
    }
   ],
   "source": [
    "create_data_subset(sentence_data_source_path='../data/external/europarl-v7.pl-en.en',\n",
    "                   sentence_data_target_path='../data/external/europarl-v7.pl-en.pl',\n",
    "                   sample_size=25000,\n",
    "                   sentence_data_sampled_path=\"../data/interim/europarl_en_pl.pkl\",)"
   ]
  },
  {
   "cell_type": "code",
   "execution_count": null,
   "metadata": {},
   "outputs": [],
   "source": [
    "!python -m spacy download pl_core_news_sm"
   ]
  },
  {
   "cell_type": "markdown",
   "metadata": {
    "pycharm": {
     "name": "#%% md\n"
    }
   },
   "source": [
    "## II. Preprocess data"
   ]
  },
  {
   "cell_type": "markdown",
   "metadata": {},
   "source": [
    "In this section we preprocess the parallel sentence data for the feature generation"
   ]
  },
  {
   "cell_type": "code",
   "execution_count": 6,
   "metadata": {},
   "outputs": [],
   "source": [
    "import spacy\n",
    "from nltk.corpus import stopwords\n",
    "from textblob import TextBlob as textblob_source\n",
    "from textblob_de import TextBlobDE as textblob_target\n",
    "import en_core_web_sm\n",
    "# import de_core_news_sm\n",
    "# import it_core_news_sm\n",
    "import pl_core_news_sm\n",
    "import time\n",
    "from src.data import PreprocessingEuroParl\n",
    "from stop_words import get_stop_words"
   ]
  },
  {
   "cell_type": "code",
   "execution_count": 7,
   "metadata": {
    "pycharm": {
     "is_executing": true
    }
   },
   "outputs": [],
   "source": [
    "stopwords_source = stopwords.words('english')\n",
    "# stopwords_target = stopwords.words('german') # German stopwords\n",
    "# stopwords_target = stopwords.words('italian') # Italian stopwords\n",
    "stopwords_target = get_stop_words('polish') # Polish stopwords\n",
    "nlp_source = en_core_web_sm.load()\n",
    "# nlp_target = de_core_news_sm.load() # German pipeline\n",
    "# nlp_target = it_core_news_sm.load() # Italian pipeline\n",
    "nlp_target = pl_core_news_sm.load() # Polish pipeline"
   ]
  },
  {
   "cell_type": "code",
   "execution_count": 8,
   "metadata": {},
   "outputs": [
    {
     "name": "stdout",
     "output_type": "stream",
     "text": [
      "Finished function: 'import_data' in 0.06 seconds.\n"
     ]
    }
   ],
   "source": [
    "# parallel_sentences = PreprocessingEuroParl(df_sampled_path=\"../data/interim/europarl_en_de.pkl\") # German\n",
    "# parallel_sentences = PreprocessingEuroParl(df_sampled_path=\"../data/interim/europarl_en_it.pkl\") # Italien\n",
    "parallel_sentences = PreprocessingEuroParl(df_sampled_path=\"../data/interim/europarl_en_pl.pkl\") # Polnisch"
   ]
  },
  {
   "cell_type": "code",
   "execution_count": 9,
   "metadata": {},
   "outputs": [
    {
     "name": "stderr",
     "output_type": "stream",
     "text": [
      "100%|██████████| 25000/25000 [03:58<00:00, 104.69it/s]\n",
      " 10%|█         | 2625/25000 [00:00<00:01, 11405.80it/s]"
     ]
    },
    {
     "name": "stdout",
     "output_type": "stream",
     "text": [
      "Finished function: 'spacy' in 238.82 seconds.\n"
     ]
    },
    {
     "name": "stderr",
     "output_type": "stream",
     "text": [
      "100%|██████████| 25000/25000 [00:01<00:00, 24206.65it/s]\n",
      " 64%|██████▍   | 16080/25000 [00:00<00:00, 73045.86it/s]"
     ]
    },
    {
     "name": "stdout",
     "output_type": "stream",
     "text": [
      "Finished function: 'remove_punctuation' in 1.04 seconds.\n"
     ]
    },
    {
     "name": "stderr",
     "output_type": "stream",
     "text": [
      "100%|██████████| 25000/25000 [00:00<00:00, 85825.46it/s]\n",
      " 14%|█▍        | 3507/25000 [00:00<00:00, 35066.86it/s]"
     ]
    },
    {
     "name": "stdout",
     "output_type": "stream",
     "text": [
      "Finished function: 'remove_numbers' in 0.3 seconds.\n"
     ]
    },
    {
     "name": "stderr",
     "output_type": "stream",
     "text": [
      "100%|██████████| 25000/25000 [00:00<00:00, 47910.81it/s]\n",
      " 71%|███████▏  | 17861/25000 [00:00<00:00, 21962.04it/s] "
     ]
    },
    {
     "name": "stdout",
     "output_type": "stream",
     "text": [
      "Finished function: 'lemmatize' in 0.52 seconds.\n"
     ]
    },
    {
     "name": "stderr",
     "output_type": "stream",
     "text": [
      "100%|██████████| 25000/25000 [00:00<00:00, 35292.34it/s]\n",
      "  9%|▉         | 2325/25000 [00:00<00:00, 23237.50it/s]"
     ]
    },
    {
     "name": "stdout",
     "output_type": "stream",
     "text": [
      "Finished function: 'lowercase_spacy' in 0.71 seconds.\n"
     ]
    },
    {
     "name": "stderr",
     "output_type": "stream",
     "text": [
      "100%|██████████| 25000/25000 [00:01<00:00, 22346.87it/s]\n",
      "  0%|          | 2/25000 [00:00<29:14, 14.25it/s]"
     ]
    },
    {
     "name": "stdout",
     "output_type": "stream",
     "text": [
      "Finished function: 'remove_stopwords' in 1.12 seconds.\n",
      "Finished function: 'create_cleaned_token_embedding' in 242.98 seconds.\n"
     ]
    },
    {
     "name": "stderr",
     "output_type": "stream",
     "text": [
      "100%|██████████| 25000/25000 [05:30<00:00, 75.64it/s]  \n",
      "  2%|▏         | 417/25000 [00:00<00:05, 4138.50it/s]"
     ]
    },
    {
     "name": "stdout",
     "output_type": "stream",
     "text": [
      "Finished function: 'spacy' in 330.52 seconds.\n"
     ]
    },
    {
     "name": "stderr",
     "output_type": "stream",
     "text": [
      "100%|██████████| 25000/25000 [00:02<00:00, 9481.21it/s]\n",
      "100%|██████████| 25000/25000 [00:00<00:00, 163378.71it/s]\n",
      "  0%|          | 0/25000 [00:00<?, ?it/s]"
     ]
    },
    {
     "name": "stdout",
     "output_type": "stream",
     "text": [
      "Finished function: 'remove_punctuation' in 2.64 seconds.\n",
      "Finished function: 'remove_numbers' in 0.15 seconds.\n"
     ]
    },
    {
     "name": "stderr",
     "output_type": "stream",
     "text": [
      "100%|██████████| 25000/25000 [00:00<00:00, 70491.04it/s]\n",
      "100%|██████████| 25000/25000 [00:00<00:00, 161316.41it/s]\n",
      "  0%|          | 0/25000 [00:00<?, ?it/s]"
     ]
    },
    {
     "name": "stdout",
     "output_type": "stream",
     "text": [
      "Finished function: 'lemmatize' in 0.36 seconds.\n",
      "Finished function: 'lowercase_spacy' in 0.16 seconds.\n"
     ]
    },
    {
     "name": "stderr",
     "output_type": "stream",
     "text": [
      "100%|██████████| 25000/25000 [00:00<00:00, 31347.33it/s]\n",
      "  0%|          | 1/25000 [00:00<53:02,  7.86it/s]"
     ]
    },
    {
     "name": "stdout",
     "output_type": "stream",
     "text": [
      "Finished function: 'remove_stopwords' in 0.8 seconds.\n",
      "Finished function: 'create_cleaned_token_embedding' in 338.15 seconds.\n"
     ]
    },
    {
     "name": "stderr",
     "output_type": "stream",
     "text": [
      "100%|██████████| 25000/25000 [00:05<00:00, 4916.16it/s]\n",
      "  9%|▉         | 2260/25000 [00:00<00:01, 22597.70it/s]"
     ]
    },
    {
     "name": "stdout",
     "output_type": "stream",
     "text": [
      "Finished function: 'tokenize_sentence' in 5.09 seconds.\n"
     ]
    },
    {
     "name": "stderr",
     "output_type": "stream",
     "text": [
      "100%|██████████| 25000/25000 [00:01<00:00, 23064.49it/s]\n",
      "100%|██████████| 25000/25000 [00:00<00:00, 211009.53it/s]\n",
      "  0%|          | 0/25000 [00:00<?, ?it/s]"
     ]
    },
    {
     "name": "stdout",
     "output_type": "stream",
     "text": [
      "Finished function: 'remove_stopwords' in 1.09 seconds.\n",
      "Finished function: 'strip_whitespace' in 0.12 seconds.\n"
     ]
    },
    {
     "name": "stderr",
     "output_type": "stream",
     "text": [
      "100%|██████████| 25000/25000 [00:00<00:00, 184612.35it/s]\n",
      "  9%|▉         | 2228/25000 [00:00<00:01, 22278.00it/s]"
     ]
    },
    {
     "name": "stdout",
     "output_type": "stream",
     "text": [
      "Finished function: 'lowercase' in 0.14 seconds.\n"
     ]
    },
    {
     "name": "stderr",
     "output_type": "stream",
     "text": [
      "100%|██████████| 25000/25000 [00:01<00:00, 23138.81it/s]\n",
      "  1%|▏         | 372/25000 [00:00<00:06, 3716.55it/s]"
     ]
    },
    {
     "name": "stdout",
     "output_type": "stream",
     "text": [
      "Finished function: 'remove_stopwords' in 1.08 seconds.\n",
      "Finished function: 'create_cleaned_text' in 7.55 seconds.\n"
     ]
    },
    {
     "name": "stderr",
     "output_type": "stream",
     "text": [
      "100%|██████████| 25000/25000 [00:05<00:00, 4462.57it/s]\n",
      " 22%|██▏       | 5435/25000 [00:00<00:00, 26778.45it/s]"
     ]
    },
    {
     "name": "stdout",
     "output_type": "stream",
     "text": [
      "Finished function: 'tokenize_sentence' in 5.61 seconds.\n"
     ]
    },
    {
     "name": "stderr",
     "output_type": "stream",
     "text": [
      "100%|██████████| 25000/25000 [00:01<00:00, 19592.81it/s]\n",
      "100%|██████████| 25000/25000 [00:00<00:00, 203908.30it/s]\n",
      "  0%|          | 0/25000 [00:00<?, ?it/s]"
     ]
    },
    {
     "name": "stdout",
     "output_type": "stream",
     "text": [
      "Finished function: 'remove_stopwords' in 1.28 seconds.\n",
      "Finished function: 'strip_whitespace' in 0.12 seconds.\n"
     ]
    },
    {
     "name": "stderr",
     "output_type": "stream",
     "text": [
      "100%|██████████| 25000/25000 [00:00<00:00, 139551.68it/s]\n",
      " 11%|█         | 2646/25000 [00:00<00:00, 26459.46it/s]"
     ]
    },
    {
     "name": "stdout",
     "output_type": "stream",
     "text": [
      "Finished function: 'lowercase' in 0.18 seconds.\n"
     ]
    },
    {
     "name": "stderr",
     "output_type": "stream",
     "text": [
      "100%|██████████| 25000/25000 [00:00<00:00, 27126.56it/s]"
     ]
    },
    {
     "name": "stdout",
     "output_type": "stream",
     "text": [
      "Finished function: 'remove_stopwords' in 0.92 seconds.\n",
      "Finished function: 'create_cleaned_text' in 8.16 seconds.\n"
     ]
    },
    {
     "name": "stderr",
     "output_type": "stream",
     "text": [
      "\n"
     ]
    }
   ],
   "source": [
    "parallel_sentences.preprocess_sentences(nlp_source, nlp_target, stopwords_source, stopwords_target)"
   ]
  },
  {
   "cell_type": "code",
   "execution_count": 10,
   "metadata": {
    "pycharm": {
     "is_executing": true
    }
   },
   "outputs": [
    {
     "name": "stderr",
     "output_type": "stream",
     "text": [
      "100%|██████████| 25000/25000 [00:00<00:00, 117305.34it/s]\n",
      " 44%|████▍     | 11004/25000 [00:00<00:00, 110032.23it/s]"
     ]
    },
    {
     "name": "stdout",
     "output_type": "stream",
     "text": [
      "Finished function: 'number_punctuations_total' in 0.22 seconds.\n"
     ]
    },
    {
     "name": "stderr",
     "output_type": "stream",
     "text": [
      "100%|██████████| 25000/25000 [00:00<00:00, 91285.54it/s] \n",
      "100%|██████████| 25000/25000 [00:00<00:00, 248553.70it/s]\n",
      "  0%|          | 0/25000 [00:00<?, ?it/s]"
     ]
    },
    {
     "name": "stdout",
     "output_type": "stream",
     "text": [
      "Finished function: 'number_punctuations_total' in 0.28 seconds.\n",
      "Finished function: 'number_words' in 0.1 seconds.\n"
     ]
    },
    {
     "name": "stderr",
     "output_type": "stream",
     "text": [
      "100%|██████████| 25000/25000 [00:00<00:00, 254235.99it/s]\n",
      " 22%|██▏       | 5482/25000 [00:00<00:00, 54818.35it/s]"
     ]
    },
    {
     "name": "stdout",
     "output_type": "stream",
     "text": [
      "Finished function: 'number_words' in 0.1 seconds.\n"
     ]
    },
    {
     "name": "stderr",
     "output_type": "stream",
     "text": [
      "100%|██████████| 25000/25000 [00:00<00:00, 56174.73it/s]\n",
      " 39%|███▉      | 9717/25000 [00:00<00:00, 47922.72it/s]"
     ]
    },
    {
     "name": "stdout",
     "output_type": "stream",
     "text": [
      "Finished function: 'number_unique_words' in 0.45 seconds.\n"
     ]
    },
    {
     "name": "stderr",
     "output_type": "stream",
     "text": [
      "100%|██████████| 25000/25000 [00:00<00:00, 46373.59it/s]\n",
      " 32%|███▏      | 7877/25000 [00:00<00:00, 78766.88it/s]"
     ]
    },
    {
     "name": "stdout",
     "output_type": "stream",
     "text": [
      "Finished function: 'number_unique_words' in 0.54 seconds.\n"
     ]
    },
    {
     "name": "stderr",
     "output_type": "stream",
     "text": [
      "100%|██████████| 25000/25000 [00:00<00:00, 80714.14it/s]\n",
      " 32%|███▏      | 8013/25000 [00:00<00:00, 80126.83it/s]"
     ]
    },
    {
     "name": "stdout",
     "output_type": "stream",
     "text": [
      "Finished function: 'number_characters' in 0.31 seconds.\n"
     ]
    },
    {
     "name": "stderr",
     "output_type": "stream",
     "text": [
      "100%|██████████| 25000/25000 [00:00<00:00, 71760.70it/s]\n",
      "/Users/I534344/Google Drive/crosslingual-information-retrieval/src/data/preprocess_data.py:262: RuntimeWarning: divide by zero encountered in log\n",
      "  return (character_vector / word_vector).replace(np.nan, 0).replace(np.inf, 0).replace(np.log(0), 0)\n",
      "100%|██████████| 25000/25000 [00:00<00:00, 475898.63it/s]\n",
      "100%|██████████| 25000/25000 [00:00<00:00, 391217.37it/s]\n",
      "  0%|          | 0/25000 [00:00<?, ?it/s]"
     ]
    },
    {
     "name": "stdout",
     "output_type": "stream",
     "text": [
      "Finished function: 'number_characters' in 0.35 seconds.\n",
      "Finished function: 'average_characters' in 0.03 seconds.\n",
      "Finished function: 'average_characters' in 0.0 seconds.\n",
      "Finished function: 'number_punctuation_marks' in 0.05 seconds.\n",
      "Finished function: 'number_punctuation_marks' in 0.07 seconds.\n"
     ]
    },
    {
     "name": "stderr",
     "output_type": "stream",
     "text": [
      "100%|██████████| 25000/25000 [00:00<00:00, 436986.78it/s]\n",
      "100%|██████████| 25000/25000 [00:00<00:00, 367301.50it/s]\n",
      "100%|██████████| 25000/25000 [00:00<00:00, 479772.32it/s]\n",
      "100%|██████████| 25000/25000 [00:00<00:00, 376365.19it/s]\n",
      "  0%|          | 0/25000 [00:00<?, ?it/s]"
     ]
    },
    {
     "name": "stdout",
     "output_type": "stream",
     "text": [
      "Finished function: 'number_punctuation_marks' in 0.06 seconds.\n",
      "Finished function: 'number_punctuation_marks' in 0.07 seconds.\n",
      "Finished function: 'number_punctuation_marks' in 0.05 seconds.\n",
      "Finished function: 'number_punctuation_marks' in 0.07 seconds.\n"
     ]
    },
    {
     "name": "stderr",
     "output_type": "stream",
     "text": [
      "100%|██████████| 25000/25000 [00:00<00:00, 423242.97it/s]\n",
      "100%|██████████| 25000/25000 [00:00<00:00, 276096.54it/s]\n",
      "100%|██████████| 25000/25000 [00:00<00:00, 315007.83it/s]\n",
      "  0%|          | 0/25000 [00:00<?, ?it/s]"
     ]
    },
    {
     "name": "stdout",
     "output_type": "stream",
     "text": [
      "Finished function: 'number_punctuation_marks' in 0.06 seconds.\n",
      "Finished function: 'number_punctuation_marks' in 0.09 seconds.\n",
      "Finished function: 'number_punctuation_marks' in 0.08 seconds.\n"
     ]
    },
    {
     "name": "stderr",
     "output_type": "stream",
     "text": [
      "100%|██████████| 25000/25000 [00:00<00:00, 356664.57it/s]\n",
      "100%|██████████| 25000/25000 [00:00<00:00, 464286.00it/s]\n",
      "100%|██████████| 25000/25000 [00:00<00:00, 407497.25it/s]\n",
      "100%|██████████| 25000/25000 [00:00<00:00, 453817.02it/s]\n",
      "  0%|          | 0/25000 [00:00<?, ?it/s]"
     ]
    },
    {
     "name": "stdout",
     "output_type": "stream",
     "text": [
      "Finished function: 'number_punctuation_marks' in 0.07 seconds.\n",
      "Finished function: 'number_punctuation_marks' in 0.06 seconds.\n",
      "Finished function: 'number_punctuation_marks' in 0.06 seconds.\n",
      "Finished function: 'number_punctuation_marks' in 0.06 seconds.\n"
     ]
    },
    {
     "name": "stderr",
     "output_type": "stream",
     "text": [
      "100%|██████████| 25000/25000 [00:00<00:00, 309030.95it/s]\n",
      "100%|██████████| 25000/25000 [00:00<00:00, 337113.92it/s]\n",
      "100%|██████████| 25000/25000 [00:00<00:00, 341580.18it/s]\n",
      "  0%|          | 0/25000 [00:00<?, ?it/s]"
     ]
    },
    {
     "name": "stdout",
     "output_type": "stream",
     "text": [
      "Finished function: 'number_punctuation_marks' in 0.08 seconds.\n",
      "Finished function: 'number_punctuation_marks' in 0.08 seconds.\n",
      "Finished function: 'number_punctuation_marks' in 0.07 seconds.\n"
     ]
    },
    {
     "name": "stderr",
     "output_type": "stream",
     "text": [
      "100%|██████████| 25000/25000 [00:00<00:00, 438720.04it/s]\n",
      "100%|██████████| 25000/25000 [00:00<00:00, 412072.43it/s]\n",
      "100%|██████████| 25000/25000 [00:00<00:00, 514729.47it/s]\n",
      "100%|██████████| 25000/25000 [00:00<00:00, 351142.93it/s]\n",
      "  0%|          | 0/25000 [00:00<?, ?it/s]"
     ]
    },
    {
     "name": "stdout",
     "output_type": "stream",
     "text": [
      "Finished function: 'number_punctuation_marks' in 0.06 seconds.\n",
      "Finished function: 'number_punctuation_marks' in 0.06 seconds.\n",
      "Finished function: 'number_punctuation_marks' in 0.05 seconds.\n",
      "Finished function: 'number_punctuation_marks' in 0.07 seconds.\n"
     ]
    },
    {
     "name": "stderr",
     "output_type": "stream",
     "text": [
      "100%|██████████| 25000/25000 [00:00<00:00, 437462.61it/s]\n",
      "100%|██████████| 25000/25000 [00:00<00:00, 312598.12it/s]\n",
      "100%|██████████| 25000/25000 [00:00<00:00, 386566.10it/s]\n",
      "  0%|          | 0/25000 [00:00<?, ?it/s]"
     ]
    },
    {
     "name": "stdout",
     "output_type": "stream",
     "text": [
      "Finished function: 'number_punctuation_marks' in 0.06 seconds.\n",
      "Finished function: 'number_punctuation_marks' in 0.08 seconds.\n",
      "Finished function: 'number_punctuation_marks' in 0.07 seconds.\n"
     ]
    },
    {
     "name": "stderr",
     "output_type": "stream",
     "text": [
      "100%|██████████| 25000/25000 [00:00<00:00, 337267.89it/s]\n",
      "100%|██████████| 25000/25000 [00:00<00:00, 453013.17it/s]\n",
      "100%|██████████| 25000/25000 [00:00<00:00, 428206.93it/s]\n",
      "100%|██████████| 25000/25000 [00:00<00:00, 470297.81it/s]\n",
      "  0%|          | 0/25000 [00:00<?, ?it/s]"
     ]
    },
    {
     "name": "stdout",
     "output_type": "stream",
     "text": [
      "Finished function: 'number_punctuation_marks' in 0.08 seconds.\n",
      "Finished function: 'number_punctuation_marks' in 0.06 seconds.\n",
      "Finished function: 'number_punctuation_marks' in 0.06 seconds.\n",
      "Finished function: 'number_punctuation_marks' in 0.05 seconds.\n"
     ]
    },
    {
     "name": "stderr",
     "output_type": "stream",
     "text": [
      "100%|██████████| 25000/25000 [00:00<00:00, 366396.68it/s]\n",
      "100%|██████████| 25000/25000 [00:00<00:00, 445069.99it/s]\n",
      "100%|██████████| 25000/25000 [00:00<00:00, 398952.94it/s]\n",
      "100%|██████████| 25000/25000 [00:00<00:00, 464829.35it/s]\n",
      "  0%|          | 0/25000 [00:00<?, ?it/s]"
     ]
    },
    {
     "name": "stdout",
     "output_type": "stream",
     "text": [
      "Finished function: 'number_punctuation_marks' in 0.07 seconds.\n",
      "Finished function: 'number_punctuation_marks' in 0.06 seconds.\n",
      "Finished function: 'number_punctuation_marks' in 0.06 seconds.\n",
      "Finished function: 'number_punctuation_marks' in 0.06 seconds.\n"
     ]
    },
    {
     "name": "stderr",
     "output_type": "stream",
     "text": [
      "100%|██████████| 25000/25000 [00:00<00:00, 346712.34it/s]\n",
      "100%|██████████| 25000/25000 [00:00<00:00, 462698.24it/s]\n",
      "100%|██████████| 25000/25000 [00:00<00:00, 402427.05it/s]\n",
      "100%|██████████| 25000/25000 [00:00<00:00, 437727.41it/s]\n",
      "  0%|          | 0/25000 [00:00<?, ?it/s]"
     ]
    },
    {
     "name": "stdout",
     "output_type": "stream",
     "text": [
      "Finished function: 'number_punctuation_marks' in 0.07 seconds.\n",
      "Finished function: 'number_punctuation_marks' in 0.06 seconds.\n",
      "Finished function: 'number_punctuation_marks' in 0.06 seconds.\n",
      "Finished function: 'number_punctuation_marks' in 0.06 seconds.\n"
     ]
    },
    {
     "name": "stderr",
     "output_type": "stream",
     "text": [
      "100%|██████████| 25000/25000 [00:00<00:00, 327748.62it/s]\n",
      "100%|██████████| 25000/25000 [00:00<00:00, 256855.98it/s]\n",
      "100%|██████████| 25000/25000 [00:00<00:00, 355298.94it/s]\n",
      "  0%|          | 0/25000 [00:00<?, ?it/s]"
     ]
    },
    {
     "name": "stdout",
     "output_type": "stream",
     "text": [
      "Finished function: 'number_punctuation_marks' in 0.08 seconds.\n",
      "Finished function: 'number_punctuation_marks' in 0.1 seconds.\n",
      "Finished function: 'number_punctuation_marks' in 0.07 seconds.\n"
     ]
    },
    {
     "name": "stderr",
     "output_type": "stream",
     "text": [
      "100%|██████████| 25000/25000 [00:00<00:00, 453532.41it/s]\n",
      "100%|██████████| 25000/25000 [00:00<00:00, 349308.76it/s]\n",
      "100%|██████████| 25000/25000 [00:00<00:00, 429074.27it/s]\n",
      "  0%|          | 0/25000 [00:00<?, ?it/s]"
     ]
    },
    {
     "name": "stdout",
     "output_type": "stream",
     "text": [
      "Finished function: 'number_punctuation_marks' in 0.06 seconds.\n",
      "Finished function: 'number_punctuation_marks' in 0.07 seconds.\n",
      "Finished function: 'number_punctuation_marks' in 0.06 seconds.\n"
     ]
    },
    {
     "name": "stderr",
     "output_type": "stream",
     "text": [
      "100%|██████████| 25000/25000 [00:00<00:00, 351711.81it/s]\n",
      "100%|██████████| 25000/25000 [00:00<00:00, 301739.81it/s]\n",
      "100%|██████████| 25000/25000 [00:00<00:00, 369975.09it/s]\n",
      "100%|██████████| 25000/25000 [00:00<00:00, 511268.55it/s]"
     ]
    },
    {
     "name": "stdout",
     "output_type": "stream",
     "text": [
      "Finished function: 'number_punctuation_marks' in 0.07 seconds.\n",
      "Finished function: 'number_punctuation_marks' in 0.08 seconds.\n",
      "Finished function: 'number_punctuation_marks' in 0.07 seconds.\n"
     ]
    },
    {
     "name": "stderr",
     "output_type": "stream",
     "text": [
      "\n",
      "100%|██████████| 25000/25000 [00:00<00:00, 425923.17it/s]\n",
      "100%|██████████| 25000/25000 [00:00<00:00, 489936.13it/s]\n",
      "100%|██████████| 25000/25000 [00:00<00:00, 435017.96it/s]\n",
      "100%|██████████| 25000/25000 [00:00<00:00, 522071.81it/s]"
     ]
    },
    {
     "name": "stdout",
     "output_type": "stream",
     "text": [
      "Finished function: 'number_punctuation_marks' in 0.05 seconds.\n",
      "Finished function: 'number_punctuation_marks' in 0.06 seconds.\n",
      "Finished function: 'number_punctuation_marks' in 0.05 seconds.\n",
      "Finished function: 'number_punctuation_marks' in 0.06 seconds.\n"
     ]
    },
    {
     "name": "stderr",
     "output_type": "stream",
     "text": [
      "\n",
      "100%|██████████| 25000/25000 [00:00<00:00, 416014.09it/s]\n",
      "100%|██████████| 25000/25000 [00:00<00:00, 469670.07it/s]\n",
      "100%|██████████| 25000/25000 [00:00<00:00, 427196.84it/s]\n",
      "  0%|          | 0/25000 [00:00<?, ?it/s]"
     ]
    },
    {
     "name": "stdout",
     "output_type": "stream",
     "text": [
      "Finished function: 'number_punctuation_marks' in 0.05 seconds.\n",
      "Finished function: 'number_punctuation_marks' in 0.06 seconds.\n",
      "Finished function: 'number_punctuation_marks' in 0.05 seconds.\n",
      "Finished function: 'number_punctuation_marks' in 0.06 seconds.\n"
     ]
    },
    {
     "name": "stderr",
     "output_type": "stream",
     "text": [
      "100%|██████████| 25000/25000 [00:00<00:00, 449390.36it/s]\n",
      "100%|██████████| 25000/25000 [00:00<00:00, 341761.65it/s]\n",
      "100%|██████████| 25000/25000 [00:00<00:00, 455486.73it/s]\n",
      "  0%|          | 0/25000 [00:00<?, ?it/s]"
     ]
    },
    {
     "name": "stdout",
     "output_type": "stream",
     "text": [
      "Finished function: 'number_punctuation_marks' in 0.06 seconds.\n",
      "Finished function: 'number_punctuation_marks' in 0.07 seconds.\n",
      "Finished function: 'number_punctuation_marks' in 0.06 seconds.\n"
     ]
    },
    {
     "name": "stderr",
     "output_type": "stream",
     "text": [
      "100%|██████████| 25000/25000 [00:00<00:00, 277672.85it/s]\n",
      "100%|██████████| 25000/25000 [00:00<00:00, 476116.88it/s]\n",
      "100%|██████████| 25000/25000 [00:00<00:00, 412023.86it/s]\n",
      "100%|██████████| 25000/25000 [00:00<00:00, 464372.36it/s]\n",
      "  0%|          | 0/25000 [00:00<?, ?it/s]"
     ]
    },
    {
     "name": "stdout",
     "output_type": "stream",
     "text": [
      "Finished function: 'number_punctuation_marks' in 0.09 seconds.\n",
      "Finished function: 'number_punctuation_marks' in 0.05 seconds.\n",
      "Finished function: 'number_punctuation_marks' in 0.06 seconds.\n",
      "Finished function: 'number_punctuation_marks' in 0.06 seconds.\n"
     ]
    },
    {
     "name": "stderr",
     "output_type": "stream",
     "text": [
      "100%|██████████| 25000/25000 [00:00<00:00, 364505.29it/s]\n",
      "100%|██████████| 25000/25000 [00:00<00:00, 508772.97it/s]\n",
      "100%|██████████| 25000/25000 [00:00<00:00, 429656.22it/s]\n",
      "100%|██████████| 25000/25000 [00:00<00:00, 507080.23it/s]\n",
      "  0%|          | 0/25000 [00:00<?, ?it/s]"
     ]
    },
    {
     "name": "stdout",
     "output_type": "stream",
     "text": [
      "Finished function: 'number_punctuation_marks' in 0.07 seconds.\n",
      "Finished function: 'number_punctuation_marks' in 0.05 seconds.\n",
      "Finished function: 'number_punctuation_marks' in 0.06 seconds.\n",
      "Finished function: 'number_punctuation_marks' in 0.05 seconds.\n"
     ]
    },
    {
     "name": "stderr",
     "output_type": "stream",
     "text": [
      "100%|██████████| 25000/25000 [00:00<00:00, 405685.77it/s]\n",
      "  0%|          | 6/25000 [00:00<07:08, 58.32it/s]"
     ]
    },
    {
     "name": "stdout",
     "output_type": "stream",
     "text": [
      "Finished function: 'number_punctuation_marks' in 0.06 seconds.\n"
     ]
    },
    {
     "name": "stderr",
     "output_type": "stream",
     "text": [
      "100%|██████████| 25000/25000 [03:45<00:00, 110.99it/s]\n",
      "  0%|          | 6/25000 [00:00<07:00, 59.45it/s]"
     ]
    },
    {
     "name": "stdout",
     "output_type": "stream",
     "text": [
      "Finished function: 'spacy' in 225.24 seconds.\n"
     ]
    },
    {
     "name": "stderr",
     "output_type": "stream",
     "text": [
      "100%|██████████| 25000/25000 [04:46<00:00, 87.12it/s] \n",
      "  3%|▎         | 673/25000 [00:00<00:03, 6696.53it/s]"
     ]
    },
    {
     "name": "stdout",
     "output_type": "stream",
     "text": [
      "Finished function: 'spacy' in 286.97 seconds.\n"
     ]
    },
    {
     "name": "stderr",
     "output_type": "stream",
     "text": [
      "100%|██████████| 25000/25000 [00:01<00:00, 17904.72it/s]\n",
      " 10%|▉         | 2446/25000 [00:00<00:00, 24456.82it/s]"
     ]
    },
    {
     "name": "stdout",
     "output_type": "stream",
     "text": [
      "Finished function: 'number_pos' in 1.4 seconds.\n"
     ]
    },
    {
     "name": "stderr",
     "output_type": "stream",
     "text": [
      "100%|██████████| 25000/25000 [00:00<00:00, 36807.19it/s]\n",
      " 30%|██▉       | 7375/25000 [00:00<00:00, 73749.89it/s]"
     ]
    },
    {
     "name": "stdout",
     "output_type": "stream",
     "text": [
      "Finished function: 'number_pos' in 0.68 seconds.\n"
     ]
    },
    {
     "name": "stderr",
     "output_type": "stream",
     "text": [
      "100%|██████████| 25000/25000 [00:00<00:00, 76728.54it/s]\n",
      " 36%|███▌      | 9013/25000 [00:00<00:00, 90117.41it/s]"
     ]
    },
    {
     "name": "stdout",
     "output_type": "stream",
     "text": [
      "Finished function: 'number_pos' in 0.33 seconds.\n"
     ]
    },
    {
     "name": "stderr",
     "output_type": "stream",
     "text": [
      "100%|██████████| 25000/25000 [00:00<00:00, 96913.86it/s]\n",
      " 34%|███▍      | 8594/25000 [00:00<00:00, 85933.12it/s]"
     ]
    },
    {
     "name": "stdout",
     "output_type": "stream",
     "text": [
      "Finished function: 'number_pos' in 0.26 seconds.\n"
     ]
    },
    {
     "name": "stderr",
     "output_type": "stream",
     "text": [
      "100%|██████████| 25000/25000 [00:00<00:00, 87063.99it/s]\n",
      " 41%|████      | 10165/25000 [00:00<00:00, 101639.92it/s]"
     ]
    },
    {
     "name": "stdout",
     "output_type": "stream",
     "text": [
      "Finished function: 'number_pos' in 0.29 seconds.\n"
     ]
    },
    {
     "name": "stderr",
     "output_type": "stream",
     "text": [
      "100%|██████████| 25000/25000 [00:00<00:00, 101679.80it/s]\n",
      "  2%|▏         | 608/25000 [00:00<00:04, 6079.89it/s]"
     ]
    },
    {
     "name": "stdout",
     "output_type": "stream",
     "text": [
      "Finished function: 'number_pos' in 0.25 seconds.\n"
     ]
    },
    {
     "name": "stderr",
     "output_type": "stream",
     "text": [
      "100%|██████████| 25000/25000 [00:04<00:00, 6124.42it/s]\n",
      "  3%|▎         | 686/25000 [00:00<00:03, 6851.71it/s]"
     ]
    },
    {
     "name": "stdout",
     "output_type": "stream",
     "text": [
      "Finished function: 'number_times' in 4.08 seconds.\n"
     ]
    },
    {
     "name": "stderr",
     "output_type": "stream",
     "text": [
      "100%|██████████| 25000/25000 [00:02<00:00, 8955.36it/s] \n",
      "  9%|▉         | 2208/25000 [00:00<00:02, 10986.46it/s]"
     ]
    },
    {
     "name": "stdout",
     "output_type": "stream",
     "text": [
      "Finished function: 'number_times' in 2.79 seconds.\n"
     ]
    },
    {
     "name": "stderr",
     "output_type": "stream",
     "text": [
      "100%|██████████| 25000/25000 [00:02<00:00, 11099.43it/s]\n",
      "  2%|▏         | 584/25000 [00:00<00:04, 5835.39it/s]"
     ]
    },
    {
     "name": "stdout",
     "output_type": "stream",
     "text": [
      "Finished function: 'number_times' in 2.25 seconds.\n"
     ]
    },
    {
     "name": "stderr",
     "output_type": "stream",
     "text": [
      "100%|██████████| 25000/25000 [00:02<00:00, 11840.50it/s]\n",
      "  9%|▉         | 2353/25000 [00:00<00:01, 11577.94it/s]"
     ]
    },
    {
     "name": "stdout",
     "output_type": "stream",
     "text": [
      "Finished function: 'number_times' in 2.11 seconds.\n"
     ]
    },
    {
     "name": "stderr",
     "output_type": "stream",
     "text": [
      "100%|██████████| 25000/25000 [00:02<00:00, 11628.76it/s]\n",
      "  5%|▌         | 1331/25000 [00:00<00:01, 13305.89it/s]"
     ]
    },
    {
     "name": "stdout",
     "output_type": "stream",
     "text": [
      "Finished function: 'number_times' in 2.15 seconds.\n"
     ]
    },
    {
     "name": "stderr",
     "output_type": "stream",
     "text": [
      "100%|██████████| 25000/25000 [00:01<00:00, 13557.51it/s]\n",
      "100%|██████████| 25000/25000 [00:00<00:00, 148436.68it/s]\n",
      "  0%|          | 0/25000 [00:00<?, ?it/s]"
     ]
    },
    {
     "name": "stdout",
     "output_type": "stream",
     "text": [
      "Finished function: 'number_times' in 1.85 seconds.\n",
      "Finished function: 'named_numbers' in 0.17 seconds.\n"
     ]
    },
    {
     "name": "stderr",
     "output_type": "stream",
     "text": [
      "100%|██████████| 25000/25000 [00:00<00:00, 150108.80it/s]"
     ]
    },
    {
     "name": "stdout",
     "output_type": "stream",
     "text": [
      "Finished function: 'named_numbers' in 0.17 seconds.\n"
     ]
    },
    {
     "name": "stderr",
     "output_type": "stream",
     "text": [
      "\n"
     ]
    }
   ],
   "source": [
    "parallel_sentences.extract_sentence_information(nlp_source, nlp_target)"
   ]
  },
  {
   "cell_type": "code",
   "execution_count": 11,
   "metadata": {},
   "outputs": [
    {
     "name": "stdout",
     "output_type": "stream",
     "text": [
      "Finished function: 'load_embeddings' in 1.28 seconds.\n"
     ]
    },
    {
     "name": "stderr",
     "output_type": "stream",
     "text": [
      "  0%|          | 43/25000 [00:00<00:58, 425.92it/s]"
     ]
    },
    {
     "name": "stdout",
     "output_type": "stream",
     "text": [
      "Finished function: 'load_embeddings' in 1.11 seconds.\n"
     ]
    },
    {
     "name": "stderr",
     "output_type": "stream",
     "text": [
      "100%|██████████| 25000/25000 [00:53<00:00, 463.27it/s]\n",
      "  0%|          | 41/25000 [00:00<01:01, 406.46it/s]"
     ]
    },
    {
     "name": "stdout",
     "output_type": "stream",
     "text": [
      "Finished function: 'word_embeddings' in 53.97 seconds.\n"
     ]
    },
    {
     "name": "stderr",
     "output_type": "stream",
     "text": [
      "100%|██████████| 25000/25000 [00:53<00:00, 464.95it/s]\n"
     ]
    },
    {
     "name": "stdout",
     "output_type": "stream",
     "text": [
      "Finished function: 'word_embeddings' in 53.77 seconds.\n"
     ]
    },
    {
     "name": "stderr",
     "output_type": "stream",
     "text": [
      "100%|██████████| 25000/25000 [00:00<00:00, 260614.84it/s]\n",
      " 74%|███████▍  | 18550/25000 [00:00<00:00, 185496.20it/s]"
     ]
    },
    {
     "name": "stdout",
     "output_type": "stream",
     "text": [
      "Finished function: 'create_translation_dictionary' in 68.06 seconds.\n",
      "Finished function: 'translate_words' in 0.1 seconds.\n"
     ]
    },
    {
     "name": "stderr",
     "output_type": "stream",
     "text": [
      "100%|██████████| 25000/25000 [00:00<00:00, 186087.98it/s]\n"
     ]
    },
    {
     "name": "stdout",
     "output_type": "stream",
     "text": [
      "Finished function: 'translate_words' in 0.14 seconds.\n"
     ]
    },
    {
     "name": "stderr",
     "output_type": "stream",
     "text": [
      "100%|██████████| 25000/25000 [00:09<00:00, 2742.28it/s]\n"
     ]
    },
    {
     "name": "stdout",
     "output_type": "stream",
     "text": [
      "Finished function: 'tf_idf_vector' in 9.38 seconds.\n"
     ]
    },
    {
     "name": "stderr",
     "output_type": "stream",
     "text": [
      "100%|██████████| 25000/25000 [00:15<00:00, 1652.17it/s]\n",
      "  0%|          | 2/25000 [00:00<21:03, 19.78it/s]"
     ]
    },
    {
     "name": "stdout",
     "output_type": "stream",
     "text": [
      "Finished function: 'tf_idf_vector' in 15.57 seconds.\n"
     ]
    },
    {
     "name": "stderr",
     "output_type": "stream",
     "text": [
      "100%|██████████| 25000/25000 [00:21<00:00, 1182.08it/s]\n",
      "  1%|          | 165/25000 [00:00<00:15, 1638.34it/s]"
     ]
    },
    {
     "name": "stdout",
     "output_type": "stream",
     "text": [
      "Finished function: 'sentence_embedding_average' in 21.15 seconds.\n"
     ]
    },
    {
     "name": "stderr",
     "output_type": "stream",
     "text": [
      "100%|██████████| 25000/25000 [00:13<00:00, 1903.43it/s]\n",
      "  0%|          | 0/25000 [00:00<?, ?it/s]/Users/I534344/Google Drive/crosslingual-information-retrieval/src/data/preprocess_data.py:616: RuntimeWarning: Mean of empty slice.\n",
      "  return [pd.Series(embedding_dataframe.values.mean(axis=1))]\n",
      "  0%|          | 22/25000 [00:00<01:55, 215.41it/s]"
     ]
    },
    {
     "name": "stdout",
     "output_type": "stream",
     "text": [
      "Finished function: 'sentence_embedding_average' in 13.14 seconds.\n"
     ]
    },
    {
     "name": "stderr",
     "output_type": "stream",
     "text": [
      "100%|██████████| 25000/25000 [01:26<00:00, 288.95it/s]\n",
      "  0%|          | 25/25000 [00:00<01:48, 230.84it/s]"
     ]
    },
    {
     "name": "stdout",
     "output_type": "stream",
     "text": [
      "Finished function: 'sentence_embedding_tf_idf' in 86.55 seconds.\n"
     ]
    },
    {
     "name": "stderr",
     "output_type": "stream",
     "text": [
      "100%|██████████| 25000/25000 [01:59<00:00, 208.57it/s]\n"
     ]
    },
    {
     "name": "stdout",
     "output_type": "stream",
     "text": [
      "Finished function: 'sentence_embedding_tf_idf' in 119.91 seconds.\n"
     ]
    }
   ],
   "source": [
    "parallel_sentences.create_embedding_information(\"proc_5k\", language_pair=\"en_pl\")"
   ]
  },
  {
   "cell_type": "code",
   "execution_count": 12,
   "metadata": {},
   "outputs": [
    {
     "name": "stdout",
     "output_type": "stream",
     "text": [
      "Finished function: 'load_embeddings' in 0.97 seconds.\n"
     ]
    },
    {
     "name": "stderr",
     "output_type": "stream",
     "text": [
      "  0%|          | 16/25000 [00:00<02:36, 159.75it/s]"
     ]
    },
    {
     "name": "stdout",
     "output_type": "stream",
     "text": [
      "Finished function: 'load_embeddings' in 0.66 seconds.\n"
     ]
    },
    {
     "name": "stderr",
     "output_type": "stream",
     "text": [
      "100%|██████████| 25000/25000 [00:47<00:00, 529.37it/s]\n",
      "  0%|          | 40/25000 [00:00<01:06, 372.85it/s]"
     ]
    },
    {
     "name": "stdout",
     "output_type": "stream",
     "text": [
      "Finished function: 'word_embeddings' in 47.23 seconds.\n"
     ]
    },
    {
     "name": "stderr",
     "output_type": "stream",
     "text": [
      "100%|██████████| 25000/25000 [00:49<00:00, 508.56it/s]\n"
     ]
    },
    {
     "name": "stdout",
     "output_type": "stream",
     "text": [
      "Finished function: 'word_embeddings' in 49.16 seconds.\n"
     ]
    },
    {
     "name": "stderr",
     "output_type": "stream",
     "text": [
      "100%|██████████| 25000/25000 [00:00<00:00, 195619.63it/s]\n",
      "  0%|          | 0/25000 [00:00<?, ?it/s]"
     ]
    },
    {
     "name": "stdout",
     "output_type": "stream",
     "text": [
      "Finished function: 'create_translation_dictionary' in 69.93 seconds.\n",
      "Finished function: 'translate_words' in 0.13 seconds.\n"
     ]
    },
    {
     "name": "stderr",
     "output_type": "stream",
     "text": [
      "100%|██████████| 25000/25000 [00:00<00:00, 144900.59it/s]\n"
     ]
    },
    {
     "name": "stdout",
     "output_type": "stream",
     "text": [
      "Finished function: 'translate_words' in 0.17 seconds.\n"
     ]
    },
    {
     "name": "stderr",
     "output_type": "stream",
     "text": [
      "100%|██████████| 25000/25000 [00:08<00:00, 2888.44it/s]\n"
     ]
    },
    {
     "name": "stdout",
     "output_type": "stream",
     "text": [
      "Finished function: 'tf_idf_vector' in 8.9 seconds.\n"
     ]
    },
    {
     "name": "stderr",
     "output_type": "stream",
     "text": [
      "100%|██████████| 25000/25000 [00:11<00:00, 2095.27it/s]\n",
      "  1%|          | 208/25000 [00:00<00:11, 2077.86it/s]"
     ]
    },
    {
     "name": "stdout",
     "output_type": "stream",
     "text": [
      "Finished function: 'tf_idf_vector' in 12.29 seconds.\n"
     ]
    },
    {
     "name": "stderr",
     "output_type": "stream",
     "text": [
      "100%|██████████| 25000/25000 [00:11<00:00, 2250.27it/s]\n",
      "  1%|          | 239/25000 [00:00<00:10, 2384.16it/s]"
     ]
    },
    {
     "name": "stdout",
     "output_type": "stream",
     "text": [
      "Finished function: 'sentence_embedding_average' in 11.11 seconds.\n"
     ]
    },
    {
     "name": "stderr",
     "output_type": "stream",
     "text": [
      "100%|██████████| 25000/25000 [00:13<00:00, 1888.27it/s]\n",
      "  0%|          | 29/25000 [00:00<01:27, 286.12it/s]"
     ]
    },
    {
     "name": "stdout",
     "output_type": "stream",
     "text": [
      "Finished function: 'sentence_embedding_average' in 13.24 seconds.\n"
     ]
    },
    {
     "name": "stderr",
     "output_type": "stream",
     "text": [
      "100%|██████████| 25000/25000 [01:23<00:00, 298.03it/s]\n",
      "  0%|          | 29/25000 [00:00<01:27, 286.72it/s]"
     ]
    },
    {
     "name": "stdout",
     "output_type": "stream",
     "text": [
      "Finished function: 'sentence_embedding_tf_idf' in 83.94 seconds.\n"
     ]
    },
    {
     "name": "stderr",
     "output_type": "stream",
     "text": [
      "100%|██████████| 25000/25000 [01:31<00:00, 271.75it/s]"
     ]
    },
    {
     "name": "stdout",
     "output_type": "stream",
     "text": [
      "Finished function: 'sentence_embedding_tf_idf' in 92.01 seconds.\n"
     ]
    },
    {
     "name": "stderr",
     "output_type": "stream",
     "text": [
      "\n"
     ]
    }
   ],
   "source": [
    "parallel_sentences.create_embedding_information(\"proc_b_1k\", language_pair=\"en_pl\")"
   ]
  },
  {
   "cell_type": "code",
   "execution_count": 13,
   "metadata": {},
   "outputs": [
    {
     "name": "stdout",
     "output_type": "stream",
     "text": [
      "Finished function: 'load_embeddings' in 0.79 seconds.\n"
     ]
    },
    {
     "name": "stderr",
     "output_type": "stream",
     "text": [
      "  1%|          | 147/25000 [00:00<00:34, 720.71it/s]"
     ]
    },
    {
     "name": "stdout",
     "output_type": "stream",
     "text": [
      "Finished function: 'load_embeddings' in 0.66 seconds.\n"
     ]
    },
    {
     "name": "stderr",
     "output_type": "stream",
     "text": [
      "100%|██████████| 25000/25000 [00:36<00:00, 678.53it/s]\n",
      "  0%|          | 53/25000 [00:00<00:48, 519.60it/s]"
     ]
    },
    {
     "name": "stdout",
     "output_type": "stream",
     "text": [
      "Finished function: 'word_embeddings' in 36.85 seconds.\n"
     ]
    },
    {
     "name": "stderr",
     "output_type": "stream",
     "text": [
      "100%|██████████| 25000/25000 [00:48<00:00, 517.04it/s]\n"
     ]
    },
    {
     "name": "stdout",
     "output_type": "stream",
     "text": [
      "Finished function: 'word_embeddings' in 48.35 seconds.\n"
     ]
    },
    {
     "name": "stderr",
     "output_type": "stream",
     "text": [
      "100%|██████████| 25000/25000 [00:00<00:00, 216300.69it/s]\n",
      "  0%|          | 0/25000 [00:00<?, ?it/s]"
     ]
    },
    {
     "name": "stdout",
     "output_type": "stream",
     "text": [
      "Finished function: 'create_translation_dictionary' in 63.87 seconds.\n",
      "Finished function: 'translate_words' in 0.12 seconds.\n"
     ]
    },
    {
     "name": "stderr",
     "output_type": "stream",
     "text": [
      "100%|██████████| 25000/25000 [00:00<00:00, 160473.32it/s]\n"
     ]
    },
    {
     "name": "stdout",
     "output_type": "stream",
     "text": [
      "Finished function: 'translate_words' in 0.16 seconds.\n"
     ]
    },
    {
     "name": "stderr",
     "output_type": "stream",
     "text": [
      "100%|██████████| 25000/25000 [00:08<00:00, 2796.41it/s]\n"
     ]
    },
    {
     "name": "stdout",
     "output_type": "stream",
     "text": [
      "Finished function: 'tf_idf_vector' in 9.19 seconds.\n"
     ]
    },
    {
     "name": "stderr",
     "output_type": "stream",
     "text": [
      "100%|██████████| 25000/25000 [00:12<00:00, 2059.82it/s]\n",
      "  1%|          | 143/25000 [00:00<00:17, 1423.97it/s]"
     ]
    },
    {
     "name": "stdout",
     "output_type": "stream",
     "text": [
      "Finished function: 'tf_idf_vector' in 12.6 seconds.\n"
     ]
    },
    {
     "name": "stderr",
     "output_type": "stream",
     "text": [
      "100%|██████████| 25000/25000 [00:11<00:00, 2257.93it/s]\n",
      "  1%|          | 160/25000 [00:00<00:15, 1588.89it/s]"
     ]
    },
    {
     "name": "stdout",
     "output_type": "stream",
     "text": [
      "Finished function: 'sentence_embedding_average' in 11.07 seconds.\n"
     ]
    },
    {
     "name": "stderr",
     "output_type": "stream",
     "text": [
      "100%|██████████| 25000/25000 [00:13<00:00, 1919.34it/s]\n",
      "  0%|          | 28/25000 [00:00<01:29, 279.90it/s]"
     ]
    },
    {
     "name": "stdout",
     "output_type": "stream",
     "text": [
      "Finished function: 'sentence_embedding_average' in 13.03 seconds.\n"
     ]
    },
    {
     "name": "stderr",
     "output_type": "stream",
     "text": [
      "100%|██████████| 25000/25000 [01:20<00:00, 310.92it/s]\n",
      "  0%|          | 25/25000 [00:00<01:46, 233.57it/s]"
     ]
    },
    {
     "name": "stdout",
     "output_type": "stream",
     "text": [
      "Finished function: 'sentence_embedding_tf_idf' in 80.41 seconds.\n"
     ]
    },
    {
     "name": "stderr",
     "output_type": "stream",
     "text": [
      "100%|██████████| 25000/25000 [01:35<00:00, 261.74it/s]"
     ]
    },
    {
     "name": "stdout",
     "output_type": "stream",
     "text": [
      "Finished function: 'sentence_embedding_tf_idf' in 95.52 seconds.\n"
     ]
    },
    {
     "name": "stderr",
     "output_type": "stream",
     "text": [
      "\n"
     ]
    }
   ],
   "source": [
    "parallel_sentences.create_embedding_information(\"vecmap\", language_pair=\"en_pl\")"
   ]
  },
  {
   "cell_type": "code",
   "execution_count": 14,
   "metadata": {},
   "outputs": [],
   "source": [
    "parallel_sentences.preprocessed.to_json(\"../data/interim/preprocessed_data_en_pl.json\")"
   ]
  },
  {
   "cell_type": "code",
   "execution_count": 15,
   "metadata": {},
   "outputs": [
    {
     "data": {
      "text/html": [
       "<div>\n",
       "<style scoped>\n",
       "    .dataframe tbody tr th:only-of-type {\n",
       "        vertical-align: middle;\n",
       "    }\n",
       "\n",
       "    .dataframe tbody tr th {\n",
       "        vertical-align: top;\n",
       "    }\n",
       "\n",
       "    .dataframe thead th {\n",
       "        text-align: right;\n",
       "    }\n",
       "</style>\n",
       "<table border=\"1\" class=\"dataframe\">\n",
       "  <thead>\n",
       "    <tr style=\"text-align: right;\">\n",
       "      <th></th>\n",
       "      <th>id_source</th>\n",
       "      <th>id_target</th>\n",
       "      <th>token_preprocessed_embedding_source</th>\n",
       "      <th>token_preprocessed_embedding_target</th>\n",
       "      <th>Translation</th>\n",
       "      <th>number_punctuations_total_source</th>\n",
       "      <th>number_punctuations_total_target</th>\n",
       "      <th>number_words_source</th>\n",
       "      <th>number_words_target</th>\n",
       "      <th>number_unique_words_source</th>\n",
       "      <th>...</th>\n",
       "      <th>sentence_embedding_average_proc_b_1k_source</th>\n",
       "      <th>sentence_embedding_average_proc_b_1k_target</th>\n",
       "      <th>sentence_embedding_tf_idf_proc_b_1k_source</th>\n",
       "      <th>sentence_embedding_tf_idf_proc_b_1k_target</th>\n",
       "      <th>translated_to_target_vecmap_source</th>\n",
       "      <th>translated_to_source_vecmap_target</th>\n",
       "      <th>sentence_embedding_average_vecmap_source</th>\n",
       "      <th>sentence_embedding_average_vecmap_target</th>\n",
       "      <th>sentence_embedding_tf_idf_vecmap_source</th>\n",
       "      <th>sentence_embedding_tf_idf_vecmap_target</th>\n",
       "    </tr>\n",
       "  </thead>\n",
       "  <tbody>\n",
       "    <tr>\n",
       "      <th>0</th>\n",
       "      <td>0</td>\n",
       "      <td>0</td>\n",
       "      <td>[fight, undeclared, work, widespread, domestic...</td>\n",
       "      <td>[więcej, walka, z, praca, nierejestrowaną, któ...</td>\n",
       "      <td>1</td>\n",
       "      <td>3</td>\n",
       "      <td>4</td>\n",
       "      <td>17</td>\n",
       "      <td>22</td>\n",
       "      <td>16</td>\n",
       "      <td>...</td>\n",
       "      <td>[[0.0002838987306209414, -0.019273668960002915...</td>\n",
       "      <td>[[0.014335259014521451, 0.00018965698751237462...</td>\n",
       "      <td>[[-0.00021047590691174376, -0.0056726738907578...</td>\n",
       "      <td>[[0.004026147518240783, -0.0001390160811865146...</td>\n",
       "      <td>[walkę, neutralność, prace, rozpowszechnienie,...</td>\n",
       "      <td>[less, fight, along, work, another, since, sec...</td>\n",
       "      <td>[[-0.1938670820423535, 0.025120466432001973, -...</td>\n",
       "      <td>[[-0.13137145680101478, -0.016225614420631352,...</td>\n",
       "      <td>[[-0.053670995357906634, 0.0029820666373567392...</td>\n",
       "      <td>[[-0.02837276402285368, -0.004121396385896437,...</td>\n",
       "    </tr>\n",
       "    <tr>\n",
       "      <th>1</th>\n",
       "      <td>1</td>\n",
       "      <td>1</td>\n",
       "      <td>[goal, say, share]</td>\n",
       "      <td>[w, koniec, cela, który, twierdzić, wszyscy, p...</td>\n",
       "      <td>1</td>\n",
       "      <td>1</td>\n",
       "      <td>3</td>\n",
       "      <td>3</td>\n",
       "      <td>7</td>\n",
       "      <td>3</td>\n",
       "      <td>...</td>\n",
       "      <td>[[0.003693463901678721, -0.01951286941766739, ...</td>\n",
       "      <td>[[0.0028768247769524655, -0.02109205846985181,...</td>\n",
       "      <td>[[0.00045217300043198333, -0.00950566398922733...</td>\n",
       "      <td>[[0.005712840439277451, -0.01091033432579134, ...</td>\n",
       "      <td>[wywalczenie, powiedzieć, sprzedać]</td>\n",
       "      <td>[since, beginning, casa, another, disprove, ev...</td>\n",
       "      <td>[[-0.2845593939224879, -0.12511111795902252, -...</td>\n",
       "      <td>[[-0.09147724602371454, -0.13585265167057514, ...</td>\n",
       "      <td>[[-0.15326538806887333, -0.061999269481892626,...</td>\n",
       "      <td>[[-0.0391518184192676, -0.04997417943527003, -...</td>\n",
       "    </tr>\n",
       "    <tr>\n",
       "      <th>2</th>\n",
       "      <td>2</td>\n",
       "      <td>2</td>\n",
       "      <td>[mr, president, rather, like, mr, schulz, conc...</td>\n",
       "      <td>[pani, przewodniczący, podobnie, pan, schulz, ...</td>\n",
       "      <td>1</td>\n",
       "      <td>2</td>\n",
       "      <td>2</td>\n",
       "      <td>14</td>\n",
       "      <td>17</td>\n",
       "      <td>13</td>\n",
       "      <td>...</td>\n",
       "      <td>[[-0.02075207233428955, -0.023995181473975, 0....</td>\n",
       "      <td>[[-0.021793486467296525, 0.005810244574344584,...</td>\n",
       "      <td>[[-0.004336027120259941, -0.005060519301008339...</td>\n",
       "      <td>[[-0.0014635108940764736, 0.001177877982031354...</td>\n",
       "      <td>[pani, prezydent, raczej, takie, pani, schröde...</td>\n",
       "      <td>[mrs, chairman, unlike, mr, lange, beginning, ...</td>\n",
       "      <td>[[-0.18414082734559017, -0.09646152361081196, ...</td>\n",
       "      <td>[[-0.09970268786751799, -0.08895570006487626, ...</td>\n",
       "      <td>[[-0.04796280174016808, -0.023740545777922124,...</td>\n",
       "      <td>[[-0.022703221940974183, -0.016542937329247637...</td>\n",
       "    </tr>\n",
       "    <tr>\n",
       "      <th>3</th>\n",
       "      <td>3</td>\n",
       "      <td>3</td>\n",
       "      <td>[writing, welcome, ms, marian, harkin, 's, rep...</td>\n",
       "      <td>[pismo, z, zadowolenie, przyjmować, sprawozdan...</td>\n",
       "      <td>1</td>\n",
       "      <td>1</td>\n",
       "      <td>1</td>\n",
       "      <td>13</td>\n",
       "      <td>18</td>\n",
       "      <td>13</td>\n",
       "      <td>...</td>\n",
       "      <td>[[-0.027708127008130152, -0.02301789327369382,...</td>\n",
       "      <td>[[-0.0016926788375712931, 0.00553107401356101,...</td>\n",
       "      <td>[[-0.007986982589232606, -0.005852513778259378...</td>\n",
       "      <td>[[0.0010018837857502347, 0.0020518884301006725...</td>\n",
       "      <td>[pisanie, serdecznie, anna, teresa, thatcher, ...</td>\n",
       "      <td>[newspaper, along, dissatisfaction, prescribe,...</td>\n",
       "      <td>[[-0.14424067921936512, -0.11529516351098816, ...</td>\n",
       "      <td>[[-0.14495723915752023, -0.08850125632307027, ...</td>\n",
       "      <td>[[-0.02622177980817667, -0.03732730928331812, ...</td>\n",
       "      <td>[[-0.02873036793153511, -0.01622434315431163, ...</td>\n",
       "    </tr>\n",
       "    <tr>\n",
       "      <th>4</th>\n",
       "      <td>4</td>\n",
       "      <td>4</td>\n",
       "      <td>[must, make, difference, opportunity, reassure...</td>\n",
       "      <td>[musić, sprawić, aby, te, różnica, stać, okazj...</td>\n",
       "      <td>1</td>\n",
       "      <td>1</td>\n",
       "      <td>1</td>\n",
       "      <td>8</td>\n",
       "      <td>11</td>\n",
       "      <td>8</td>\n",
       "      <td>...</td>\n",
       "      <td>[[0.03252435673493892, -0.017803869675844908, ...</td>\n",
       "      <td>[[0.04475131108322077, 0.0010855019920402104, ...</td>\n",
       "      <td>[[0.013019942435215433, -0.009802636239078445,...</td>\n",
       "      <td>[[0.010895567908825732, -0.0006262334834721017...</td>\n",
       "      <td>[powinien, dać, różnica, okazja, przekonać, eu...</td>\n",
       "      <td>[make, allow, different, difference, become, o...</td>\n",
       "      <td>[[-0.26769606070593, -0.13227443769574165, -0....</td>\n",
       "      <td>[[-0.210455062902636, -0.06927116243686113, -0...</td>\n",
       "      <td>[[-0.09721756027445141, -0.05619072551686986, ...</td>\n",
       "      <td>[[-0.061185799416916056, -0.019028736888225175...</td>\n",
       "    </tr>\n",
       "    <tr>\n",
       "      <th>...</th>\n",
       "      <td>...</td>\n",
       "      <td>...</td>\n",
       "      <td>...</td>\n",
       "      <td>...</td>\n",
       "      <td>...</td>\n",
       "      <td>...</td>\n",
       "      <td>...</td>\n",
       "      <td>...</td>\n",
       "      <td>...</td>\n",
       "      <td>...</td>\n",
       "      <td>...</td>\n",
       "      <td>...</td>\n",
       "      <td>...</td>\n",
       "      <td>...</td>\n",
       "      <td>...</td>\n",
       "      <td>...</td>\n",
       "      <td>...</td>\n",
       "      <td>...</td>\n",
       "      <td>...</td>\n",
       "      <td>...</td>\n",
       "      <td>...</td>\n",
       "    </tr>\n",
       "    <tr>\n",
       "      <th>24995</th>\n",
       "      <td>24995</td>\n",
       "      <td>24995</td>\n",
       "      <td>[bosman, judgment, court, examine, type, restr...</td>\n",
       "      <td>[w, wyrok, w, sprawa, bosman, trybunał, przean...</td>\n",
       "      <td>1</td>\n",
       "      <td>0</td>\n",
       "      <td>4</td>\n",
       "      <td>12</td>\n",
       "      <td>17</td>\n",
       "      <td>12</td>\n",
       "      <td>...</td>\n",
       "      <td>[[0.017704669661311942, -0.0011741653592749076...</td>\n",
       "      <td>[[0.022024729723731675, 0.00889726960643505, 0...</td>\n",
       "      <td>[[0.006112599920603325, 1.729136721664926e-05,...</td>\n",
       "      <td>[[0.006160566100297899, 0.0010525265338731705,...</td>\n",
       "      <td>[boer, werdykt, sąd, analizować, typ, ogranicz...</td>\n",
       "      <td>[since, conviction, since, case, captain, trib...</td>\n",
       "      <td>[[-0.23768041824752634, -0.07696458539629186, ...</td>\n",
       "      <td>[[-0.1821831771483024, -0.03618997276450197, -...</td>\n",
       "      <td>[[-0.06569058839895493, -0.02387716349928876, ...</td>\n",
       "      <td>[[-0.041337720099176176, -0.006944955772073381...</td>\n",
       "    </tr>\n",
       "    <tr>\n",
       "      <th>24996</th>\n",
       "      <td>24996</td>\n",
       "      <td>24996</td>\n",
       "      <td>[urge, develop, country, least, us, raise, bid]</td>\n",
       "      <td>[obecnie, wzywać, kraj, uprzemysłowione, w, ty...</td>\n",
       "      <td>1</td>\n",
       "      <td>2</td>\n",
       "      <td>2</td>\n",
       "      <td>7</td>\n",
       "      <td>13</td>\n",
       "      <td>7</td>\n",
       "      <td>...</td>\n",
       "      <td>[[0.0390678205128227, 0.0002555195242166519, 0...</td>\n",
       "      <td>[[-0.010872848849329684, 0.0076006797769676065...</td>\n",
       "      <td>[[0.015756938269822777, -0.0009966028830326735...</td>\n",
       "      <td>[[0.002074098245790323, 0.001640318170330213, ...</td>\n",
       "      <td>[skłonny, rozwijać, kraj, przynajmniej, usa, p...</td>\n",
       "      <td>[currently, country, since, lastly, also, unit...</td>\n",
       "      <td>[[-0.2176687480615718, -0.045634376018175056, ...</td>\n",
       "      <td>[[-0.11650129676693016, -0.019244895099998556,...</td>\n",
       "      <td>[[-0.081310045977543, -0.019216476069332248, -...</td>\n",
       "      <td>[[-0.029907682143598395, -0.002722837056983037...</td>\n",
       "    </tr>\n",
       "    <tr>\n",
       "      <th>24997</th>\n",
       "      <td>24997</td>\n",
       "      <td>24997</td>\n",
       "      <td>[opinion, duty, give, fight, misuse, hard, dru...</td>\n",
       "      <td>[moim, zdanie, naszym, obowiązek, nierezygnowa...</td>\n",
       "      <td>1</td>\n",
       "      <td>1</td>\n",
       "      <td>1</td>\n",
       "      <td>12</td>\n",
       "      <td>17</td>\n",
       "      <td>12</td>\n",
       "      <td>...</td>\n",
       "      <td>[[0.03263462439645082, -0.027260263916105032, ...</td>\n",
       "      <td>[[0.004082426366706689, 0.007997502495224277, ...</td>\n",
       "      <td>[[0.009257623429409284, -0.008334003374923531,...</td>\n",
       "      <td>[[0.0014845895720771523, 0.0012757205532066757...</td>\n",
       "      <td>[opinia, służby, dać, walkę, nadużycie, twardy...</td>\n",
       "      <td>[think, wording, surely, obligation, along, fi...</td>\n",
       "      <td>[[-0.29579253246386844, -0.09873284818604589, ...</td>\n",
       "      <td>[[-0.2096769094467163, -0.07020765030756593, -...</td>\n",
       "      <td>[[-0.0838266234520192, -0.02501571072107024, -...</td>\n",
       "      <td>[[-0.044796592528507866, -0.013348316703308282...</td>\n",
       "    </tr>\n",
       "    <tr>\n",
       "      <th>24998</th>\n",
       "      <td>24998</td>\n",
       "      <td>24998</td>\n",
       "      <td>[understand, consumer, demand, enable, private...</td>\n",
       "      <td>[zrozumienie, popyt, konsumencki, umożliwić, p...</td>\n",
       "      <td>1</td>\n",
       "      <td>1</td>\n",
       "      <td>1</td>\n",
       "      <td>14</td>\n",
       "      <td>19</td>\n",
       "      <td>14</td>\n",
       "      <td>...</td>\n",
       "      <td>[[0.01621616169411157, -0.01912250173544245, -...</td>\n",
       "      <td>[[0.03305096714757383, -0.017004272987833247, ...</td>\n",
       "      <td>[[0.003939290051787707, -0.005331207558207234,...</td>\n",
       "      <td>[[0.008247069033624838, -0.004289889591721116,...</td>\n",
       "      <td>[zrozumieć, konsument, popyt, umożliwiać, pryw...</td>\n",
       "      <td>[understanding, profitability, enable, company...</td>\n",
       "      <td>[[-0.27957853728107046, -0.008006543648662046,...</td>\n",
       "      <td>[[-0.2097105401335284, -0.008116696728393435, ...</td>\n",
       "      <td>[[-0.07228680966825449, -0.0032469309268726605...</td>\n",
       "      <td>[[-0.048736239088120865, -0.001692401413858680...</td>\n",
       "    </tr>\n",
       "    <tr>\n",
       "      <th>24999</th>\n",
       "      <td>24999</td>\n",
       "      <td>24999</td>\n",
       "      <td>[numerous, expert, share, concern, petitioner,...</td>\n",
       "      <td>[liczny, ekspert, podzielać, obawa, autor, pet...</td>\n",
       "      <td>1</td>\n",
       "      <td>0</td>\n",
       "      <td>0</td>\n",
       "      <td>15</td>\n",
       "      <td>19</td>\n",
       "      <td>14</td>\n",
       "      <td>...</td>\n",
       "      <td>[[0.005215292295011191, -0.009832185048323411,...</td>\n",
       "      <td>[[0.008388268244743813, 0.01999126368900761, -...</td>\n",
       "      <td>[[0.002607562789962001, -0.002434938869789272,...</td>\n",
       "      <td>[[0.002013314094261642, 0.0033741785667602557,...</td>\n",
       "      <td>[wielu, ekspert, sprzedać, zastrzeżenia, pozwa...</td>\n",
       "      <td>[abundant, expert, threat, author, petition, w...</td>\n",
       "      <td>[[-0.20395161003734058, -0.058376416080416396,...</td>\n",
       "      <td>[[-0.17345447256229818, -0.060575705487281084,...</td>\n",
       "      <td>[[-0.049412102451795906, -0.0182149416933824, ...</td>\n",
       "      <td>[[-0.03555939131318598, -0.013348794490749067,...</td>\n",
       "    </tr>\n",
       "  </tbody>\n",
       "</table>\n",
       "<p>25000 rows × 111 columns</p>\n",
       "</div>"
      ],
      "text/plain": [
       "       id_source  id_target  \\\n",
       "0              0          0   \n",
       "1              1          1   \n",
       "2              2          2   \n",
       "3              3          3   \n",
       "4              4          4   \n",
       "...          ...        ...   \n",
       "24995      24995      24995   \n",
       "24996      24996      24996   \n",
       "24997      24997      24997   \n",
       "24998      24998      24998   \n",
       "24999      24999      24999   \n",
       "\n",
       "                     token_preprocessed_embedding_source  \\\n",
       "0      [fight, undeclared, work, widespread, domestic...   \n",
       "1                                     [goal, say, share]   \n",
       "2      [mr, president, rather, like, mr, schulz, conc...   \n",
       "3      [writing, welcome, ms, marian, harkin, 's, rep...   \n",
       "4      [must, make, difference, opportunity, reassure...   \n",
       "...                                                  ...   \n",
       "24995  [bosman, judgment, court, examine, type, restr...   \n",
       "24996    [urge, develop, country, least, us, raise, bid]   \n",
       "24997  [opinion, duty, give, fight, misuse, hard, dru...   \n",
       "24998  [understand, consumer, demand, enable, private...   \n",
       "24999  [numerous, expert, share, concern, petitioner,...   \n",
       "\n",
       "                     token_preprocessed_embedding_target  Translation  \\\n",
       "0      [więcej, walka, z, praca, nierejestrowaną, któ...            1   \n",
       "1      [w, koniec, cela, który, twierdzić, wszyscy, p...            1   \n",
       "2      [pani, przewodniczący, podobnie, pan, schulz, ...            1   \n",
       "3      [pismo, z, zadowolenie, przyjmować, sprawozdan...            1   \n",
       "4      [musić, sprawić, aby, te, różnica, stać, okazj...            1   \n",
       "...                                                  ...          ...   \n",
       "24995  [w, wyrok, w, sprawa, bosman, trybunał, przean...            1   \n",
       "24996  [obecnie, wzywać, kraj, uprzemysłowione, w, ty...            1   \n",
       "24997  [moim, zdanie, naszym, obowiązek, nierezygnowa...            1   \n",
       "24998  [zrozumienie, popyt, konsumencki, umożliwić, p...            1   \n",
       "24999  [liczny, ekspert, podzielać, obawa, autor, pet...            1   \n",
       "\n",
       "       number_punctuations_total_source  number_punctuations_total_target  \\\n",
       "0                                     3                                 4   \n",
       "1                                     1                                 3   \n",
       "2                                     2                                 2   \n",
       "3                                     1                                 1   \n",
       "4                                     1                                 1   \n",
       "...                                 ...                               ...   \n",
       "24995                                 0                                 4   \n",
       "24996                                 2                                 2   \n",
       "24997                                 1                                 1   \n",
       "24998                                 1                                 1   \n",
       "24999                                 0                                 0   \n",
       "\n",
       "       number_words_source  number_words_target  number_unique_words_source  \\\n",
       "0                       17                   22                          16   \n",
       "1                        3                    7                           3   \n",
       "2                       14                   17                          13   \n",
       "3                       13                   18                          13   \n",
       "4                        8                   11                           8   \n",
       "...                    ...                  ...                         ...   \n",
       "24995                   12                   17                          12   \n",
       "24996                    7                   13                           7   \n",
       "24997                   12                   17                          12   \n",
       "24998                   14                   19                          14   \n",
       "24999                   15                   19                          14   \n",
       "\n",
       "       ...        sentence_embedding_average_proc_b_1k_source  \\\n",
       "0      ...  [[0.0002838987306209414, -0.019273668960002915...   \n",
       "1      ...  [[0.003693463901678721, -0.01951286941766739, ...   \n",
       "2      ...  [[-0.02075207233428955, -0.023995181473975, 0....   \n",
       "3      ...  [[-0.027708127008130152, -0.02301789327369382,...   \n",
       "4      ...  [[0.03252435673493892, -0.017803869675844908, ...   \n",
       "...    ...                                                ...   \n",
       "24995  ...  [[0.017704669661311942, -0.0011741653592749076...   \n",
       "24996  ...  [[0.0390678205128227, 0.0002555195242166519, 0...   \n",
       "24997  ...  [[0.03263462439645082, -0.027260263916105032, ...   \n",
       "24998  ...  [[0.01621616169411157, -0.01912250173544245, -...   \n",
       "24999  ...  [[0.005215292295011191, -0.009832185048323411,...   \n",
       "\n",
       "             sentence_embedding_average_proc_b_1k_target  \\\n",
       "0      [[0.014335259014521451, 0.00018965698751237462...   \n",
       "1      [[0.0028768247769524655, -0.02109205846985181,...   \n",
       "2      [[-0.021793486467296525, 0.005810244574344584,...   \n",
       "3      [[-0.0016926788375712931, 0.00553107401356101,...   \n",
       "4      [[0.04475131108322077, 0.0010855019920402104, ...   \n",
       "...                                                  ...   \n",
       "24995  [[0.022024729723731675, 0.00889726960643505, 0...   \n",
       "24996  [[-0.010872848849329684, 0.0076006797769676065...   \n",
       "24997  [[0.004082426366706689, 0.007997502495224277, ...   \n",
       "24998  [[0.03305096714757383, -0.017004272987833247, ...   \n",
       "24999  [[0.008388268244743813, 0.01999126368900761, -...   \n",
       "\n",
       "              sentence_embedding_tf_idf_proc_b_1k_source  \\\n",
       "0      [[-0.00021047590691174376, -0.0056726738907578...   \n",
       "1      [[0.00045217300043198333, -0.00950566398922733...   \n",
       "2      [[-0.004336027120259941, -0.005060519301008339...   \n",
       "3      [[-0.007986982589232606, -0.005852513778259378...   \n",
       "4      [[0.013019942435215433, -0.009802636239078445,...   \n",
       "...                                                  ...   \n",
       "24995  [[0.006112599920603325, 1.729136721664926e-05,...   \n",
       "24996  [[0.015756938269822777, -0.0009966028830326735...   \n",
       "24997  [[0.009257623429409284, -0.008334003374923531,...   \n",
       "24998  [[0.003939290051787707, -0.005331207558207234,...   \n",
       "24999  [[0.002607562789962001, -0.002434938869789272,...   \n",
       "\n",
       "              sentence_embedding_tf_idf_proc_b_1k_target  \\\n",
       "0      [[0.004026147518240783, -0.0001390160811865146...   \n",
       "1      [[0.005712840439277451, -0.01091033432579134, ...   \n",
       "2      [[-0.0014635108940764736, 0.001177877982031354...   \n",
       "3      [[0.0010018837857502347, 0.0020518884301006725...   \n",
       "4      [[0.010895567908825732, -0.0006262334834721017...   \n",
       "...                                                  ...   \n",
       "24995  [[0.006160566100297899, 0.0010525265338731705,...   \n",
       "24996  [[0.002074098245790323, 0.001640318170330213, ...   \n",
       "24997  [[0.0014845895720771523, 0.0012757205532066757...   \n",
       "24998  [[0.008247069033624838, -0.004289889591721116,...   \n",
       "24999  [[0.002013314094261642, 0.0033741785667602557,...   \n",
       "\n",
       "                      translated_to_target_vecmap_source  \\\n",
       "0      [walkę, neutralność, prace, rozpowszechnienie,...   \n",
       "1                    [wywalczenie, powiedzieć, sprzedać]   \n",
       "2      [pani, prezydent, raczej, takie, pani, schröde...   \n",
       "3      [pisanie, serdecznie, anna, teresa, thatcher, ...   \n",
       "4      [powinien, dać, różnica, okazja, przekonać, eu...   \n",
       "...                                                  ...   \n",
       "24995  [boer, werdykt, sąd, analizować, typ, ogranicz...   \n",
       "24996  [skłonny, rozwijać, kraj, przynajmniej, usa, p...   \n",
       "24997  [opinia, służby, dać, walkę, nadużycie, twardy...   \n",
       "24998  [zrozumieć, konsument, popyt, umożliwiać, pryw...   \n",
       "24999  [wielu, ekspert, sprzedać, zastrzeżenia, pozwa...   \n",
       "\n",
       "                      translated_to_source_vecmap_target  \\\n",
       "0      [less, fight, along, work, another, since, sec...   \n",
       "1      [since, beginning, casa, another, disprove, ev...   \n",
       "2      [mrs, chairman, unlike, mr, lange, beginning, ...   \n",
       "3      [newspaper, along, dissatisfaction, prescribe,...   \n",
       "4      [make, allow, different, difference, become, o...   \n",
       "...                                                  ...   \n",
       "24995  [since, conviction, since, case, captain, trib...   \n",
       "24996  [currently, country, since, lastly, also, unit...   \n",
       "24997  [think, wording, surely, obligation, along, fi...   \n",
       "24998  [understanding, profitability, enable, company...   \n",
       "24999  [abundant, expert, threat, author, petition, w...   \n",
       "\n",
       "                sentence_embedding_average_vecmap_source  \\\n",
       "0      [[-0.1938670820423535, 0.025120466432001973, -...   \n",
       "1      [[-0.2845593939224879, -0.12511111795902252, -...   \n",
       "2      [[-0.18414082734559017, -0.09646152361081196, ...   \n",
       "3      [[-0.14424067921936512, -0.11529516351098816, ...   \n",
       "4      [[-0.26769606070593, -0.13227443769574165, -0....   \n",
       "...                                                  ...   \n",
       "24995  [[-0.23768041824752634, -0.07696458539629186, ...   \n",
       "24996  [[-0.2176687480615718, -0.045634376018175056, ...   \n",
       "24997  [[-0.29579253246386844, -0.09873284818604589, ...   \n",
       "24998  [[-0.27957853728107046, -0.008006543648662046,...   \n",
       "24999  [[-0.20395161003734058, -0.058376416080416396,...   \n",
       "\n",
       "                sentence_embedding_average_vecmap_target  \\\n",
       "0      [[-0.13137145680101478, -0.016225614420631352,...   \n",
       "1      [[-0.09147724602371454, -0.13585265167057514, ...   \n",
       "2      [[-0.09970268786751799, -0.08895570006487626, ...   \n",
       "3      [[-0.14495723915752023, -0.08850125632307027, ...   \n",
       "4      [[-0.210455062902636, -0.06927116243686113, -0...   \n",
       "...                                                  ...   \n",
       "24995  [[-0.1821831771483024, -0.03618997276450197, -...   \n",
       "24996  [[-0.11650129676693016, -0.019244895099998556,...   \n",
       "24997  [[-0.2096769094467163, -0.07020765030756593, -...   \n",
       "24998  [[-0.2097105401335284, -0.008116696728393435, ...   \n",
       "24999  [[-0.17345447256229818, -0.060575705487281084,...   \n",
       "\n",
       "                 sentence_embedding_tf_idf_vecmap_source  \\\n",
       "0      [[-0.053670995357906634, 0.0029820666373567392...   \n",
       "1      [[-0.15326538806887333, -0.061999269481892626,...   \n",
       "2      [[-0.04796280174016808, -0.023740545777922124,...   \n",
       "3      [[-0.02622177980817667, -0.03732730928331812, ...   \n",
       "4      [[-0.09721756027445141, -0.05619072551686986, ...   \n",
       "...                                                  ...   \n",
       "24995  [[-0.06569058839895493, -0.02387716349928876, ...   \n",
       "24996  [[-0.081310045977543, -0.019216476069332248, -...   \n",
       "24997  [[-0.0838266234520192, -0.02501571072107024, -...   \n",
       "24998  [[-0.07228680966825449, -0.0032469309268726605...   \n",
       "24999  [[-0.049412102451795906, -0.0182149416933824, ...   \n",
       "\n",
       "                 sentence_embedding_tf_idf_vecmap_target  \n",
       "0      [[-0.02837276402285368, -0.004121396385896437,...  \n",
       "1      [[-0.0391518184192676, -0.04997417943527003, -...  \n",
       "2      [[-0.022703221940974183, -0.016542937329247637...  \n",
       "3      [[-0.02873036793153511, -0.01622434315431163, ...  \n",
       "4      [[-0.061185799416916056, -0.019028736888225175...  \n",
       "...                                                  ...  \n",
       "24995  [[-0.041337720099176176, -0.006944955772073381...  \n",
       "24996  [[-0.029907682143598395, -0.002722837056983037...  \n",
       "24997  [[-0.044796592528507866, -0.013348316703308282...  \n",
       "24998  [[-0.048736239088120865, -0.001692401413858680...  \n",
       "24999  [[-0.03555939131318598, -0.013348794490749067,...  \n",
       "\n",
       "[25000 rows x 111 columns]"
      ]
     },
     "execution_count": 15,
     "metadata": {},
     "output_type": "execute_result"
    }
   ],
   "source": [
    "parallel_sentences.preprocessed"
   ]
  },
  {
   "cell_type": "code",
   "execution_count": 16,
   "metadata": {},
   "outputs": [
    {
     "data": {
      "text/html": [
       "<div>\n",
       "<style scoped>\n",
       "    .dataframe tbody tr th:only-of-type {\n",
       "        vertical-align: middle;\n",
       "    }\n",
       "\n",
       "    .dataframe tbody tr th {\n",
       "        vertical-align: top;\n",
       "    }\n",
       "\n",
       "    .dataframe thead th {\n",
       "        text-align: right;\n",
       "    }\n",
       "</style>\n",
       "<table border=\"1\" class=\"dataframe\">\n",
       "  <thead>\n",
       "    <tr style=\"text-align: right;\">\n",
       "      <th></th>\n",
       "      <th>id_source</th>\n",
       "      <th>text_source</th>\n",
       "      <th>text_target</th>\n",
       "      <th>id_target</th>\n",
       "      <th>text_preprocessed_source</th>\n",
       "      <th>text_preprocessed_target</th>\n",
       "      <th>text_source_spacy</th>\n",
       "      <th>text_target_spacy</th>\n",
       "      <th>word_embedding_proc_5k_source</th>\n",
       "      <th>word_embedding_proc_5k_target</th>\n",
       "      <th>tf_idf_proc_5k_source</th>\n",
       "      <th>tf_idf_proc_5k_target</th>\n",
       "      <th>word_embedding_proc_b_1k_source</th>\n",
       "      <th>word_embedding_proc_b_1k_target</th>\n",
       "      <th>tf_idf_proc_b_1k_source</th>\n",
       "      <th>tf_idf_proc_b_1k_target</th>\n",
       "      <th>word_embedding_vecmap_source</th>\n",
       "      <th>word_embedding_vecmap_target</th>\n",
       "      <th>tf_idf_vecmap_source</th>\n",
       "      <th>tf_idf_vecmap_target</th>\n",
       "    </tr>\n",
       "  </thead>\n",
       "  <tbody>\n",
       "    <tr>\n",
       "      <th>0</th>\n",
       "      <td>0</td>\n",
       "      <td>What is more, the fight against undeclared wor...</td>\n",
       "      <td>Co więcej, walka z pracą nierejestrowaną, któr...</td>\n",
       "      <td>0</td>\n",
       "      <td>[,, fight, undeclared, work, ,, widespread, do...</td>\n",
       "      <td>[więcej, ,, walka, z, pracą, nierejestrowaną, ...</td>\n",
       "      <td>[What, is, more, ,, the, fight, against, undec...</td>\n",
       "      <td>[Co, więcej, ,, walka, z, pracą, nierejestrowa...</td>\n",
       "      <td>fight  undeclared      work  widesprea...</td>\n",
       "      <td>więcej     walka         z     praca   ...</td>\n",
       "      <td>{'fight': 0.22316617570215289, 'undeclared': 0...</td>\n",
       "      <td>{'więcej': 0.20446593950575123, 'walka': 0.195...</td>\n",
       "      <td>fight  undeclared      work  widesprea...</td>\n",
       "      <td>więcej     walka         z     praca   ...</td>\n",
       "      <td>{'fight': 0.22316617570215289, 'undeclared': 0...</td>\n",
       "      <td>{'więcej': 0.20446593950575123, 'walka': 0.195...</td>\n",
       "      <td>fight  undeclared      work  widesprea...</td>\n",
       "      <td>więcej     walka         z     praca   ...</td>\n",
       "      <td>{'fight': 0.22316617570215289, 'undeclared': 0...</td>\n",
       "      <td>{'więcej': 0.20446593950575123, 'walka': 0.195...</td>\n",
       "    </tr>\n",
       "    <tr>\n",
       "      <th>1</th>\n",
       "      <td>1</td>\n",
       "      <td>After all, this is the goal we all say that we...</td>\n",
       "      <td>W końcu jest to cel, który - jak twierdzimy - ...</td>\n",
       "      <td>1</td>\n",
       "      <td>[,, goal, say, share, .]</td>\n",
       "      <td>[w, końcu, cel, ,, który, -, twierdzimy, -, ws...</td>\n",
       "      <td>[After, all, ,, this, is, the, goal, we, all, ...</td>\n",
       "      <td>[W, końcu, jest, to, cel, ,, który, -, jak, tw...</td>\n",
       "      <td>goal       say     share\n",
       "0   -0.02371...</td>\n",
       "      <td>w    koniec      cela     który  t...</td>\n",
       "      <td>{'goal': 0.6661962453387232, 'say': 0.43475323...</td>\n",
       "      <td>{'w': 0.1153031815764954, 'koniec': 0.38160613...</td>\n",
       "      <td>goal       say     share\n",
       "0   -0.04515...</td>\n",
       "      <td>w    koniec      cela     który  t...</td>\n",
       "      <td>{'goal': 0.6661962453387232, 'say': 0.43475323...</td>\n",
       "      <td>{'w': 0.1153031815764954, 'koniec': 0.38160613...</td>\n",
       "      <td>goal       say     share\n",
       "0   -0.11391...</td>\n",
       "      <td>w    koniec      cela     który  t...</td>\n",
       "      <td>{'goal': 0.6661962453387232, 'say': 0.43475323...</td>\n",
       "      <td>{'w': 0.1153031815764954, 'koniec': 0.38160613...</td>\n",
       "    </tr>\n",
       "    <tr>\n",
       "      <th>2</th>\n",
       "      <td>2</td>\n",
       "      <td>Mr President, rather like Mr Schulz, I was con...</td>\n",
       "      <td>Panie przewodniczący! Podobnie jak pan Schulz,...</td>\n",
       "      <td>2</td>\n",
       "      <td>[mr, president, ,, rather, like, mr, schulz, ,...</td>\n",
       "      <td>[panie, przewodniczący, !, podobnie, pan, schu...</td>\n",
       "      <td>[Mr, President, ,, rather, like, Mr, Schulz, ,...</td>\n",
       "      <td>[Panie, przewodniczący, !, Podobnie, jak, pan,...</td>\n",
       "      <td>mr  president    rather      like  ...</td>\n",
       "      <td>pani  przewodniczący  podobnie       ...</td>\n",
       "      <td>{'mr': 0.3038185093178962, 'president': 0.1492...</td>\n",
       "      <td>{'pani': 0.1384883751318738, 'przewodniczący':...</td>\n",
       "      <td>mr  president    rather      like  ...</td>\n",
       "      <td>pani  przewodniczący  podobnie       ...</td>\n",
       "      <td>{'mr': 0.3038185093178962, 'president': 0.1492...</td>\n",
       "      <td>{'pani': 0.1384883751318738, 'przewodniczący':...</td>\n",
       "      <td>mr  president    rather      like  ...</td>\n",
       "      <td>pani  przewodniczący  podobnie       ...</td>\n",
       "      <td>{'mr': 0.3038185093178962, 'president': 0.1492...</td>\n",
       "      <td>{'pani': 0.1384883751318738, 'przewodniczący':...</td>\n",
       "    </tr>\n",
       "    <tr>\n",
       "      <th>3</th>\n",
       "      <td>3</td>\n",
       "      <td>in writing. - I welcome Ms Marian Harkin's rep...</td>\n",
       "      <td>na piśmie. - Z zadowoleniem przyjmuję sprawozd...</td>\n",
       "      <td>3</td>\n",
       "      <td>[writing, ., -, welcome, ms, marian, harkin, '...</td>\n",
       "      <td>[piśmie, ., -, z, zadowoleniem, przyjmuję, spr...</td>\n",
       "      <td>[in, writing, ., -, I, welcome, Ms, Marian, Ha...</td>\n",
       "      <td>[na, piśmie, ., -, Z, zadowoleniem, przyjmuję,...</td>\n",
       "      <td>writing   welcome        ms    marian   ...</td>\n",
       "      <td>pismo         z  zadowolenie  przyjmow...</td>\n",
       "      <td>{'writing': 0.21399994434026803, 'welcome': 0....</td>\n",
       "      <td>{'pismo': 0.20768010157923242, 'z': 0.09263291...</td>\n",
       "      <td>writing   welcome        ms    marian   ...</td>\n",
       "      <td>pismo         z  zadowolenie  przyjmow...</td>\n",
       "      <td>{'writing': 0.21399994434026803, 'welcome': 0....</td>\n",
       "      <td>{'pismo': 0.20768010157923242, 'z': 0.09263291...</td>\n",
       "      <td>writing   welcome        ms    marian   ...</td>\n",
       "      <td>pismo         z  zadowolenie  przyjmow...</td>\n",
       "      <td>{'writing': 0.21399994434026803, 'welcome': 0....</td>\n",
       "      <td>{'pismo': 0.20768010157923242, 'z': 0.09263291...</td>\n",
       "    </tr>\n",
       "    <tr>\n",
       "      <th>4</th>\n",
       "      <td>4</td>\n",
       "      <td>We must make these differences an opportunity ...</td>\n",
       "      <td>Musimy sprawić, aby te różnice stały się okazj...</td>\n",
       "      <td>4</td>\n",
       "      <td>[must, make, differences, opportunity, reassur...</td>\n",
       "      <td>[musimy, sprawić, ,, aby, te, różnice, stały, ...</td>\n",
       "      <td>[We, must, make, these, differences, an, oppor...</td>\n",
       "      <td>[Musimy, sprawić, ,, aby, te, różnice, stały, ...</td>\n",
       "      <td>must      make  difference  opportuni...</td>\n",
       "      <td>sprawić       aby        te   różnica   ...</td>\n",
       "      <td>{'must': 0.2249334925638152, 'make': 0.2276239...</td>\n",
       "      <td>{'musić': 0.16536147641724275, 'sprawić': 0.33...</td>\n",
       "      <td>must      make  difference  opportuni...</td>\n",
       "      <td>sprawić       aby        te   różnica   ...</td>\n",
       "      <td>{'must': 0.2249334925638152, 'make': 0.2276239...</td>\n",
       "      <td>{'musić': 0.16536147641724275, 'sprawić': 0.33...</td>\n",
       "      <td>must      make  difference  opportuni...</td>\n",
       "      <td>sprawić       aby        te   różnica   ...</td>\n",
       "      <td>{'must': 0.2249334925638152, 'make': 0.2276239...</td>\n",
       "      <td>{'musić': 0.16536147641724275, 'sprawić': 0.33...</td>\n",
       "    </tr>\n",
       "    <tr>\n",
       "      <th>...</th>\n",
       "      <td>...</td>\n",
       "      <td>...</td>\n",
       "      <td>...</td>\n",
       "      <td>...</td>\n",
       "      <td>...</td>\n",
       "      <td>...</td>\n",
       "      <td>...</td>\n",
       "      <td>...</td>\n",
       "      <td>...</td>\n",
       "      <td>...</td>\n",
       "      <td>...</td>\n",
       "      <td>...</td>\n",
       "      <td>...</td>\n",
       "      <td>...</td>\n",
       "      <td>...</td>\n",
       "      <td>...</td>\n",
       "      <td>...</td>\n",
       "      <td>...</td>\n",
       "      <td>...</td>\n",
       "      <td>...</td>\n",
       "    </tr>\n",
       "    <tr>\n",
       "      <th>24995</th>\n",
       "      <td>24995</td>\n",
       "      <td>In the Bosman judgment the Court examined two ...</td>\n",
       "      <td>W wyroku w sprawie Bosman, Trybunał przeanaliz...</td>\n",
       "      <td>24995</td>\n",
       "      <td>[bosman, judgment, court, examined, two, types...</td>\n",
       "      <td>[w, wyroku, w, sprawie, bosman, ,, trybunał, p...</td>\n",
       "      <td>[In, the, Bosman, judgment, the, Court, examin...</td>\n",
       "      <td>[W, wyroku, w, sprawie, Bosman, ,, Trybunał, p...</td>\n",
       "      <td>bosman  judgment     court   examine   ...</td>\n",
       "      <td>w     wyrok    sprawa    bosman  t...</td>\n",
       "      <td>{'bosman': 0.4363252925507528, 'judgment': 0.3...</td>\n",
       "      <td>{'w': 0.12258972918750365, 'wyrok': 0.27716831...</td>\n",
       "      <td>bosman  judgment     court   examine   ...</td>\n",
       "      <td>w     wyrok    sprawa    bosman  t...</td>\n",
       "      <td>{'bosman': 0.4363252925507528, 'judgment': 0.3...</td>\n",
       "      <td>{'w': 0.12258972918750365, 'wyrok': 0.27716831...</td>\n",
       "      <td>bosman  judgment     court   examine   ...</td>\n",
       "      <td>w     wyrok    sprawa    bosman  t...</td>\n",
       "      <td>{'bosman': 0.4363252925507528, 'judgment': 0.3...</td>\n",
       "      <td>{'w': 0.12258972918750365, 'wyrok': 0.27716831...</td>\n",
       "    </tr>\n",
       "    <tr>\n",
       "      <th>24996</th>\n",
       "      <td>24996</td>\n",
       "      <td>We now urge other developed countries - not le...</td>\n",
       "      <td>Obecnie wzywamy inne kraje uprzemysłowione - w...</td>\n",
       "      <td>24996</td>\n",
       "      <td>[urge, developed, countries, -, least, us, -, ...</td>\n",
       "      <td>[obecnie, wzywamy, inne, kraje, uprzemysłowion...</td>\n",
       "      <td>[We, now, urge, other, developed, countries, -...</td>\n",
       "      <td>[Obecnie, wzywamy, inne, kraje, uprzemysłowion...</td>\n",
       "      <td>urge   develop   country     least   ...</td>\n",
       "      <td>obecnie      kraj         w       tym   ...</td>\n",
       "      <td>{'urge': 0.4013945000642252, 'develop': 0.3083...</td>\n",
       "      <td>{'obecnie': 0.24084899624789596, 'wzywać': 0.2...</td>\n",
       "      <td>urge   develop   country     least   ...</td>\n",
       "      <td>obecnie      kraj         w       tym   ...</td>\n",
       "      <td>{'urge': 0.4013945000642252, 'develop': 0.3083...</td>\n",
       "      <td>{'obecnie': 0.24084899624789596, 'wzywać': 0.2...</td>\n",
       "      <td>urge   develop   country     least   ...</td>\n",
       "      <td>obecnie      kraj         w       tym   ...</td>\n",
       "      <td>{'urge': 0.4013945000642252, 'develop': 0.3083...</td>\n",
       "      <td>{'obecnie': 0.24084899624789596, 'wzywać': 0.2...</td>\n",
       "    </tr>\n",
       "    <tr>\n",
       "      <th>24997</th>\n",
       "      <td>24997</td>\n",
       "      <td>In my opinion it is our duty not to give up th...</td>\n",
       "      <td>Moim zdaniem naszym obowiązkiem jest nierezygn...</td>\n",
       "      <td>24997</td>\n",
       "      <td>[opinion, duty, give, fight, misuse, hard, dru...</td>\n",
       "      <td>[moim, zdaniem, naszym, obowiązkiem, nierezygn...</td>\n",
       "      <td>[In, my, opinion, it, is, our, duty, not, to, ...</td>\n",
       "      <td>[Moim, zdaniem, naszym, obowiązkiem, jest, nie...</td>\n",
       "      <td>opinion      duty      give     fight   ...</td>\n",
       "      <td>moim    zdanie    naszym  obowiązek  ...</td>\n",
       "      <td>{'opinion': 0.2450297013198977, 'duty': 0.2851...</td>\n",
       "      <td>{'moim': 0.1806000726434773, 'zdanie': 0.18179...</td>\n",
       "      <td>opinion      duty      give     fight   ...</td>\n",
       "      <td>moim    zdanie    naszym  obowiązek  ...</td>\n",
       "      <td>{'opinion': 0.2450297013198977, 'duty': 0.2851...</td>\n",
       "      <td>{'moim': 0.1806000726434773, 'zdanie': 0.18179...</td>\n",
       "      <td>opinion      duty      give     fight   ...</td>\n",
       "      <td>moim    zdanie    naszym  obowiązek  ...</td>\n",
       "      <td>{'opinion': 0.2450297013198977, 'duty': 0.2851...</td>\n",
       "      <td>{'moim': 0.1806000726434773, 'zdanie': 0.18179...</td>\n",
       "    </tr>\n",
       "    <tr>\n",
       "      <th>24998</th>\n",
       "      <td>24998</td>\n",
       "      <td>Understanding consumer demand will enable priv...</td>\n",
       "      <td>Zrozumienie popytu konsumenckiego umożliwi prz...</td>\n",
       "      <td>24998</td>\n",
       "      <td>[understanding, consumer, demand, enable, priv...</td>\n",
       "      <td>[zrozumienie, popytu, konsumenckiego, umożliwi...</td>\n",
       "      <td>[Understanding, consumer, demand, will, enable...</td>\n",
       "      <td>[Zrozumienie, popytu, konsumenckiego, umożliwi...</td>\n",
       "      <td>understand  consumer    demand    enable ...</td>\n",
       "      <td>zrozumienie     popyt  umożliwić  przedsi...</td>\n",
       "      <td>{'understand': 0.2716060638797365, 'consumer':...</td>\n",
       "      <td>{'zrozumienie': 0.2704750648734728, 'popyt': 0...</td>\n",
       "      <td>understand  consumer    demand    enable ...</td>\n",
       "      <td>zrozumienie     popyt  umożliwić  przedsi...</td>\n",
       "      <td>{'understand': 0.2716060638797365, 'consumer':...</td>\n",
       "      <td>{'zrozumienie': 0.2704750648734728, 'popyt': 0...</td>\n",
       "      <td>understand  consumer    demand    enable ...</td>\n",
       "      <td>zrozumienie     popyt  umożliwić  przedsi...</td>\n",
       "      <td>{'understand': 0.2716060638797365, 'consumer':...</td>\n",
       "      <td>{'zrozumienie': 0.2704750648734728, 'popyt': 0...</td>\n",
       "    </tr>\n",
       "    <tr>\n",
       "      <th>24999</th>\n",
       "      <td>24999</td>\n",
       "      <td>Numerous experts share the concerns of petitio...</td>\n",
       "      <td>Liczni eksperci podzielają obawy autorów petyc...</td>\n",
       "      <td>24999</td>\n",
       "      <td>[numerous, experts, share, concerns, petitione...</td>\n",
       "      <td>[liczni, eksperci, podzielają, obawy, autorów,...</td>\n",
       "      <td>[Numerous, experts, share, the, concerns, of, ...</td>\n",
       "      <td>[Liczni, eksperci, podzielają, obawy, autorów,...</td>\n",
       "      <td>numerous    expert     share   concern  p...</td>\n",
       "      <td>liczny   ekspert     obawa     autor   ...</td>\n",
       "      <td>{'numerous': 0.24127330963753665, 'expert': 0....</td>\n",
       "      <td>{'liczny': 0.207229407450491, 'ekspert': 0.457...</td>\n",
       "      <td>numerous    expert     share   concern  p...</td>\n",
       "      <td>liczny   ekspert     obawa     autor   ...</td>\n",
       "      <td>{'numerous': 0.24127330963753665, 'expert': 0....</td>\n",
       "      <td>{'liczny': 0.207229407450491, 'ekspert': 0.457...</td>\n",
       "      <td>numerous    expert     share   concern  p...</td>\n",
       "      <td>liczny   ekspert     obawa     autor   ...</td>\n",
       "      <td>{'numerous': 0.24127330963753665, 'expert': 0....</td>\n",
       "      <td>{'liczny': 0.207229407450491, 'ekspert': 0.457...</td>\n",
       "    </tr>\n",
       "  </tbody>\n",
       "</table>\n",
       "<p>25000 rows × 20 columns</p>\n",
       "</div>"
      ],
      "text/plain": [
       "       id_source                                        text_source  \\\n",
       "0              0  What is more, the fight against undeclared wor...   \n",
       "1              1  After all, this is the goal we all say that we...   \n",
       "2              2  Mr President, rather like Mr Schulz, I was con...   \n",
       "3              3  in writing. - I welcome Ms Marian Harkin's rep...   \n",
       "4              4  We must make these differences an opportunity ...   \n",
       "...          ...                                                ...   \n",
       "24995      24995  In the Bosman judgment the Court examined two ...   \n",
       "24996      24996  We now urge other developed countries - not le...   \n",
       "24997      24997  In my opinion it is our duty not to give up th...   \n",
       "24998      24998  Understanding consumer demand will enable priv...   \n",
       "24999      24999  Numerous experts share the concerns of petitio...   \n",
       "\n",
       "                                             text_target  id_target  \\\n",
       "0      Co więcej, walka z pracą nierejestrowaną, któr...          0   \n",
       "1      W końcu jest to cel, który - jak twierdzimy - ...          1   \n",
       "2      Panie przewodniczący! Podobnie jak pan Schulz,...          2   \n",
       "3      na piśmie. - Z zadowoleniem przyjmuję sprawozd...          3   \n",
       "4      Musimy sprawić, aby te różnice stały się okazj...          4   \n",
       "...                                                  ...        ...   \n",
       "24995  W wyroku w sprawie Bosman, Trybunał przeanaliz...      24995   \n",
       "24996  Obecnie wzywamy inne kraje uprzemysłowione - w...      24996   \n",
       "24997  Moim zdaniem naszym obowiązkiem jest nierezygn...      24997   \n",
       "24998  Zrozumienie popytu konsumenckiego umożliwi prz...      24998   \n",
       "24999  Liczni eksperci podzielają obawy autorów petyc...      24999   \n",
       "\n",
       "                                text_preprocessed_source  \\\n",
       "0      [,, fight, undeclared, work, ,, widespread, do...   \n",
       "1                               [,, goal, say, share, .]   \n",
       "2      [mr, president, ,, rather, like, mr, schulz, ,...   \n",
       "3      [writing, ., -, welcome, ms, marian, harkin, '...   \n",
       "4      [must, make, differences, opportunity, reassur...   \n",
       "...                                                  ...   \n",
       "24995  [bosman, judgment, court, examined, two, types...   \n",
       "24996  [urge, developed, countries, -, least, us, -, ...   \n",
       "24997  [opinion, duty, give, fight, misuse, hard, dru...   \n",
       "24998  [understanding, consumer, demand, enable, priv...   \n",
       "24999  [numerous, experts, share, concerns, petitione...   \n",
       "\n",
       "                                text_preprocessed_target  \\\n",
       "0      [więcej, ,, walka, z, pracą, nierejestrowaną, ...   \n",
       "1      [w, końcu, cel, ,, który, -, twierdzimy, -, ws...   \n",
       "2      [panie, przewodniczący, !, podobnie, pan, schu...   \n",
       "3      [piśmie, ., -, z, zadowoleniem, przyjmuję, spr...   \n",
       "4      [musimy, sprawić, ,, aby, te, różnice, stały, ...   \n",
       "...                                                  ...   \n",
       "24995  [w, wyroku, w, sprawie, bosman, ,, trybunał, p...   \n",
       "24996  [obecnie, wzywamy, inne, kraje, uprzemysłowion...   \n",
       "24997  [moim, zdaniem, naszym, obowiązkiem, nierezygn...   \n",
       "24998  [zrozumienie, popytu, konsumenckiego, umożliwi...   \n",
       "24999  [liczni, eksperci, podzielają, obawy, autorów,...   \n",
       "\n",
       "                                       text_source_spacy  \\\n",
       "0      [What, is, more, ,, the, fight, against, undec...   \n",
       "1      [After, all, ,, this, is, the, goal, we, all, ...   \n",
       "2      [Mr, President, ,, rather, like, Mr, Schulz, ,...   \n",
       "3      [in, writing, ., -, I, welcome, Ms, Marian, Ha...   \n",
       "4      [We, must, make, these, differences, an, oppor...   \n",
       "...                                                  ...   \n",
       "24995  [In, the, Bosman, judgment, the, Court, examin...   \n",
       "24996  [We, now, urge, other, developed, countries, -...   \n",
       "24997  [In, my, opinion, it, is, our, duty, not, to, ...   \n",
       "24998  [Understanding, consumer, demand, will, enable...   \n",
       "24999  [Numerous, experts, share, the, concerns, of, ...   \n",
       "\n",
       "                                       text_target_spacy  \\\n",
       "0      [Co, więcej, ,, walka, z, pracą, nierejestrowa...   \n",
       "1      [W, końcu, jest, to, cel, ,, który, -, jak, tw...   \n",
       "2      [Panie, przewodniczący, !, Podobnie, jak, pan,...   \n",
       "3      [na, piśmie, ., -, Z, zadowoleniem, przyjmuję,...   \n",
       "4      [Musimy, sprawić, ,, aby, te, różnice, stały, ...   \n",
       "...                                                  ...   \n",
       "24995  [W, wyroku, w, sprawie, Bosman, ,, Trybunał, p...   \n",
       "24996  [Obecnie, wzywamy, inne, kraje, uprzemysłowion...   \n",
       "24997  [Moim, zdaniem, naszym, obowiązkiem, jest, nie...   \n",
       "24998  [Zrozumienie, popytu, konsumenckiego, umożliwi...   \n",
       "24999  [Liczni, eksperci, podzielają, obawy, autorów,...   \n",
       "\n",
       "                           word_embedding_proc_5k_source  \\\n",
       "0              fight  undeclared      work  widesprea...   \n",
       "1               goal       say     share\n",
       "0   -0.02371...   \n",
       "2                 mr  president    rather      like  ...   \n",
       "3            writing   welcome        ms    marian   ...   \n",
       "4               must      make  difference  opportuni...   \n",
       "...                                                  ...   \n",
       "24995         bosman  judgment     court   examine   ...   \n",
       "24996           urge   develop   country     least   ...   \n",
       "24997        opinion      duty      give     fight   ...   \n",
       "24998       understand  consumer    demand    enable ...   \n",
       "24999       numerous    expert     share   concern  p...   \n",
       "\n",
       "                           word_embedding_proc_5k_target  \\\n",
       "0             więcej     walka         z     praca   ...   \n",
       "1                  w    koniec      cela     który  t...   \n",
       "2               pani  przewodniczący  podobnie       ...   \n",
       "3              pismo         z  zadowolenie  przyjmow...   \n",
       "4            sprawić       aby        te   różnica   ...   \n",
       "...                                                  ...   \n",
       "24995              w     wyrok    sprawa    bosman  t...   \n",
       "24996        obecnie      kraj         w       tym   ...   \n",
       "24997           moim    zdanie    naszym  obowiązek  ...   \n",
       "24998       zrozumienie     popyt  umożliwić  przedsi...   \n",
       "24999         liczny   ekspert     obawa     autor   ...   \n",
       "\n",
       "                                   tf_idf_proc_5k_source  \\\n",
       "0      {'fight': 0.22316617570215289, 'undeclared': 0...   \n",
       "1      {'goal': 0.6661962453387232, 'say': 0.43475323...   \n",
       "2      {'mr': 0.3038185093178962, 'president': 0.1492...   \n",
       "3      {'writing': 0.21399994434026803, 'welcome': 0....   \n",
       "4      {'must': 0.2249334925638152, 'make': 0.2276239...   \n",
       "...                                                  ...   \n",
       "24995  {'bosman': 0.4363252925507528, 'judgment': 0.3...   \n",
       "24996  {'urge': 0.4013945000642252, 'develop': 0.3083...   \n",
       "24997  {'opinion': 0.2450297013198977, 'duty': 0.2851...   \n",
       "24998  {'understand': 0.2716060638797365, 'consumer':...   \n",
       "24999  {'numerous': 0.24127330963753665, 'expert': 0....   \n",
       "\n",
       "                                   tf_idf_proc_5k_target  \\\n",
       "0      {'więcej': 0.20446593950575123, 'walka': 0.195...   \n",
       "1      {'w': 0.1153031815764954, 'koniec': 0.38160613...   \n",
       "2      {'pani': 0.1384883751318738, 'przewodniczący':...   \n",
       "3      {'pismo': 0.20768010157923242, 'z': 0.09263291...   \n",
       "4      {'musić': 0.16536147641724275, 'sprawić': 0.33...   \n",
       "...                                                  ...   \n",
       "24995  {'w': 0.12258972918750365, 'wyrok': 0.27716831...   \n",
       "24996  {'obecnie': 0.24084899624789596, 'wzywać': 0.2...   \n",
       "24997  {'moim': 0.1806000726434773, 'zdanie': 0.18179...   \n",
       "24998  {'zrozumienie': 0.2704750648734728, 'popyt': 0...   \n",
       "24999  {'liczny': 0.207229407450491, 'ekspert': 0.457...   \n",
       "\n",
       "                         word_embedding_proc_b_1k_source  \\\n",
       "0              fight  undeclared      work  widesprea...   \n",
       "1               goal       say     share\n",
       "0   -0.04515...   \n",
       "2                 mr  president    rather      like  ...   \n",
       "3            writing   welcome        ms    marian   ...   \n",
       "4               must      make  difference  opportuni...   \n",
       "...                                                  ...   \n",
       "24995         bosman  judgment     court   examine   ...   \n",
       "24996           urge   develop   country     least   ...   \n",
       "24997        opinion      duty      give     fight   ...   \n",
       "24998       understand  consumer    demand    enable ...   \n",
       "24999       numerous    expert     share   concern  p...   \n",
       "\n",
       "                         word_embedding_proc_b_1k_target  \\\n",
       "0             więcej     walka         z     praca   ...   \n",
       "1                  w    koniec      cela     który  t...   \n",
       "2               pani  przewodniczący  podobnie       ...   \n",
       "3              pismo         z  zadowolenie  przyjmow...   \n",
       "4            sprawić       aby        te   różnica   ...   \n",
       "...                                                  ...   \n",
       "24995              w     wyrok    sprawa    bosman  t...   \n",
       "24996        obecnie      kraj         w       tym   ...   \n",
       "24997           moim    zdanie    naszym  obowiązek  ...   \n",
       "24998       zrozumienie     popyt  umożliwić  przedsi...   \n",
       "24999         liczny   ekspert     obawa     autor   ...   \n",
       "\n",
       "                                 tf_idf_proc_b_1k_source  \\\n",
       "0      {'fight': 0.22316617570215289, 'undeclared': 0...   \n",
       "1      {'goal': 0.6661962453387232, 'say': 0.43475323...   \n",
       "2      {'mr': 0.3038185093178962, 'president': 0.1492...   \n",
       "3      {'writing': 0.21399994434026803, 'welcome': 0....   \n",
       "4      {'must': 0.2249334925638152, 'make': 0.2276239...   \n",
       "...                                                  ...   \n",
       "24995  {'bosman': 0.4363252925507528, 'judgment': 0.3...   \n",
       "24996  {'urge': 0.4013945000642252, 'develop': 0.3083...   \n",
       "24997  {'opinion': 0.2450297013198977, 'duty': 0.2851...   \n",
       "24998  {'understand': 0.2716060638797365, 'consumer':...   \n",
       "24999  {'numerous': 0.24127330963753665, 'expert': 0....   \n",
       "\n",
       "                                 tf_idf_proc_b_1k_target  \\\n",
       "0      {'więcej': 0.20446593950575123, 'walka': 0.195...   \n",
       "1      {'w': 0.1153031815764954, 'koniec': 0.38160613...   \n",
       "2      {'pani': 0.1384883751318738, 'przewodniczący':...   \n",
       "3      {'pismo': 0.20768010157923242, 'z': 0.09263291...   \n",
       "4      {'musić': 0.16536147641724275, 'sprawić': 0.33...   \n",
       "...                                                  ...   \n",
       "24995  {'w': 0.12258972918750365, 'wyrok': 0.27716831...   \n",
       "24996  {'obecnie': 0.24084899624789596, 'wzywać': 0.2...   \n",
       "24997  {'moim': 0.1806000726434773, 'zdanie': 0.18179...   \n",
       "24998  {'zrozumienie': 0.2704750648734728, 'popyt': 0...   \n",
       "24999  {'liczny': 0.207229407450491, 'ekspert': 0.457...   \n",
       "\n",
       "                            word_embedding_vecmap_source  \\\n",
       "0              fight  undeclared      work  widesprea...   \n",
       "1               goal       say     share\n",
       "0   -0.11391...   \n",
       "2                 mr  president    rather      like  ...   \n",
       "3            writing   welcome        ms    marian   ...   \n",
       "4               must      make  difference  opportuni...   \n",
       "...                                                  ...   \n",
       "24995         bosman  judgment     court   examine   ...   \n",
       "24996           urge   develop   country     least   ...   \n",
       "24997        opinion      duty      give     fight   ...   \n",
       "24998       understand  consumer    demand    enable ...   \n",
       "24999       numerous    expert     share   concern  p...   \n",
       "\n",
       "                            word_embedding_vecmap_target  \\\n",
       "0             więcej     walka         z     praca   ...   \n",
       "1                  w    koniec      cela     który  t...   \n",
       "2               pani  przewodniczący  podobnie       ...   \n",
       "3              pismo         z  zadowolenie  przyjmow...   \n",
       "4            sprawić       aby        te   różnica   ...   \n",
       "...                                                  ...   \n",
       "24995              w     wyrok    sprawa    bosman  t...   \n",
       "24996        obecnie      kraj         w       tym   ...   \n",
       "24997           moim    zdanie    naszym  obowiązek  ...   \n",
       "24998       zrozumienie     popyt  umożliwić  przedsi...   \n",
       "24999         liczny   ekspert     obawa     autor   ...   \n",
       "\n",
       "                                    tf_idf_vecmap_source  \\\n",
       "0      {'fight': 0.22316617570215289, 'undeclared': 0...   \n",
       "1      {'goal': 0.6661962453387232, 'say': 0.43475323...   \n",
       "2      {'mr': 0.3038185093178962, 'president': 0.1492...   \n",
       "3      {'writing': 0.21399994434026803, 'welcome': 0....   \n",
       "4      {'must': 0.2249334925638152, 'make': 0.2276239...   \n",
       "...                                                  ...   \n",
       "24995  {'bosman': 0.4363252925507528, 'judgment': 0.3...   \n",
       "24996  {'urge': 0.4013945000642252, 'develop': 0.3083...   \n",
       "24997  {'opinion': 0.2450297013198977, 'duty': 0.2851...   \n",
       "24998  {'understand': 0.2716060638797365, 'consumer':...   \n",
       "24999  {'numerous': 0.24127330963753665, 'expert': 0....   \n",
       "\n",
       "                                    tf_idf_vecmap_target  \n",
       "0      {'więcej': 0.20446593950575123, 'walka': 0.195...  \n",
       "1      {'w': 0.1153031815764954, 'koniec': 0.38160613...  \n",
       "2      {'pani': 0.1384883751318738, 'przewodniczący':...  \n",
       "3      {'pismo': 0.20768010157923242, 'z': 0.09263291...  \n",
       "4      {'musić': 0.16536147641724275, 'sprawić': 0.33...  \n",
       "...                                                  ...  \n",
       "24995  {'w': 0.12258972918750365, 'wyrok': 0.27716831...  \n",
       "24996  {'obecnie': 0.24084899624789596, 'wzywać': 0.2...  \n",
       "24997  {'moim': 0.1806000726434773, 'zdanie': 0.18179...  \n",
       "24998  {'zrozumienie': 0.2704750648734728, 'popyt': 0...  \n",
       "24999  {'liczny': 0.207229407450491, 'ekspert': 0.457...  \n",
       "\n",
       "[25000 rows x 20 columns]"
      ]
     },
     "execution_count": 16,
     "metadata": {},
     "output_type": "execute_result"
    }
   ],
   "source": [
    "parallel_sentences.dataframe"
   ]
  },
  {
   "cell_type": "code",
   "execution_count": 13,
   "metadata": {},
   "outputs": [
    {
     "name": "stdout",
     "output_type": "stream",
     "text": [
      "Finished function: 'import_data' in 0.05 seconds.\n"
     ]
    }
   ],
   "source": [
    "import pandas as pd\n",
    "preprocessed_data = pd.read_json(\"../data/interim/preprocessed_data_en_pl.json\")\n",
    "parallel_sentences = PreprocessingEuroParl(df_sampled_path=\"../data/interim/europarl_en_pl.pkl\")\n",
    "parallel_sentences.preprocessed = preprocessed_data"
   ]
  },
  {
   "cell_type": "markdown",
   "metadata": {},
   "source": [
    "## III. Create data set"
   ]
  },
  {
   "cell_type": "markdown",
   "metadata": {},
   "source": [
    "In this section we create the datasets for the training of the supervised model and the data for the supervised and unsupervised retrieval."
   ]
  },
  {
   "cell_type": "code",
   "execution_count": 17,
   "metadata": {
    "pycharm": {
     "name": "#%%\n"
    }
   },
   "outputs": [],
   "source": [
    "from src.data import DataSet"
   ]
  },
  {
   "cell_type": "code",
   "execution_count": 18,
   "metadata": {},
   "outputs": [],
   "source": [
    "n_model = 20000\n",
    "n_queries = 100\n",
    "n_retrieval = 5000\n",
    "k = 10\n",
    "sample_size_k = 100"
   ]
  },
  {
   "cell_type": "code",
   "execution_count": 19,
   "metadata": {
    "pycharm": {
     "is_executing": true
    }
   },
   "outputs": [
    {
     "name": "stdout",
     "output_type": "stream",
     "text": [
      "Finished function: '__init__' in 0.0 seconds.\n"
     ]
    }
   ],
   "source": [
    "dataset = DataSet(parallel_sentences.preprocessed)\n",
    "#dataset = DataSet(preprocessed_data)"
   ]
  },
  {
   "cell_type": "code",
   "execution_count": 20,
   "metadata": {},
   "outputs": [
    {
     "name": "stdout",
     "output_type": "stream",
     "text": [
      "Finished function: 'split_model_retrieval' in 0.0 seconds.\n"
     ]
    }
   ],
   "source": [
    "dataset.split_model_retrieval(n_model, n_retrieval)"
   ]
  },
  {
   "cell_type": "code",
   "execution_count": 23,
   "metadata": {},
   "outputs": [
    {
     "name": "stderr",
     "output_type": "stream",
     "text": [
      "100%|██████████| 2000000/2000000 [16:21<00:00, 2036.66it/s]\n"
     ]
    },
    {
     "name": "stdout",
     "output_type": "stream",
     "text": [
      "Finished function: 'cosine_similarity_vector' in 982.61 seconds.\n"
     ]
    },
    {
     "name": "stderr",
     "output_type": "stream",
     "text": [
      "100%|██████████| 20000/20000 [00:10<00:00, 1900.52it/s]\n"
     ]
    }
   ],
   "source": [
    "dataset.create_model_index(n_model, k, sample_size_k,\n",
    "     \"sentence_embedding_tf_idf_proc_5k_source\", \"sentence_embedding_tf_idf_proc_5k_target\")"
   ]
  },
  {
   "cell_type": "code",
   "execution_count": 24,
   "metadata": {},
   "outputs": [],
   "source": [
    "dataset.model_dataset_index.reset_index(drop=True).to_feather(\"../data/processed/dataset_model_index_en_pl.feather\")"
   ]
  },
  {
   "cell_type": "code",
   "execution_count": 25,
   "metadata": {},
   "outputs": [],
   "source": [
    "# import pandas as pd\n",
    "# pd.read_feather(\"../data/processed/dataset_model_index.feather\")"
   ]
  },
  {
   "cell_type": "code",
   "execution_count": 21,
   "metadata": {},
   "outputs": [],
   "source": [
    "#dataset.create_retrieval_index(n_queries)\n",
    "import pandas as pd\n",
    "# If your pandas version is old, use this instead\n",
    "query = pd.DataFrame({\"id_source\": dataset.retrieval_subset.iloc[:n_queries][\"id_source\"]})\n",
    "documents = pd.DataFrame({\"id_target\": dataset.retrieval_subset[\"id_target\"]})\n",
    "index = pd.MultiIndex.from_product([dataset.retrieval_subset.iloc[:n_queries][\"id_source\"], dataset.retrieval_subset[\"id_target\"]], names = [\"id_source\", \"id_target\"])\n",
    "dataset.retrieval_dataset_index = pd.DataFrame(index = index).reset_index()"
   ]
  },
  {
   "cell_type": "code",
   "execution_count": 22,
   "metadata": {},
   "outputs": [],
   "source": [
    "dataset.retrieval_dataset_index.reset_index(drop=True).to_feather(\"../data/processed/dataset_retrieval_index_en_pl.feather\")"
   ]
  },
  {
   "cell_type": "code",
   "execution_count": null,
   "metadata": {},
   "outputs": [],
   "source": [
    "# import pandas as pd\n",
    "# pd.read_feather(\"../data/processed/dataset_retrieval_index.feather\")"
   ]
  },
  {
   "cell_type": "markdown",
   "metadata": {
    "pycharm": {
     "is_executing": true,
     "name": "#%% md\n"
    }
   },
   "source": [
    "## IV. Create features"
   ]
  },
  {
   "cell_type": "markdown",
   "metadata": {},
   "source": [
    "In this section we create features for our model, that are sentence based and should be created before the text is preprocessed."
   ]
  },
  {
   "cell_type": "code",
   "execution_count": 23,
   "metadata": {
    "pycharm": {
     "name": "#%%\n"
    }
   },
   "outputs": [],
   "source": [
    "#%autoreload 2\n",
    "from src.features import feature_generation_class"
   ]
  },
  {
   "cell_type": "code",
   "execution_count": null,
   "metadata": {},
   "outputs": [],
   "source": [
    "# import pickle\n",
    "# with open(r\"../data/processed/correlated_features.pkl\", \"rb\") as file:\n",
    "#    chosen_features = pickle.load(file)"
   ]
  },
  {
   "cell_type": "markdown",
   "metadata": {},
   "source": [
    "Generation of the training data for the supervised classifciation model."
   ]
  },
  {
   "cell_type": "code",
   "execution_count": null,
   "metadata": {
    "pycharm": {
     "is_executing": true
    }
   },
   "outputs": [],
   "source": [
    "features_model = feature_generation_class.FeatureGeneration(dataset.model_dataset_index, \n",
    "                                                             parallel_sentences.preprocessed)"
   ]
  },
  {
   "cell_type": "code",
   "execution_count": null,
   "metadata": {
    "pycharm": {
     "is_executing": true
    }
   },
   "outputs": [],
   "source": [
    "features_model.create_feature_dataframe()"
   ]
  },
  {
   "cell_type": "code",
   "execution_count": null,
   "metadata": {},
   "outputs": [],
   "source": [
    "features_model.create_sentence_features()"
   ]
  },
  {
   "cell_type": "code",
   "execution_count": null,
   "metadata": {},
   "outputs": [],
   "source": [
    "features_model.create_embedding_features(\"proc_5k\")"
   ]
  },
  {
   "cell_type": "code",
   "execution_count": null,
   "metadata": {},
   "outputs": [],
   "source": [
    "features_model.create_embedding_features(\"proc_b_1k\")"
   ]
  },
  {
   "cell_type": "code",
   "execution_count": null,
   "metadata": {},
   "outputs": [],
   "source": [
    "features_model.create_embedding_features(\"vecmap\")"
   ]
  },
  {
   "cell_type": "code",
   "execution_count": null,
   "metadata": {},
   "outputs": [],
   "source": [
    "features_model.feature_dataframe.reset_index(drop=True).to_feather(\"../data/processed/feature_model_en_pl.feather\")"
   ]
  },
  {
   "cell_type": "code",
   "execution_count": null,
   "metadata": {},
   "outputs": [],
   "source": [
    "# import pandas as pd\n",
    "# pd.read_feather(\"../data/processed/feature_model.feather\")"
   ]
  },
  {
   "cell_type": "markdown",
   "metadata": {},
   "source": [
    "Generation of the data for the crosslingual information retrieval task."
   ]
  },
  {
   "cell_type": "code",
   "execution_count": 24,
   "metadata": {},
   "outputs": [],
   "source": [
    "features_retrieval = feature_generation_class.FeatureGeneration(dataset.retrieval_dataset_index, \n",
    "                                                            parallel_sentences.preprocessed)"
   ]
  },
  {
   "cell_type": "code",
   "execution_count": 25,
   "metadata": {},
   "outputs": [
    {
     "name": "stdout",
     "output_type": "stream",
     "text": [
      "Finished function: 'create_feature_dataframe' in 0.0 seconds.\n"
     ]
    }
   ],
   "source": [
    "features_retrieval.create_feature_dataframe()"
   ]
  },
  {
   "cell_type": "code",
   "execution_count": 26,
   "metadata": {},
   "outputs": [
    {
     "name": "stdout",
     "output_type": "stream",
     "text": [
      "Finished function: 'difference_numerical' in 0.02 seconds.\n",
      "Finished function: 'relative_difference_numerical' in 0.01 seconds.\n",
      "Finished function: 'normalized_difference_numerical' in 0.02 seconds.\n",
      "Finished function: 'difference_numerical' in 0.0 seconds.\n",
      "Finished function: 'relative_difference_numerical' in 0.01 seconds.\n",
      "Finished function: 'normalized_difference_numerical' in 0.02 seconds.\n",
      "Finished function: 'difference_numerical' in 0.0 seconds.\n",
      "Finished function: 'relative_difference_numerical' in 0.01 seconds.\n",
      "Finished function: 'normalized_difference_numerical' in 0.02 seconds.\n",
      "Finished function: 'difference_numerical' in 0.0 seconds.\n",
      "Finished function: 'relative_difference_numerical' in 0.01 seconds.\n",
      "Finished function: 'normalized_difference_numerical' in 0.02 seconds.\n",
      "Finished function: 'difference_numerical' in 0.0 seconds.\n",
      "Finished function: 'relative_difference_numerical' in 0.01 seconds.\n"
     ]
    },
    {
     "name": "stderr",
     "output_type": "stream",
     "text": [
      "/Users/I534344/Google Drive/crosslingual-information-retrieval/src/features/sentence_features.py:21: RuntimeWarning: divide by zero encountered in log\n",
      "  return abs(target_array - source_array).replace(np.nan, 0).replace(np.inf, 0).replace(np.log(0), 0)\n",
      "/Users/I534344/Google Drive/crosslingual-information-retrieval/src/features/sentence_features.py:38: RuntimeWarning: divide by zero encountered in log\n",
      "  0), 0)\n",
      "/Users/I534344/Google Drive/crosslingual-information-retrieval/src/features/sentence_features.py:58: RuntimeWarning: divide by zero encountered in log\n",
      "  np.log(0), 0)\n"
     ]
    },
    {
     "name": "stdout",
     "output_type": "stream",
     "text": [
      "Finished function: 'normalized_difference_numerical' in 0.01 seconds.\n",
      "Finished function: 'difference_numerical' in 0.0 seconds.\n",
      "Finished function: 'relative_difference_numerical' in 0.01 seconds.\n",
      "Finished function: 'normalized_difference_numerical' in 0.02 seconds.\n",
      "Finished function: 'difference_numerical' in 0.01 seconds.\n",
      "Finished function: 'relative_difference_numerical' in 0.01 seconds.\n",
      "Finished function: 'normalized_difference_numerical' in 0.02 seconds.\n",
      "Finished function: 'difference_numerical' in 0.0 seconds.\n",
      "Finished function: 'relative_difference_numerical' in 0.02 seconds.\n",
      "Finished function: 'normalized_difference_numerical' in 0.02 seconds.\n",
      "Finished function: 'difference_numerical' in 0.0 seconds.\n",
      "Finished function: 'relative_difference_numerical' in 0.01 seconds.\n",
      "Finished function: 'normalized_difference_numerical' in 0.01 seconds.\n",
      "Finished function: 'difference_numerical' in 0.0 seconds.\n",
      "Finished function: 'relative_difference_numerical' in 0.01 seconds.\n",
      "Finished function: 'normalized_difference_numerical' in 0.02 seconds.\n",
      "Finished function: 'difference_numerical' in 0.0 seconds.\n",
      "Finished function: 'relative_difference_numerical' in 0.01 seconds.\n",
      "Finished function: 'normalized_difference_numerical' in 0.02 seconds.\n",
      "Finished function: 'difference_numerical' in 0.0 seconds.\n",
      "Finished function: 'relative_difference_numerical' in 0.01 seconds.\n",
      "Finished function: 'normalized_difference_numerical' in 0.01 seconds.\n",
      "Finished function: 'difference_numerical' in 0.0 seconds.\n",
      "Finished function: 'relative_difference_numerical' in 0.01 seconds.\n",
      "Finished function: 'normalized_difference_numerical' in 0.02 seconds.\n",
      "Finished function: 'difference_numerical' in 0.0 seconds.\n",
      "Finished function: 'relative_difference_numerical' in 0.01 seconds.\n",
      "Finished function: 'normalized_difference_numerical' in 0.02 seconds.\n",
      "Finished function: 'difference_numerical' in 0.0 seconds.\n",
      "Finished function: 'relative_difference_numerical' in 0.01 seconds.\n",
      "Finished function: 'normalized_difference_numerical' in 0.01 seconds.\n",
      "Finished function: 'difference_numerical' in 0.0 seconds.\n",
      "Finished function: 'relative_difference_numerical' in 0.01 seconds.\n",
      "Finished function: 'normalized_difference_numerical' in 0.01 seconds.\n",
      "Finished function: 'difference_numerical' in 0.0 seconds.\n",
      "Finished function: 'relative_difference_numerical' in 0.01 seconds.\n",
      "Finished function: 'normalized_difference_numerical' in 0.02 seconds.\n",
      "Finished function: 'difference_numerical' in 0.0 seconds.\n",
      "Finished function: 'relative_difference_numerical' in 0.01 seconds.\n",
      "Finished function: 'normalized_difference_numerical' in 0.02 seconds.\n",
      "Finished function: 'difference_numerical' in 0.0 seconds.\n",
      "Finished function: 'relative_difference_numerical' in 0.01 seconds.\n",
      "Finished function: 'normalized_difference_numerical' in 0.01 seconds.\n",
      "Finished function: 'difference_numerical' in 0.0 seconds.\n",
      "Finished function: 'relative_difference_numerical' in 0.01 seconds.\n",
      "Finished function: 'normalized_difference_numerical' in 0.01 seconds.\n",
      "Finished function: 'difference_numerical' in 0.0 seconds.\n",
      "Finished function: 'relative_difference_numerical' in 0.01 seconds.\n",
      "Finished function: 'normalized_difference_numerical' in 0.02 seconds.\n",
      "Finished function: 'difference_numerical' in 0.0 seconds.\n",
      "Finished function: 'relative_difference_numerical' in 0.01 seconds.\n",
      "Finished function: 'normalized_difference_numerical' in 0.01 seconds.\n",
      "Finished function: 'difference_numerical' in 0.0 seconds.\n",
      "Finished function: 'relative_difference_numerical' in 0.01 seconds.\n",
      "Finished function: 'normalized_difference_numerical' in 0.02 seconds.\n",
      "Finished function: 'difference_numerical' in 0.0 seconds.\n",
      "Finished function: 'relative_difference_numerical' in 0.01 seconds.\n",
      "Finished function: 'normalized_difference_numerical' in 0.02 seconds.\n",
      "Finished function: 'difference_numerical' in 0.0 seconds.\n",
      "Finished function: 'relative_difference_numerical' in 0.01 seconds.\n",
      "Finished function: 'normalized_difference_numerical' in 0.02 seconds.\n",
      "Finished function: 'difference_numerical' in 0.0 seconds.\n",
      "Finished function: 'relative_difference_numerical' in 0.01 seconds.\n",
      "Finished function: 'normalized_difference_numerical' in 0.02 seconds.\n",
      "Finished function: 'difference_numerical' in 0.01 seconds.\n",
      "Finished function: 'relative_difference_numerical' in 0.01 seconds.\n",
      "Finished function: 'normalized_difference_numerical' in 0.02 seconds.\n",
      "Finished function: 'difference_numerical' in 0.0 seconds.\n",
      "Finished function: 'relative_difference_numerical' in 0.02 seconds.\n",
      "Finished function: 'normalized_difference_numerical' in 0.02 seconds.\n",
      "Finished function: 'difference_numerical' in 0.01 seconds.\n",
      "Finished function: 'relative_difference_numerical' in 0.01 seconds.\n",
      "Finished function: 'normalized_difference_numerical' in 0.02 seconds.\n",
      "Finished function: 'difference_numerical' in 0.0 seconds.\n",
      "Finished function: 'relative_difference_numerical' in 0.02 seconds.\n",
      "Finished function: 'normalized_difference_numerical' in 0.02 seconds.\n",
      "Finished function: 'difference_numerical' in 0.01 seconds.\n",
      "Finished function: 'relative_difference_numerical' in 0.02 seconds.\n",
      "Finished function: 'normalized_difference_numerical' in 0.02 seconds.\n",
      "Finished function: 'difference_numerical' in 0.01 seconds.\n",
      "Finished function: 'relative_difference_numerical' in 0.02 seconds.\n",
      "Finished function: 'normalized_difference_numerical' in 0.02 seconds.\n",
      "Finished function: 'difference_numerical' in 0.0 seconds.\n",
      "Finished function: 'relative_difference_numerical' in 0.01 seconds.\n",
      "Finished function: 'normalized_difference_numerical' in 0.01 seconds.\n",
      "Finished function: 'difference_numerical' in 0.0 seconds.\n",
      "Finished function: 'relative_difference_numerical' in 0.02 seconds.\n",
      "Finished function: 'normalized_difference_numerical' in 0.01 seconds.\n",
      "Finished function: 'difference_numerical' in 0.0 seconds.\n",
      "Finished function: 'relative_difference_numerical' in 0.02 seconds.\n",
      "Finished function: 'normalized_difference_numerical' in 0.02 seconds.\n",
      "Finished function: 'difference_numerical' in 0.01 seconds.\n",
      "Finished function: 'relative_difference_numerical' in 0.02 seconds.\n",
      "Finished function: 'normalized_difference_numerical' in 0.01 seconds.\n",
      "Finished function: 'difference_numerical' in 0.01 seconds.\n",
      "Finished function: 'relative_difference_numerical' in 0.01 seconds.\n",
      "Finished function: 'normalized_difference_numerical' in 0.02 seconds.\n",
      "Finished function: 'difference_numerical' in 0.0 seconds.\n",
      "Finished function: 'relative_difference_numerical' in 0.01 seconds.\n",
      "Finished function: 'normalized_difference_numerical' in 0.02 seconds.\n",
      "Finished function: 'difference_numerical' in 0.0 seconds.\n",
      "Finished function: 'relative_difference_numerical' in 0.01 seconds.\n",
      "Finished function: 'normalized_difference_numerical' in 0.02 seconds.\n",
      "Finished function: 'difference_numerical' in 0.0 seconds.\n",
      "Finished function: 'relative_difference_numerical' in 0.01 seconds.\n",
      "Finished function: 'normalized_difference_numerical' in 0.02 seconds.\n",
      "Finished function: 'difference_numerical' in 0.0 seconds.\n",
      "Finished function: 'relative_difference_numerical' in 0.01 seconds.\n",
      "Finished function: 'normalized_difference_numerical' in 0.02 seconds.\n"
     ]
    },
    {
     "name": "stderr",
     "output_type": "stream",
     "text": [
      "\r",
      "  0%|          | 0/500000 [00:00<?, ?it/s]"
     ]
    },
    {
     "name": "stdout",
     "output_type": "stream",
     "text": [
      "Finished function: 'difference_numerical' in 0.01 seconds.\n",
      "Finished function: 'relative_difference_numerical' in 0.01 seconds.\n",
      "Finished function: 'normalized_difference_numerical' in 0.02 seconds.\n",
      "Finished function: 'difference_numerical' in 0.01 seconds.\n",
      "Finished function: 'relative_difference_numerical' in 0.02 seconds.\n",
      "Finished function: 'normalized_difference_numerical' in 0.02 seconds.\n"
     ]
    },
    {
     "name": "stderr",
     "output_type": "stream",
     "text": [
      "100%|██████████| 500000/500000 [00:11<00:00, 44459.74it/s]"
     ]
    },
    {
     "name": "stdout",
     "output_type": "stream",
     "text": [
      "Finished function: 'jaccard' in 11.32 seconds.\n",
      "Finished function: 'create_sentence_features' in 14.04 seconds.\n"
     ]
    },
    {
     "name": "stderr",
     "output_type": "stream",
     "text": [
      "\n"
     ]
    }
   ],
   "source": [
    "features_retrieval.create_sentence_features()"
   ]
  },
  {
   "cell_type": "code",
   "execution_count": 27,
   "metadata": {},
   "outputs": [
    {
     "name": "stderr",
     "output_type": "stream",
     "text": [
      "100%|██████████| 500000/500000 [03:23<00:00, 2452.87it/s]\n",
      "  0%|          | 191/500000 [00:00<04:22, 1905.93it/s]"
     ]
    },
    {
     "name": "stdout",
     "output_type": "stream",
     "text": [
      "Finished function: 'cosine_similarity_vector' in 203.9 seconds.\n"
     ]
    },
    {
     "name": "stderr",
     "output_type": "stream",
     "text": [
      "100%|██████████| 500000/500000 [03:22<00:00, 2471.01it/s]\n",
      "  0%|          | 308/500000 [00:00<02:42, 3074.83it/s]"
     ]
    },
    {
     "name": "stdout",
     "output_type": "stream",
     "text": [
      "Finished function: 'cosine_similarity_vector' in 202.41 seconds.\n"
     ]
    },
    {
     "name": "stderr",
     "output_type": "stream",
     "text": [
      "100%|██████████| 500000/500000 [02:19<00:00, 3579.12it/s]\n",
      "  0%|          | 304/500000 [00:00<02:44, 3033.54it/s]"
     ]
    },
    {
     "name": "stdout",
     "output_type": "stream",
     "text": [
      "Finished function: 'euclidean_distance_vector' in 139.76 seconds.\n"
     ]
    },
    {
     "name": "stderr",
     "output_type": "stream",
     "text": [
      "100%|██████████| 500000/500000 [02:12<00:00, 3785.64it/s]\n",
      "  1%|          | 3524/500000 [00:00<00:14, 35233.57it/s]"
     ]
    },
    {
     "name": "stdout",
     "output_type": "stream",
     "text": [
      "Finished function: 'euclidean_distance_vector' in 132.13 seconds.\n"
     ]
    },
    {
     "name": "stderr",
     "output_type": "stream",
     "text": [
      "100%|██████████| 500000/500000 [00:12<00:00, 41014.96it/s]\n",
      "  1%|          | 3515/500000 [00:00<00:14, 35145.51it/s]"
     ]
    },
    {
     "name": "stdout",
     "output_type": "stream",
     "text": [
      "Finished function: 'jaccard' in 12.26 seconds.\n"
     ]
    },
    {
     "name": "stderr",
     "output_type": "stream",
     "text": [
      "100%|██████████| 500000/500000 [00:12<00:00, 41237.71it/s]"
     ]
    },
    {
     "name": "stdout",
     "output_type": "stream",
     "text": [
      "Finished function: 'jaccard' in 12.18 seconds.\n",
      "Finished function: 'create_embedding_features' in 702.68 seconds.\n"
     ]
    },
    {
     "name": "stderr",
     "output_type": "stream",
     "text": [
      "\n"
     ]
    }
   ],
   "source": [
    "features_retrieval.create_embedding_features(\"proc_5k\")"
   ]
  },
  {
   "cell_type": "code",
   "execution_count": 28,
   "metadata": {},
   "outputs": [
    {
     "name": "stderr",
     "output_type": "stream",
     "text": [
      "100%|██████████| 500000/500000 [03:14<00:00, 2569.24it/s]\n",
      "  0%|          | 491/500000 [00:00<03:27, 2410.37it/s]"
     ]
    },
    {
     "name": "stdout",
     "output_type": "stream",
     "text": [
      "Finished function: 'cosine_similarity_vector' in 194.68 seconds.\n"
     ]
    },
    {
     "name": "stderr",
     "output_type": "stream",
     "text": [
      "100%|██████████| 500000/500000 [03:17<00:00, 2534.00it/s]\n",
      "  0%|          | 316/500000 [00:00<02:38, 3153.76it/s]"
     ]
    },
    {
     "name": "stdout",
     "output_type": "stream",
     "text": [
      "Finished function: 'cosine_similarity_vector' in 197.38 seconds.\n"
     ]
    },
    {
     "name": "stderr",
     "output_type": "stream",
     "text": [
      "100%|██████████| 500000/500000 [02:13<00:00, 3754.81it/s]\n",
      "  0%|          | 1443/500000 [00:00<02:22, 3491.46it/s]"
     ]
    },
    {
     "name": "stdout",
     "output_type": "stream",
     "text": [
      "Finished function: 'euclidean_distance_vector' in 133.22 seconds.\n"
     ]
    },
    {
     "name": "stderr",
     "output_type": "stream",
     "text": [
      "100%|██████████| 500000/500000 [02:22<00:00, 3508.96it/s]\n",
      "  1%|          | 2528/500000 [00:00<00:19, 25273.46it/s]"
     ]
    },
    {
     "name": "stdout",
     "output_type": "stream",
     "text": [
      "Finished function: 'euclidean_distance_vector' in 142.55 seconds.\n"
     ]
    },
    {
     "name": "stderr",
     "output_type": "stream",
     "text": [
      "100%|██████████| 500000/500000 [00:12<00:00, 39564.42it/s]\n",
      "  1%|          | 2989/500000 [00:00<00:16, 29888.75it/s]"
     ]
    },
    {
     "name": "stdout",
     "output_type": "stream",
     "text": [
      "Finished function: 'jaccard' in 12.71 seconds.\n"
     ]
    },
    {
     "name": "stderr",
     "output_type": "stream",
     "text": [
      "100%|██████████| 500000/500000 [00:17<00:00, 28988.17it/s]"
     ]
    },
    {
     "name": "stdout",
     "output_type": "stream",
     "text": [
      "Finished function: 'jaccard' in 17.33 seconds.\n",
      "Finished function: 'create_embedding_features' in 697.9 seconds.\n"
     ]
    },
    {
     "name": "stderr",
     "output_type": "stream",
     "text": [
      "\n"
     ]
    }
   ],
   "source": [
    "features_retrieval.create_embedding_features(\"proc_b_1k\")"
   ]
  },
  {
   "cell_type": "code",
   "execution_count": 29,
   "metadata": {},
   "outputs": [
    {
     "name": "stderr",
     "output_type": "stream",
     "text": [
      "100%|██████████| 500000/500000 [03:29<00:00, 2383.26it/s]\n",
      "  0%|          | 198/500000 [00:00<04:13, 1971.62it/s]"
     ]
    },
    {
     "name": "stdout",
     "output_type": "stream",
     "text": [
      "Finished function: 'cosine_similarity_vector' in 209.88 seconds.\n"
     ]
    },
    {
     "name": "stderr",
     "output_type": "stream",
     "text": [
      "100%|██████████| 500000/500000 [03:45<00:00, 2217.11it/s]\n",
      "  0%|          | 527/500000 [00:00<03:19, 2507.48it/s]"
     ]
    },
    {
     "name": "stdout",
     "output_type": "stream",
     "text": [
      "Finished function: 'cosine_similarity_vector' in 225.6 seconds.\n"
     ]
    },
    {
     "name": "stderr",
     "output_type": "stream",
     "text": [
      "100%|██████████| 500000/500000 [02:47<00:00, 2977.04it/s]\n",
      "  0%|          | 282/500000 [00:00<02:57, 2811.96it/s]"
     ]
    },
    {
     "name": "stdout",
     "output_type": "stream",
     "text": [
      "Finished function: 'euclidean_distance_vector' in 168.05 seconds.\n"
     ]
    },
    {
     "name": "stderr",
     "output_type": "stream",
     "text": [
      "100%|██████████| 500000/500000 [03:01<00:00, 2749.22it/s]\n",
      "  1%|          | 3448/500000 [00:00<00:14, 34479.95it/s]"
     ]
    },
    {
     "name": "stdout",
     "output_type": "stream",
     "text": [
      "Finished function: 'euclidean_distance_vector' in 181.94 seconds.\n"
     ]
    },
    {
     "name": "stderr",
     "output_type": "stream",
     "text": [
      "100%|██████████| 500000/500000 [00:12<00:00, 39113.96it/s]\n",
      "  1%|          | 3294/500000 [00:00<00:15, 32934.77it/s]"
     ]
    },
    {
     "name": "stdout",
     "output_type": "stream",
     "text": [
      "Finished function: 'jaccard' in 12.86 seconds.\n"
     ]
    },
    {
     "name": "stderr",
     "output_type": "stream",
     "text": [
      "100%|██████████| 500000/500000 [00:12<00:00, 39560.04it/s]"
     ]
    },
    {
     "name": "stdout",
     "output_type": "stream",
     "text": [
      "Finished function: 'jaccard' in 12.72 seconds.\n",
      "Finished function: 'create_embedding_features' in 811.1 seconds.\n"
     ]
    },
    {
     "name": "stderr",
     "output_type": "stream",
     "text": [
      "\n"
     ]
    }
   ],
   "source": [
    "features_retrieval.create_embedding_features(\"vecmap\")"
   ]
  },
  {
   "cell_type": "code",
   "execution_count": 30,
   "metadata": {},
   "outputs": [],
   "source": [
    "features_retrieval.feature_dataframe.reset_index(drop=True).to_feather(\"../data/processed/feature_retrieval_en_pl.feather\")"
   ]
  },
  {
   "cell_type": "code",
   "execution_count": null,
   "metadata": {},
   "outputs": [],
   "source": [
    "# import pandas as pd\n",
    "# pd.read_feather(\"../data/processed/feature_retrieval.feather\")"
   ]
  },
  {
   "cell_type": "code",
   "execution_count": null,
   "metadata": {},
   "outputs": [],
   "source": []
  },
  {
   "cell_type": "code",
   "execution_count": null,
   "metadata": {},
   "outputs": [],
   "source": []
  }
 ],
 "metadata": {
  "kernelspec": {
   "display_name": "Python 3",
   "language": "python",
   "name": "python3"
  },
  "language_info": {
   "codemirror_mode": {
    "name": "ipython",
    "version": 3
   },
   "file_extension": ".py",
   "mimetype": "text/x-python",
   "name": "python",
   "nbconvert_exporter": "python",
   "pygments_lexer": "ipython3",
   "version": "3.6.12"
  }
 },
 "nbformat": 4,
 "nbformat_minor": 4
}
