{
 "cells": [
  {
   "cell_type": "markdown",
   "metadata": {
    "pycharm": {
     "name": "#%% md\n"
    }
   },
   "source": [
    "# Preprocessing and Feature Creation"
   ]
  },
  {
   "cell_type": "markdown",
   "metadata": {
    "pycharm": {
     "name": "#%% md\n"
    }
   },
   "source": [
    "In this notebook we import the data, preprocess the data and create features for supervised and unsupervised cross-lingual-information retrieval models."
   ]
  },
  {
   "cell_type": "markdown",
   "metadata": {
    "pycharm": {
     "name": "#%% md\n"
    }
   },
   "source": [
    "## I. Import Data"
   ]
  },
  {
   "cell_type": "markdown",
   "metadata": {},
   "source": [
    "In this section we import the English and German europarl datasets and combine them into a parallel sentence translation dataframe."
   ]
  },
  {
   "cell_type": "code",
   "execution_count": null,
   "metadata": {},
   "outputs": [],
   "source": [
    "%load_ext autoreload\n",
    "%autoreload 2"
   ]
  },
  {
   "cell_type": "code",
   "execution_count": 2,
   "metadata": {},
   "outputs": [],
   "source": [
    "import os\n",
    "import sys\n",
    "sys.path.append(os.path.dirname((os.path.abspath(''))))\n",
    "\n",
    "from src.data import create_data_subset"
   ]
  },
  {
   "cell_type": "code",
   "execution_count": null,
   "metadata": {},
   "outputs": [],
   "source": [
    "create_data_subset(sentence_data_source_path='../data/external/europarl-v7.pl-en.en',\n",
    "                   sentence_data_target_path='../data/external/europarl-v7.pl-en.pl',\n",
    "                   sample_size=25000,\n",
    "                   sentence_data_sampled_path=\"../data/interim/europarl_en_pl.pkl\",)"
   ]
  },
  {
   "cell_type": "code",
   "execution_count": null,
   "metadata": {},
   "outputs": [],
   "source": [
    "!python -m spacy download pl_core_news_sm"
   ]
  },
  {
   "cell_type": "markdown",
   "metadata": {
    "pycharm": {
     "name": "#%% md\n"
    }
   },
   "source": [
    "## II. Preprocess data"
   ]
  },
  {
   "cell_type": "markdown",
   "metadata": {},
   "source": [
    "In this section we preprocess the parallel sentence data for the feature generation"
   ]
  },
  {
   "cell_type": "code",
   "execution_count": 3,
   "metadata": {},
   "outputs": [],
   "source": [
    "import spacy\n",
    "from nltk.corpus import stopwords\n",
    "from textblob import TextBlob as textblob_source\n",
    "from textblob_de import TextBlobDE as textblob_target\n",
    "import en_core_web_sm\n",
    "# import de_core_news_sm\n",
    "# import it_core_news_sm\n",
    "import pl_core_news_sm\n",
    "import time\n",
    "from src.data import PreprocessingEuroParl\n",
    "from stop_words import get_stop_words"
   ]
  },
  {
   "cell_type": "code",
   "execution_count": 4,
   "metadata": {
    "pycharm": {
     "is_executing": true
    }
   },
   "outputs": [],
   "source": [
    "stopwords_source = stopwords.words('english')\n",
    "# stopwords_target = stopwords.words('german') # German stopwords\n",
    "# stopwords_target = stopwords.words('italian') # Italian stopwords\n",
    "stopwords_target = get_stop_words('polish') # Polish stopwords\n",
    "nlp_source = en_core_web_sm.load()\n",
    "# nlp_target = de_core_news_sm.load() # German pipeline\n",
    "# nlp_target = it_core_news_sm.load() # Italian pipeline\n",
    "nlp_target = pl_core_news_sm.load() # Polish pipeline"
   ]
  },
  {
   "cell_type": "code",
   "execution_count": 35,
   "metadata": {},
   "outputs": [
    {
     "data": {
      "text/plain": [
       "<src.data.preprocessing_class.PreprocessingEuroParl at 0x7f8658984f28>"
      ]
     },
     "execution_count": 35,
     "metadata": {},
     "output_type": "execute_result"
    }
   ],
   "source": [
    "parallel_sentences"
   ]
  },
  {
   "cell_type": "code",
   "execution_count": 5,
   "metadata": {},
   "outputs": [
    {
     "name": "stdout",
     "output_type": "stream",
     "text": [
      "Finished function: 'import_data' in 0.05 seconds.\n"
     ]
    }
   ],
   "source": [
    "# parallel_sentences = PreprocessingEuroParl(df_sampled_path=\"../data/interim/europarl_en_de.pkl\") # German\n",
    "# parallel_sentences = PreprocessingEuroParl(df_sampled_path=\"../data/interim/europarl_en_it.pkl\") # Italien\n",
    "parallel_sentences = PreprocessingEuroParl(df_sampled_path=\"../data/interim/europarl_en_pl.pkl\") # Polnisch"
   ]
  },
  {
   "cell_type": "code",
   "execution_count": 6,
   "metadata": {},
   "outputs": [
    {
     "name": "stderr",
     "output_type": "stream",
     "text": [
      "100%|██████████| 25000/25000 [02:41<00:00, 154.78it/s]\n",
      " 61%|██████    | 15160/25000 [00:00<00:00, 32640.97it/s]"
     ]
    },
    {
     "name": "stdout",
     "output_type": "stream",
     "text": [
      "Finished function: 'spacy' in 161.52 seconds.\n"
     ]
    },
    {
     "name": "stderr",
     "output_type": "stream",
     "text": [
      "100%|██████████| 25000/25000 [00:00<00:00, 46998.56it/s]\n",
      "100%|██████████| 25000/25000 [00:00<00:00, 149139.72it/s]\n",
      "  0%|          | 0/25000 [00:00<?, ?it/s]"
     ]
    },
    {
     "name": "stdout",
     "output_type": "stream",
     "text": [
      "Finished function: 'remove_stopwords' in 0.53 seconds.\n",
      "Finished function: 'remove_punctuation' in 0.17 seconds.\n"
     ]
    },
    {
     "name": "stderr",
     "output_type": "stream",
     "text": [
      "100%|██████████| 25000/25000 [00:00<00:00, 182182.35it/s]\n",
      " 30%|██▉       | 7451/25000 [00:00<00:00, 74508.47it/s]"
     ]
    },
    {
     "name": "stdout",
     "output_type": "stream",
     "text": [
      "Finished function: 'remove_numbers' in 0.14 seconds.\n"
     ]
    },
    {
     "name": "stderr",
     "output_type": "stream",
     "text": [
      "100%|██████████| 25000/25000 [00:00<00:00, 76720.00it/s]\n",
      "100%|██████████| 25000/25000 [00:00<00:00, 176887.08it/s]\n"
     ]
    },
    {
     "name": "stdout",
     "output_type": "stream",
     "text": [
      "Finished function: 'lemmatize' in 0.33 seconds.\n",
      "Finished function: 'lowercase_spacy' in 0.14 seconds.\n"
     ]
    },
    {
     "name": "stderr",
     "output_type": "stream",
     "text": [
      "100%|██████████| 25000/25000 [03:22<00:00, 123.18it/s]\n",
      "100%|██████████| 25000/25000 [00:00<00:00, 214994.61it/s]\n",
      "  0%|          | 0/25000 [00:00<?, ?it/s]"
     ]
    },
    {
     "name": "stdout",
     "output_type": "stream",
     "text": [
      "Finished function: 'create_cleaned_token_embedding' in 163.06 seconds.\n",
      "Finished function: 'spacy' in 202.96 seconds.\n",
      "Finished function: 'remove_stopwords' in 0.12 seconds.\n"
     ]
    },
    {
     "name": "stderr",
     "output_type": "stream",
     "text": [
      "100%|██████████| 25000/25000 [00:00<00:00, 143405.21it/s]\n",
      " 85%|████████▌ | 21261/25000 [00:00<00:00, 43392.73it/s] "
     ]
    },
    {
     "name": "stdout",
     "output_type": "stream",
     "text": [
      "Finished function: 'remove_punctuation' in 0.18 seconds.\n"
     ]
    },
    {
     "name": "stderr",
     "output_type": "stream",
     "text": [
      "100%|██████████| 25000/25000 [00:00<00:00, 40371.34it/s]\n",
      " 22%|██▏       | 5591/25000 [00:00<00:00, 55903.26it/s]"
     ]
    },
    {
     "name": "stdout",
     "output_type": "stream",
     "text": [
      "Finished function: 'remove_numbers' in 0.62 seconds.\n"
     ]
    },
    {
     "name": "stderr",
     "output_type": "stream",
     "text": [
      "100%|██████████| 25000/25000 [00:00<00:00, 65900.84it/s]\n",
      "100%|██████████| 25000/25000 [00:00<00:00, 153890.72it/s]\n"
     ]
    },
    {
     "name": "stdout",
     "output_type": "stream",
     "text": [
      "Finished function: 'lemmatize' in 0.38 seconds.\n",
      "Finished function: 'lowercase_spacy' in 0.16 seconds.\n"
     ]
    },
    {
     "name": "stderr",
     "output_type": "stream",
     "text": [
      "100%|██████████| 25000/25000 [00:04<00:00, 5804.76it/s]\n",
      "100%|██████████| 25000/25000 [00:00<00:00, 286031.96it/s]\n",
      "100%|██████████| 25000/25000 [00:00<00:00, 192007.50it/s]"
     ]
    },
    {
     "name": "stdout",
     "output_type": "stream",
     "text": [
      "Finished function: 'create_cleaned_token_embedding' in 204.63 seconds.\n",
      "Finished function: 'tokenize_sentence' in 4.31 seconds.\n",
      "Finished function: 'remove_stopwords' in 0.09 seconds.\n"
     ]
    },
    {
     "name": "stderr",
     "output_type": "stream",
     "text": [
      "\n",
      "100%|██████████| 25000/25000 [00:00<00:00, 145564.59it/s]\n",
      "  0%|          | 0/25000 [00:00<?, ?it/s]"
     ]
    },
    {
     "name": "stdout",
     "output_type": "stream",
     "text": [
      "Finished function: 'strip_whitespace' in 0.13 seconds.\n",
      "Finished function: 'lowercase' in 0.17 seconds.\n",
      "Finished function: 'create_cleaned_text' in 4.73 seconds.\n"
     ]
    },
    {
     "name": "stderr",
     "output_type": "stream",
     "text": [
      "100%|██████████| 25000/25000 [00:04<00:00, 5302.97it/s]\n",
      "100%|██████████| 25000/25000 [00:00<00:00, 278529.91it/s]\n",
      "100%|██████████| 25000/25000 [00:00<00:00, 207109.35it/s]"
     ]
    },
    {
     "name": "stdout",
     "output_type": "stream",
     "text": [
      "Finished function: 'tokenize_sentence' in 4.72 seconds.\n",
      "Finished function: 'remove_stopwords' in 0.09 seconds.\n"
     ]
    },
    {
     "name": "stderr",
     "output_type": "stream",
     "text": [
      "\n",
      "100%|██████████| 25000/25000 [00:00<00:00, 129688.87it/s]\n"
     ]
    },
    {
     "name": "stdout",
     "output_type": "stream",
     "text": [
      "Finished function: 'strip_whitespace' in 0.12 seconds.\n",
      "Finished function: 'lowercase' in 0.19 seconds.\n",
      "Finished function: 'create_cleaned_text' in 5.15 seconds.\n"
     ]
    }
   ],
   "source": [
    "parallel_sentences.preprocess_sentences(nlp_source, nlp_target, stopwords_source, stopwords_target)"
   ]
  },
  {
   "cell_type": "code",
   "execution_count": 7,
   "metadata": {
    "pycharm": {
     "is_executing": true
    }
   },
   "outputs": [
    {
     "name": "stderr",
     "output_type": "stream",
     "text": [
      "100%|██████████| 25000/25000 [00:00<00:00, 87688.24it/s]\n",
      " 86%|████████▌ | 21378/25000 [00:00<00:00, 106092.13it/s]"
     ]
    },
    {
     "name": "stdout",
     "output_type": "stream",
     "text": [
      "Finished function: 'number_punctuations_total' in 0.29 seconds.\n"
     ]
    },
    {
     "name": "stderr",
     "output_type": "stream",
     "text": [
      "100%|██████████| 25000/25000 [00:00<00:00, 104911.52it/s]\n",
      "100%|██████████| 25000/25000 [00:00<00:00, 217978.78it/s]\n",
      "  0%|          | 0/25000 [00:00<?, ?it/s]"
     ]
    },
    {
     "name": "stdout",
     "output_type": "stream",
     "text": [
      "Finished function: 'number_punctuations_total' in 0.24 seconds.\n",
      "Finished function: 'number_words' in 0.12 seconds.\n"
     ]
    },
    {
     "name": "stderr",
     "output_type": "stream",
     "text": [
      "100%|██████████| 25000/25000 [00:00<00:00, 255681.65it/s]\n",
      " 19%|█▉        | 4737/25000 [00:00<00:00, 47365.75it/s]"
     ]
    },
    {
     "name": "stdout",
     "output_type": "stream",
     "text": [
      "Finished function: 'number_words' in 0.1 seconds.\n"
     ]
    },
    {
     "name": "stderr",
     "output_type": "stream",
     "text": [
      "100%|██████████| 25000/25000 [00:00<00:00, 49653.42it/s]\n",
      " 21%|██        | 5172/25000 [00:00<00:00, 51705.50it/s]"
     ]
    },
    {
     "name": "stdout",
     "output_type": "stream",
     "text": [
      "Finished function: 'number_unique_words' in 0.51 seconds.\n"
     ]
    },
    {
     "name": "stderr",
     "output_type": "stream",
     "text": [
      "100%|██████████| 25000/25000 [00:00<00:00, 51818.51it/s]\n",
      " 29%|██▊       | 7141/25000 [00:00<00:00, 71399.17it/s]"
     ]
    },
    {
     "name": "stdout",
     "output_type": "stream",
     "text": [
      "Finished function: 'number_unique_words' in 0.48 seconds.\n"
     ]
    },
    {
     "name": "stderr",
     "output_type": "stream",
     "text": [
      "100%|██████████| 25000/25000 [00:00<00:00, 70670.57it/s]\n",
      " 61%|██████    | 15273/25000 [00:00<00:00, 74076.85it/s]"
     ]
    },
    {
     "name": "stdout",
     "output_type": "stream",
     "text": [
      "Finished function: 'number_characters' in 0.36 seconds.\n"
     ]
    },
    {
     "name": "stderr",
     "output_type": "stream",
     "text": [
      "100%|██████████| 25000/25000 [00:00<00:00, 75209.22it/s]\n",
      "/Users/I534344/Google Drive/crosslingual-information-retrieval/src/data/preprocess_data.py:260: RuntimeWarning: divide by zero encountered in log\n",
      "  return (character_vector / word_vector).replace(np.nan, 0).replace(np.inf, 0).replace(np.log(0), 0)\n",
      "100%|██████████| 25000/25000 [00:00<00:00, 379631.37it/s]\n",
      "100%|██████████| 25000/25000 [00:00<00:00, 441351.44it/s]\n",
      "  0%|          | 0/25000 [00:00<?, ?it/s]"
     ]
    },
    {
     "name": "stdout",
     "output_type": "stream",
     "text": [
      "Finished function: 'number_characters' in 0.33 seconds.\n",
      "Finished function: 'average_characters' in 0.01 seconds.\n",
      "Finished function: 'average_characters' in 0.0 seconds.\n",
      "Finished function: 'number_punctuation_marks' in 0.07 seconds.\n",
      "Finished function: 'number_punctuation_marks' in 0.06 seconds.\n"
     ]
    },
    {
     "name": "stderr",
     "output_type": "stream",
     "text": [
      "100%|██████████| 25000/25000 [00:00<00:00, 381919.77it/s]\n",
      "100%|██████████| 25000/25000 [00:00<00:00, 376891.42it/s]\n",
      "100%|██████████| 25000/25000 [00:00<00:00, 384079.70it/s]\n",
      "100%|██████████| 25000/25000 [00:00<00:00, 408370.10it/s]\n",
      "  0%|          | 0/25000 [00:00<?, ?it/s]"
     ]
    },
    {
     "name": "stdout",
     "output_type": "stream",
     "text": [
      "Finished function: 'number_punctuation_marks' in 0.07 seconds.\n",
      "Finished function: 'number_punctuation_marks' in 0.07 seconds.\n",
      "Finished function: 'number_punctuation_marks' in 0.07 seconds.\n",
      "Finished function: 'number_punctuation_marks' in 0.06 seconds.\n"
     ]
    },
    {
     "name": "stderr",
     "output_type": "stream",
     "text": [
      "100%|██████████| 25000/25000 [00:00<00:00, 397366.99it/s]\n",
      "100%|██████████| 25000/25000 [00:00<00:00, 343058.68it/s]\n",
      "100%|██████████| 25000/25000 [00:00<00:00, 371300.89it/s]\n",
      "  0%|          | 0/25000 [00:00<?, ?it/s]"
     ]
    },
    {
     "name": "stdout",
     "output_type": "stream",
     "text": [
      "Finished function: 'number_punctuation_marks' in 0.06 seconds.\n",
      "Finished function: 'number_punctuation_marks' in 0.07 seconds.\n",
      "Finished function: 'number_punctuation_marks' in 0.07 seconds.\n"
     ]
    },
    {
     "name": "stderr",
     "output_type": "stream",
     "text": [
      "100%|██████████| 25000/25000 [00:00<00:00, 406631.27it/s]\n",
      "100%|██████████| 25000/25000 [00:00<00:00, 383195.44it/s]\n",
      "100%|██████████| 25000/25000 [00:00<00:00, 455664.87it/s]\n",
      "100%|██████████| 25000/25000 [00:00<00:00, 399136.69it/s]\n",
      "  0%|          | 0/25000 [00:00<?, ?it/s]"
     ]
    },
    {
     "name": "stdout",
     "output_type": "stream",
     "text": [
      "Finished function: 'number_punctuation_marks' in 0.06 seconds.\n",
      "Finished function: 'number_punctuation_marks' in 0.07 seconds.\n",
      "Finished function: 'number_punctuation_marks' in 0.06 seconds.\n",
      "Finished function: 'number_punctuation_marks' in 0.06 seconds.\n"
     ]
    },
    {
     "name": "stderr",
     "output_type": "stream",
     "text": [
      "100%|██████████| 25000/25000 [00:00<00:00, 407212.40it/s]\n",
      "100%|██████████| 25000/25000 [00:00<00:00, 380239.84it/s]\n",
      "100%|██████████| 25000/25000 [00:00<00:00, 376858.91it/s]\n",
      "  0%|          | 0/25000 [00:00<?, ?it/s]"
     ]
    },
    {
     "name": "stdout",
     "output_type": "stream",
     "text": [
      "Finished function: 'number_punctuation_marks' in 0.06 seconds.\n",
      "Finished function: 'number_punctuation_marks' in 0.07 seconds.\n",
      "Finished function: 'number_punctuation_marks' in 0.07 seconds.\n"
     ]
    },
    {
     "name": "stderr",
     "output_type": "stream",
     "text": [
      "100%|██████████| 25000/25000 [00:00<00:00, 381580.65it/s]\n",
      "100%|██████████| 25000/25000 [00:00<00:00, 377682.85it/s]\n",
      "100%|██████████| 25000/25000 [00:00<00:00, 358805.23it/s]\n",
      "  0%|          | 0/25000 [00:00<?, ?it/s]"
     ]
    },
    {
     "name": "stdout",
     "output_type": "stream",
     "text": [
      "Finished function: 'number_punctuation_marks' in 0.07 seconds.\n",
      "Finished function: 'number_punctuation_marks' in 0.07 seconds.\n",
      "Finished function: 'number_punctuation_marks' in 0.07 seconds.\n"
     ]
    },
    {
     "name": "stderr",
     "output_type": "stream",
     "text": [
      "100%|██████████| 25000/25000 [00:00<00:00, 403744.13it/s]\n",
      "100%|██████████| 25000/25000 [00:00<00:00, 353171.24it/s]\n",
      "100%|██████████| 25000/25000 [00:00<00:00, 368693.72it/s]\n",
      "  0%|          | 0/25000 [00:00<?, ?it/s]"
     ]
    },
    {
     "name": "stdout",
     "output_type": "stream",
     "text": [
      "Finished function: 'number_punctuation_marks' in 0.06 seconds.\n",
      "Finished function: 'number_punctuation_marks' in 0.07 seconds.\n",
      "Finished function: 'number_punctuation_marks' in 0.07 seconds.\n"
     ]
    },
    {
     "name": "stderr",
     "output_type": "stream",
     "text": [
      "100%|██████████| 25000/25000 [00:00<00:00, 402518.20it/s]\n",
      "100%|██████████| 25000/25000 [00:00<00:00, 406325.59it/s]\n",
      "100%|██████████| 25000/25000 [00:00<00:00, 456945.64it/s]\n",
      "100%|██████████| 25000/25000 [00:00<00:00, 424758.57it/s]\n",
      "100%|██████████| 25000/25000 [00:00<00:00, 436301.30it/s]"
     ]
    },
    {
     "name": "stdout",
     "output_type": "stream",
     "text": [
      "Finished function: 'number_punctuation_marks' in 0.06 seconds.\n",
      "Finished function: 'number_punctuation_marks' in 0.06 seconds.\n",
      "Finished function: 'number_punctuation_marks' in 0.06 seconds.\n",
      "Finished function: 'number_punctuation_marks' in 0.06 seconds.\n"
     ]
    },
    {
     "name": "stderr",
     "output_type": "stream",
     "text": [
      "\n",
      "100%|██████████| 25000/25000 [00:00<00:00, 404910.32it/s]\n",
      "100%|██████████| 25000/25000 [00:00<00:00, 363928.41it/s]\n",
      "100%|██████████| 25000/25000 [00:00<00:00, 400609.75it/s]\n",
      "  0%|          | 0/25000 [00:00<?, ?it/s]"
     ]
    },
    {
     "name": "stdout",
     "output_type": "stream",
     "text": [
      "Finished function: 'number_punctuation_marks' in 0.06 seconds.\n",
      "Finished function: 'number_punctuation_marks' in 0.06 seconds.\n",
      "Finished function: 'number_punctuation_marks' in 0.07 seconds.\n",
      "Finished function: 'number_punctuation_marks' in 0.06 seconds.\n"
     ]
    },
    {
     "name": "stderr",
     "output_type": "stream",
     "text": [
      "100%|██████████| 25000/25000 [00:00<00:00, 457298.36it/s]\n",
      "100%|██████████| 25000/25000 [00:00<00:00, 464485.49it/s]\n",
      "100%|██████████| 25000/25000 [00:00<00:00, 464366.19it/s]\n",
      "100%|██████████| 25000/25000 [00:00<00:00, 461271.41it/s]\n",
      "  0%|          | 0/25000 [00:00<?, ?it/s]"
     ]
    },
    {
     "name": "stdout",
     "output_type": "stream",
     "text": [
      "Finished function: 'number_punctuation_marks' in 0.06 seconds.\n",
      "Finished function: 'number_punctuation_marks' in 0.06 seconds.\n",
      "Finished function: 'number_punctuation_marks' in 0.05 seconds.\n",
      "Finished function: 'number_punctuation_marks' in 0.06 seconds.\n"
     ]
    },
    {
     "name": "stderr",
     "output_type": "stream",
     "text": [
      "100%|██████████| 25000/25000 [00:00<00:00, 451865.29it/s]\n",
      "100%|██████████| 25000/25000 [00:00<00:00, 423641.40it/s]\n",
      "100%|██████████| 25000/25000 [00:00<00:00, 438250.64it/s]\n",
      "100%|██████████| 25000/25000 [00:00<00:00, 458941.60it/s]\n",
      "100%|██████████| 25000/25000 [00:00<00:00, 460277.24it/s]"
     ]
    },
    {
     "name": "stdout",
     "output_type": "stream",
     "text": [
      "Finished function: 'number_punctuation_marks' in 0.06 seconds.\n",
      "Finished function: 'number_punctuation_marks' in 0.06 seconds.\n",
      "Finished function: 'number_punctuation_marks' in 0.06 seconds.\n",
      "Finished function: 'number_punctuation_marks' in 0.06 seconds.\n"
     ]
    },
    {
     "name": "stderr",
     "output_type": "stream",
     "text": [
      "\n",
      "100%|██████████| 25000/25000 [00:00<00:00, 457513.85it/s]\n",
      "100%|██████████| 25000/25000 [00:00<00:00, 463700.85it/s]\n",
      "100%|██████████| 25000/25000 [00:00<00:00, 463729.56it/s]\n",
      "100%|██████████| 25000/25000 [00:00<00:00, 440374.62it/s]"
     ]
    },
    {
     "name": "stdout",
     "output_type": "stream",
     "text": [
      "Finished function: 'number_punctuation_marks' in 0.06 seconds.\n",
      "Finished function: 'number_punctuation_marks' in 0.06 seconds.\n",
      "Finished function: 'number_punctuation_marks' in 0.06 seconds.\n",
      "Finished function: 'number_punctuation_marks' in 0.06 seconds.\n"
     ]
    },
    {
     "name": "stderr",
     "output_type": "stream",
     "text": [
      "\n",
      "100%|██████████| 25000/25000 [00:00<00:00, 468804.94it/s]\n",
      "100%|██████████| 25000/25000 [00:00<00:00, 463262.44it/s]\n",
      "100%|██████████| 25000/25000 [00:00<00:00, 459311.50it/s]\n",
      "100%|██████████| 25000/25000 [00:00<00:00, 436027.34it/s]"
     ]
    },
    {
     "name": "stdout",
     "output_type": "stream",
     "text": [
      "Finished function: 'number_punctuation_marks' in 0.06 seconds.\n",
      "Finished function: 'number_punctuation_marks' in 0.05 seconds.\n",
      "Finished function: 'number_punctuation_marks' in 0.06 seconds.\n",
      "Finished function: 'number_punctuation_marks' in 0.06 seconds.\n"
     ]
    },
    {
     "name": "stderr",
     "output_type": "stream",
     "text": [
      "\n",
      "100%|██████████| 25000/25000 [00:00<00:00, 461332.29it/s]\n",
      "100%|██████████| 25000/25000 [00:00<00:00, 459651.77it/s]\n",
      "100%|██████████| 25000/25000 [00:00<00:00, 458085.49it/s]\n",
      "  0%|          | 0/25000 [00:00<?, ?it/s]"
     ]
    },
    {
     "name": "stdout",
     "output_type": "stream",
     "text": [
      "Finished function: 'number_punctuation_marks' in 0.06 seconds.\n",
      "Finished function: 'number_punctuation_marks' in 0.06 seconds.\n",
      "Finished function: 'number_punctuation_marks' in 0.06 seconds.\n",
      "Finished function: 'number_punctuation_marks' in 0.06 seconds.\n"
     ]
    },
    {
     "name": "stderr",
     "output_type": "stream",
     "text": [
      "100%|██████████| 25000/25000 [00:00<00:00, 444745.30it/s]\n",
      "100%|██████████| 25000/25000 [00:00<00:00, 450514.07it/s]\n",
      "100%|██████████| 25000/25000 [00:00<00:00, 444475.72it/s]\n",
      "100%|██████████| 25000/25000 [00:00<00:00, 456295.42it/s]\n",
      "100%|██████████| 25000/25000 [00:00<00:00, 463254.25it/s]"
     ]
    },
    {
     "name": "stdout",
     "output_type": "stream",
     "text": [
      "Finished function: 'number_punctuation_marks' in 0.06 seconds.\n",
      "Finished function: 'number_punctuation_marks' in 0.06 seconds.\n",
      "Finished function: 'number_punctuation_marks' in 0.06 seconds.\n",
      "Finished function: 'number_punctuation_marks' in 0.06 seconds.\n"
     ]
    },
    {
     "name": "stderr",
     "output_type": "stream",
     "text": [
      "\n",
      "100%|██████████| 25000/25000 [00:00<00:00, 443740.27it/s]\n",
      "100%|██████████| 25000/25000 [00:00<00:00, 456436.44it/s]\n",
      "100%|██████████| 25000/25000 [00:00<00:00, 461297.79it/s]\n",
      "  0%|          | 0/25000 [00:00<?, ?it/s]"
     ]
    },
    {
     "name": "stdout",
     "output_type": "stream",
     "text": [
      "Finished function: 'number_punctuation_marks' in 0.06 seconds.\n",
      "Finished function: 'number_punctuation_marks' in 0.06 seconds.\n",
      "Finished function: 'number_punctuation_marks' in 0.06 seconds.\n",
      "Finished function: 'number_punctuation_marks' in 0.06 seconds.\n"
     ]
    },
    {
     "name": "stderr",
     "output_type": "stream",
     "text": [
      "100%|██████████| 25000/25000 [00:00<00:00, 451435.36it/s]\n",
      "100%|██████████| 25000/25000 [00:00<00:00, 406278.36it/s]\n",
      "100%|██████████| 25000/25000 [00:00<00:00, 464164.74it/s]\n",
      "100%|██████████| 25000/25000 [00:00<00:00, 448414.09it/s]\n",
      "100%|██████████| 25000/25000 [00:00<00:00, 435730.20it/s]"
     ]
    },
    {
     "name": "stdout",
     "output_type": "stream",
     "text": [
      "Finished function: 'number_punctuation_marks' in 0.06 seconds.\n",
      "Finished function: 'number_punctuation_marks' in 0.06 seconds.\n",
      "Finished function: 'number_punctuation_marks' in 0.06 seconds.\n",
      "Finished function: 'number_punctuation_marks' in 0.06 seconds.\n"
     ]
    },
    {
     "name": "stderr",
     "output_type": "stream",
     "text": [
      "\n",
      "100%|██████████| 25000/25000 [00:00<00:00, 435375.60it/s]\n",
      "  0%|          | 12/25000 [00:00<03:30, 118.74it/s]"
     ]
    },
    {
     "name": "stdout",
     "output_type": "stream",
     "text": [
      "Finished function: 'number_punctuation_marks' in 0.06 seconds.\n",
      "Finished function: 'number_punctuation_marks' in 0.06 seconds.\n"
     ]
    },
    {
     "name": "stderr",
     "output_type": "stream",
     "text": [
      "100%|██████████| 25000/25000 [02:35<00:00, 160.45it/s]\n",
      "  0%|          | 13/25000 [00:00<03:20, 124.73it/s]"
     ]
    },
    {
     "name": "stdout",
     "output_type": "stream",
     "text": [
      "Finished function: 'spacy' in 155.81 seconds.\n"
     ]
    },
    {
     "name": "stderr",
     "output_type": "stream",
     "text": [
      "100%|██████████| 25000/25000 [03:18<00:00, 125.97it/s]\n",
      "100%|██████████| 25000/25000 [00:00<00:00, 125803.36it/s]\n",
      "  0%|          | 0/25000 [00:00<?, ?it/s]"
     ]
    },
    {
     "name": "stdout",
     "output_type": "stream",
     "text": [
      "Finished function: 'spacy' in 198.46 seconds.\n",
      "Finished function: 'number_pos' in 0.2 seconds.\n"
     ]
    },
    {
     "name": "stderr",
     "output_type": "stream",
     "text": [
      "100%|██████████| 25000/25000 [00:00<00:00, 169461.90it/s]\n",
      "100%|██████████| 25000/25000 [00:00<00:00, 179704.54it/s]\n",
      "  0%|          | 0/25000 [00:00<?, ?it/s]"
     ]
    },
    {
     "name": "stdout",
     "output_type": "stream",
     "text": [
      "Finished function: 'number_pos' in 0.15 seconds.\n",
      "Finished function: 'number_pos' in 0.14 seconds.\n"
     ]
    },
    {
     "name": "stderr",
     "output_type": "stream",
     "text": [
      "100%|██████████| 25000/25000 [00:00<00:00, 197458.55it/s]\n",
      "100%|██████████| 25000/25000 [00:00<00:00, 177773.86it/s]\n",
      "  0%|          | 0/25000 [00:00<?, ?it/s]"
     ]
    },
    {
     "name": "stdout",
     "output_type": "stream",
     "text": [
      "Finished function: 'number_pos' in 0.13 seconds.\n",
      "Finished function: 'number_pos' in 0.14 seconds.\n"
     ]
    },
    {
     "name": "stderr",
     "output_type": "stream",
     "text": [
      "100%|██████████| 25000/25000 [00:00<00:00, 197416.17it/s]\n",
      "  5%|▍         | 1206/25000 [00:00<00:01, 12057.71it/s]"
     ]
    },
    {
     "name": "stdout",
     "output_type": "stream",
     "text": [
      "Finished function: 'number_pos' in 0.13 seconds.\n"
     ]
    },
    {
     "name": "stderr",
     "output_type": "stream",
     "text": [
      "100%|██████████| 25000/25000 [00:01<00:00, 12745.71it/s]\n",
      "  6%|▌         | 1413/25000 [00:00<00:01, 14128.87it/s]"
     ]
    },
    {
     "name": "stdout",
     "output_type": "stream",
     "text": [
      "Finished function: 'number_times' in 1.96 seconds.\n"
     ]
    },
    {
     "name": "stderr",
     "output_type": "stream",
     "text": [
      "100%|██████████| 25000/25000 [00:01<00:00, 14771.42it/s]\n",
      " 10%|█         | 2514/25000 [00:00<00:01, 12490.52it/s]"
     ]
    },
    {
     "name": "stdout",
     "output_type": "stream",
     "text": [
      "Finished function: 'number_times' in 1.69 seconds.\n"
     ]
    },
    {
     "name": "stderr",
     "output_type": "stream",
     "text": [
      "100%|██████████| 25000/25000 [00:01<00:00, 12812.24it/s]\n",
      " 11%|█▏        | 2829/25000 [00:00<00:01, 13962.44it/s]"
     ]
    },
    {
     "name": "stdout",
     "output_type": "stream",
     "text": [
      "Finished function: 'number_times' in 1.95 seconds.\n"
     ]
    },
    {
     "name": "stderr",
     "output_type": "stream",
     "text": [
      "100%|██████████| 25000/25000 [00:01<00:00, 14753.06it/s]\n",
      "  5%|▌         | 1279/25000 [00:00<00:01, 12788.98it/s]"
     ]
    },
    {
     "name": "stdout",
     "output_type": "stream",
     "text": [
      "Finished function: 'number_times' in 1.7 seconds.\n"
     ]
    },
    {
     "name": "stderr",
     "output_type": "stream",
     "text": [
      "100%|██████████| 25000/25000 [00:01<00:00, 13080.18it/s]\n",
      " 11%|█▏        | 2820/25000 [00:00<00:01, 14160.27it/s]"
     ]
    },
    {
     "name": "stdout",
     "output_type": "stream",
     "text": [
      "Finished function: 'number_times' in 1.91 seconds.\n"
     ]
    },
    {
     "name": "stderr",
     "output_type": "stream",
     "text": [
      "100%|██████████| 25000/25000 [00:01<00:00, 14704.80it/s]\n",
      "100%|██████████| 25000/25000 [00:00<00:00, 187033.63it/s]\n",
      "  0%|          | 0/25000 [00:00<?, ?it/s]"
     ]
    },
    {
     "name": "stdout",
     "output_type": "stream",
     "text": [
      "Finished function: 'number_times' in 1.7 seconds.\n",
      "Finished function: 'named_numbers' in 0.14 seconds.\n"
     ]
    },
    {
     "name": "stderr",
     "output_type": "stream",
     "text": [
      "100%|██████████| 25000/25000 [00:00<00:00, 187236.35it/s]"
     ]
    },
    {
     "name": "stdout",
     "output_type": "stream",
     "text": [
      "Finished function: 'named_numbers' in 0.14 seconds.\n"
     ]
    },
    {
     "name": "stderr",
     "output_type": "stream",
     "text": [
      "\n"
     ]
    }
   ],
   "source": [
    "parallel_sentences.extract_sentence_information(nlp_source, nlp_target)"
   ]
  },
  {
   "cell_type": "code",
   "execution_count": 9,
   "metadata": {},
   "outputs": [
    {
     "name": "stdout",
     "output_type": "stream",
     "text": [
      "Finished function: 'load_embeddings' in 1.01 seconds.\n"
     ]
    },
    {
     "name": "stderr",
     "output_type": "stream",
     "text": [
      "  0%|          | 33/25000 [00:00<01:18, 318.71it/s]"
     ]
    },
    {
     "name": "stdout",
     "output_type": "stream",
     "text": [
      "Finished function: 'load_embeddings' in 0.66 seconds.\n"
     ]
    },
    {
     "name": "stderr",
     "output_type": "stream",
     "text": [
      "100%|██████████| 25000/25000 [00:57<00:00, 436.42it/s]\n",
      "  0%|          | 47/25000 [00:00<00:53, 464.15it/s]"
     ]
    },
    {
     "name": "stdout",
     "output_type": "stream",
     "text": [
      "Finished function: 'word_embeddings' in 57.28 seconds.\n"
     ]
    },
    {
     "name": "stderr",
     "output_type": "stream",
     "text": [
      "100%|██████████| 25000/25000 [00:53<00:00, 471.20it/s]\n"
     ]
    },
    {
     "name": "stdout",
     "output_type": "stream",
     "text": [
      "Finished function: 'word_embeddings' in 53.06 seconds.\n"
     ]
    },
    {
     "name": "stderr",
     "output_type": "stream",
     "text": [
      "100%|██████████| 25000/25000 [00:00<00:00, 171934.63it/s]\n",
      "  0%|          | 0/25000 [00:00<?, ?it/s]"
     ]
    },
    {
     "name": "stdout",
     "output_type": "stream",
     "text": [
      "Finished function: 'create_translation_dictionary' in 61.91 seconds.\n",
      "Finished function: 'translate_words' in 0.15 seconds.\n"
     ]
    },
    {
     "name": "stderr",
     "output_type": "stream",
     "text": [
      "100%|██████████| 25000/25000 [00:00<00:00, 178752.42it/s]\n"
     ]
    },
    {
     "name": "stdout",
     "output_type": "stream",
     "text": [
      "Finished function: 'translate_words' in 0.14 seconds.\n"
     ]
    },
    {
     "name": "stderr",
     "output_type": "stream",
     "text": [
      "100%|██████████| 25000/25000 [00:15<00:00, 1580.53it/s]\n"
     ]
    },
    {
     "name": "stdout",
     "output_type": "stream",
     "text": [
      "Finished function: 'tf_idf_vector' in 16.18 seconds.\n"
     ]
    },
    {
     "name": "stderr",
     "output_type": "stream",
     "text": [
      "100%|██████████| 25000/25000 [00:13<00:00, 1850.63it/s]\n",
      "  1%|          | 181/25000 [00:00<00:13, 1801.91it/s]"
     ]
    },
    {
     "name": "stdout",
     "output_type": "stream",
     "text": [
      "Finished function: 'tf_idf_vector' in 13.86 seconds.\n"
     ]
    },
    {
     "name": "stderr",
     "output_type": "stream",
     "text": [
      "100%|██████████| 25000/25000 [00:12<00:00, 1957.88it/s]\n",
      "  1%|          | 254/25000 [00:00<00:09, 2534.17it/s]"
     ]
    },
    {
     "name": "stdout",
     "output_type": "stream",
     "text": [
      "Finished function: 'sentence_embedding_average' in 12.77 seconds.\n"
     ]
    },
    {
     "name": "stderr",
     "output_type": "stream",
     "text": [
      "100%|██████████| 25000/25000 [00:10<00:00, 2498.73it/s]\n",
      "  0%|          | 0/25000 [00:00<?, ?it/s]/Users/I534344/Google Drive/crosslingual-information-retrieval/src/data/preprocess_data.py:614: RuntimeWarning: Mean of empty slice.\n",
      "  return [pd.Series(embedding_dataframe.values.mean(axis=1))]\n",
      "  0%|          | 18/25000 [00:00<02:22, 174.85it/s]"
     ]
    },
    {
     "name": "stdout",
     "output_type": "stream",
     "text": [
      "Finished function: 'sentence_embedding_average' in 10.01 seconds.\n"
     ]
    },
    {
     "name": "stderr",
     "output_type": "stream",
     "text": [
      "100%|██████████| 25000/25000 [02:07<00:00, 196.41it/s]\n",
      "  0%|          | 22/25000 [00:00<01:55, 215.43it/s]"
     ]
    },
    {
     "name": "stdout",
     "output_type": "stream",
     "text": [
      "Finished function: 'sentence_embedding_tf_idf' in 127.29 seconds.\n"
     ]
    },
    {
     "name": "stderr",
     "output_type": "stream",
     "text": [
      "100%|██████████| 25000/25000 [01:50<00:00, 226.68it/s]"
     ]
    },
    {
     "name": "stdout",
     "output_type": "stream",
     "text": [
      "Finished function: 'sentence_embedding_tf_idf' in 110.3 seconds.\n"
     ]
    },
    {
     "name": "stderr",
     "output_type": "stream",
     "text": [
      "\n"
     ]
    }
   ],
   "source": [
    "parallel_sentences.create_embedding_information(\"proc_5k\", language_pair=\"en_pl\")"
   ]
  },
  {
   "cell_type": "code",
   "execution_count": 10,
   "metadata": {},
   "outputs": [
    {
     "name": "stdout",
     "output_type": "stream",
     "text": [
      "Finished function: 'load_embeddings' in 1.05 seconds.\n"
     ]
    },
    {
     "name": "stderr",
     "output_type": "stream",
     "text": [
      "  0%|          | 41/25000 [00:00<01:01, 406.30it/s]"
     ]
    },
    {
     "name": "stdout",
     "output_type": "stream",
     "text": [
      "Finished function: 'load_embeddings' in 0.68 seconds.\n"
     ]
    },
    {
     "name": "stderr",
     "output_type": "stream",
     "text": [
      "100%|██████████| 25000/25000 [00:52<00:00, 478.75it/s]\n",
      "  0%|          | 47/25000 [00:00<00:53, 463.10it/s]"
     ]
    },
    {
     "name": "stdout",
     "output_type": "stream",
     "text": [
      "Finished function: 'word_embeddings' in 52.22 seconds.\n"
     ]
    },
    {
     "name": "stderr",
     "output_type": "stream",
     "text": [
      "100%|██████████| 25000/25000 [00:59<00:00, 418.52it/s]\n"
     ]
    },
    {
     "name": "stdout",
     "output_type": "stream",
     "text": [
      "Finished function: 'word_embeddings' in 59.74 seconds.\n"
     ]
    },
    {
     "name": "stderr",
     "output_type": "stream",
     "text": [
      "100%|██████████| 25000/25000 [00:00<00:00, 180622.67it/s]\n",
      "  0%|          | 0/25000 [00:00<?, ?it/s]"
     ]
    },
    {
     "name": "stdout",
     "output_type": "stream",
     "text": [
      "Finished function: 'create_translation_dictionary' in 59.43 seconds.\n",
      "Finished function: 'translate_words' in 0.14 seconds.\n"
     ]
    },
    {
     "name": "stderr",
     "output_type": "stream",
     "text": [
      "100%|██████████| 25000/25000 [00:00<00:00, 167362.72it/s]\n"
     ]
    },
    {
     "name": "stdout",
     "output_type": "stream",
     "text": [
      "Finished function: 'translate_words' in 0.15 seconds.\n"
     ]
    },
    {
     "name": "stderr",
     "output_type": "stream",
     "text": [
      "100%|██████████| 25000/25000 [00:20<00:00, 1217.80it/s]\n"
     ]
    },
    {
     "name": "stdout",
     "output_type": "stream",
     "text": [
      "Finished function: 'tf_idf_vector' in 20.87 seconds.\n"
     ]
    },
    {
     "name": "stderr",
     "output_type": "stream",
     "text": [
      "100%|██████████| 25000/25000 [00:13<00:00, 1861.64it/s]\n",
      "  0%|          | 91/25000 [00:00<00:27, 905.35it/s]"
     ]
    },
    {
     "name": "stdout",
     "output_type": "stream",
     "text": [
      "Finished function: 'tf_idf_vector' in 13.79 seconds.\n"
     ]
    },
    {
     "name": "stderr",
     "output_type": "stream",
     "text": [
      "100%|██████████| 25000/25000 [00:13<00:00, 1825.99it/s]\n",
      "  1%|          | 158/25000 [00:00<00:15, 1579.80it/s]"
     ]
    },
    {
     "name": "stdout",
     "output_type": "stream",
     "text": [
      "Finished function: 'sentence_embedding_average' in 13.69 seconds.\n"
     ]
    },
    {
     "name": "stderr",
     "output_type": "stream",
     "text": [
      "100%|██████████| 25000/25000 [00:15<00:00, 1603.65it/s]\n",
      "  0%|          | 13/25000 [00:00<03:14, 128.68it/s]"
     ]
    },
    {
     "name": "stdout",
     "output_type": "stream",
     "text": [
      "Finished function: 'sentence_embedding_average' in 15.59 seconds.\n"
     ]
    },
    {
     "name": "stderr",
     "output_type": "stream",
     "text": [
      "100%|██████████| 25000/25000 [02:06<00:00, 197.65it/s]\n",
      "  0%|          | 25/25000 [00:00<01:41, 246.11it/s]"
     ]
    },
    {
     "name": "stdout",
     "output_type": "stream",
     "text": [
      "Finished function: 'sentence_embedding_tf_idf' in 126.55 seconds.\n"
     ]
    },
    {
     "name": "stderr",
     "output_type": "stream",
     "text": [
      "100%|██████████| 25000/25000 [01:50<00:00, 225.41it/s]"
     ]
    },
    {
     "name": "stdout",
     "output_type": "stream",
     "text": [
      "Finished function: 'sentence_embedding_tf_idf' in 110.92 seconds.\n"
     ]
    },
    {
     "name": "stderr",
     "output_type": "stream",
     "text": [
      "\n"
     ]
    }
   ],
   "source": [
    "parallel_sentences.create_embedding_information(\"proc_b_1k\", language_pair=\"en_pl\")"
   ]
  },
  {
   "cell_type": "code",
   "execution_count": 11,
   "metadata": {},
   "outputs": [
    {
     "name": "stdout",
     "output_type": "stream",
     "text": [
      "Finished function: 'load_embeddings' in 0.92 seconds.\n"
     ]
    },
    {
     "name": "stderr",
     "output_type": "stream",
     "text": [
      "  0%|          | 21/25000 [00:00<02:00, 207.63it/s]"
     ]
    },
    {
     "name": "stdout",
     "output_type": "stream",
     "text": [
      "Finished function: 'load_embeddings' in 1.02 seconds.\n"
     ]
    },
    {
     "name": "stderr",
     "output_type": "stream",
     "text": [
      "100%|██████████| 25000/25000 [00:59<00:00, 420.79it/s]\n",
      "  0%|          | 39/25000 [00:00<01:06, 377.68it/s]"
     ]
    },
    {
     "name": "stdout",
     "output_type": "stream",
     "text": [
      "Finished function: 'word_embeddings' in 59.42 seconds.\n"
     ]
    },
    {
     "name": "stderr",
     "output_type": "stream",
     "text": [
      "100%|██████████| 25000/25000 [00:51<00:00, 484.15it/s]\n"
     ]
    },
    {
     "name": "stdout",
     "output_type": "stream",
     "text": [
      "Finished function: 'word_embeddings' in 51.64 seconds.\n"
     ]
    },
    {
     "name": "stderr",
     "output_type": "stream",
     "text": [
      "100%|██████████| 25000/25000 [00:00<00:00, 166618.10it/s]\n",
      "  0%|          | 0/25000 [00:00<?, ?it/s]"
     ]
    },
    {
     "name": "stdout",
     "output_type": "stream",
     "text": [
      "Finished function: 'create_translation_dictionary' in 62.89 seconds.\n",
      "Finished function: 'translate_words' in 0.16 seconds.\n"
     ]
    },
    {
     "name": "stderr",
     "output_type": "stream",
     "text": [
      "100%|██████████| 25000/25000 [00:00<00:00, 170175.86it/s]\n"
     ]
    },
    {
     "name": "stdout",
     "output_type": "stream",
     "text": [
      "Finished function: 'translate_words' in 0.15 seconds.\n"
     ]
    },
    {
     "name": "stderr",
     "output_type": "stream",
     "text": [
      "100%|██████████| 25000/25000 [00:21<00:00, 1162.44it/s]\n"
     ]
    },
    {
     "name": "stdout",
     "output_type": "stream",
     "text": [
      "Finished function: 'tf_idf_vector' in 21.87 seconds.\n"
     ]
    },
    {
     "name": "stderr",
     "output_type": "stream",
     "text": [
      "100%|██████████| 25000/25000 [00:14<00:00, 1730.15it/s]\n",
      "  0%|          | 83/25000 [00:00<00:30, 827.38it/s]"
     ]
    },
    {
     "name": "stdout",
     "output_type": "stream",
     "text": [
      "Finished function: 'tf_idf_vector' in 15.21 seconds.\n"
     ]
    },
    {
     "name": "stderr",
     "output_type": "stream",
     "text": [
      "100%|██████████| 25000/25000 [00:23<00:00, 1058.18it/s]\n",
      "  1%|          | 250/25000 [00:00<00:09, 2493.34it/s]"
     ]
    },
    {
     "name": "stdout",
     "output_type": "stream",
     "text": [
      "Finished function: 'sentence_embedding_average' in 23.63 seconds.\n"
     ]
    },
    {
     "name": "stderr",
     "output_type": "stream",
     "text": [
      "100%|██████████| 25000/25000 [00:15<00:00, 1651.35it/s]\n",
      "  0%|          | 21/25000 [00:00<02:03, 202.45it/s]"
     ]
    },
    {
     "name": "stdout",
     "output_type": "stream",
     "text": [
      "Finished function: 'sentence_embedding_average' in 15.14 seconds.\n"
     ]
    },
    {
     "name": "stderr",
     "output_type": "stream",
     "text": [
      "100%|██████████| 25000/25000 [02:04<00:00, 201.35it/s]\n",
      "  0%|          | 24/25000 [00:00<01:45, 237.49it/s]"
     ]
    },
    {
     "name": "stdout",
     "output_type": "stream",
     "text": [
      "Finished function: 'sentence_embedding_tf_idf' in 124.17 seconds.\n"
     ]
    },
    {
     "name": "stderr",
     "output_type": "stream",
     "text": [
      "100%|██████████| 25000/25000 [01:42<00:00, 243.76it/s]"
     ]
    },
    {
     "name": "stdout",
     "output_type": "stream",
     "text": [
      "Finished function: 'sentence_embedding_tf_idf' in 102.57 seconds.\n"
     ]
    },
    {
     "name": "stderr",
     "output_type": "stream",
     "text": [
      "\n"
     ]
    }
   ],
   "source": [
    "parallel_sentences.create_embedding_information(\"vecmap\", language_pair=\"en_pl\")"
   ]
  },
  {
   "cell_type": "code",
   "execution_count": 12,
   "metadata": {},
   "outputs": [],
   "source": [
    "parallel_sentences.preprocessed.to_json(\"../data/interim/preprocessed_data_en_pl.json\")"
   ]
  },
  {
   "cell_type": "code",
   "execution_count": 13,
   "metadata": {},
   "outputs": [
    {
     "name": "stdout",
     "output_type": "stream",
     "text": [
      "Finished function: 'import_data' in 0.05 seconds.\n"
     ]
    }
   ],
   "source": [
    "import pandas as pd\n",
    "preprocessed_data = pd.read_json(\"../data/interim/preprocessed_data_en_pl.json\")\n",
    "parallel_sentences = PreprocessingEuroParl(df_sampled_path=\"../data/interim/europarl_en_pl.pkl\")\n",
    "parallel_sentences.preprocessed = preprocessed_data"
   ]
  },
  {
   "cell_type": "markdown",
   "metadata": {},
   "source": [
    "## III. Create data set"
   ]
  },
  {
   "cell_type": "markdown",
   "metadata": {},
   "source": [
    "In this section we create the datasets for the training of the supervised model and the data for the supervised and unsupervised retrieval."
   ]
  },
  {
   "cell_type": "code",
   "execution_count": 19,
   "metadata": {
    "pycharm": {
     "name": "#%%\n"
    }
   },
   "outputs": [],
   "source": [
    "from src.data import DataSet"
   ]
  },
  {
   "cell_type": "code",
   "execution_count": 20,
   "metadata": {},
   "outputs": [],
   "source": [
    "n_model = 20000\n",
    "n_queries = 100\n",
    "n_retrieval = 5000\n",
    "k = 10\n",
    "sample_size_k = 100"
   ]
  },
  {
   "cell_type": "code",
   "execution_count": 21,
   "metadata": {
    "pycharm": {
     "is_executing": true
    }
   },
   "outputs": [
    {
     "name": "stdout",
     "output_type": "stream",
     "text": [
      "Finished function: '__init__' in 0.01 seconds.\n"
     ]
    }
   ],
   "source": [
    "dataset = DataSet(parallel_sentences.preprocessed)\n",
    "#dataset = DataSet(preprocessed_data)"
   ]
  },
  {
   "cell_type": "code",
   "execution_count": 22,
   "metadata": {},
   "outputs": [
    {
     "name": "stdout",
     "output_type": "stream",
     "text": [
      "Finished function: 'split_model_retrieval' in 0.0 seconds.\n"
     ]
    }
   ],
   "source": [
    "dataset.split_model_retrieval(n_model, n_retrieval)"
   ]
  },
  {
   "cell_type": "code",
   "execution_count": 23,
   "metadata": {},
   "outputs": [
    {
     "name": "stderr",
     "output_type": "stream",
     "text": [
      "100%|██████████| 2000000/2000000 [16:21<00:00, 2036.66it/s]\n"
     ]
    },
    {
     "name": "stdout",
     "output_type": "stream",
     "text": [
      "Finished function: 'cosine_similarity_vector' in 982.61 seconds.\n"
     ]
    },
    {
     "name": "stderr",
     "output_type": "stream",
     "text": [
      "100%|██████████| 20000/20000 [00:10<00:00, 1900.52it/s]\n"
     ]
    }
   ],
   "source": [
    "dataset.create_model_index(n_model, k, sample_size_k,\n",
    "     \"sentence_embedding_tf_idf_proc_5k_source\", \"sentence_embedding_tf_idf_proc_5k_target\")"
   ]
  },
  {
   "cell_type": "code",
   "execution_count": 24,
   "metadata": {},
   "outputs": [],
   "source": [
    "dataset.model_dataset_index.reset_index(drop=True).to_feather(\"../data/processed/dataset_model_index_en_pl.feather\")"
   ]
  },
  {
   "cell_type": "code",
   "execution_count": 25,
   "metadata": {},
   "outputs": [],
   "source": [
    "# import pandas as pd\n",
    "# pd.read_feather(\"../data/processed/dataset_model_index.feather\")"
   ]
  },
  {
   "cell_type": "code",
   "execution_count": 26,
   "metadata": {},
   "outputs": [],
   "source": [
    "#dataset.create_retrieval_index(n_queries)\n",
    "import pandas as pd\n",
    "# If your pandas version is old, use this instead\n",
    "query = pd.DataFrame({\"id_source\": dataset.retrieval_subset.iloc[:n_queries][\"id_source\"]})\n",
    "documents = pd.DataFrame({\"id_target\": dataset.retrieval_subset[\"id_target\"]})\n",
    "index = pd.MultiIndex.from_product([dataset.retrieval_subset.iloc[:n_queries][\"id_source\"], dataset.retrieval_subset[\"id_target\"]], names = [\"id_source\", \"id_target\"])\n",
    "dataset.retrieval_dataset_index = pd.DataFrame(index = index).reset_index()"
   ]
  },
  {
   "cell_type": "code",
   "execution_count": 27,
   "metadata": {},
   "outputs": [],
   "source": [
    "dataset.retrieval_dataset_index.reset_index(drop=True).to_feather(\"../data/processed/dataset_retrieval_index_en_pl.feather\")"
   ]
  },
  {
   "cell_type": "code",
   "execution_count": null,
   "metadata": {},
   "outputs": [],
   "source": [
    "# import pandas as pd\n",
    "# pd.read_feather(\"../data/processed/dataset_retrieval_index.feather\")"
   ]
  },
  {
   "cell_type": "markdown",
   "metadata": {
    "pycharm": {
     "is_executing": true,
     "name": "#%% md\n"
    }
   },
   "source": [
    "## IV. Create features"
   ]
  },
  {
   "cell_type": "markdown",
   "metadata": {},
   "source": [
    "In this section we create features for our model, that are sentence based and should be created before the text is preprocessed."
   ]
  },
  {
   "cell_type": "code",
   "execution_count": 16,
   "metadata": {
    "pycharm": {
     "name": "#%%\n"
    }
   },
   "outputs": [],
   "source": [
    "#%autoreload 2\n",
    "from src.features import feature_generation_class"
   ]
  },
  {
   "cell_type": "code",
   "execution_count": null,
   "metadata": {},
   "outputs": [],
   "source": [
    "# import pickle\n",
    "# with open(r\"../data/processed/correlated_features.pkl\", \"rb\") as file:\n",
    "#    chosen_features = pickle.load(file)"
   ]
  },
  {
   "cell_type": "markdown",
   "metadata": {},
   "source": [
    "Generation of the training data for the supervised classifciation model."
   ]
  },
  {
   "cell_type": "code",
   "execution_count": null,
   "metadata": {
    "pycharm": {
     "is_executing": true
    }
   },
   "outputs": [],
   "source": [
    "features_model = feature_generation_class.FeatureGeneration(dataset.model_dataset_index, \n",
    "                                                             parallel_sentences.preprocessed)"
   ]
  },
  {
   "cell_type": "code",
   "execution_count": null,
   "metadata": {
    "pycharm": {
     "is_executing": true
    }
   },
   "outputs": [],
   "source": [
    "features_model.create_feature_dataframe()"
   ]
  },
  {
   "cell_type": "code",
   "execution_count": null,
   "metadata": {},
   "outputs": [],
   "source": [
    "features_model.create_sentence_features()"
   ]
  },
  {
   "cell_type": "code",
   "execution_count": null,
   "metadata": {},
   "outputs": [],
   "source": [
    "features_model.create_embedding_features(\"proc_5k\")"
   ]
  },
  {
   "cell_type": "code",
   "execution_count": null,
   "metadata": {},
   "outputs": [],
   "source": [
    "features_model.create_embedding_features(\"proc_b_1k\")"
   ]
  },
  {
   "cell_type": "code",
   "execution_count": null,
   "metadata": {},
   "outputs": [],
   "source": [
    "features_model.create_embedding_features(\"vecmap\")"
   ]
  },
  {
   "cell_type": "code",
   "execution_count": null,
   "metadata": {},
   "outputs": [],
   "source": [
    "features_model.feature_dataframe.reset_index(drop=True).to_feather(\"../data/processed/feature_model_en_pl.feather\")"
   ]
  },
  {
   "cell_type": "code",
   "execution_count": null,
   "metadata": {},
   "outputs": [],
   "source": [
    "# import pandas as pd\n",
    "# pd.read_feather(\"../data/processed/feature_model.feather\")"
   ]
  },
  {
   "cell_type": "markdown",
   "metadata": {},
   "source": [
    "Generation of the data for the crosslingual information retrieval task."
   ]
  },
  {
   "cell_type": "code",
   "execution_count": 28,
   "metadata": {},
   "outputs": [],
   "source": [
    "features_retrieval = feature_generation_class.FeatureGeneration(dataset.retrieval_dataset_index, \n",
    "                                                            parallel_sentences.preprocessed)"
   ]
  },
  {
   "cell_type": "code",
   "execution_count": 29,
   "metadata": {},
   "outputs": [
    {
     "name": "stdout",
     "output_type": "stream",
     "text": [
      "Finished function: 'create_feature_dataframe' in 0.01 seconds.\n"
     ]
    }
   ],
   "source": [
    "features_retrieval.create_feature_dataframe()"
   ]
  },
  {
   "cell_type": "code",
   "execution_count": 30,
   "metadata": {},
   "outputs": [
    {
     "name": "stdout",
     "output_type": "stream",
     "text": [
      "Finished function: 'difference_numerical' in 0.03 seconds.\n",
      "Finished function: 'relative_difference_numerical' in 0.02 seconds.\n",
      "Finished function: 'normalized_difference_numerical' in 0.01 seconds.\n",
      "Finished function: 'difference_numerical' in 0.0 seconds.\n",
      "Finished function: 'relative_difference_numerical' in 0.01 seconds.\n",
      "Finished function: 'normalized_difference_numerical' in 0.02 seconds.\n",
      "Finished function: 'difference_numerical' in 0.0 seconds.\n",
      "Finished function: 'relative_difference_numerical' in 0.01 seconds.\n",
      "Finished function: 'normalized_difference_numerical' in 0.02 seconds.\n",
      "Finished function: 'difference_numerical' in 0.0 seconds.\n"
     ]
    },
    {
     "name": "stderr",
     "output_type": "stream",
     "text": [
      "/Users/I534344/Google Drive/crosslingual-information-retrieval/src/features/sentence_features.py:21: RuntimeWarning: divide by zero encountered in log\n",
      "  return abs(target_array - source_array).replace(np.nan, 0).replace(np.inf, 0).replace(np.log(0), 0)\n",
      "/Users/I534344/Google Drive/crosslingual-information-retrieval/src/features/sentence_features.py:38: RuntimeWarning: divide by zero encountered in log\n",
      "  0), 0)\n",
      "/Users/I534344/Google Drive/crosslingual-information-retrieval/src/features/sentence_features.py:58: RuntimeWarning: divide by zero encountered in log\n",
      "  np.log(0), 0)\n"
     ]
    },
    {
     "name": "stdout",
     "output_type": "stream",
     "text": [
      "Finished function: 'relative_difference_numerical' in 0.01 seconds.\n",
      "Finished function: 'normalized_difference_numerical' in 0.02 seconds.\n",
      "Finished function: 'difference_numerical' in 0.01 seconds.\n",
      "Finished function: 'relative_difference_numerical' in 0.02 seconds.\n",
      "Finished function: 'normalized_difference_numerical' in 0.02 seconds.\n",
      "Finished function: 'difference_numerical' in 0.0 seconds.\n",
      "Finished function: 'relative_difference_numerical' in 0.02 seconds.\n",
      "Finished function: 'normalized_difference_numerical' in 0.02 seconds.\n",
      "Finished function: 'difference_numerical' in 0.0 seconds.\n",
      "Finished function: 'relative_difference_numerical' in 0.01 seconds.\n",
      "Finished function: 'normalized_difference_numerical' in 0.02 seconds.\n",
      "Finished function: 'difference_numerical' in 0.0 seconds.\n",
      "Finished function: 'relative_difference_numerical' in 0.01 seconds.\n",
      "Finished function: 'normalized_difference_numerical' in 0.02 seconds.\n",
      "Finished function: 'difference_numerical' in 0.0 seconds.\n",
      "Finished function: 'relative_difference_numerical' in 0.02 seconds.\n",
      "Finished function: 'normalized_difference_numerical' in 0.02 seconds.\n",
      "Finished function: 'difference_numerical' in 0.01 seconds.\n",
      "Finished function: 'relative_difference_numerical' in 0.02 seconds.\n",
      "Finished function: 'normalized_difference_numerical' in 0.03 seconds.\n",
      "Finished function: 'difference_numerical' in 0.0 seconds.\n",
      "Finished function: 'relative_difference_numerical' in 0.02 seconds.\n",
      "Finished function: 'normalized_difference_numerical' in 0.02 seconds.\n",
      "Finished function: 'difference_numerical' in 0.0 seconds.\n",
      "Finished function: 'relative_difference_numerical' in 0.02 seconds.\n",
      "Finished function: 'normalized_difference_numerical' in 0.02 seconds.\n",
      "Finished function: 'difference_numerical' in 0.0 seconds.\n",
      "Finished function: 'relative_difference_numerical' in 0.02 seconds.\n",
      "Finished function: 'normalized_difference_numerical' in 0.02 seconds.\n",
      "Finished function: 'difference_numerical' in 0.0 seconds.\n",
      "Finished function: 'relative_difference_numerical' in 0.01 seconds.\n",
      "Finished function: 'normalized_difference_numerical' in 0.02 seconds.\n",
      "Finished function: 'difference_numerical' in 0.0 seconds.\n",
      "Finished function: 'relative_difference_numerical' in 0.01 seconds.\n",
      "Finished function: 'normalized_difference_numerical' in 0.02 seconds.\n",
      "Finished function: 'difference_numerical' in 0.0 seconds.\n",
      "Finished function: 'relative_difference_numerical' in 0.01 seconds.\n",
      "Finished function: 'normalized_difference_numerical' in 0.02 seconds.\n",
      "Finished function: 'difference_numerical' in 0.0 seconds.\n",
      "Finished function: 'relative_difference_numerical' in 0.02 seconds.\n",
      "Finished function: 'normalized_difference_numerical' in 0.02 seconds.\n",
      "Finished function: 'difference_numerical' in 0.0 seconds.\n",
      "Finished function: 'relative_difference_numerical' in 0.01 seconds.\n",
      "Finished function: 'normalized_difference_numerical' in 0.02 seconds.\n",
      "Finished function: 'difference_numerical' in 0.0 seconds.\n",
      "Finished function: 'relative_difference_numerical' in 0.01 seconds.\n",
      "Finished function: 'normalized_difference_numerical' in 0.02 seconds.\n",
      "Finished function: 'difference_numerical' in 0.0 seconds.\n",
      "Finished function: 'relative_difference_numerical' in 0.01 seconds.\n",
      "Finished function: 'normalized_difference_numerical' in 0.02 seconds.\n",
      "Finished function: 'difference_numerical' in 0.0 seconds.\n",
      "Finished function: 'relative_difference_numerical' in 0.01 seconds.\n",
      "Finished function: 'normalized_difference_numerical' in 0.02 seconds.\n",
      "Finished function: 'difference_numerical' in 0.0 seconds.\n",
      "Finished function: 'relative_difference_numerical' in 0.01 seconds.\n",
      "Finished function: 'normalized_difference_numerical' in 0.02 seconds.\n",
      "Finished function: 'difference_numerical' in 0.0 seconds.\n",
      "Finished function: 'relative_difference_numerical' in 0.01 seconds.\n",
      "Finished function: 'normalized_difference_numerical' in 0.02 seconds.\n",
      "Finished function: 'difference_numerical' in 0.0 seconds.\n",
      "Finished function: 'relative_difference_numerical' in 0.01 seconds.\n",
      "Finished function: 'normalized_difference_numerical' in 0.02 seconds.\n",
      "Finished function: 'difference_numerical' in 0.0 seconds.\n",
      "Finished function: 'relative_difference_numerical' in 0.01 seconds.\n",
      "Finished function: 'normalized_difference_numerical' in 0.02 seconds.\n",
      "Finished function: 'difference_numerical' in 0.0 seconds.\n",
      "Finished function: 'relative_difference_numerical' in 0.01 seconds.\n",
      "Finished function: 'normalized_difference_numerical' in 0.02 seconds.\n",
      "Finished function: 'difference_numerical' in 0.0 seconds.\n",
      "Finished function: 'relative_difference_numerical' in 0.02 seconds.\n",
      "Finished function: 'normalized_difference_numerical' in 0.02 seconds.\n",
      "Finished function: 'difference_numerical' in 0.0 seconds.\n",
      "Finished function: 'relative_difference_numerical' in 0.01 seconds.\n",
      "Finished function: 'normalized_difference_numerical' in 0.02 seconds.\n",
      "Finished function: 'difference_numerical' in 0.0 seconds.\n",
      "Finished function: 'relative_difference_numerical' in 0.02 seconds.\n",
      "Finished function: 'normalized_difference_numerical' in 0.02 seconds.\n",
      "Finished function: 'difference_numerical' in 0.0 seconds.\n",
      "Finished function: 'relative_difference_numerical' in 0.01 seconds.\n",
      "Finished function: 'normalized_difference_numerical' in 0.02 seconds.\n",
      "Finished function: 'difference_numerical' in 0.0 seconds.\n",
      "Finished function: 'relative_difference_numerical' in 0.01 seconds.\n",
      "Finished function: 'normalized_difference_numerical' in 0.02 seconds.\n",
      "Finished function: 'difference_numerical' in 0.0 seconds.\n",
      "Finished function: 'relative_difference_numerical' in 0.01 seconds.\n",
      "Finished function: 'normalized_difference_numerical' in 0.02 seconds.\n",
      "Finished function: 'difference_numerical' in 0.0 seconds.\n",
      "Finished function: 'relative_difference_numerical' in 0.02 seconds.\n",
      "Finished function: 'normalized_difference_numerical' in 0.01 seconds.\n",
      "Finished function: 'difference_numerical' in 0.0 seconds.\n",
      "Finished function: 'relative_difference_numerical' in 0.01 seconds.\n",
      "Finished function: 'normalized_difference_numerical' in 0.01 seconds.\n",
      "Finished function: 'difference_numerical' in 0.0 seconds.\n",
      "Finished function: 'relative_difference_numerical' in 0.01 seconds.\n",
      "Finished function: 'normalized_difference_numerical' in 0.01 seconds.\n",
      "Finished function: 'difference_numerical' in 0.0 seconds.\n",
      "Finished function: 'relative_difference_numerical' in 0.01 seconds.\n",
      "Finished function: 'normalized_difference_numerical' in 0.01 seconds.\n",
      "Finished function: 'difference_numerical' in 0.01 seconds.\n",
      "Finished function: 'relative_difference_numerical' in 0.01 seconds.\n",
      "Finished function: 'normalized_difference_numerical' in 0.02 seconds.\n",
      "Finished function: 'difference_numerical' in 0.0 seconds.\n",
      "Finished function: 'relative_difference_numerical' in 0.01 seconds.\n",
      "Finished function: 'normalized_difference_numerical' in 0.02 seconds.\n",
      "Finished function: 'difference_numerical' in 0.0 seconds.\n",
      "Finished function: 'relative_difference_numerical' in 0.01 seconds.\n",
      "Finished function: 'normalized_difference_numerical' in 0.02 seconds.\n",
      "Finished function: 'difference_numerical' in 0.0 seconds.\n",
      "Finished function: 'relative_difference_numerical' in 0.01 seconds.\n",
      "Finished function: 'normalized_difference_numerical' in 0.02 seconds.\n",
      "Finished function: 'difference_numerical' in 0.0 seconds.\n",
      "Finished function: 'relative_difference_numerical' in 0.01 seconds.\n",
      "Finished function: 'normalized_difference_numerical' in 0.02 seconds.\n",
      "Finished function: 'difference_numerical' in 0.0 seconds.\n"
     ]
    },
    {
     "name": "stderr",
     "output_type": "stream",
     "text": [
      "\r",
      "  0%|          | 0/500000 [00:00<?, ?it/s]"
     ]
    },
    {
     "name": "stdout",
     "output_type": "stream",
     "text": [
      "Finished function: 'relative_difference_numerical' in 0.02 seconds.\n",
      "Finished function: 'normalized_difference_numerical' in 0.02 seconds.\n",
      "Finished function: 'difference_numerical' in 0.0 seconds.\n",
      "Finished function: 'relative_difference_numerical' in 0.02 seconds.\n",
      "Finished function: 'normalized_difference_numerical' in 0.02 seconds.\n"
     ]
    },
    {
     "name": "stderr",
     "output_type": "stream",
     "text": [
      "100%|██████████| 500000/500000 [00:19<00:00, 26282.87it/s]"
     ]
    },
    {
     "name": "stdout",
     "output_type": "stream",
     "text": [
      "Finished function: 'jaccard' in 19.11 seconds.\n",
      "Finished function: 'create_sentence_features' in 22.08 seconds.\n"
     ]
    },
    {
     "name": "stderr",
     "output_type": "stream",
     "text": [
      "\n"
     ]
    }
   ],
   "source": [
    "features_retrieval.create_sentence_features()"
   ]
  },
  {
   "cell_type": "code",
   "execution_count": 31,
   "metadata": {},
   "outputs": [
    {
     "name": "stderr",
     "output_type": "stream",
     "text": [
      "100%|██████████| 500000/500000 [05:18<00:00, 1570.98it/s]\n",
      "  0%|          | 116/500000 [00:00<07:11, 1159.28it/s]"
     ]
    },
    {
     "name": "stdout",
     "output_type": "stream",
     "text": [
      "Finished function: 'cosine_similarity_vector' in 318.37 seconds.\n"
     ]
    },
    {
     "name": "stderr",
     "output_type": "stream",
     "text": [
      "100%|██████████| 500000/500000 [05:15<00:00, 1582.63it/s]\n",
      "  0%|          | 0/500000 [00:00<?, ?it/s]"
     ]
    },
    {
     "name": "stdout",
     "output_type": "stream",
     "text": [
      "Finished function: 'cosine_similarity_vector' in 316.01 seconds.\n"
     ]
    },
    {
     "name": "stderr",
     "output_type": "stream",
     "text": [
      "100%|██████████| 500000/500000 [03:18<00:00, 2524.50it/s]\n",
      "  0%|          | 224/500000 [00:00<03:45, 2220.22it/s]"
     ]
    },
    {
     "name": "stdout",
     "output_type": "stream",
     "text": [
      "Finished function: 'euclidean_distance_vector' in 198.18 seconds.\n"
     ]
    },
    {
     "name": "stderr",
     "output_type": "stream",
     "text": [
      "100%|██████████| 500000/500000 [03:06<00:00, 2684.32it/s]\n",
      "  0%|          | 0/500000 [00:00<?, ?it/s]"
     ]
    },
    {
     "name": "stdout",
     "output_type": "stream",
     "text": [
      "Finished function: 'euclidean_distance_vector' in 186.34 seconds.\n"
     ]
    },
    {
     "name": "stderr",
     "output_type": "stream",
     "text": [
      "100%|██████████| 500000/500000 [00:22<00:00, 22124.60it/s]\n",
      "  0%|          | 1670/500000 [00:00<00:29, 16697.87it/s]"
     ]
    },
    {
     "name": "stdout",
     "output_type": "stream",
     "text": [
      "Finished function: 'jaccard' in 22.72 seconds.\n"
     ]
    },
    {
     "name": "stderr",
     "output_type": "stream",
     "text": [
      "100%|██████████| 500000/500000 [00:26<00:00, 18910.90it/s]"
     ]
    },
    {
     "name": "stdout",
     "output_type": "stream",
     "text": [
      "Finished function: 'jaccard' in 26.54 seconds.\n",
      "Finished function: 'create_embedding_features' in 1068.22 seconds.\n"
     ]
    },
    {
     "name": "stderr",
     "output_type": "stream",
     "text": [
      "\n"
     ]
    }
   ],
   "source": [
    "features_retrieval.create_embedding_features(\"proc_5k\")"
   ]
  },
  {
   "cell_type": "code",
   "execution_count": 32,
   "metadata": {},
   "outputs": [
    {
     "name": "stderr",
     "output_type": "stream",
     "text": [
      "100%|██████████| 500000/500000 [05:00<00:00, 1661.14it/s]\n",
      "  0%|          | 0/500000 [00:00<?, ?it/s]"
     ]
    },
    {
     "name": "stdout",
     "output_type": "stream",
     "text": [
      "Finished function: 'cosine_similarity_vector' in 301.12 seconds.\n"
     ]
    },
    {
     "name": "stderr",
     "output_type": "stream",
     "text": [
      "100%|██████████| 500000/500000 [06:02<00:00, 1380.42it/s]\n",
      "  0%|          | 0/500000 [00:00<?, ?it/s]"
     ]
    },
    {
     "name": "stdout",
     "output_type": "stream",
     "text": [
      "Finished function: 'cosine_similarity_vector' in 362.34 seconds.\n"
     ]
    },
    {
     "name": "stderr",
     "output_type": "stream",
     "text": [
      "100%|██████████| 500000/500000 [03:19<00:00, 2501.94it/s]\n",
      "  0%|          | 170/500000 [00:00<04:54, 1696.08it/s]"
     ]
    },
    {
     "name": "stdout",
     "output_type": "stream",
     "text": [
      "Finished function: 'euclidean_distance_vector' in 199.97 seconds.\n"
     ]
    },
    {
     "name": "stderr",
     "output_type": "stream",
     "text": [
      "100%|██████████| 500000/500000 [03:06<00:00, 2685.01it/s]\n",
      "  0%|          | 0/500000 [00:00<?, ?it/s]"
     ]
    },
    {
     "name": "stdout",
     "output_type": "stream",
     "text": [
      "Finished function: 'euclidean_distance_vector' in 186.3 seconds.\n"
     ]
    },
    {
     "name": "stderr",
     "output_type": "stream",
     "text": [
      "100%|██████████| 500000/500000 [00:22<00:00, 21893.46it/s]\n",
      "  0%|          | 0/500000 [00:00<?, ?it/s]"
     ]
    },
    {
     "name": "stdout",
     "output_type": "stream",
     "text": [
      "Finished function: 'jaccard' in 22.98 seconds.\n"
     ]
    },
    {
     "name": "stderr",
     "output_type": "stream",
     "text": [
      "100%|██████████| 500000/500000 [00:23<00:00, 21155.37it/s]"
     ]
    },
    {
     "name": "stdout",
     "output_type": "stream",
     "text": [
      "Finished function: 'jaccard' in 23.74 seconds.\n",
      "Finished function: 'create_embedding_features' in 1096.49 seconds.\n"
     ]
    },
    {
     "name": "stderr",
     "output_type": "stream",
     "text": [
      "\n"
     ]
    }
   ],
   "source": [
    "features_retrieval.create_embedding_features(\"proc_b_1k\")"
   ]
  },
  {
   "cell_type": "code",
   "execution_count": 33,
   "metadata": {},
   "outputs": [
    {
     "name": "stderr",
     "output_type": "stream",
     "text": [
      "100%|██████████| 500000/500000 [05:22<00:00, 1550.32it/s]\n"
     ]
    },
    {
     "name": "stdout",
     "output_type": "stream",
     "text": [
      "Finished function: 'cosine_similarity_vector' in 315.73 seconds.\n"
     ]
    },
    {
     "name": "stderr",
     "output_type": "stream",
     "text": [
      "100%|██████████| 500000/500000 [05:18<00:00, 1569.23it/s]\n",
      "  0%|          | 0/500000 [00:00<?, ?it/s]"
     ]
    },
    {
     "name": "stdout",
     "output_type": "stream",
     "text": [
      "Finished function: 'cosine_similarity_vector' in 318.86 seconds.\n"
     ]
    },
    {
     "name": "stderr",
     "output_type": "stream",
     "text": [
      "100%|██████████| 500000/500000 [03:25<00:00, 2430.55it/s]\n",
      "  0%|          | 231/500000 [00:00<03:36, 2307.49it/s]"
     ]
    },
    {
     "name": "stdout",
     "output_type": "stream",
     "text": [
      "Finished function: 'euclidean_distance_vector' in 205.81 seconds.\n"
     ]
    },
    {
     "name": "stderr",
     "output_type": "stream",
     "text": [
      "100%|██████████| 500000/500000 [02:41<00:00, 3088.96it/s]\n",
      "  1%|          | 3552/500000 [00:00<00:13, 35518.51it/s]"
     ]
    },
    {
     "name": "stdout",
     "output_type": "stream",
     "text": [
      "Finished function: 'euclidean_distance_vector' in 161.94 seconds.\n"
     ]
    },
    {
     "name": "stderr",
     "output_type": "stream",
     "text": [
      "100%|██████████| 500000/500000 [00:16<00:00, 30403.51it/s]\n",
      "  1%|          | 2875/500000 [00:00<00:17, 28745.92it/s]"
     ]
    },
    {
     "name": "stdout",
     "output_type": "stream",
     "text": [
      "Finished function: 'jaccard' in 16.54 seconds.\n"
     ]
    },
    {
     "name": "stderr",
     "output_type": "stream",
     "text": [
      "100%|██████████| 500000/500000 [00:15<00:00, 33093.92it/s]"
     ]
    },
    {
     "name": "stdout",
     "output_type": "stream",
     "text": [
      "Finished function: 'jaccard' in 15.2 seconds.\n",
      "Finished function: 'create_embedding_features' in 1034.14 seconds.\n"
     ]
    },
    {
     "name": "stderr",
     "output_type": "stream",
     "text": [
      "\n"
     ]
    }
   ],
   "source": [
    "features_retrieval.create_embedding_features(\"vecmap\")"
   ]
  },
  {
   "cell_type": "code",
   "execution_count": 34,
   "metadata": {},
   "outputs": [],
   "source": [
    "features_retrieval.feature_dataframe.reset_index(drop=True).to_feather(\"../data/processed/feature_retrieval_en_pl.feather\")"
   ]
  },
  {
   "cell_type": "code",
   "execution_count": null,
   "metadata": {},
   "outputs": [],
   "source": [
    "# import pandas as pd\n",
    "# pd.read_feather(\"../data/processed/feature_retrieval.feather\")"
   ]
  },
  {
   "cell_type": "code",
   "execution_count": null,
   "metadata": {},
   "outputs": [],
   "source": []
  },
  {
   "cell_type": "code",
   "execution_count": null,
   "metadata": {},
   "outputs": [],
   "source": []
  }
 ],
 "metadata": {
  "kernelspec": {
   "display_name": "Python 3",
   "language": "python",
   "name": "python3"
  },
  "language_info": {
   "codemirror_mode": {
    "name": "ipython",
    "version": 3
   },
   "file_extension": ".py",
   "mimetype": "text/x-python",
   "name": "python",
   "nbconvert_exporter": "python",
   "pygments_lexer": "ipython3",
   "version": "3.6.12"
  }
 },
 "nbformat": 4,
 "nbformat_minor": 4
}
