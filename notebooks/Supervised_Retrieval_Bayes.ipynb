{
 "cells": [
  {
   "cell_type": "markdown",
   "metadata": {
    "pycharm": {
     "name": "#%% md\n"
    }
   },
   "source": [
    "# Supervised Retrieval"
   ]
  },
  {
   "cell_type": "markdown",
   "metadata": {
    "pycharm": {
     "name": "#%% md\n"
    }
   },
   "source": [
    "In this notebook we use the supervised classification model for a supervised crosslingual information retrieval task."
   ]
  },
  {
   "cell_type": "code",
   "execution_count": 16,
   "metadata": {},
   "outputs": [],
   "source": [
    "import sys\n",
    "import os\n",
    "sys.path.append(os.path.dirname((os.path.abspath(''))))\n",
    "\n",
    "import pandas as pd\n",
    "import numpy as np\n",
    "import seaborn as sn\n",
    "import matplotlib.pyplot as plt\n",
    "from sklearn.metrics import accuracy_score, f1_score, precision_score, recall_score, log_loss\n",
    "from sklearn.model_selection import train_test_split\n",
    "from sklearn import preprocessing\n",
    "from sklearn.neural_network import MLPClassifier\n",
    "from sklearn.naive_bayes import GaussianNB\n",
    "from sklearn.linear_model import LogisticRegression\n",
    "from sklearn.feature_selection import RFECV\n",
    "from src.models.predict_model import MAP_score, threshold_counts, feature_selection, pipeline_model_optimization"
   ]
  },
  {
   "cell_type": "markdown",
   "metadata": {
    "pycharm": {
     "name": "#%% md\n"
    }
   },
   "source": [
    "## I. Import Data"
   ]
  },
  {
   "cell_type": "markdown",
   "metadata": {},
   "source": [
    "In this section we import the feature dataframe for the retrieval task."
   ]
  },
  {
   "cell_type": "code",
   "execution_count": 17,
   "metadata": {},
   "outputs": [],
   "source": [
    "feature_dataframe=pd.read_feather(\"../data/processed/feature_model_en_de.feather\")\n",
    "feature_retrieval=pd.read_feather(\"../data/processed/feature_retrieval_en_de.feather\")\n",
    "feature_dataframe = feature_dataframe.rename(columns={\"id_source\": \"source_id\", \"id_target\": \"target_id\"})\n",
    "feature_retrieval = feature_retrieval.rename(columns={\"id_source\": \"source_id\", \"id_target\": \"target_id\"})\n",
    "\n",
    "# Load Test Data\n",
    "feature_retrieval_de = pd.read_feather(\"../data/processed/feature_retrieval_en_de_testset.feather\")\n",
    "feature_retrieval_de = feature_retrieval_de.rename(columns={\"id_source\": \"source_id\", \"id_target\": \"target_id\"})\n",
    "\n",
    "feature_retrieval_pl = pd.read_feather(\"../data/processed/feature_retrieval_en_pl.feather\")\n",
    "feature_retrieval_pl = feature_retrieval_pl.rename(columns={\"id_source\": \"source_id\", \"id_target\": \"target_id\"})\n",
    "\n",
    "feature_retrieval_it = pd.read_feather(\"../data/processed/feature_retrieval_en_it.feather\")\n",
    "feature_retrieval_it = feature_retrieval_it.rename(columns={\"id_source\": \"source_id\", \"id_target\": \"target_id\"})\n",
    "\n",
    "feature_retrieval_doc = pd.read_feather(\"../data/processed/feature_retrieval_doc.feather\")\n",
    "feature_retrieval_doc = feature_retrieval_doc.rename(columns={\"id_source\": \"source_id\", \"id_target\": \"target_id\"})"
   ]
  },
  {
   "cell_type": "markdown",
   "metadata": {},
   "source": [
    "#### Delete all columns with only one value"
   ]
  },
  {
   "cell_type": "code",
   "execution_count": 7,
   "metadata": {},
   "outputs": [],
   "source": [
    "column_mask = feature_dataframe.apply(threshold_counts, threshold=1)\n",
    "feature_dataframe = feature_dataframe.loc[:, column_mask]\n",
    "feature_retrieval = feature_retrieval.loc[:, column_mask]\n"
   ]
  },
  {
   "cell_type": "markdown",
   "metadata": {},
   "source": [
    "## II. Supervised Retrieval"
   ]
  },
  {
   "cell_type": "markdown",
   "metadata": {},
   "source": [
    "#### Start with one feature"
   ]
  },
  {
   "cell_type": "code",
   "execution_count": 25,
   "metadata": {},
   "outputs": [],
   "source": [
    "start_features = [\"jaccard_translation_proc_5k\"]\n",
    "# We saw that Naive Bayes only gives importante to the \"/\" feature - we remove them\n",
    "not_add = [\"Translation\", \"source_id\", \"target_id\", \"number_/_difference_normalized\", \"number_/_difference\", \"number_/_difference_relative\"]\n",
    "added_features = feature_dataframe.columns[~feature_dataframe.columns.isin(start_features+not_add)]"
   ]
  },
  {
   "cell_type": "markdown",
   "metadata": {},
   "source": [
    "# Naive Bayes"
   ]
  },
  {
   "cell_type": "code",
   "execution_count": 26,
   "metadata": {},
   "outputs": [
    {
     "name": "stdout",
     "output_type": "stream",
     "text": [
      "-----------------First do Forward Selection-----------------\n",
      "\n",
      "Current Iteration through feature list: 1\n",
      "The initial MAP score on test set: 0.7171\n",
      "Updated MAP score on test set with new feature cosine_similarity_tf_idf_vecmap: 0.7548\n",
      "Updated MAP score on test set with new feature cosine_similarity_average_vecmap: 0.7666\n",
      "Updated MAP score on test set with new feature number__difference_normalized: 0.7699\n",
      "Updated MAP score on test set with new feature number_NOUN_difference_normalized: 0.7719\n",
      "Updated MAP score on test set with new feature number_characters_difference_relative: 0.7847\n",
      "Updated MAP score on test set with new feature number_:_difference_normalized: 0.7873\n",
      "Updated MAP score on test set with new feature number_._difference_normalized: 0.7933\n",
      "Updated MAP score on test set with new feature number_-_difference_normalized: 0.8009\n",
      "Updated MAP score on test set with new feature number_)_difference_normalized: 0.8045\n",
      "\n",
      "Current Iteration through feature list: 2\n",
      "The initial MAP score on test set: 0.8045\n",
      "Updated MAP score on test set with new feature euclidean_distance_average_proc_5k: 0.8057\n",
      "Updated MAP score on test set with new feature number_VERB_difference_normalized: 0.8069\n",
      "\n",
      "Current Iteration through feature list: 3\n",
      "The initial MAP score on test set: 0.8069\n",
      "\n",
      "-----------------Result of Feature Selection-----------------\n",
      "\n",
      "Best MAP Score after feature selection: 0.8068845175821052\n",
      "\n",
      "\n",
      "-----------------Start Hyperparameter-tuning with Grid Search-----------------\n"
     ]
    }
   ],
   "source": [
    "nb = GaussianNB()\n",
    "scaler = preprocessing.StandardScaler()\n",
    "\n",
    "nb_parameter_grid = {}\n",
    "\n",
    "nb_best_features, nb_best_parameter_combination, nb_best_map_score, nb_all_parameter_combination = \\\n",
    "pipeline_model_optimization(nb, nb_parameter_grid, scaler, feature_dataframe, \n",
    "                            feature_retrieval, start_features, \n",
    "                            added_features, \n",
    "                            threshold_map_feature_selection=0.001)"
   ]
  },
  {
   "cell_type": "code",
   "execution_count": 27,
   "metadata": {},
   "outputs": [
    {
     "data": {
      "text/plain": [
       "['jaccard_translation_proc_5k',\n",
       " 'cosine_similarity_tf_idf_vecmap',\n",
       " 'cosine_similarity_average_vecmap',\n",
       " 'number__difference_normalized',\n",
       " 'number_NOUN_difference_normalized',\n",
       " 'number_characters_difference_relative',\n",
       " 'number_:_difference_normalized',\n",
       " 'number_._difference_normalized',\n",
       " 'number_-_difference_normalized',\n",
       " 'number_)_difference_normalized',\n",
       " 'euclidean_distance_average_proc_5k',\n",
       " 'number_VERB_difference_normalized']"
      ]
     },
     "execution_count": 27,
     "metadata": {},
     "output_type": "execute_result"
    }
   ],
   "source": [
    "nb_best_features"
   ]
  },
  {
   "cell_type": "code",
   "execution_count": null,
   "metadata": {},
   "outputs": [],
   "source": [
    "nb_best_features = ['jaccard_translation_proc_5k',\n",
    " 'cosine_similarity_tf_idf_vecmap',\n",
    " 'cosine_similarity_average_vecmap',\n",
    " 'number_NOUN_difference_normalized',\n",
    " 'number_characters_difference_relative',\n",
    " 'number_:_difference_normalized',\n",
    " 'number_/_difference_normalized',\n",
    " 'number_/_difference_relative',\n",
    " 'number_._difference_normalized',\n",
    " 'number_-_difference_normalized',\n",
    " 'number_)_difference_normalized',\n",
    " 'number_characters_difference_normalized',\n",
    " 'number_/_difference',\n",
    " 'number_VERB_difference_relative',\n",
    " 'number_%_difference_normalized']"
   ]
  },
  {
   "cell_type": "markdown",
   "metadata": {},
   "source": [
    "# Evaluate on Test Set"
   ]
  },
  {
   "cell_type": "code",
   "execution_count": 28,
   "metadata": {},
   "outputs": [
    {
     "name": "stdout",
     "output_type": "stream",
     "text": [
      "Model was trained on EN-DE Parallel Sentences.\n",
      "\n",
      "EN-DE Map Score: 0.8127527956701142\n",
      "EN-IT Map Score: 0.794724564323062\n",
      "EN-PL Map Score: 0.8242123704903378\n",
      "Document Corpus Map Score: 0.0003451649390702295\n"
     ]
    }
   ],
   "source": [
    "target_train=feature_dataframe['Translation'].astype(float)\n",
    "data_train=feature_dataframe.drop(columns=['Translation','source_id','target_id'])\n",
    "data_train = data_train.loc[:, nb_best_features]\n",
    "scaler = preprocessing.StandardScaler()\n",
    "data_train.loc[:, data_train.columns] = scaler.fit_transform(data_train.loc[:, data_train.columns])\n",
    "\n",
    "print(\"Model was trained on EN-DE Parallel Sentences.\\n\")\n",
    "nb = GaussianNB().fit(data_train, target_train)\n",
    "\n",
    "# EN-DE\n",
    "target_test = feature_retrieval_de['Translation'].astype(float)\n",
    "data_test = feature_retrieval_de.drop(columns=['Translation','source_id','target_id'])\n",
    "data_test = data_test.loc[:, nb_best_features]\n",
    "data_test.loc[:, data_test.columns] = scaler.transform(data_test.loc[:, data_test.columns])\n",
    "prediction = nb.predict_proba(data_test).tolist()\n",
    "print(\"EN-DE Map Score: {}\".format(MAP_score(feature_retrieval_de['source_id'],target_test,prediction)))\n",
    "\n",
    "# EN-IT\n",
    "target_test = feature_retrieval_it['Translation'].astype(float)\n",
    "data_test = feature_retrieval_it.drop(columns=['Translation','source_id','target_id'])\n",
    "data_test = data_test.loc[:, nb_best_features]\n",
    "data_test.loc[:, data_test.columns] = scaler.transform(data_test.loc[:, data_test.columns])\n",
    "prediction = nb.predict_proba(data_test).tolist()\n",
    "print(\"EN-IT Map Score: {}\".format(MAP_score(feature_retrieval_it['source_id'],target_test,prediction)))\n",
    "\n",
    "# EN-PL\n",
    "target_test = feature_retrieval_pl['Translation'].astype(float)\n",
    "data_test = feature_retrieval_pl.drop(columns=['Translation','source_id','target_id'])\n",
    "data_test = data_test.loc[:, nb_best_features]\n",
    "data_test.loc[:, data_test.columns] = scaler.transform(data_test.loc[:, data_test.columns])\n",
    "prediction = nb.predict_proba(data_test).tolist()\n",
    "print(\"EN-PL Map Score: {}\".format(MAP_score(feature_retrieval_pl['source_id'],target_test,prediction)))\n",
    "\n",
    "# Document Corpus\n",
    "target_test = feature_retrieval_doc['Translation'].astype(float)\n",
    "data_test = feature_retrieval_doc.drop(columns=['Translation','source_id','target_id'])\n",
    "data_test = data_test.loc[:, nb_best_features]\n",
    "data_test.loc[:, data_test.columns] = scaler.transform(data_test.loc[:, data_test.columns])\n",
    "prediction = nb.predict_proba(data_test).tolist()\n",
    "print(\"Document Corpus Map Score: {}\".format(MAP_score(feature_retrieval_doc['source_id'],target_test,prediction)))"
   ]
  },
  {
   "cell_type": "markdown",
   "metadata": {},
   "source": [
    "# Save Model"
   ]
  },
  {
   "cell_type": "code",
   "execution_count": 15,
   "metadata": {},
   "outputs": [],
   "source": [
    "import pickle\n",
    "\n",
    "filename = \"../models/supervised_models/finalized_model_naive_bayes.sav\"\n",
    "pickle.dump(nb, open(filename, 'wb'))"
   ]
  },
  {
   "cell_type": "code",
   "execution_count": 19,
   "metadata": {},
   "outputs": [
    {
     "ename": "AttributeError",
     "evalue": "'GaussianNB' object has no attribute 'feature_log_prob_'",
     "output_type": "error",
     "traceback": [
      "\u001b[0;31m---------------------------------------------------------------------------\u001b[0m",
      "\u001b[0;31mAttributeError\u001b[0m                            Traceback (most recent call last)",
      "\u001b[0;32m<ipython-input-19-0c5cd754a890>\u001b[0m in \u001b[0;36m<module>\u001b[0;34m\u001b[0m\n\u001b[0;32m----> 1\u001b[0;31m \u001b[0mneg_class_prob_sorted\u001b[0m \u001b[0;34m=\u001b[0m \u001b[0mnb\u001b[0m\u001b[0;34m.\u001b[0m\u001b[0mfeature_log_prob_\u001b[0m\u001b[0;34m[\u001b[0m\u001b[0;36m0\u001b[0m\u001b[0;34m,\u001b[0m \u001b[0;34m:\u001b[0m\u001b[0;34m]\u001b[0m\u001b[0;34m.\u001b[0m\u001b[0margsort\u001b[0m\u001b[0;34m(\u001b[0m\u001b[0;34m)\u001b[0m\u001b[0;34m[\u001b[0m\u001b[0;34m:\u001b[0m\u001b[0;34m:\u001b[0m\u001b[0;34m-\u001b[0m\u001b[0;36m1\u001b[0m\u001b[0;34m]\u001b[0m\u001b[0;34m\u001b[0m\u001b[0;34m\u001b[0m\u001b[0m\n\u001b[0m\u001b[1;32m      2\u001b[0m \u001b[0mpos_class_prob_sorted\u001b[0m \u001b[0;34m=\u001b[0m \u001b[0mnb\u001b[0m\u001b[0;34m.\u001b[0m\u001b[0mfeature_log_prob_\u001b[0m\u001b[0;34m[\u001b[0m\u001b[0;36m1\u001b[0m\u001b[0;34m,\u001b[0m \u001b[0;34m:\u001b[0m\u001b[0;34m]\u001b[0m\u001b[0;34m.\u001b[0m\u001b[0margsort\u001b[0m\u001b[0;34m(\u001b[0m\u001b[0;34m)\u001b[0m\u001b[0;34m[\u001b[0m\u001b[0;34m:\u001b[0m\u001b[0;34m:\u001b[0m\u001b[0;34m-\u001b[0m\u001b[0;36m1\u001b[0m\u001b[0;34m]\u001b[0m\u001b[0;34m\u001b[0m\u001b[0;34m\u001b[0m\u001b[0m\n\u001b[1;32m      3\u001b[0m \u001b[0;34m\u001b[0m\u001b[0m\n\u001b[1;32m      4\u001b[0m \u001b[0mprint\u001b[0m\u001b[0;34m(\u001b[0m\u001b[0mnp\u001b[0m\u001b[0;34m.\u001b[0m\u001b[0mtake\u001b[0m\u001b[0;34m(\u001b[0m\u001b[0mcount_vect\u001b[0m\u001b[0;34m.\u001b[0m\u001b[0mget_feature_names\u001b[0m\u001b[0;34m(\u001b[0m\u001b[0;34m)\u001b[0m\u001b[0;34m,\u001b[0m \u001b[0mneg_class_prob_sorted\u001b[0m\u001b[0;34m[\u001b[0m\u001b[0;34m:\u001b[0m\u001b[0;36m10\u001b[0m\u001b[0;34m]\u001b[0m\u001b[0;34m)\u001b[0m\u001b[0;34m)\u001b[0m\u001b[0;34m\u001b[0m\u001b[0;34m\u001b[0m\u001b[0m\n\u001b[1;32m      5\u001b[0m \u001b[0mprint\u001b[0m\u001b[0;34m(\u001b[0m\u001b[0mnp\u001b[0m\u001b[0;34m.\u001b[0m\u001b[0mtake\u001b[0m\u001b[0;34m(\u001b[0m\u001b[0mcount_vect\u001b[0m\u001b[0;34m.\u001b[0m\u001b[0mget_feature_names\u001b[0m\u001b[0;34m(\u001b[0m\u001b[0;34m)\u001b[0m\u001b[0;34m,\u001b[0m \u001b[0mpos_class_prob_sorted\u001b[0m\u001b[0;34m[\u001b[0m\u001b[0;34m:\u001b[0m\u001b[0;36m10\u001b[0m\u001b[0;34m]\u001b[0m\u001b[0;34m)\u001b[0m\u001b[0;34m)\u001b[0m\u001b[0;34m\u001b[0m\u001b[0;34m\u001b[0m\u001b[0m\n",
      "\u001b[0;31mAttributeError\u001b[0m: 'GaussianNB' object has no attribute 'feature_log_prob_'"
     ]
    }
   ],
   "source": [
    "neg_class_prob_sorted = nb.feature_log_prob_[0, :].argsort()[::-1]\n",
    "pos_class_prob_sorted = nb.feature_log_prob_[1, :].argsort()[::-1]\n",
    "\n",
    "print(np.take(count_vect.get_feature_names(), neg_class_prob_sorted[:10]))\n",
    "print(np.take(count_vect.get_feature_names(), pos_class_prob_sorted[:10]))"
   ]
  },
  {
   "cell_type": "code",
   "execution_count": 20,
   "metadata": {},
   "outputs": [
    {
     "name": "stdout",
     "output_type": "stream",
     "text": [
      "[ 0.00000e+00  0.00000e+00  0.00000e+00  0.00000e+00 -1.20000e-06\n",
      "  0.00000e+00  3.04184e-02  3.06676e-02  0.00000e+00  0.00000e+00\n",
      " -4.00000e-07  0.00000e+00  3.06676e-02  0.00000e+00  0.00000e+00]\n"
     ]
    }
   ],
   "source": [
    "from sklearn.inspection import permutation_importance\n",
    "\n",
    "\n",
    "imps = permutation_importance(nb, data_test, target_test)\n",
    "print(imps.importances_mean)"
   ]
  },
  {
   "cell_type": "code",
   "execution_count": 23,
   "metadata": {},
   "outputs": [
    {
     "data": {
      "text/html": [
       "\n",
       "    <style>\n",
       "    table.eli5-weights tr:hover {\n",
       "        filter: brightness(85%);\n",
       "    }\n",
       "</style>\n",
       "\n",
       "\n",
       "\n",
       "    \n",
       "\n",
       "    \n",
       "\n",
       "    \n",
       "\n",
       "    \n",
       "\n",
       "    \n",
       "\n",
       "    \n",
       "\n",
       "\n",
       "    \n",
       "\n",
       "    \n",
       "\n",
       "    \n",
       "\n",
       "    \n",
       "\n",
       "    \n",
       "\n",
       "    \n",
       "\n",
       "\n",
       "    \n",
       "\n",
       "    \n",
       "\n",
       "    \n",
       "\n",
       "    \n",
       "\n",
       "    \n",
       "        <table class=\"eli5-weights eli5-feature-importances\" style=\"border-collapse: collapse; border: none; margin-top: 0em; table-layout: auto;\">\n",
       "    <thead>\n",
       "    <tr style=\"border: none;\">\n",
       "        <th style=\"padding: 0 1em 0 0.5em; text-align: right; border: none;\">Weight</th>\n",
       "        <th style=\"padding: 0 0.5em 0 0.5em; text-align: left; border: none;\">Feature</th>\n",
       "    </tr>\n",
       "    </thead>\n",
       "    <tbody>\n",
       "    \n",
       "        <tr style=\"background-color: hsl(120, 100.00%, 80.00%); border: none;\">\n",
       "            <td style=\"padding: 0 1em 0 0.5em; text-align: right; border: none;\">\n",
       "                0.0307\n",
       "                \n",
       "                    &plusmn; 0.0001\n",
       "                \n",
       "            </td>\n",
       "            <td style=\"padding: 0 0.5em 0 0.5em; text-align: left; border: none;\">\n",
       "                number_/_difference_relative\n",
       "            </td>\n",
       "        </tr>\n",
       "    \n",
       "        <tr style=\"background-color: hsl(120, 100.00%, 80.02%); border: none;\">\n",
       "            <td style=\"padding: 0 1em 0 0.5em; text-align: right; border: none;\">\n",
       "                0.0306\n",
       "                \n",
       "                    &plusmn; 0.0001\n",
       "                \n",
       "            </td>\n",
       "            <td style=\"padding: 0 0.5em 0 0.5em; text-align: left; border: none;\">\n",
       "                number_/_difference\n",
       "            </td>\n",
       "        </tr>\n",
       "    \n",
       "        <tr style=\"background-color: hsl(120, 100.00%, 80.14%); border: none;\">\n",
       "            <td style=\"padding: 0 1em 0 0.5em; text-align: right; border: none;\">\n",
       "                0.0304\n",
       "                \n",
       "                    &plusmn; 0.0001\n",
       "                \n",
       "            </td>\n",
       "            <td style=\"padding: 0 0.5em 0 0.5em; text-align: left; border: none;\">\n",
       "                number_/_difference_normalized\n",
       "            </td>\n",
       "        </tr>\n",
       "    \n",
       "        <tr style=\"background-color: hsl(0, 100.00%, 100.00%); border: none;\">\n",
       "            <td style=\"padding: 0 1em 0 0.5em; text-align: right; border: none;\">\n",
       "                0\n",
       "                \n",
       "                    &plusmn; 0.0000\n",
       "                \n",
       "            </td>\n",
       "            <td style=\"padding: 0 0.5em 0 0.5em; text-align: left; border: none;\">\n",
       "                number_%_difference_normalized\n",
       "            </td>\n",
       "        </tr>\n",
       "    \n",
       "        <tr style=\"background-color: hsl(0, 100.00%, 100.00%); border: none;\">\n",
       "            <td style=\"padding: 0 1em 0 0.5em; text-align: right; border: none;\">\n",
       "                0\n",
       "                \n",
       "                    &plusmn; 0.0000\n",
       "                \n",
       "            </td>\n",
       "            <td style=\"padding: 0 0.5em 0 0.5em; text-align: left; border: none;\">\n",
       "                number_VERB_difference_relative\n",
       "            </td>\n",
       "        </tr>\n",
       "    \n",
       "        <tr style=\"background-color: hsl(0, 100.00%, 100.00%); border: none;\">\n",
       "            <td style=\"padding: 0 1em 0 0.5em; text-align: right; border: none;\">\n",
       "                0\n",
       "                \n",
       "                    &plusmn; 0.0000\n",
       "                \n",
       "            </td>\n",
       "            <td style=\"padding: 0 0.5em 0 0.5em; text-align: left; border: none;\">\n",
       "                number_characters_difference_normalized\n",
       "            </td>\n",
       "        </tr>\n",
       "    \n",
       "        <tr style=\"background-color: hsl(0, 100.00%, 100.00%); border: none;\">\n",
       "            <td style=\"padding: 0 1em 0 0.5em; text-align: right; border: none;\">\n",
       "                0\n",
       "                \n",
       "                    &plusmn; 0.0000\n",
       "                \n",
       "            </td>\n",
       "            <td style=\"padding: 0 0.5em 0 0.5em; text-align: left; border: none;\">\n",
       "                number_)_difference_normalized\n",
       "            </td>\n",
       "        </tr>\n",
       "    \n",
       "        <tr style=\"background-color: hsl(0, 100.00%, 100.00%); border: none;\">\n",
       "            <td style=\"padding: 0 1em 0 0.5em; text-align: right; border: none;\">\n",
       "                0\n",
       "                \n",
       "                    &plusmn; 0.0000\n",
       "                \n",
       "            </td>\n",
       "            <td style=\"padding: 0 0.5em 0 0.5em; text-align: left; border: none;\">\n",
       "                number_-_difference_normalized\n",
       "            </td>\n",
       "        </tr>\n",
       "    \n",
       "        <tr style=\"background-color: hsl(0, 100.00%, 100.00%); border: none;\">\n",
       "            <td style=\"padding: 0 1em 0 0.5em; text-align: right; border: none;\">\n",
       "                0\n",
       "                \n",
       "                    &plusmn; 0.0000\n",
       "                \n",
       "            </td>\n",
       "            <td style=\"padding: 0 0.5em 0 0.5em; text-align: left; border: none;\">\n",
       "                number_._difference_normalized\n",
       "            </td>\n",
       "        </tr>\n",
       "    \n",
       "        <tr style=\"background-color: hsl(0, 100.00%, 100.00%); border: none;\">\n",
       "            <td style=\"padding: 0 1em 0 0.5em; text-align: right; border: none;\">\n",
       "                0\n",
       "                \n",
       "                    &plusmn; 0.0000\n",
       "                \n",
       "            </td>\n",
       "            <td style=\"padding: 0 0.5em 0 0.5em; text-align: left; border: none;\">\n",
       "                number_:_difference_normalized\n",
       "            </td>\n",
       "        </tr>\n",
       "    \n",
       "        <tr style=\"background-color: hsl(0, 100.00%, 100.00%); border: none;\">\n",
       "            <td style=\"padding: 0 1em 0 0.5em; text-align: right; border: none;\">\n",
       "                0\n",
       "                \n",
       "                    &plusmn; 0.0000\n",
       "                \n",
       "            </td>\n",
       "            <td style=\"padding: 0 0.5em 0 0.5em; text-align: left; border: none;\">\n",
       "                number_NOUN_difference_normalized\n",
       "            </td>\n",
       "        </tr>\n",
       "    \n",
       "        <tr style=\"background-color: hsl(0, 100.00%, 100.00%); border: none;\">\n",
       "            <td style=\"padding: 0 1em 0 0.5em; text-align: right; border: none;\">\n",
       "                0\n",
       "                \n",
       "                    &plusmn; 0.0000\n",
       "                \n",
       "            </td>\n",
       "            <td style=\"padding: 0 0.5em 0 0.5em; text-align: left; border: none;\">\n",
       "                cosine_similarity_average_vecmap\n",
       "            </td>\n",
       "        </tr>\n",
       "    \n",
       "        <tr style=\"background-color: hsl(0, 100.00%, 100.00%); border: none;\">\n",
       "            <td style=\"padding: 0 1em 0 0.5em; text-align: right; border: none;\">\n",
       "                0\n",
       "                \n",
       "                    &plusmn; 0.0000\n",
       "                \n",
       "            </td>\n",
       "            <td style=\"padding: 0 0.5em 0 0.5em; text-align: left; border: none;\">\n",
       "                cosine_similarity_tf_idf_vecmap\n",
       "            </td>\n",
       "        </tr>\n",
       "    \n",
       "        <tr style=\"background-color: hsl(0, 100.00%, 100.00%); border: none;\">\n",
       "            <td style=\"padding: 0 1em 0 0.5em; text-align: right; border: none;\">\n",
       "                0\n",
       "                \n",
       "                    &plusmn; 0.0000\n",
       "                \n",
       "            </td>\n",
       "            <td style=\"padding: 0 0.5em 0 0.5em; text-align: left; border: none;\">\n",
       "                jaccard_translation_proc_5k\n",
       "            </td>\n",
       "        </tr>\n",
       "    \n",
       "        <tr style=\"background-color: hsl(0, 100.00%, 99.98%); border: none;\">\n",
       "            <td style=\"padding: 0 1em 0 0.5em; text-align: right; border: none;\">\n",
       "                -0.0000\n",
       "                \n",
       "                    &plusmn; 0.0000\n",
       "                \n",
       "            </td>\n",
       "            <td style=\"padding: 0 0.5em 0 0.5em; text-align: left; border: none;\">\n",
       "                number_characters_difference_relative\n",
       "            </td>\n",
       "        </tr>\n",
       "    \n",
       "    \n",
       "    </tbody>\n",
       "</table>\n",
       "    \n",
       "\n",
       "    \n",
       "\n",
       "\n",
       "    \n",
       "\n",
       "    \n",
       "\n",
       "    \n",
       "\n",
       "    \n",
       "\n",
       "    \n",
       "\n",
       "    \n",
       "\n",
       "\n",
       "\n"
      ],
      "text/plain": [
       "<IPython.core.display.HTML object>"
      ]
     },
     "execution_count": 23,
     "metadata": {},
     "output_type": "execute_result"
    }
   ],
   "source": [
    "import eli5\n",
    "from eli5.sklearn import PermutationImportance\n",
    "\n",
    "perm = PermutationImportance(nb, random_state=42).fit(data_test, target_test)\n",
    "eli5.show_weights(perm, feature_names = data_test.columns.tolist())"
   ]
  },
  {
   "cell_type": "code",
   "execution_count": null,
   "metadata": {},
   "outputs": [],
   "source": []
  }
 ],
 "metadata": {
  "kernelspec": {
   "display_name": "Python 3",
   "language": "python",
   "name": "python3"
  },
  "language_info": {
   "codemirror_mode": {
    "name": "ipython",
    "version": 3
   },
   "file_extension": ".py",
   "mimetype": "text/x-python",
   "name": "python",
   "nbconvert_exporter": "python",
   "pygments_lexer": "ipython3",
   "version": "3.6.12"
  }
 },
 "nbformat": 4,
 "nbformat_minor": 4
}
