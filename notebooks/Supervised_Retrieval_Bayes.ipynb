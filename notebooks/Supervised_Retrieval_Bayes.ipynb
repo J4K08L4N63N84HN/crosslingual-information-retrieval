{
 "cells": [
  {
   "cell_type": "markdown",
   "metadata": {
    "pycharm": {
     "name": "#%% md\n"
    }
   },
   "source": [
    "# Supervised Retrieval"
   ]
  },
  {
   "cell_type": "markdown",
   "metadata": {
    "pycharm": {
     "name": "#%% md\n"
    }
   },
   "source": [
    "In this notebook we use the supervised classification model for a supervised crosslingual information retrieval task."
   ]
  },
  {
   "cell_type": "code",
   "execution_count": 1,
   "metadata": {},
   "outputs": [],
   "source": [
    "import sys\n",
    "import os\n",
    "sys.path.append(os.path.dirname((os.path.abspath(''))))\n",
    "\n",
    "import pandas as pd\n",
    "import numpy as np\n",
    "import seaborn as sn\n",
    "import matplotlib.pyplot as plt\n",
    "from sklearn.metrics import accuracy_score, f1_score, precision_score, recall_score, log_loss\n",
    "from sklearn.model_selection import train_test_split\n",
    "from sklearn import preprocessing\n",
    "from sklearn.neural_network import MLPClassifier\n",
    "from sklearn.naive_bayes import GaussianNB\n",
    "from sklearn.linear_model import LogisticRegression\n",
    "from sklearn.feature_selection import RFECV\n",
    "from src.models.predict_model import MAP_score, threshold_counts, feature_selection, pipeline_model_optimization"
   ]
  },
  {
   "cell_type": "markdown",
   "metadata": {
    "pycharm": {
     "name": "#%% md\n"
    }
   },
   "source": [
    "## I. Import Data"
   ]
  },
  {
   "cell_type": "markdown",
   "metadata": {},
   "source": [
    "In this section we import the feature dataframe for the retrieval task."
   ]
  },
  {
   "cell_type": "code",
   "execution_count": 2,
   "metadata": {},
   "outputs": [],
   "source": [
    "feature_dataframe=pd.read_feather(\"../data/processed/feature_model_en_de.feather\")\n",
    "feature_retrieval=pd.read_feather(\"../data/processed/feature_retrieval_en_de.feather\")\n",
    "feature_dataframe = feature_dataframe.rename(columns={\"id_source\": \"source_id\", \"id_target\": \"target_id\"})\n",
    "feature_retrieval = feature_retrieval.rename(columns={\"id_source\": \"source_id\", \"id_target\": \"target_id\"})\n",
    "\n",
    "feature_retrieval_pl = pd.read_feather(\"../data/processed/feature_retrieval_en_pl.feather\")\n",
    "feature_retrieval_pl = feature_retrieval_pl.rename(columns={\"id_source\": \"source_id\", \"id_target\": \"target_id\"})\n",
    "\n",
    "feature_retrieval_it = pd.read_feather(\"../data/processed/feature_retrieval_en_it.feather\")\n",
    "feature_retrieval_it = feature_retrieval_it.rename(columns={\"id_source\": \"source_id\", \"id_target\": \"target_id\"})\n",
    "\n",
    "feature_retrieval_doc = pd.read_feather(\"../data/processed/feature_retrieval_doc.feather\")\n",
    "feature_retrieval_doc = feature_retrieval_doc.rename(columns={\"id_source\": \"source_id\", \"id_target\": \"target_id\"})"
   ]
  },
  {
   "cell_type": "markdown",
   "metadata": {},
   "source": [
    "#### Delete all columns with only one value"
   ]
  },
  {
   "cell_type": "code",
   "execution_count": 3,
   "metadata": {},
   "outputs": [],
   "source": [
    "column_mask = feature_dataframe.apply(threshold_counts, threshold=1)\n",
    "feature_dataframe = feature_dataframe.loc[:, column_mask]\n",
    "feature_retrieval = feature_retrieval.loc[:, column_mask]\n"
   ]
  },
  {
   "cell_type": "markdown",
   "metadata": {},
   "source": [
    "## II. Supervised Retrieval"
   ]
  },
  {
   "cell_type": "markdown",
   "metadata": {},
   "source": [
    "#### Start with one feature"
   ]
  },
  {
   "cell_type": "code",
   "execution_count": 11,
   "metadata": {},
   "outputs": [],
   "source": [
    "start_features = [\"jaccard_translation_proc_5k\"]\n",
    "not_add = [\"Translation\", \"source_id\", \"target_id\"]\n",
    "added_features = feature_dataframe.columns[~feature_dataframe.columns.isin(start_features+not_add)]"
   ]
  },
  {
   "cell_type": "markdown",
   "metadata": {},
   "source": [
    "# Naive Bayes"
   ]
  },
  {
   "cell_type": "code",
   "execution_count": 12,
   "metadata": {},
   "outputs": [
    {
     "name": "stdout",
     "output_type": "stream",
     "text": [
      "-----------------First do Forward Selection-----------------\n",
      "\n",
      "Current Iteration through feature list: 1\n",
      "The initial MAP score on test set: 0.7535\n",
      "Updated MAP score on test set with new feature jaccard_translation_vecmap: 0.7810\n",
      "Updated MAP score on test set with new feature cosine_similarity_tf_idf_vecmap: 0.7916\n",
      "Updated MAP score on test set with new feature cosine_similarity_average_vecmap: 0.7992\n",
      "Updated MAP score on test set with new feature number_VERB_difference_relative: 0.8035\n",
      "Updated MAP score on test set with new feature number_ADJ_difference_normalized: 0.8046\n",
      "Updated MAP score on test set with new feature number_characters_difference_relative: 0.8248\n",
      "Updated MAP score on test set with new feature number_-_difference_normalized: 0.8274\n",
      "Updated MAP score on test set with new feature number_-_difference: 0.8324\n",
      "\n",
      "Current Iteration through feature list: 2\n",
      "The initial MAP score on test set: 0.8324\n",
      "Updated MAP score on test set with new feature cosine_similarity_tf_idf_proc_b_1k: 0.8368\n",
      "Updated MAP score on test set with new feature number_NOUN_difference_relative: 0.8379\n",
      "Updated MAP score on test set with new feature number_?_difference_normalized: 0.8393\n",
      "Updated MAP score on test set with new feature number_,_difference_normalized: 0.8423\n",
      "\n",
      "Current Iteration through feature list: 3\n",
      "The initial MAP score on test set: 0.8423\n",
      "\n",
      "-----------------Result of Feature Selection-----------------\n",
      "\n",
      "Best MAP Score after feature selection: 0.8422674550834229\n",
      "\n",
      "\n",
      "-----------------Start Hyperparameter-tuning with Grid Search-----------------\n"
     ]
    }
   ],
   "source": [
    "nb = GaussianNB()\n",
    "scaler = preprocessing.StandardScaler()\n",
    "\n",
    "nb_parameter_grid = {}\n",
    "\n",
    "nb_best_features, nb_best_parameter_combination, nb_best_map_score, nb_all_parameter_combination = \\\n",
    "pipeline_model_optimization(nb, nb_parameter_grid, scaler, feature_dataframe, \n",
    "                            feature_retrieval, start_features, \n",
    "                            added_features, \n",
    "                            threshold_map_feature_selection=0.001)"
   ]
  },
  {
   "cell_type": "code",
   "execution_count": 10,
   "metadata": {},
   "outputs": [],
   "source": [
    "nb_best_features = [\"jaccard_translation_proc_5k\",\n",
    "                   \"jaccard_translation_vecmap\",\n",
    "                   \"cosine_similarity_tf_idf_vecmap\",\n",
    "                   \"cosine_similarity_average_vecmap\",\n",
    "                   \"number_VERB_difference_relative\",\n",
    "                   \"number_ADJ_difference_normalized\",\n",
    "                   \"number_characters_difference_relative\",\n",
    "                   \"number_-_difference_normalized\",\n",
    "                   \"number_-_difference\",\n",
    "                   \"cosine_similarity_tf_idf_proc_b_1k\",\n",
    "                   \"number_NOUN_difference_relative\",\n",
    "                   \"number_?_difference_normalized\",\n",
    "                   \"number_,_difference_normalized\"]"
   ]
  },
  {
   "cell_type": "code",
   "execution_count": 11,
   "metadata": {},
   "outputs": [
    {
     "name": "stdout",
     "output_type": "stream",
     "text": [
      "Model was trained on EN-DE Parallel Sentences.\n",
      "\n",
      "EN-DE Map Score: 0.8422674550834229\n",
      "EN-IT Map Score: 0.8070125148698435\n",
      "EN-PL Map Score: 0.8608254573694002\n",
      "Document Corpus Map Score: 0.00032160628203609245\n"
     ]
    }
   ],
   "source": [
    "target_train=feature_dataframe['Translation'].astype(float)\n",
    "data_train=feature_dataframe.drop(columns=['Translation','source_id','target_id'])\n",
    "data_train = data_train.loc[:, nb_best_features]\n",
    "scaler = preprocessing.StandardScaler()\n",
    "data_train.loc[:, data_train.columns] = scaler.fit_transform(data_train.loc[:, data_train.columns])\n",
    "\n",
    "print(\"Model was trained on EN-DE Parallel Sentences.\\n\")\n",
    "nb = GaussianNB().fit(data_train, target_train)\n",
    "\n",
    "# EN-DE\n",
    "target_test = feature_retrieval['Translation'].astype(float)\n",
    "data_test = feature_retrieval.drop(columns=['Translation','source_id','target_id'])\n",
    "data_test = data_test.loc[:, nb_best_features]\n",
    "data_test.loc[:, data_test.columns] = scaler.transform(data_test.loc[:, data_test.columns])\n",
    "prediction = nb.predict_proba(data_test).tolist()\n",
    "print(\"EN-DE Map Score: {}\".format(MAP_score(feature_retrieval['source_id'],target_test,prediction)))\n",
    "\n",
    "# EN-IT\n",
    "target_test = feature_retrieval_it['Translation'].astype(float)\n",
    "data_test = feature_retrieval_it.drop(columns=['Translation','source_id','target_id'])\n",
    "data_test = data_test.loc[:, nb_best_features]\n",
    "data_test.loc[:, data_test.columns] = scaler.transform(data_test.loc[:, data_test.columns])\n",
    "prediction = nb.predict_proba(data_test).tolist()\n",
    "print(\"EN-IT Map Score: {}\".format(MAP_score(feature_retrieval_it['source_id'],target_test,prediction)))\n",
    "\n",
    "# EN-PL\n",
    "target_test = feature_retrieval_pl['Translation'].astype(float)\n",
    "data_test = feature_retrieval_pl.drop(columns=['Translation','source_id','target_id'])\n",
    "data_test = data_test.loc[:, nb_best_features]\n",
    "data_test.loc[:, data_test.columns] = scaler.transform(data_test.loc[:, data_test.columns])\n",
    "prediction = nb.predict_proba(data_test).tolist()\n",
    "print(\"EN-PL Map Score: {}\".format(MAP_score(feature_retrieval_pl['source_id'],target_test,prediction)))\n",
    "\n",
    "# EN-PL\n",
    "target_test = feature_retrieval_doc['Translation'].astype(float)\n",
    "data_test = feature_retrieval_doc.drop(columns=['Translation','source_id','target_id'])\n",
    "data_test = data_test.loc[:, nb_best_features]\n",
    "data_test.loc[:, data_test.columns] = scaler.transform(data_test.loc[:, data_test.columns])\n",
    "prediction = nb.predict_proba(data_test).tolist()\n",
    "print(\"Document Corpus Map Score: {}\".format(MAP_score(feature_retrieval_doc['source_id'],target_test,prediction)))"
   ]
  }
 ],
 "metadata": {
  "kernelspec": {
   "display_name": "Python 3",
   "language": "python",
   "name": "python3"
  },
  "language_info": {
   "codemirror_mode": {
    "name": "ipython",
    "version": 3
   },
   "file_extension": ".py",
   "mimetype": "text/x-python",
   "name": "python",
   "nbconvert_exporter": "python",
   "pygments_lexer": "ipython3",
   "version": "3.6.12"
  }
 },
 "nbformat": 4,
 "nbformat_minor": 4
}
