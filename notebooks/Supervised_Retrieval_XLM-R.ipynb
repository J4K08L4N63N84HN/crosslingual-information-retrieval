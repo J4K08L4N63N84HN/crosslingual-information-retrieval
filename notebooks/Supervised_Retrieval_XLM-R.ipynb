{
 "cells": [
  {
   "cell_type": "markdown",
   "metadata": {
    "id": "kgjksbXlk6kK"
   },
   "source": [
    "# Preprocess Data"
   ]
  },
  {
   "cell_type": "code",
   "execution_count": 1,
   "metadata": {
    "executionInfo": {
     "elapsed": 78035,
     "status": "ok",
     "timestamp": 1623003687365,
     "user": {
      "displayName": "Duc Bui",
      "photoUrl": "https://lh3.googleusercontent.com/a-/AOh14GjvyVNXbeJRgbxWvK2kz6OUsbwE-5Nmw7OJhm_KrQ=s64",
      "userId": "01003446251066818749"
     },
     "user_tz": -120
    },
    "id": "jmjJGuqPdUin"
   },
   "outputs": [],
   "source": [
    "import pandas as pd\n",
    "from pickle5 import pickle\n",
    "import sys, os\n",
    "sys.path.append(os.path.dirname((os.path.abspath(''))))\n",
    "from src.models.predict_model import MAP_score, evaluate_text_encoder \n",
    "\n",
    "# Load EN-DE Data\n",
    "feature_retrieval_en_de = pd.read_feather(\"../data/processed/feature_retrieval_en_de.feather\")\n",
    "feature_retrieval_en_de = feature_retrieval_en_de.rename(columns={\"id_source\": \"source_id\", \"id_target\": \"target_id\"})\n",
    "\n",
    "# Load EN-IT Data\n",
    "feature_retrieval_en_it = pd.read_feather(\"../data/processed/feature_retrieval_en_de.feather\")\n",
    "feature_retrieval_en_it = feature_retrieval_en_it.rename(columns={\"id_source\": \"source_id\", \"id_target\": \"target_id\"})\n",
    "\n",
    "\n",
    "# Load EN-PL Data\n",
    "feature_retrieval_en_pl = pd.read_feather(\"../data/processed/feature_retrieval_en_pl.feather\")\n",
    "feature_retrieval_en_pl = feature_retrieval_en_pl.rename(columns={\"id_source\": \"source_id\", \"id_target\": \"target_id\"})"
   ]
  },
  {
   "cell_type": "markdown",
   "metadata": {
    "id": "apUY2rSUpT3I"
   },
   "source": [
    "# XLM-R Downsampling"
   ]
  },
  {
   "cell_type": "code",
   "execution_count": 2,
   "metadata": {
    "colab": {
     "base_uri": "https://localhost:8080/"
    },
    "executionInfo": {
     "elapsed": 776,
     "status": "ok",
     "timestamp": 1622906437389,
     "user": {
      "displayName": "Duc Bui",
      "photoUrl": "https://lh3.googleusercontent.com/a-/AOh14GjvyVNXbeJRgbxWvK2kz6OUsbwE-5Nmw7OJhm_KrQ=s64",
      "userId": "01003446251066818749"
     },
     "user_tz": -120
    },
    "id": "EA-EEetApSxY",
    "outputId": "1e821cbb-f7b6-46f3-8987-1296c8d07c3c"
   },
   "outputs": [
    {
     "name": "stdout",
     "output_type": "stream",
     "text": [
      "----XLM-R Downsampling Strategy\n",
      "Evaluate EN-DE Retrieval: \n"
     ]
    },
    {
     "name": "stderr",
     "output_type": "stream",
     "text": [
      "WARNING:root:This caffe2 python run does not have GPU support. Will run in CPU only mode.\n"
     ]
    },
    {
     "name": "stdout",
     "output_type": "stream",
     "text": [
      "Result: MAP Score is: 0.9287445714675556\n",
      "\n",
      "Evaluate EN-IT Retrieval: \n",
      "Result: MAP Score is: 0.8849268239161481\n",
      "\n",
      "Evaluate EN-PL Retrieval: \n",
      "Result: MAP Score is: 0.8849268239161481\n"
     ]
    }
   ],
   "source": [
    "print(\"----XLM-R Downsampling Strategy\")\n",
    "prediction_path_folder_en_de = \"../models/predictions_downsampling_en_de\"\n",
    "prediction_path_folder_en_it = \"../models/predictions_downsampling_en_it\"\n",
    "prediction_path_folder_en_pl = \"../models/predictions_downsampling_en_it\"\n",
    "\n",
    "print(\"Evaluate EN-DE Retrieval: \")\n",
    "_ = evaluate_text_encoder(prediction_path_folder_en_de, feature_retrieval_en_de)\n",
    "\n",
    "print(\"\\nEvaluate EN-IT Retrieval: \")\n",
    "_ = evaluate_text_encoder(prediction_path_folder_en_it, feature_retrieval_en_it)\n",
    "\n",
    "print(\"\\nEvaluate EN-PL Retrieval: \")\n",
    "_ = evaluate_text_encoder(prediction_path_folder_en_pl, feature_retrieval_en_pl)"
   ]
  },
  {
   "cell_type": "markdown",
   "metadata": {},
   "source": [
    "# XLM-R Weighted Loss"
   ]
  },
  {
   "cell_type": "code",
   "execution_count": 3,
   "metadata": {
    "colab": {
     "base_uri": "https://localhost:8080/"
    },
    "executionInfo": {
     "elapsed": 770,
     "status": "ok",
     "timestamp": 1622906467102,
     "user": {
      "displayName": "Duc Bui",
      "photoUrl": "https://lh3.googleusercontent.com/a-/AOh14GjvyVNXbeJRgbxWvK2kz6OUsbwE-5Nmw7OJhm_KrQ=s64",
      "userId": "01003446251066818749"
     },
     "user_tz": -120
    },
    "id": "8RnXnIlsrj-X",
    "outputId": "63ccdc23-af21-4b94-b1b2-00f256958df5"
   },
   "outputs": [
    {
     "name": "stdout",
     "output_type": "stream",
     "text": [
      "----XLM-R Weighted Loss Strategy\n",
      "Evaluate EN-DE Retrieval: \n",
      "Result: MAP Score is: 0.9350874257437033\n",
      "\n",
      "Evaluate EN-IT Retrieval: \n",
      "Result: MAP Score is: 0.9039755157140957\n",
      "\n",
      "Evaluate EN-PL Retrieval: \n",
      "Result: MAP Score is: 0.9039755157140957\n"
     ]
    }
   ],
   "source": [
    "print(\"----XLM-R Weighted Loss Strategy\")\n",
    "prediction_path_folder_en_de = \"../models/predictions_weighted_en_de\"\n",
    "prediction_path_folder_en_it = \"../models/predictions_weighted_en_it\"\n",
    "prediction_path_folder_en_pl = \"../models/predictions_weighted_en_it\"\n",
    "\n",
    "print(\"Evaluate EN-DE Retrieval: \")\n",
    "_ = evaluate_text_encoder(prediction_path_folder_en_de, feature_retrieval_en_de)\n",
    "\n",
    "print(\"\\nEvaluate EN-IT Retrieval: \")\n",
    "_ = evaluate_text_encoder(prediction_path_folder_en_it, feature_retrieval_en_it)\n",
    "\n",
    "print(\"\\nEvaluate EN-PL Retrieval: \")\n",
    "_ = evaluate_text_encoder(prediction_path_folder_en_pl, feature_retrieval_en_pl)"
   ]
  },
  {
   "cell_type": "code",
   "execution_count": null,
   "metadata": {},
   "outputs": [],
   "source": []
  }
 ],
 "metadata": {
  "colab": {
   "authorship_tag": "ABX9TyMk/XZoHFH7lWb8JAFt/C/G",
   "collapsed_sections": [],
   "name": "Evaluating Unsupervised/Supervised.ipynb",
   "provenance": []
  },
  "kernelspec": {
   "display_name": "Python 3",
   "language": "python",
   "name": "python3"
  },
  "language_info": {
   "codemirror_mode": {
    "name": "ipython",
    "version": 3
   },
   "file_extension": ".py",
   "mimetype": "text/x-python",
   "name": "python",
   "nbconvert_exporter": "python",
   "pygments_lexer": "ipython3",
   "version": "3.6.12"
  }
 },
 "nbformat": 4,
 "nbformat_minor": 1
}
