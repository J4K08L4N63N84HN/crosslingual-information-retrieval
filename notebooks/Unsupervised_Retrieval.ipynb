{
 "cells": [
  {
   "cell_type": "markdown",
   "metadata": {
    "pycharm": {
     "name": "#%% md\n"
    }
   },
   "source": [
    "# Unsupervised Retrieval"
   ]
  },
  {
   "cell_type": "markdown",
   "metadata": {
    "pycharm": {
     "name": "#%% md\n"
    }
   },
   "source": [
    "In this notebook we use the generated features for a unsupervised crosslingual information retrieval task."
   ]
  },
  {
   "cell_type": "markdown",
   "metadata": {
    "pycharm": {
     "name": "#%% md\n"
    }
   },
   "source": [
    "## I. Import Data"
   ]
  },
  {
   "cell_type": "markdown",
   "metadata": {},
   "source": [
    "In this section we import the feature dataframe for the retrieval task."
   ]
  },
  {
   "cell_type": "code",
   "execution_count": 1,
   "metadata": {},
   "outputs": [],
   "source": [
    "import pickle5 as pickle\n",
    "import pandas as pd\n",
    "import sys, os\n",
    "sys.path.append(os.path.dirname((os.path.abspath(''))))\n",
    "\n",
    "from src.models.predict_model import MAP_score \n",
    "\n",
    "feature_retrieval = pd.read_feather(\"../data/processed/feature_retrieval_en_de_testset.feather\")\n",
    "feature_retrieval = feature_retrieval.rename(columns={\"id_source\": \"source_id\", \"id_target\": \"target_id\"})\n",
    "\n",
    "feature_retrieval_pl = pd.read_feather(\"../data/processed/feature_retrieval_en_pl.feather\")\n",
    "feature_retrieval_pl = feature_retrieval_pl.rename(columns={\"id_source\": \"source_id\", \"id_target\": \"target_id\"})\n",
    "\n",
    "feature_retrieval_it = pd.read_feather(\"../data/processed/feature_retrieval_en_it.feather\")\n",
    "feature_retrieval_it = feature_retrieval_it.rename(columns={\"id_source\": \"source_id\", \"id_target\": \"target_id\"})\n",
    "\n",
    "feature_retrieval_doc = pd.read_feather(\"../data/processed/feature_retrieval_doc.feather\")\n",
    "feature_retrieval_doc = feature_retrieval_doc.rename(columns={\"id_source\": \"source_id\", \"id_target\": \"target_id\"})"
   ]
  },
  {
   "cell_type": "markdown",
   "metadata": {},
   "source": [
    "## II. Unsupervised Retrieval"
   ]
  },
  {
   "cell_type": "markdown",
   "metadata": {},
   "source": [
    "For Unsupervised Classification we use the distance measure features defined in the feature generation. Therefore we have four unsupervised models. Three crosslingual embedding based and one sentence encoder based. The three crosslingual embedding based models work with euclidean, cosine and word mover distance."
   ]
  },
  {
   "cell_type": "markdown",
   "metadata": {},
   "source": [
    "# Unsupervised: Proc 5k"
   ]
  },
  {
   "cell_type": "code",
   "execution_count": 2,
   "metadata": {},
   "outputs": [
    {
     "name": "stdout",
     "output_type": "stream",
     "text": [
      "Unsupervised for EN-DE\n",
      "Map Score for Cosine Similarity Average: 0.3505914370259752\n",
      "Map Score for Cosine Similarity tf-idf: 0.4943535537432778\n",
      "Map Score for Jaccard Translation: 0.7535745719798199\n"
     ]
    }
   ],
   "source": [
    "print(\"Unsupervised for EN-DE\")\n",
    "unsupervised_prediction = feature_retrieval[\"cosine_similarity_average_proc_5k\"].to_numpy()\n",
    "unsupervised_prediction = [[1- pos_prediction_prob, pos_prediction_prob] for pos_prediction_prob in unsupervised_prediction]\n",
    "map_score = MAP_score(feature_retrieval[\"source_id\"], feature_retrieval[\"Translation\"], unsupervised_prediction)\n",
    "print(\"Map Score for Cosine Similarity Average: {}\".format(map_score))\n",
    "\n",
    "unsupervised_prediction = feature_retrieval[\"cosine_similarity_tf_idf_proc_5k\"].to_numpy()\n",
    "unsupervised_prediction = [[1- pos_prediction_prob, pos_prediction_prob] for pos_prediction_prob in unsupervised_prediction]\n",
    "map_score = MAP_score(feature_retrieval[\"source_id\"], feature_retrieval[\"Translation\"], unsupervised_prediction)\n",
    "print(\"Map Score for Cosine Similarity tf-idf: {}\".format(map_score))\n",
    "\n",
    "unsupervised_prediction = feature_retrieval[\"jaccard_translation_proc_5k\"].to_numpy()\n",
    "unsupervised_prediction = [[1- pos_prediction_prob, pos_prediction_prob] for pos_prediction_prob in unsupervised_prediction]\n",
    "map_score = MAP_score(feature_retrieval[\"source_id\"], feature_retrieval[\"Translation\"], unsupervised_prediction)\n",
    "print(\"Map Score for Jaccard Translation: {}\".format(map_score))"
   ]
  },
  {
   "cell_type": "code",
   "execution_count": 2,
   "metadata": {},
   "outputs": [
    {
     "name": "stdout",
     "output_type": "stream",
     "text": [
      "Unsupervised for EN-DE\n",
      "Map Score for Cosine Similarity Average: 0.2584898701767092\n",
      "Map Score for Cosine Similarity tf-idf: 0.413996493330724\n",
      "Map Score for Jaccard Translation: 0.6985180520618797\n"
     ]
    }
   ],
   "source": [
    "print(\"Unsupervised for EN-DE\")\n",
    "unsupervised_prediction = feature_retrieval[\"cosine_similarity_average_proc_5k\"].to_numpy()\n",
    "unsupervised_prediction = [[1- pos_prediction_prob, pos_prediction_prob] for pos_prediction_prob in unsupervised_prediction]\n",
    "map_score = MAP_score(feature_retrieval[\"source_id\"], feature_retrieval[\"Translation\"], unsupervised_prediction)\n",
    "print(\"Map Score for Cosine Similarity Average: {}\".format(map_score))\n",
    "\n",
    "unsupervised_prediction = feature_retrieval[\"cosine_similarity_tf_idf_proc_5k\"].to_numpy()\n",
    "unsupervised_prediction = [[1- pos_prediction_prob, pos_prediction_prob] for pos_prediction_prob in unsupervised_prediction]\n",
    "map_score = MAP_score(feature_retrieval[\"source_id\"], feature_retrieval[\"Translation\"], unsupervised_prediction)\n",
    "print(\"Map Score for Cosine Similarity tf-idf: {}\".format(map_score))\n",
    "\n",
    "unsupervised_prediction = feature_retrieval[\"jaccard_translation_proc_5k\"].to_numpy()\n",
    "unsupervised_prediction = [[1- pos_prediction_prob, pos_prediction_prob] for pos_prediction_prob in unsupervised_prediction]\n",
    "map_score = MAP_score(feature_retrieval[\"source_id\"], feature_retrieval[\"Translation\"], unsupervised_prediction)\n",
    "print(\"Map Score for Jaccard Translation: {}\".format(map_score))"
   ]
  },
  {
   "cell_type": "code",
   "execution_count": 3,
   "metadata": {},
   "outputs": [
    {
     "name": "stdout",
     "output_type": "stream",
     "text": [
      "Unsupervised for EN-IT\n",
      "Map Score for Cosine Similarity Average: 0.31014113064298576\n",
      "Map Score for Cosine Similarity tf-idf: 0.4850770175117134\n",
      "Map Score for Jaccard Translation: 0.7852548730691135\n"
     ]
    }
   ],
   "source": [
    "print(\"Unsupervised for EN-IT\")\n",
    "unsupervised_prediction = feature_retrieval_it[\"cosine_similarity_average_proc_5k\"].to_numpy()\n",
    "unsupervised_prediction = [[1- pos_prediction_prob, pos_prediction_prob] for pos_prediction_prob in unsupervised_prediction]\n",
    "map_score = MAP_score(feature_retrieval_it[\"source_id\"], feature_retrieval_it[\"Translation\"], unsupervised_prediction)\n",
    "print(\"Map Score for Cosine Similarity Average: {}\".format(map_score))\n",
    "\n",
    "unsupervised_prediction = feature_retrieval_it[\"cosine_similarity_tf_idf_proc_5k\"].to_numpy()\n",
    "unsupervised_prediction = [[1- pos_prediction_prob, pos_prediction_prob] for pos_prediction_prob in unsupervised_prediction]\n",
    "map_score = MAP_score(feature_retrieval_it[\"source_id\"], feature_retrieval_it[\"Translation\"], unsupervised_prediction)\n",
    "print(\"Map Score for Cosine Similarity tf-idf: {}\".format(map_score))\n",
    "\n",
    "unsupervised_prediction = feature_retrieval_it[\"jaccard_translation_proc_5k\"].to_numpy()\n",
    "unsupervised_prediction = [[1- pos_prediction_prob, pos_prediction_prob] for pos_prediction_prob in unsupervised_prediction]\n",
    "map_score = MAP_score(feature_retrieval_it[\"source_id\"], feature_retrieval_it[\"Translation\"], unsupervised_prediction)\n",
    "print(\"Map Score for Jaccard Translation: {}\".format(map_score))"
   ]
  },
  {
   "cell_type": "code",
   "execution_count": 4,
   "metadata": {},
   "outputs": [
    {
     "name": "stdout",
     "output_type": "stream",
     "text": [
      "Unsupervised for EN-PL\n",
      "Map Score for Cosine Similarity Average: 0.2786150707142338\n",
      "Map Score for Cosine Similarity tf-idf: 0.4766138420359052\n",
      "Map Score for Jaccard Translation: 0.8137032595592242\n"
     ]
    }
   ],
   "source": [
    "print(\"Unsupervised for EN-PL\")\n",
    "unsupervised_prediction = feature_retrieval_pl[\"cosine_similarity_average_proc_5k\"].to_numpy()\n",
    "unsupervised_prediction = [[1- pos_prediction_prob, pos_prediction_prob] for pos_prediction_prob in unsupervised_prediction]\n",
    "map_score = MAP_score(feature_retrieval_pl[\"source_id\"], feature_retrieval_pl[\"Translation\"], unsupervised_prediction)\n",
    "print(\"Map Score for Cosine Similarity Average: {}\".format(map_score))\n",
    "\n",
    "unsupervised_prediction = feature_retrieval_pl[\"cosine_similarity_tf_idf_proc_5k\"].to_numpy()\n",
    "unsupervised_prediction = [[1- pos_prediction_prob, pos_prediction_prob] for pos_prediction_prob in unsupervised_prediction]\n",
    "map_score = MAP_score(feature_retrieval_pl[\"source_id\"], feature_retrieval_pl[\"Translation\"], unsupervised_prediction)\n",
    "print(\"Map Score for Cosine Similarity tf-idf: {}\".format(map_score))\n",
    "\n",
    "unsupervised_prediction = feature_retrieval_pl[\"jaccard_translation_proc_5k\"].to_numpy()\n",
    "unsupervised_prediction = [[1- pos_prediction_prob, pos_prediction_prob] for pos_prediction_prob in unsupervised_prediction]\n",
    "map_score = MAP_score(feature_retrieval_pl[\"source_id\"], feature_retrieval_pl[\"Translation\"], unsupervised_prediction)\n",
    "print(\"Map Score for Jaccard Translation: {}\".format(map_score))"
   ]
  },
  {
   "cell_type": "markdown",
   "metadata": {},
   "source": [
    "# Unsupervised: Proc-B 1k"
   ]
  },
  {
   "cell_type": "code",
   "execution_count": 5,
   "metadata": {},
   "outputs": [
    {
     "name": "stdout",
     "output_type": "stream",
     "text": [
      "Unsupervised for EN-DE\n",
      "Map Score for Cosine Similarity Average: 0.3457652409615119\n",
      "Map Score for Cosine Similarity tf-idf: 0.4927404504291553\n",
      "Map Score for Jaccard Translation: 0.7395733864576752\n"
     ]
    }
   ],
   "source": [
    "print(\"Unsupervised for EN-DE\")\n",
    "unsupervised_prediction = feature_retrieval[\"cosine_similarity_average_proc_b_1k\"].to_numpy()\n",
    "unsupervised_prediction = [[1- pos_prediction_prob, pos_prediction_prob] for pos_prediction_prob in unsupervised_prediction]\n",
    "map_score = MAP_score(feature_retrieval[\"source_id\"], feature_retrieval[\"Translation\"], unsupervised_prediction)\n",
    "print(\"Map Score for Cosine Similarity Average: {}\".format(map_score))\n",
    "\n",
    "unsupervised_prediction = feature_retrieval[\"cosine_similarity_tf_idf_proc_b_1k\"].to_numpy()\n",
    "unsupervised_prediction = [[1- pos_prediction_prob, pos_prediction_prob] for pos_prediction_prob in unsupervised_prediction]\n",
    "map_score = MAP_score(feature_retrieval[\"source_id\"], feature_retrieval[\"Translation\"], unsupervised_prediction)\n",
    "print(\"Map Score for Cosine Similarity tf-idf: {}\".format(map_score))\n",
    "\n",
    "unsupervised_prediction = feature_retrieval[\"jaccard_translation_proc_b_1k\"].to_numpy()\n",
    "unsupervised_prediction = [[1- pos_prediction_prob, pos_prediction_prob] for pos_prediction_prob in unsupervised_prediction]\n",
    "map_score = MAP_score(feature_retrieval[\"source_id\"], feature_retrieval[\"Translation\"], unsupervised_prediction)\n",
    "print(\"Map Score for Jaccard Translation: {}\".format(map_score))"
   ]
  },
  {
   "cell_type": "code",
   "execution_count": 6,
   "metadata": {},
   "outputs": [
    {
     "name": "stdout",
     "output_type": "stream",
     "text": [
      "Unsupervised for EN-IT\n",
      "Map Score for Cosine Similarity Average: 0.3248569226142762\n",
      "Map Score for Cosine Similarity tf-idf: 0.47241797298157584\n",
      "Map Score for Jaccard Translation: 0.7666288527118588\n"
     ]
    }
   ],
   "source": [
    "print(\"Unsupervised for EN-IT\")\n",
    "unsupervised_prediction = feature_retrieval_it[\"cosine_similarity_average_proc_b_1k\"].to_numpy()\n",
    "unsupervised_prediction = [[1- pos_prediction_prob, pos_prediction_prob] for pos_prediction_prob in unsupervised_prediction]\n",
    "map_score = MAP_score(feature_retrieval_it[\"source_id\"], feature_retrieval_it[\"Translation\"], unsupervised_prediction)\n",
    "print(\"Map Score for Cosine Similarity Average: {}\".format(map_score))\n",
    "\n",
    "unsupervised_prediction = feature_retrieval_it[\"cosine_similarity_tf_idf_proc_b_1k\"].to_numpy()\n",
    "unsupervised_prediction = [[1- pos_prediction_prob, pos_prediction_prob] for pos_prediction_prob in unsupervised_prediction]\n",
    "map_score = MAP_score(feature_retrieval_it[\"source_id\"], feature_retrieval_it[\"Translation\"], unsupervised_prediction)\n",
    "print(\"Map Score for Cosine Similarity tf-idf: {}\".format(map_score))\n",
    "\n",
    "unsupervised_prediction = feature_retrieval_it[\"jaccard_translation_proc_b_1k\"].to_numpy()\n",
    "unsupervised_prediction = [[1- pos_prediction_prob, pos_prediction_prob] for pos_prediction_prob in unsupervised_prediction]\n",
    "map_score = MAP_score(feature_retrieval_it[\"source_id\"], feature_retrieval_it[\"Translation\"], unsupervised_prediction)\n",
    "print(\"Map Score for Jaccard Translation: {}\".format(map_score))"
   ]
  },
  {
   "cell_type": "code",
   "execution_count": 7,
   "metadata": {},
   "outputs": [
    {
     "name": "stdout",
     "output_type": "stream",
     "text": [
      "Unsupervised for EN-PL\n",
      "Map Score for Cosine Similarity Average: 0.22835769863245614\n",
      "Map Score for Cosine Similarity tf-idf: 0.41528536333978944\n",
      "Map Score for Jaccard Translation: 0.7747319008780764\n"
     ]
    }
   ],
   "source": [
    "print(\"Unsupervised for EN-PL\")\n",
    "unsupervised_prediction = feature_retrieval_pl[\"cosine_similarity_average_proc_b_1k\"].to_numpy()\n",
    "unsupervised_prediction = [[1- pos_prediction_prob, pos_prediction_prob] for pos_prediction_prob in unsupervised_prediction]\n",
    "map_score = MAP_score(feature_retrieval_pl[\"source_id\"], feature_retrieval_pl[\"Translation\"], unsupervised_prediction)\n",
    "print(\"Map Score for Cosine Similarity Average: {}\".format(map_score))\n",
    "\n",
    "unsupervised_prediction = feature_retrieval_pl[\"cosine_similarity_tf_idf_proc_b_1k\"].to_numpy()\n",
    "unsupervised_prediction = [[1- pos_prediction_prob, pos_prediction_prob] for pos_prediction_prob in unsupervised_prediction]\n",
    "map_score = MAP_score(feature_retrieval_pl[\"source_id\"], feature_retrieval_pl[\"Translation\"], unsupervised_prediction)\n",
    "print(\"Map Score for Cosine Similarity tf-idf: {}\".format(map_score))\n",
    "\n",
    "unsupervised_prediction = feature_retrieval_pl[\"jaccard_translation_proc_b_1k\"].to_numpy()\n",
    "unsupervised_prediction = [[1- pos_prediction_prob, pos_prediction_prob] for pos_prediction_prob in unsupervised_prediction]\n",
    "map_score = MAP_score(feature_retrieval_pl[\"source_id\"], feature_retrieval_pl[\"Translation\"], unsupervised_prediction)\n",
    "print(\"Map Score for Jaccard Translation: {}\".format(map_score))"
   ]
  },
  {
   "cell_type": "markdown",
   "metadata": {},
   "source": [
    "# Unsupervised: VecMap"
   ]
  },
  {
   "cell_type": "code",
   "execution_count": 8,
   "metadata": {},
   "outputs": [
    {
     "name": "stdout",
     "output_type": "stream",
     "text": [
      "Map Score for Cosine Similarity Average: 0.3933087812214947\n",
      "Map Score for Cosine Similarity tf-idf: 0.5169790332324079\n",
      "Map Score for Jaccard Translation: 0.7444692427185002\n"
     ]
    }
   ],
   "source": [
    "unsupervised_prediction = feature_retrieval[\"cosine_similarity_average_vecmap\"].to_numpy()\n",
    "unsupervised_prediction = [[1- pos_prediction_prob, pos_prediction_prob] for pos_prediction_prob in unsupervised_prediction]\n",
    "map_score = MAP_score(feature_retrieval[\"source_id\"], feature_retrieval[\"Translation\"], unsupervised_prediction)\n",
    "print(\"Map Score for Cosine Similarity Average: {}\".format(map_score))\n",
    "\n",
    "unsupervised_prediction = feature_retrieval[\"cosine_similarity_tf_idf_vecmap\"].to_numpy()\n",
    "unsupervised_prediction = [[1- pos_prediction_prob, pos_prediction_prob] for pos_prediction_prob in unsupervised_prediction]\n",
    "map_score = MAP_score(feature_retrieval[\"source_id\"], feature_retrieval[\"Translation\"], unsupervised_prediction)\n",
    "print(\"Map Score for Cosine Similarity tf-idf: {}\".format(map_score))\n",
    "\n",
    "unsupervised_prediction = feature_retrieval[\"jaccard_translation_vecmap\"].to_numpy()\n",
    "unsupervised_prediction = [[1- pos_prediction_prob, pos_prediction_prob] for pos_prediction_prob in unsupervised_prediction]\n",
    "map_score = MAP_score(feature_retrieval[\"source_id\"], feature_retrieval[\"Translation\"], unsupervised_prediction)\n",
    "print(\"Map Score for Jaccard Translation: {}\".format(map_score))"
   ]
  },
  {
   "cell_type": "code",
   "execution_count": 9,
   "metadata": {},
   "outputs": [
    {
     "name": "stdout",
     "output_type": "stream",
     "text": [
      "Unsupervised for EN-IT\n",
      "Map Score for Cosine Similarity Average: 0.4223994289089312\n",
      "Map Score for Cosine Similarity tf-idf: 0.5556760158274051\n",
      "Map Score for Jaccard Translation: 0.7952996481245238\n"
     ]
    }
   ],
   "source": [
    "print(\"Unsupervised for EN-IT\")\n",
    "unsupervised_prediction = feature_retrieval_it[\"cosine_similarity_average_vecmap\"].to_numpy()\n",
    "unsupervised_prediction = [[1- pos_prediction_prob, pos_prediction_prob] for pos_prediction_prob in unsupervised_prediction]\n",
    "map_score = MAP_score(feature_retrieval_it[\"source_id\"], feature_retrieval_it[\"Translation\"], unsupervised_prediction)\n",
    "print(\"Map Score for Cosine Similarity Average: {}\".format(map_score))\n",
    "\n",
    "unsupervised_prediction = feature_retrieval_it[\"cosine_similarity_tf_idf_vecmap\"].to_numpy()\n",
    "unsupervised_prediction = [[1- pos_prediction_prob, pos_prediction_prob] for pos_prediction_prob in unsupervised_prediction]\n",
    "map_score = MAP_score(feature_retrieval_it[\"source_id\"], feature_retrieval_it[\"Translation\"], unsupervised_prediction)\n",
    "print(\"Map Score for Cosine Similarity tf-idf: {}\".format(map_score))\n",
    "\n",
    "unsupervised_prediction = feature_retrieval_it[\"jaccard_translation_vecmap\"].to_numpy()\n",
    "unsupervised_prediction = [[1- pos_prediction_prob, pos_prediction_prob] for pos_prediction_prob in unsupervised_prediction]\n",
    "map_score = MAP_score(feature_retrieval_it[\"source_id\"], feature_retrieval_it[\"Translation\"], unsupervised_prediction)\n",
    "print(\"Map Score for Jaccard Translation: {}\".format(map_score))"
   ]
  },
  {
   "cell_type": "code",
   "execution_count": 10,
   "metadata": {},
   "outputs": [
    {
     "name": "stdout",
     "output_type": "stream",
     "text": [
      "Unsupervised for EN-PL\n",
      "Map Score for Cosine Similarity Average: 0.3548724728578375\n",
      "Map Score for Cosine Similarity tf-idf: 0.5251183009700898\n",
      "Map Score for Jaccard Translation: 0.8103150605249755\n"
     ]
    }
   ],
   "source": [
    "print(\"Unsupervised for EN-PL\")\n",
    "unsupervised_prediction = feature_retrieval_pl[\"cosine_similarity_average_vecmap\"].to_numpy()\n",
    "unsupervised_prediction = [[1- pos_prediction_prob, pos_prediction_prob] for pos_prediction_prob in unsupervised_prediction]\n",
    "map_score = MAP_score(feature_retrieval_pl[\"source_id\"], feature_retrieval_pl[\"Translation\"], unsupervised_prediction)\n",
    "print(\"Map Score for Cosine Similarity Average: {}\".format(map_score))\n",
    "\n",
    "unsupervised_prediction = feature_retrieval_pl[\"cosine_similarity_tf_idf_vecmap\"].to_numpy()\n",
    "unsupervised_prediction = [[1- pos_prediction_prob, pos_prediction_prob] for pos_prediction_prob in unsupervised_prediction]\n",
    "map_score = MAP_score(feature_retrieval_pl[\"source_id\"], feature_retrieval_pl[\"Translation\"], unsupervised_prediction)\n",
    "print(\"Map Score for Cosine Similarity tf-idf: {}\".format(map_score))\n",
    "\n",
    "unsupervised_prediction = feature_retrieval_pl[\"jaccard_translation_vecmap\"].to_numpy()\n",
    "unsupervised_prediction = [[1- pos_prediction_prob, pos_prediction_prob] for pos_prediction_prob in unsupervised_prediction]\n",
    "map_score = MAP_score(feature_retrieval_pl[\"source_id\"], feature_retrieval_pl[\"Translation\"], unsupervised_prediction)\n",
    "print(\"Map Score for Jaccard Translation: {}\".format(map_score))"
   ]
  },
  {
   "cell_type": "markdown",
   "metadata": {},
   "source": [
    "# Document Corpus"
   ]
  },
  {
   "cell_type": "code",
   "execution_count": 13,
   "metadata": {},
   "outputs": [
    {
     "name": "stdout",
     "output_type": "stream",
     "text": [
      "Document Corpus Evaluation:\n",
      "\n",
      "------Proc-5K-----\n",
      "Map Score for Cosine Similarity Average: 0.0025130097534969286\n",
      "Map Score for Cosine Similarity tfidf: 0.025811535832982724\n",
      "Map Score for Jaccard Translation: 0.059061184981531165\n",
      "\n",
      "------Proc-b-1K-----\n",
      "Map Score for Cosine Similarity Average: 0.0029142710632124097\n",
      "Map Score for Cosine Similarity tfidf: 0.02737368845495181\n",
      "Map Score for Jaccard Translation: 0.08353223927958048\n",
      "\n",
      "------VecMap-----\n",
      "Map Score for Cosine Similarity Average: 0.0029142710632124097\n",
      "Map Score for Cosine Similarity tfidf: 0.023074329213133172\n",
      "Map Score for Jaccard Translation: 0.08408493760362276\n"
     ]
    }
   ],
   "source": [
    "unsupervised_prediction = feature_retrieval_doc[\"cosine_similarity_average_vecmap\"].to_numpy()\n",
    "unsupervised_prediction = [[1- pos_prediction_prob, pos_prediction_prob] for pos_prediction_prob in unsupervised_prediction]\n",
    "map_score = MAP_score(feature_retrieval_doc[\"source_id\"], feature_retrieval_doc[\"Translation\"], unsupervised_prediction)\n",
    "print(\"Document Corpus Evaluation:\")\n",
    "\n",
    "print(\"\\n------Proc-5K-----\")\n",
    "print(\"Map Score for Cosine Similarity Average: {}\".format(map_score))\n",
    "\n",
    "unsupervised_prediction = feature_retrieval_doc[\"cosine_similarity_tf_idf_proc_5k\"].to_numpy()\n",
    "unsupervised_prediction = [[1- pos_prediction_prob, pos_prediction_prob] for pos_prediction_prob in unsupervised_prediction]\n",
    "map_score = MAP_score(feature_retrieval_doc[\"source_id\"], feature_retrieval_doc[\"Translation\"], unsupervised_prediction)\n",
    "print(\"Map Score for Cosine Similarity tfidf: {}\".format(map_score))\n",
    "\n",
    "unsupervised_prediction = feature_retrieval_doc[\"jaccard_translation_proc_5k\"].to_numpy()\n",
    "unsupervised_prediction = [[1- pos_prediction_prob, pos_prediction_prob] for pos_prediction_prob in unsupervised_prediction]\n",
    "map_score = MAP_score(feature_retrieval_doc[\"source_id\"], feature_retrieval_doc[\"Translation\"], unsupervised_prediction)\n",
    "print(\"Map Score for Jaccard Translation: {}\".format(map_score))\n",
    "\n",
    "\n",
    "print(\"\\n------Proc-b-1K-----\")\n",
    "unsupervised_prediction = feature_retrieval_doc[\"cosine_similarity_average_proc_b_1k\"].to_numpy()\n",
    "unsupervised_prediction = [[1- pos_prediction_prob, pos_prediction_prob] for pos_prediction_prob in unsupervised_prediction]\n",
    "map_score = MAP_score(feature_retrieval_doc[\"source_id\"], feature_retrieval_doc[\"Translation\"], unsupervised_prediction)\n",
    "print(\"Map Score for Cosine Similarity Average: {}\".format(map_score))\n",
    "\n",
    "unsupervised_prediction = feature_retrieval_doc[\"cosine_similarity_tf_idf_proc_b_1k\"].to_numpy()\n",
    "unsupervised_prediction = [[1- pos_prediction_prob, pos_prediction_prob] for pos_prediction_prob in unsupervised_prediction]\n",
    "map_score = MAP_score(feature_retrieval_doc[\"source_id\"], feature_retrieval_doc[\"Translation\"], unsupervised_prediction)\n",
    "print(\"Map Score for Cosine Similarity tfidf: {}\".format(map_score))\n",
    "\n",
    "unsupervised_prediction = feature_retrieval_doc[\"jaccard_translation_proc_b_1k\"].to_numpy()\n",
    "unsupervised_prediction = [[1- pos_prediction_prob, pos_prediction_prob] for pos_prediction_prob in unsupervised_prediction]\n",
    "map_score = MAP_score(feature_retrieval_doc[\"source_id\"], feature_retrieval_doc[\"Translation\"], unsupervised_prediction)\n",
    "print(\"Map Score for Jaccard Translation: {}\".format(map_score))\n",
    "\n",
    "\n",
    "print(\"\\n------VecMap-----\")\n",
    "unsupervised_prediction = feature_retrieval_doc[\"cosine_similarity_average_proc_b_1k\"].to_numpy()\n",
    "unsupervised_prediction = [[1- pos_prediction_prob, pos_prediction_prob] for pos_prediction_prob in unsupervised_prediction]\n",
    "map_score = MAP_score(feature_retrieval_doc[\"source_id\"], feature_retrieval_doc[\"Translation\"], unsupervised_prediction)\n",
    "print(\"Map Score for Cosine Similarity Average: {}\".format(map_score))\n",
    "\n",
    "unsupervised_prediction = feature_retrieval_doc[\"cosine_similarity_tf_idf_vecmap\"].to_numpy()\n",
    "unsupervised_prediction = [[1- pos_prediction_prob, pos_prediction_prob] for pos_prediction_prob in unsupervised_prediction]\n",
    "map_score = MAP_score(feature_retrieval_doc[\"source_id\"], feature_retrieval_doc[\"Translation\"], unsupervised_prediction)\n",
    "print(\"Map Score for Cosine Similarity tfidf: {}\".format(map_score))\n",
    "\n",
    "unsupervised_prediction = feature_retrieval_doc[\"jaccard_translation_vecmap\"].to_numpy()\n",
    "unsupervised_prediction = [[1- pos_prediction_prob, pos_prediction_prob] for pos_prediction_prob in unsupervised_prediction]\n",
    "map_score = MAP_score(feature_retrieval_doc[\"source_id\"], feature_retrieval_doc[\"Translation\"], unsupervised_prediction)\n",
    "print(\"Map Score for Jaccard Translation: {}\".format(map_score))"
   ]
  },
  {
   "cell_type": "markdown",
   "metadata": {},
   "source": [
    "# Analysis: Why Jaccard Translation works well"
   ]
  },
  {
   "cell_type": "code",
   "execution_count": null,
   "metadata": {},
   "outputs": [],
   "source": []
  }
 ],
 "metadata": {
  "kernelspec": {
   "display_name": "Python 3",
   "language": "python",
   "name": "python3"
  },
  "language_info": {
   "codemirror_mode": {
    "name": "ipython",
    "version": 3
   },
   "file_extension": ".py",
   "mimetype": "text/x-python",
   "name": "python",
   "nbconvert_exporter": "python",
   "pygments_lexer": "ipython3",
   "version": "3.6.12"
  }
 },
 "nbformat": 4,
 "nbformat_minor": 4
}
